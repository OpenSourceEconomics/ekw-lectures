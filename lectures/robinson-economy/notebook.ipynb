{
 "cells": [
  {
   "cell_type": "code",
   "execution_count": 4,
   "metadata": {
    "ExecuteTime": {
     "end_time": "2020-04-24T07:25:44.872164Z",
     "start_time": "2020-04-24T07:25:41.655618Z"
    }
   },
   "outputs": [],
   "source": [
    "import yaml\n",
    "import sys\n",
    "import os\n",
    "\n",
    "import pandas as pd\n",
    "import respy as rp\n",
    "\n",
    "sys.path.insert(0, \"python\")\n",
    "from auxiliary import plot_average_wages_over_time  # noqa: E402\n",
    "from auxiliary import plot_choice_probabilities  # noqa: E402\n",
    "from auxiliary import plot_distibution_wages  # noqa: E402"
   ]
  },
  {
   "cell_type": "markdown",
   "metadata": {},
   "source": [
    "# Robinson Crusoe economy\n",
    "\n",
    "The `respy` package provides several example models that can be used to explore selected issues in the structural microeconometrics. We focus on the `robinson` example, which allows for quick iterations. All example models share the same interface so they can be easily swapped in and out of any analysis."
   ]
  },
  {
   "cell_type": "code",
   "execution_count": 5,
   "metadata": {
    "ExecuteTime": {
     "end_time": "2020-04-24T07:25:44.924245Z",
     "start_time": "2020-04-24T07:25:44.874244Z"
    }
   },
   "outputs": [],
   "source": [
    "options_base = yaml.safe_load(open(os.environ[\"ROBINSON_SPEC\"] + \"/robinson.yaml\", \"r\"))\n",
    "\n",
    "params_base = pd.read_csv(open(os.environ[\"ROBINSON_SPEC\"] + \"/robinson.csv\", \"r\"))\n",
    "params_base.set_index([\"category\", \"name\"], inplace=True)"
   ]
  },
  {
   "cell_type": "markdown",
   "metadata": {},
   "source": [
    "Let's look at the parameterization of the model, the specified options and a simulated dataset. "
   ]
  },
  {
   "cell_type": "code",
   "execution_count": 6,
   "metadata": {
    "ExecuteTime": {
     "end_time": "2020-04-24T07:25:45.009824Z",
     "start_time": "2020-04-24T07:25:44.926143Z"
    }
   },
   "outputs": [
    {
     "data": {
      "text/html": [
       "<div>\n",
       "<style scoped>\n",
       "    .dataframe tbody tr th:only-of-type {\n",
       "        vertical-align: middle;\n",
       "    }\n",
       "\n",
       "    .dataframe tbody tr th {\n",
       "        vertical-align: top;\n",
       "    }\n",
       "\n",
       "    .dataframe thead th {\n",
       "        text-align: right;\n",
       "    }\n",
       "</style>\n",
       "<table border=\"1\" class=\"dataframe\">\n",
       "  <thead>\n",
       "    <tr style=\"text-align: right;\">\n",
       "      <th></th>\n",
       "      <th></th>\n",
       "      <th>value</th>\n",
       "    </tr>\n",
       "    <tr>\n",
       "      <th>category</th>\n",
       "      <th>name</th>\n",
       "      <th></th>\n",
       "    </tr>\n",
       "  </thead>\n",
       "  <tbody>\n",
       "    <tr>\n",
       "      <th>delta</th>\n",
       "      <th>delta</th>\n",
       "      <td>0.950</td>\n",
       "    </tr>\n",
       "    <tr>\n",
       "      <th>wage_fishing</th>\n",
       "      <th>exp_fishing</th>\n",
       "      <td>0.070</td>\n",
       "    </tr>\n",
       "    <tr>\n",
       "      <th>nonpec_fishing</th>\n",
       "      <th>constant</th>\n",
       "      <td>-0.100</td>\n",
       "    </tr>\n",
       "    <tr>\n",
       "      <th>nonpec_hammock</th>\n",
       "      <th>constant</th>\n",
       "      <td>1.046</td>\n",
       "    </tr>\n",
       "    <tr>\n",
       "      <th rowspan=\"3\" valign=\"top\">shocks_sdcorr</th>\n",
       "      <th>sd_fishing</th>\n",
       "      <td>0.010</td>\n",
       "    </tr>\n",
       "    <tr>\n",
       "      <th>sd_hammock</th>\n",
       "      <td>0.010</td>\n",
       "    </tr>\n",
       "    <tr>\n",
       "      <th>corr_hammock_fishing</th>\n",
       "      <td>0.000</td>\n",
       "    </tr>\n",
       "  </tbody>\n",
       "</table>\n",
       "</div>"
      ],
      "text/plain": [
       "                                     value\n",
       "category       name                       \n",
       "delta          delta                 0.950\n",
       "wage_fishing   exp_fishing           0.070\n",
       "nonpec_fishing constant             -0.100\n",
       "nonpec_hammock constant              1.046\n",
       "shocks_sdcorr  sd_fishing            0.010\n",
       "               sd_hammock            0.010\n",
       "               corr_hammock_fishing  0.000"
      ]
     },
     "execution_count": 6,
     "metadata": {},
     "output_type": "execute_result"
    }
   ],
   "source": [
    "params_base"
   ]
  },
  {
   "cell_type": "code",
   "execution_count": 7,
   "metadata": {
    "ExecuteTime": {
     "end_time": "2020-04-24T07:25:45.052815Z",
     "start_time": "2020-04-24T07:25:45.018491Z"
    }
   },
   "outputs": [
    {
     "data": {
      "text/plain": [
       "{'estimation_draws': 100,\n",
       " 'estimation_seed': 100,\n",
       " 'estimation_tau': 0.001,\n",
       " 'interpolation_points': -1,\n",
       " 'n_periods': 5,\n",
       " 'simulation_agents': 1000,\n",
       " 'simulation_seed': 132,\n",
       " 'solution_draws': 100,\n",
       " 'solution_seed': 456,\n",
       " 'covariates': {'constant': '1'}}"
      ]
     },
     "execution_count": 7,
     "metadata": {},
     "output_type": "execute_result"
    }
   ],
   "source": [
    "options_base"
   ]
  },
  {
   "cell_type": "markdown",
   "metadata": {},
   "source": [
    "Now we are ready to simulate a sample."
   ]
  },
  {
   "cell_type": "code",
   "execution_count": 8,
   "metadata": {
    "ExecuteTime": {
     "end_time": "2020-04-24T07:26:16.863048Z",
     "start_time": "2020-04-24T07:26:16.394537Z"
    },
    "collapsed": true,
    "jupyter": {
     "outputs_hidden": true
    }
   },
   "outputs": [
    {
     "name": "stdout",
     "output_type": "stream",
     "text": [
      "looping start\n",
      "check 1\n",
      "check 2\n",
      "check 3\n",
      "check 1\n",
      "check 2\n",
      "check 3\n",
      "check 1\n",
      "check 2\n",
      "check 3\n",
      "check 1\n",
      "check 2\n",
      "check 3\n",
      "check 1\n",
      "check 2\n",
      "check 3\n",
      "looping end\n"
     ]
    }
   ],
   "source": [
    "simulate = rp.get_simulate_func(params_base, options_base)\n",
    "df = simulate(params_base)"
   ]
  },
  {
   "cell_type": "markdown",
   "metadata": {},
   "source": [
    "We first look at the general structure of the data."
   ]
  },
  {
   "cell_type": "code",
   "execution_count": 9,
   "metadata": {
    "ExecuteTime": {
     "end_time": "2020-04-24T07:25:46.410638Z",
     "start_time": "2020-04-24T07:25:46.296911Z"
    }
   },
   "outputs": [
    {
     "data": {
      "text/html": [
       "<div>\n",
       "<style scoped>\n",
       "    .dataframe tbody tr th:only-of-type {\n",
       "        vertical-align: middle;\n",
       "    }\n",
       "\n",
       "    .dataframe tbody tr th {\n",
       "        vertical-align: top;\n",
       "    }\n",
       "\n",
       "    .dataframe thead th {\n",
       "        text-align: right;\n",
       "    }\n",
       "</style>\n",
       "<table border=\"1\" class=\"dataframe\">\n",
       "  <thead>\n",
       "    <tr style=\"text-align: right;\">\n",
       "      <th></th>\n",
       "      <th></th>\n",
       "      <th>Experience_Fishing</th>\n",
       "      <th>Shock_Reward_Fishing</th>\n",
       "      <th>Meas_Error_Wage_Fishing</th>\n",
       "      <th>Shock_Reward_Hammock</th>\n",
       "      <th>Meas_Error_Wage_Hammock</th>\n",
       "      <th>Choice</th>\n",
       "      <th>Wage</th>\n",
       "      <th>Discount_Rate</th>\n",
       "      <th>Nonpecuniary_Reward_Fishing</th>\n",
       "      <th>Wage_Fishing</th>\n",
       "      <th>Flow_Utility_Fishing</th>\n",
       "      <th>Value_Function_Fishing</th>\n",
       "      <th>Continuation_Value_Fishing</th>\n",
       "      <th>Nonpecuniary_Reward_Hammock</th>\n",
       "      <th>Wage_Hammock</th>\n",
       "      <th>Flow_Utility_Hammock</th>\n",
       "      <th>Value_Function_Hammock</th>\n",
       "      <th>Continuation_Value_Hammock</th>\n",
       "    </tr>\n",
       "    <tr>\n",
       "      <th>Identifier</th>\n",
       "      <th>Period</th>\n",
       "      <th></th>\n",
       "      <th></th>\n",
       "      <th></th>\n",
       "      <th></th>\n",
       "      <th></th>\n",
       "      <th></th>\n",
       "      <th></th>\n",
       "      <th></th>\n",
       "      <th></th>\n",
       "      <th></th>\n",
       "      <th></th>\n",
       "      <th></th>\n",
       "      <th></th>\n",
       "      <th></th>\n",
       "      <th></th>\n",
       "      <th></th>\n",
       "      <th></th>\n",
       "      <th></th>\n",
       "    </tr>\n",
       "  </thead>\n",
       "  <tbody>\n",
       "    <tr>\n",
       "      <th rowspan=\"5\" valign=\"top\">0</th>\n",
       "      <th>0</th>\n",
       "      <td>0</td>\n",
       "      <td>1.007197</td>\n",
       "      <td>1</td>\n",
       "      <td>0.010305</td>\n",
       "      <td>1</td>\n",
       "      <td>fishing</td>\n",
       "      <td>1.007197</td>\n",
       "      <td>0.95</td>\n",
       "      <td>-0.1</td>\n",
       "      <td>1.007197</td>\n",
       "      <td>0.907197</td>\n",
       "      <td>4.747606</td>\n",
       "      <td>4.042536</td>\n",
       "      <td>1.046</td>\n",
       "      <td>NaN</td>\n",
       "      <td>1.056305</td>\n",
       "      <td>4.742931</td>\n",
       "      <td>3.880659</td>\n",
       "    </tr>\n",
       "    <tr>\n",
       "      <th>1</th>\n",
       "      <td>1</td>\n",
       "      <td>0.981015</td>\n",
       "      <td>1</td>\n",
       "      <td>0.010596</td>\n",
       "      <td>1</td>\n",
       "      <td>fishing</td>\n",
       "      <td>1.052147</td>\n",
       "      <td>0.95</td>\n",
       "      <td>-0.1</td>\n",
       "      <td>1.052147</td>\n",
       "      <td>0.952147</td>\n",
       "      <td>4.022193</td>\n",
       "      <td>3.231627</td>\n",
       "      <td>1.046</td>\n",
       "      <td>NaN</td>\n",
       "      <td>1.056596</td>\n",
       "      <td>3.903085</td>\n",
       "      <td>2.996304</td>\n",
       "    </tr>\n",
       "    <tr>\n",
       "      <th>2</th>\n",
       "      <td>2</td>\n",
       "      <td>0.998980</td>\n",
       "      <td>1</td>\n",
       "      <td>-0.003797</td>\n",
       "      <td>1</td>\n",
       "      <td>fishing</td>\n",
       "      <td>1.149101</td>\n",
       "      <td>0.95</td>\n",
       "      <td>-0.1</td>\n",
       "      <td>1.149101</td>\n",
       "      <td>1.049101</td>\n",
       "      <td>3.230306</td>\n",
       "      <td>2.296006</td>\n",
       "      <td>1.046</td>\n",
       "      <td>NaN</td>\n",
       "      <td>1.042203</td>\n",
       "      <td>3.063422</td>\n",
       "      <td>2.127598</td>\n",
       "    </tr>\n",
       "    <tr>\n",
       "      <th>3</th>\n",
       "      <td>3</td>\n",
       "      <td>0.989253</td>\n",
       "      <td>1</td>\n",
       "      <td>-0.011702</td>\n",
       "      <td>1</td>\n",
       "      <td>fishing</td>\n",
       "      <td>1.220419</td>\n",
       "      <td>0.95</td>\n",
       "      <td>-0.1</td>\n",
       "      <td>1.220419</td>\n",
       "      <td>1.120419</td>\n",
       "      <td>2.282845</td>\n",
       "      <td>1.223607</td>\n",
       "      <td>1.046</td>\n",
       "      <td>NaN</td>\n",
       "      <td>1.034298</td>\n",
       "      <td>2.111715</td>\n",
       "      <td>1.134123</td>\n",
       "    </tr>\n",
       "    <tr>\n",
       "      <th>4</th>\n",
       "      <td>4</td>\n",
       "      <td>1.010431</td>\n",
       "      <td>1</td>\n",
       "      <td>-0.002176</td>\n",
       "      <td>1</td>\n",
       "      <td>fishing</td>\n",
       "      <td>1.336932</td>\n",
       "      <td>0.95</td>\n",
       "      <td>-0.1</td>\n",
       "      <td>1.336932</td>\n",
       "      <td>1.236932</td>\n",
       "      <td>1.236932</td>\n",
       "      <td>0.000000</td>\n",
       "      <td>1.046</td>\n",
       "      <td>NaN</td>\n",
       "      <td>1.043824</td>\n",
       "      <td>1.043824</td>\n",
       "      <td>0.000000</td>\n",
       "    </tr>\n",
       "  </tbody>\n",
       "</table>\n",
       "</div>"
      ],
      "text/plain": [
       "                   Experience_Fishing  Shock_Reward_Fishing  \\\n",
       "Identifier Period                                             \n",
       "0          0                        0              1.007197   \n",
       "           1                        1              0.981015   \n",
       "           2                        2              0.998980   \n",
       "           3                        3              0.989253   \n",
       "           4                        4              1.010431   \n",
       "\n",
       "                   Meas_Error_Wage_Fishing  Shock_Reward_Hammock  \\\n",
       "Identifier Period                                                  \n",
       "0          0                             1              0.010305   \n",
       "           1                             1              0.010596   \n",
       "           2                             1             -0.003797   \n",
       "           3                             1             -0.011702   \n",
       "           4                             1             -0.002176   \n",
       "\n",
       "                   Meas_Error_Wage_Hammock   Choice      Wage  Discount_Rate  \\\n",
       "Identifier Period                                                              \n",
       "0          0                             1  fishing  1.007197           0.95   \n",
       "           1                             1  fishing  1.052147           0.95   \n",
       "           2                             1  fishing  1.149101           0.95   \n",
       "           3                             1  fishing  1.220419           0.95   \n",
       "           4                             1  fishing  1.336932           0.95   \n",
       "\n",
       "                   Nonpecuniary_Reward_Fishing  Wage_Fishing  \\\n",
       "Identifier Period                                              \n",
       "0          0                              -0.1      1.007197   \n",
       "           1                              -0.1      1.052147   \n",
       "           2                              -0.1      1.149101   \n",
       "           3                              -0.1      1.220419   \n",
       "           4                              -0.1      1.336932   \n",
       "\n",
       "                   Flow_Utility_Fishing  Value_Function_Fishing  \\\n",
       "Identifier Period                                                 \n",
       "0          0                   0.907197                4.747606   \n",
       "           1                   0.952147                4.022193   \n",
       "           2                   1.049101                3.230306   \n",
       "           3                   1.120419                2.282845   \n",
       "           4                   1.236932                1.236932   \n",
       "\n",
       "                   Continuation_Value_Fishing  Nonpecuniary_Reward_Hammock  \\\n",
       "Identifier Period                                                            \n",
       "0          0                         4.042536                        1.046   \n",
       "           1                         3.231627                        1.046   \n",
       "           2                         2.296006                        1.046   \n",
       "           3                         1.223607                        1.046   \n",
       "           4                         0.000000                        1.046   \n",
       "\n",
       "                   Wage_Hammock  Flow_Utility_Hammock  Value_Function_Hammock  \\\n",
       "Identifier Period                                                               \n",
       "0          0                NaN              1.056305                4.742931   \n",
       "           1                NaN              1.056596                3.903085   \n",
       "           2                NaN              1.042203                3.063422   \n",
       "           3                NaN              1.034298                2.111715   \n",
       "           4                NaN              1.043824                1.043824   \n",
       "\n",
       "                   Continuation_Value_Hammock  \n",
       "Identifier Period                              \n",
       "0          0                         3.880659  \n",
       "           1                         2.996304  \n",
       "           2                         2.127598  \n",
       "           3                         1.134123  \n",
       "           4                         0.000000  "
      ]
     },
     "execution_count": 9,
     "metadata": {},
     "output_type": "execute_result"
    }
   ],
   "source": [
    "df.head()"
   ]
  },
  {
   "cell_type": "markdown",
   "metadata": {},
   "source": [
    "We can study the resulting choice patterns."
   ]
  },
  {
   "cell_type": "code",
   "execution_count": 10,
   "metadata": {
    "ExecuteTime": {
     "end_time": "2020-04-24T07:25:46.937652Z",
     "start_time": "2020-04-24T07:25:46.416857Z"
    }
   },
   "outputs": [
    {
     "data": {
      "image/png": "[encoded data removed]",
      "text/plain": [
       "<Figure size 432x288 with 1 Axes>"
      ]
     },
     "metadata": {
      "needs_background": "light"
     },
     "output_type": "display_data"
    }
   ],
   "source": [
    "plot_choice_probabilities(df)"
   ]
  },
  {
   "cell_type": "markdown",
   "metadata": {},
   "source": [
    "We can look at the distirbution of wages."
   ]
  },
  {
   "cell_type": "code",
   "execution_count": 11,
   "metadata": {
    "ExecuteTime": {
     "end_time": "2020-04-24T07:26:12.144477Z",
     "start_time": "2020-04-24T07:26:11.215818Z"
    }
   },
   "outputs": [
    {
     "name": "stderr",
     "output_type": "stream",
     "text": [
      "/home/peisenha/local/anaconda3/envs/respy-lectures/lib/python3.6/site-packages/numpy/lib/histograms.py:839: RuntimeWarning: invalid value encountered in greater_equal\n",
      "  keep = (tmp_a >= first_edge)\n",
      "/home/peisenha/local/anaconda3/envs/respy-lectures/lib/python3.6/site-packages/numpy/lib/histograms.py:840: RuntimeWarning: invalid value encountered in less_equal\n",
      "  keep &= (tmp_a <= last_edge)\n"
     ]
    },
    {
     "data": {
      "image/png": "[encoded data removed]",
      "text/plain": [
       "<Figure size 432x288 with 1 Axes>"
      ]
     },
     "metadata": {
      "needs_background": "light"
     },
     "output_type": "display_data"
    },
    {
     "data": {
      "image/png": "[encoded data removed]",
      "text/plain": [
       "<Figure size 432x288 with 1 Axes>"
      ]
     },
     "metadata": {
      "needs_background": "light"
     },
     "output_type": "display_data"
    },
    {
     "data": {
      "image/png": "[encoded data removed]",
      "text/plain": [
       "<Figure size 432x288 with 1 Axes>"
      ]
     },
     "metadata": {
      "needs_background": "light"
     },
     "output_type": "display_data"
    },
    {
     "data": {
      "image/png": "[encoded data removed]",
      "text/plain": [
       "<Figure size 432x288 with 1 Axes>"
      ]
     },
     "metadata": {
      "needs_background": "light"
     },
     "output_type": "display_data"
    },
    {
     "data": {
      "image/png": "[encoded data removed]",
      "text/plain": [
       "<Figure size 432x288 with 1 Axes>"
      ]
     },
     "metadata": {
      "needs_background": "light"
     },
     "output_type": "display_data"
    }
   ],
   "source": [
    "plot_distibution_wages(df)"
   ]
  },
  {
   "cell_type": "markdown",
   "metadata": {},
   "source": [
    "We can look at average wages over time."
   ]
  },
  {
   "cell_type": "code",
   "execution_count": 12,
   "metadata": {
    "ExecuteTime": {
     "end_time": "2020-04-24T07:25:48.804051Z",
     "start_time": "2020-04-24T07:25:48.512585Z"
    }
   },
   "outputs": [
    {
     "data": {
      "image/png": "[encoded data removed]",
      "text/plain": [
       "<Figure size 432x288 with 1 Axes>"
      ]
     },
     "metadata": {
      "needs_background": "light"
     },
     "output_type": "display_data"
    }
   ],
   "source": [
    "plot_average_wages_over_time(df)"
   ]
  }
 ],
 "metadata": {
  "kernelspec": {
   "display_name": "Python 3",
   "language": "python",
   "name": "python3"
  },
  "language_info": {
   "codemirror_mode": {
    "name": "ipython",
    "version": 3
   },
   "file_extension": ".py",
   "mimetype": "text/x-python",
   "name": "python",
   "nbconvert_exporter": "python",
   "pygments_lexer": "ipython3",
   "version": "3.6.10"
  },
  "toc": {
   "base_numbering": 1,
   "nav_menu": {},
   "number_sections": true,
   "sideBar": true,
   "skip_h1_title": false,
   "title_cell": "Table of Contents",
   "title_sidebar": "Contents",
   "toc_cell": false,
   "toc_position": {},
   "toc_section_display": true,
   "toc_window_display": false
  }
 },
 "nbformat": 4,
 "nbformat_minor": 4
}
