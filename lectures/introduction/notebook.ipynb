{
 "cells": [
  {
   "cell_type": "code",
   "execution_count": 1,
   "metadata": {
    "slideshow": {
     "slide_type": "skip"
    }
   },
   "outputs": [],
   "source": [
    "import sys\n",
    "\n",
    "import respy as rp\n",
    "import numpy as np\n",
    "\n",
    "sys.path.insert(0, \"python\")\n",
    "from auxiliary import plot_observed_choices  # noqa: E402\n",
    "from auxiliary import plot_time_preference  # noqa: E402\n",
    "from auxiliary import plot_policy_forecast  # noqa: E402"
   ]
  },
  {
   "cell_type": "markdown",
   "metadata": {
    "slideshow": {
     "slide_type": "slide"
    }
   },
   "source": [
    "# Structural microeconometrics"
   ]
  },
  {
   "cell_type": "markdown",
   "metadata": {
    "slideshow": {
     "slide_type": "slide"
    }
   },
   "source": [
    "**Computational modeling in economics**\n",
    "\n",
    "* provide learning opportunities\n",
    "* assess importance of competing mechanisms\n",
    "* predict the effects of public policies"
   ]
  },
  {
   "cell_type": "markdown",
   "metadata": {
    "slideshow": {
     "slide_type": "slide"
    }
   },
   "source": [
    "**Eckstein-Keane-Wolpin (EKW) models}**\n",
    "\n",
    "* understanding individual decisions \n",
    "    * human capital investment\n",
    "    * savings and retirement\n",
    "* predicting effects of policies\n",
    "    * welfare programs\n",
    "    * tax schedules\n",
    "  "
   ]
  },
  {
   "cell_type": "markdown",
   "metadata": {
    "slideshow": {
     "slide_type": "slide"
    }
   },
   "source": [
    "**Components**\n",
    "\n",
    "* economic model\n",
    "* mathematical formulation\n",
    "* calibration procedure"
   ]
  },
  {
   "cell_type": "markdown",
   "metadata": {
    "slideshow": {
     "slide_type": "slide"
    }
   },
   "source": [
    "## Economic model"
   ]
  },
  {
   "cell_type": "markdown",
   "metadata": {
    "slideshow": {
     "slide_type": "slide"
    }
   },
   "source": [
    "**Decision problem**\n",
    "\\begin{align*}\\begin{array}{ll}\n",
    "t = 1, .., T& \\text{decision period} \\\\\n",
    "s_t\\in S & \\text{state}  \\\\\n",
    "a_t\\in A & \\text{action} \\\\\n",
    "a_t(s_t) & \\text{decision rule} \\\\\n",
    "r_t(s_t, a_t) & \\text{immediate reward}\\\\\n",
    "\\end{array}\\end{align*}"
   ]
  },
  {
   "cell_type": "markdown",
   "metadata": {
    "slideshow": {
     "slide_type": "slide"
    }
   },
   "source": [
    "<img src=\"material/fig-timing-events.png\" width=\"700\" >"
   ]
  },
  {
   "cell_type": "markdown",
   "metadata": {
    "slideshow": {
     "slide_type": "slide"
    }
   },
   "source": [
    "\\begin{align*}\\begin{array}{ll}\n",
    "\\pi = (a^\\pi_1(s_1), .., a^\\pi_T(s_T)) & \\text{policy}\\\\\n",
    "\\delta & \\text{discount factor} \\\\\n",
    "p_t(s_t, a_t) & \\text{conditional distribution}\n",
    "\\end{array}\\end{align*}"
   ]
  },
  {
   "cell_type": "markdown",
   "metadata": {
    "slideshow": {
     "slide_type": "slide"
    }
   },
   "source": [
    "**Individual's objective**\n",
    "\\begin{align*}\n",
    "\\max_{\\pi \\in\\Pi} E_{s_1}^\\pi\\left[\\left.\\sum^{T}_{t = 1}  \\delta^{t - 1} r_t(s_t, a^\\pi_t(s_t))\\,\\right\\vert\\,\\mathcal{I}_1\\,\\right]\n",
    "\\end{align*}"
   ]
  },
  {
   "cell_type": "markdown",
   "metadata": {
    "slideshow": {
     "slide_type": "slide"
    }
   },
   "source": [
    "## Mathematical formulation"
   ]
  },
  {
   "cell_type": "markdown",
   "metadata": {
    "slideshow": {
     "slide_type": "slide"
    }
   },
   "source": [
    "**Policy evaluation**\n",
    "\\begin{align*}\n",
    "  v^\\pi_t(s_t) \\equiv E_{s_t}^\\pi\\left[\\left.\\sum^{T - t}_{j = 0}  \\delta^j\\, r_{t + j}(s_{t + j}, a^\\pi_{t + j}(s_{t + j})) \\,\\right\\vert\\,\\mathcal{I}_t\\,\\right]\\\\\n",
    "\\end{align*}\n",
    "\n",
    "Inductive scheme\n",
    "\\begin{align*}\n",
    "v^\\pi_t(s_t) = r_t(s_t,  a^\\pi_t(s_t)) + \\delta\\,E^\\pi_{s_t} \\left[\\left.v^\\pi_{t + 1}(s_{t + 1})  \\,\\right\\vert\\,\\mathcal{I}_t\\,\\right]\n",
    "\\end{align*}"
   ]
  },
  {
   "cell_type": "markdown",
   "metadata": {
    "slideshow": {
     "slide_type": "slide"
    }
   },
   "source": [
    "**Optimality equations**\n",
    "\\begin{align*}\n",
    "v^{\\pi^*}_t(s_t)  & = \\max_{a_t \\in A}\\bigg\\{ r_t(s_t, a_t) + \\delta\\, E^{\\pi^*}_{s_t} \\left[\\left.v^{\\pi^*}_{t + 1}(s_{t + 1})\\,\\right\\vert\\,\\mathcal{I}_t\\,\\right] \\bigg\\}\n",
    "\\end{align*}"
   ]
  },
  {
   "cell_type": "markdown",
   "metadata": {
    "slideshow": {
     "slide_type": "slide"
    }
   },
   "source": [
    "<img src=\"material/fig-backward-induction.png\" width=\"700\" >"
   ]
  },
  {
   "cell_type": "markdown",
   "metadata": {
    "slideshow": {
     "slide_type": "slide"
    }
   },
   "source": [
    "## Calibration procedure\n"
   ]
  },
  {
   "cell_type": "markdown",
   "metadata": {
    "slideshow": {
     "slide_type": "slide"
    }
   },
   "source": [
    "**Data**\n",
    "\\begin{align*}\n",
    "\\mathcal{D} = \\{a_{it}, x_{it}, r_{it}: i = 1, ... , N; t = 1, ... , T_i\\}\\\\\n",
    "\\end{align*}\n",
    "\n",
    "**State variables}**\n",
    "\n",
    "* $s_t = (x_t, \\epsilon_t)$\n",
    "    * $x_t$ observed\n",
    "    * $\\epsilon_t$ unobserved"
   ]
  },
  {
   "cell_type": "markdown",
   "metadata": {
    "slideshow": {
     "slide_type": "slide"
    }
   },
   "source": [
    "**Procedures**\n",
    "\n",
    "* likelihood-based\n",
    "\\begin{align*}\n",
    "  \\hat{\\theta} \\equiv argmax_{\\theta \\in \\Theta} \\prod^N_{i= 1} \\prod^{T_i}_{t= 1}\\, p_{it}(a_{it}, r_{it} \\mid x_{it}, \\theta)\n",
    "\\end{align*}\n",
    "* simulation-based\n",
    "\\begin{align*}\n",
    "    \\hat{\\theta} \\equiv argmin_{\\theta \\in \\Theta} (M_D - M_S(\\theta))' W (M_D - M_S(\\theta))\n",
    "\\end{align*}"
   ]
  },
  {
   "cell_type": "markdown",
   "metadata": {
    "slideshow": {
     "slide_type": "slide"
    }
   },
   "source": [
    "## Example"
   ]
  },
  {
   "cell_type": "markdown",
   "metadata": {
    "slideshow": {
     "slide_type": "slide"
    }
   },
   "source": [
    "**Seminal paper**\n",
    "\n",
    "* Keane, M. P., & Wolpin, K. I. (1994). The solution and estimation of discrete choice dynamic programming models by simulation and interpolation: Monte Carlo evidence. Review of Economics and Statistics, 76 (4), 648–672.\n"
   ]
  },
  {
   "cell_type": "markdown",
   "metadata": {
    "slideshow": {
     "slide_type": "slide"
    }
   },
   "source": [
    "**Model of occupational choice**\n",
    "\n",
    "* 1,000 individuals starting at age 16\n",
    "* life cycle histories\n",
    "    * school attendance\n",
    "    * occupation-specific work status\n",
    "* wages"
   ]
  },
  {
   "cell_type": "markdown",
   "metadata": {
    "slideshow": {
     "slide_type": "slide"
    }
   },
   "source": [
    "**Labor market**\n",
    "\\begin{align*}\n",
    "  & \\\\\n",
    "  r_t(s_t, 1) =  w_{1t} = \\exp\\{& \\underbrace{\\alpha_{10}}_{\\text{endowment}} + \\underbrace{\\alpha_{11} g_t}_{\\text{schooling}} + \\underbrace{\\alpha_{12}e_{1t} + \\alpha_{13}e^2_{1t}}_{\\text{own experience}} \\\\\n",
    "              & + \\underbrace{\\alpha_{14}e_{2t} + \\alpha_{15}e^2_{2t}}_{\\text{other experience}} + \\underbrace{\\epsilon_{1t}}_{\\text{shock}}\\}\n",
    "  \\end{align*}"
   ]
  },
  {
   "cell_type": "markdown",
   "metadata": {
    "slideshow": {
     "slide_type": "slide"
    }
   },
   "source": [
    "**Schooling**\n",
    "\n",
    "\\begin{align*}\n",
    "& \\\\\n",
    "r_t(s_t, 3) = & \\underbrace{\\beta_0}_{\\text{taste}} - \\underbrace{\\beta_1 I[\\,g_t \\geq 12\\,]}_{\\text{direct cost}} - \\underbrace{\\beta_2 I[\\,a_{t - 1} \\neq 3\\,]}_{\\text{reenrollment effort}} + \\underbrace{\\epsilon_{3t}}_{\\text{shock}} \\\\\n",
    "\\end{align*}\n",
    "\n",
    "**Home**\n",
    "\\begin{align*}\n",
    "& \\\\\n",
    "r_t(s_t, 4) = & \\underbrace{\\gamma_0}_{\\text{taste}} + \\underbrace{\\epsilon_{4t}}_{\\text{shock}}\n",
    "\\end{align*}"
   ]
  },
  {
   "cell_type": "markdown",
   "metadata": {
    "slideshow": {
     "slide_type": "slide"
    }
   },
   "source": [
    "**State space**\n",
    "\\begin{align*}\n",
    "\ts_t = \\{g_t,e_{1t},e_{2t},a_{t - 1},\\epsilon_{1t},\\epsilon_{2t},\\epsilon_{3t},\\epsilon_{4t}\\}\n",
    "\\end{align*}\n"
   ]
  },
  {
   "cell_type": "markdown",
   "metadata": {
    "slideshow": {
     "slide_type": "slide"
    }
   },
   "source": [
    "**Transitions**\n",
    "\n",
    "* observed state variables\n",
    "\\begin{align*}\n",
    "    e_{1,t+1} &= e_{1t} + I[\\,a_t = 1\\,]  \\\\\n",
    "    e_{2,t+1} &= e_{2t} + I[\\,a_t = 2\\,]  \\\\\n",
    "    g_{t+1}   &= g_{t\\phantom{2}}    +  I[\\,a_t = 3\\,]\n",
    "\\end{align*}\n",
    "* unobserved state variables\n",
    "\\begin{align*}\n",
    "\\{\\epsilon_{1t},\\epsilon_{2t},\\epsilon_{3t},\\epsilon_{4t}\\} \\sim N(0, \\Sigma)\n",
    "\\end{align*}\n"
   ]
  },
  {
   "cell_type": "code",
   "execution_count": 2,
   "metadata": {
    "slideshow": {
     "slide_type": "slide"
    }
   },
   "outputs": [],
   "source": [
    "params, options = rp.get_example_model(\"kw_94_two\", with_data=False)"
   ]
  },
  {
   "cell_type": "markdown",
   "metadata": {
    "slideshow": {
     "slide_type": "fragment"
    }
   },
   "source": [
    "How is the economy parametrized?"
   ]
  },
  {
   "cell_type": "code",
   "execution_count": 3,
   "metadata": {
    "slideshow": {
     "slide_type": "fragment"
    }
   },
   "outputs": [
    {
     "data": {
      "text/html": [
       "<div>\n",
       "<style scoped>\n",
       "    .dataframe tbody tr th:only-of-type {\n",
       "        vertical-align: middle;\n",
       "    }\n",
       "\n",
       "    .dataframe tbody tr th {\n",
       "        vertical-align: top;\n",
       "    }\n",
       "\n",
       "    .dataframe thead th {\n",
       "        text-align: right;\n",
       "    }\n",
       "</style>\n",
       "<table border=\"1\" class=\"dataframe\">\n",
       "  <thead>\n",
       "    <tr style=\"text-align: right;\">\n",
       "      <th></th>\n",
       "      <th></th>\n",
       "      <th>value</th>\n",
       "      <th>comment</th>\n",
       "    </tr>\n",
       "    <tr>\n",
       "      <th>category</th>\n",
       "      <th>name</th>\n",
       "      <th></th>\n",
       "      <th></th>\n",
       "    </tr>\n",
       "  </thead>\n",
       "  <tbody>\n",
       "    <tr>\n",
       "      <th>delta</th>\n",
       "      <th>delta</th>\n",
       "      <td>0.9500</td>\n",
       "      <td>discount factor</td>\n",
       "    </tr>\n",
       "    <tr>\n",
       "      <th rowspan=\"4\" valign=\"top\">wage_a</th>\n",
       "      <th>constant</th>\n",
       "      <td>9.2100</td>\n",
       "      <td>log of rental price</td>\n",
       "    </tr>\n",
       "    <tr>\n",
       "      <th>exp_edu</th>\n",
       "      <td>0.0400</td>\n",
       "      <td>return to an additional year of schooling</td>\n",
       "    </tr>\n",
       "    <tr>\n",
       "      <th>exp_a</th>\n",
       "      <td>0.0330</td>\n",
       "      <td>return to same sector experience</td>\n",
       "    </tr>\n",
       "    <tr>\n",
       "      <th>exp_a_square</th>\n",
       "      <td>-0.0005</td>\n",
       "      <td>return to same sector, quadratic experience</td>\n",
       "    </tr>\n",
       "  </tbody>\n",
       "</table>\n",
       "</div>"
      ],
      "text/plain": [
       "                        value                                      comment\n",
       "category name                                                             \n",
       "delta    delta         0.9500                              discount factor\n",
       "wage_a   constant      9.2100                          log of rental price\n",
       "         exp_edu       0.0400    return to an additional year of schooling\n",
       "         exp_a         0.0330             return to same sector experience\n",
       "         exp_a_square -0.0005  return to same sector, quadratic experience"
      ]
     },
     "execution_count": 3,
     "metadata": {},
     "output_type": "execute_result"
    }
   ],
   "source": [
    "params.head()"
   ]
  },
  {
   "cell_type": "markdown",
   "metadata": {
    "slideshow": {
     "slide_type": "slide"
    }
   },
   "source": [
    "How are the options set?"
   ]
  },
  {
   "cell_type": "code",
   "execution_count": 4,
   "metadata": {
    "slideshow": {
     "slide_type": "fragment"
    }
   },
   "outputs": [
    {
     "data": {
      "text/plain": [
       "{'estimation_draws': 200,\n",
       " 'estimation_seed': 500,\n",
       " 'estimation_tau': 500,\n",
       " 'interpolation_points': -1,\n",
       " 'n_periods': 40,\n",
       " 'simulation_agents': 1000,\n",
       " 'simulation_seed': 132,\n",
       " 'solution_draws': 500,\n",
       " 'solution_seed': 456,\n",
       " 'monte_carlo_sequence': 'random',\n",
       " 'core_state_space_filters': [\"period > 0 and exp_{i} == period and lagged_choice_1 != '{i}'\",\n",
       "  \"period > 0 and exp_a + exp_b + exp_edu == period and lagged_choice_1 == '{j}'\",\n",
       "  \"period > 0 and lagged_choice_1 == 'edu' and exp_edu == 0\",\n",
       "  \"lagged_choice_1 == '{k}' and exp_{k} == 0\",\n",
       "  \"period == 0 and lagged_choice_1 == '{k}'\"],\n",
       " 'covariates': {'constant': '1',\n",
       "  'exp_a_square': 'exp_a ** 2',\n",
       "  'exp_b_square': 'exp_b ** 2',\n",
       "  'at_least_twelve_exp_edu': 'exp_edu >= 12',\n",
       "  'not_edu_last_period': \"lagged_choice_1 != 'edu'\"}}"
      ]
     },
     "execution_count": 4,
     "metadata": {},
     "output_type": "execute_result"
    }
   ],
   "source": [
    "options"
   ]
  },
  {
   "cell_type": "markdown",
   "metadata": {
    "slideshow": {
     "slide_type": "slide"
    }
   },
   "source": [
    "We can now simulate a dataset and look at the individual decisions."
   ]
  },
  {
   "cell_type": "code",
   "execution_count": 5,
   "metadata": {
    "slideshow": {
     "slide_type": "fragment"
    }
   },
   "outputs": [
    {
     "data": {
      "image/png": "[encoded data removed]",
      "text/plain": [
       "<Figure size 432x288 with 1 Axes>"
      ]
     },
     "metadata": {
      "needs_background": "light"
     },
     "output_type": "display_data"
    }
   ],
   "source": [
    "simulate_func = rp.get_simulate_func(params, options)\n",
    "plot_observed_choices(simulate_func(params))"
   ]
  },
  {
   "cell_type": "markdown",
   "metadata": {
    "slideshow": {
     "slide_type": "slide"
    }
   },
   "source": [
    "### Mechanisms"
   ]
  },
  {
   "cell_type": "code",
   "execution_count": 6,
   "metadata": {
    "slideshow": {
     "slide_type": "slide"
    }
   },
   "outputs": [],
   "source": [
    "def time_preference_wrapper_kw_94(simulate_func, params, value):\n",
    "    policy_params = params.copy()\n",
    "    policy_params.loc[(\"delta\", \"delta\"), \"value\"] = value\n",
    "    policy_df = simulate_func(policy_params)\n",
    "\n",
    "    edu = policy_df.groupby(\"Identifier\")[\"Experience_Edu\"].max().mean()\n",
    "\n",
    "    return edu"
   ]
  },
  {
   "cell_type": "markdown",
   "metadata": {
    "slideshow": {
     "slide_type": "slide"
    }
   },
   "source": [
    "Now we can iterate over a grid of discount factors."
   ]
  },
  {
   "cell_type": "code",
   "execution_count": 7,
   "metadata": {
    "slideshow": {
     "slide_type": "fragment"
    }
   },
   "outputs": [
    {
     "data": {
      "image/png": "[encoded data removed]",
      "text/plain": [
       "<Figure size 432x288 with 1 Axes>"
      ]
     },
     "metadata": {
      "needs_background": "light"
     },
     "output_type": "display_data"
    }
   ],
   "source": [
    "deltas = np.linspace(0.945, 0.955, 10)\n",
    "edu_level = list()\n",
    "\n",
    "for i, delta in enumerate(deltas):\n",
    "    stat = time_preference_wrapper_kw_94(simulate_func, params, delta)\n",
    "    edu_level.append(stat)\n",
    "\n",
    "plot_time_preference(deltas, edu_level)"
   ]
  },
  {
   "cell_type": "markdown",
   "metadata": {
    "slideshow": {
     "slide_type": "slide"
    }
   },
   "source": [
    "### Policy forecast"
   ]
  },
  {
   "cell_type": "code",
   "execution_count": 8,
   "metadata": {
    "slideshow": {
     "slide_type": "slide"
    }
   },
   "outputs": [],
   "source": [
    "def tuition_policy_wrapper_kw_94(simulate_func, params, tuition_subsidy):\n",
    "    policy_params = params.copy()\n",
    "    policy_params.loc[(\"nonpec_edu\", \"at_least_twelve_exp_edu\"), \"value\"] += tuition_subsidy\n",
    "    policy_df = simulate_func(policy_params)\n",
    "\n",
    "    edu = policy_df.groupby(\"Identifier\")[\"Experience_Edu\"].max().mean()\n",
    "\n",
    "    return edu"
   ]
  },
  {
   "cell_type": "markdown",
   "metadata": {
    "slideshow": {
     "slide_type": "slide"
    }
   },
   "source": [
    "Now we can iterate over a grid of tuition subsidies."
   ]
  },
  {
   "cell_type": "code",
   "execution_count": null,
   "metadata": {
    "slideshow": {
     "slide_type": "fragment"
    }
   },
   "outputs": [],
   "source": [
    "subsidies = np.linspace(0, 1500, num=10, dtype=int, endpoint=True)\n",
    "edu_level = list()\n",
    "\n",
    "for i, subsidy in enumerate(subsidies):\n",
    "    stat = tuition_policy_wrapper_kw_94(simulate_func, params, subsidy)\n",
    "    edu_level.append(stat)\n",
    "\n",
    "plot_policy_forecast(subsidies, edu_level)"
   ]
  }
 ],
 "metadata": {
  "kernelspec": {
   "display_name": "Python 3",
   "language": "python",
   "name": "python3"
  },
  "language_info": {
   "codemirror_mode": {
    "name": "ipython",
    "version": 3
   },
   "file_extension": ".py",
   "mimetype": "text/x-python",
   "name": "python",
   "nbconvert_exporter": "python",
   "pygments_lexer": "ipython3",
   "version": "3.7.7"
  }
 },
 "nbformat": 4,
 "nbformat_minor": 4
}
