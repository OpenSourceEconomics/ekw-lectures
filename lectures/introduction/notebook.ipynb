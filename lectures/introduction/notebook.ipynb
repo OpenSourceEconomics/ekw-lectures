{
 "cells": [
  {
   "cell_type": "code",
   "execution_count": 2,
   "source": [
    "import sys\r\n",
    "\r\n",
    "import respy as rp\r\n",
    "import numpy as np\r\n",
    "\r\n",
    "sys.path.insert(0, \"python\")\r\n",
    "from auxiliary import plot_observed_choices  # noqa: E402\r\n",
    "from auxiliary import plot_time_preference  # noqa: E402\r\n",
    "from auxiliary import plot_policy_forecast  # noqa: E402"
   ],
   "outputs": [],
   "metadata": {
    "slideshow": {
     "slide_type": "skip"
    }
   }
  },
  {
   "cell_type": "markdown",
   "source": [
    "## Structural microeconometrics"
   ],
   "metadata": {
    "slideshow": {
     "slide_type": "slide"
    }
   }
  },
  {
   "cell_type": "markdown",
   "source": [
    "**Computational modeling in economics**\n",
    "\n",
    "* provide learning opportunities\n",
    "* assess importance of competing mechanisms\n",
    "* predict the effects of public policies"
   ],
   "metadata": {
    "slideshow": {
     "slide_type": "slide"
    }
   }
  },
  {
   "cell_type": "markdown",
   "source": [
    "**Eckstein-Keane-Wolpin (EKW) models}**\n",
    "\n",
    "* understanding individual decisions \n",
    "    * human capital investment\n",
    "    * savings and retirement\n",
    "* predicting effects of policies\n",
    "    * welfare programs\n",
    "    * tax schedules\n",
    "  "
   ],
   "metadata": {
    "slideshow": {
     "slide_type": "slide"
    }
   }
  },
  {
   "cell_type": "markdown",
   "source": [
    "**Components**\n",
    "\n",
    "* economic model\n",
    "* mathematical formulation\n",
    "* calibration procedure"
   ],
   "metadata": {
    "slideshow": {
     "slide_type": "slide"
    }
   }
  },
  {
   "cell_type": "markdown",
   "source": [
    "### Economic model"
   ],
   "metadata": {
    "slideshow": {
     "slide_type": "slide"
    }
   }
  },
  {
   "cell_type": "markdown",
   "source": [
    "**Decision problem**\r\n",
    "$$\r\n",
    "\\begin{array}{ll}\r\n",
    "t = 1, .., T& \\text{decision period} \\\\\r\n",
    "s_t\\in S & \\text{state}  \\\\\r\n",
    "a_t\\in A & \\text{action} \\\\\r\n",
    "a_t(s_t) & \\text{decision rule} \\\\\r\n",
    "r_t(s_t, a_t) & \\text{immediate reward}\\\\\r\n",
    "\\end{array}\r\n",
    "$$"
   ],
   "metadata": {
    "slideshow": {
     "slide_type": "slide"
    }
   }
  },
  {
   "cell_type": "markdown",
   "source": [
    "<img src=\"material/fig-timing-events.png\" width=\"700\" >"
   ],
   "metadata": {
    "slideshow": {
     "slide_type": "slide"
    }
   }
  },
  {
   "cell_type": "markdown",
   "source": [
    "$$\\begin{array}{ll}\r\n",
    "\\pi = (a^\\pi_1(s_1), .., a^\\pi_T(s_T)) & \\text{policy}\\\\\r\n",
    "\\delta & \\text{discount factor} \\\\\r\n",
    "p_t(s_t, a_t) & \\text{conditional distribution}\r\n",
    "\\end{array}$$"
   ],
   "metadata": {
    "slideshow": {
     "slide_type": "slide"
    }
   }
  },
  {
   "cell_type": "markdown",
   "source": [
    "**Individual's objective**\r\n",
    "$$\r\n",
    "\\max_{\\pi \\in\\Pi} E_{s_1}^\\pi\\left[\\left.\\sum^{T}_{t = 1}  \\delta^{t - 1} r_t(s_t, a^\\pi_t(s_t))\\,\\right\\vert\\,\\mathcal{I}_1\\,\\right]\r\n",
    "$$"
   ],
   "metadata": {
    "slideshow": {
     "slide_type": "slide"
    }
   }
  },
  {
   "cell_type": "markdown",
   "source": [
    "### Mathematical formulation"
   ],
   "metadata": {
    "slideshow": {
     "slide_type": "slide"
    }
   }
  },
  {
   "cell_type": "markdown",
   "source": [
    "**Policy evaluation**\r\n",
    "$$\r\n",
    "v^\\pi_t(s_t) \\equiv E_{s_t}^\\pi\\left[\\left.\\sum^{T - t}_{j = 0}  \\delta^j\\, r_{t + j}(s_{t + j}, a^\\pi_{t + j}(s_{t + j})) \\,\\right\\vert\\,\\mathcal{I}_t\\,\\right]\\\\\r\n",
    "$$\r\n",
    "\r\n",
    "Inductive scheme\r\n",
    "$$\r\n",
    "v^\\pi_t(s_t) = r_t(s_t,  a^\\pi_t(s_t)) + \\delta\\,E^\\pi_{s_t} \\left[\\left.v^\\pi_{t + 1}(s_{t + 1})  \\,\\right\\vert\\,\\mathcal{I}_t\\,\\right]\r\n",
    "$$\r\n"
   ],
   "metadata": {
    "slideshow": {
     "slide_type": "slide"
    }
   }
  },
  {
   "cell_type": "markdown",
   "source": [
    "**Optimality equations**\r\n",
    "$$\r\n",
    "v^{\\pi^*}_t(s_t) = \\max_{a_t \\in A}\\bigg\\{ r_t(s_t, a_t) + \\delta\\, E^{\\pi^*}_{s_t} \\left[\\left.v^{\\pi^*}_{t + 1}(s_{t + 1})\\,\\right\\vert\\,\\mathcal{I}_t\\,\\right] \\bigg\\}\r\n",
    "$$"
   ],
   "metadata": {
    "slideshow": {
     "slide_type": "slide"
    }
   }
  },
  {
   "cell_type": "markdown",
   "source": [
    "<img src=\"material/fig-backward-induction.png\" width=\"700\" >"
   ],
   "metadata": {
    "slideshow": {
     "slide_type": "slide"
    }
   }
  },
  {
   "cell_type": "markdown",
   "source": [
    "### Calibration procedure"
   ],
   "metadata": {
    "slideshow": {
     "slide_type": "slide"
    }
   }
  },
  {
   "cell_type": "markdown",
   "source": [
    "**Data**\r\n",
    "$$\\mathcal{D} = \\{a_{it}, x_{it}, r_{it}: i = 1, ... , N; t = 1, ... , T_i\\}\\\\\r\n",
    "$$\r\n",
    "**State variables}**\r\n",
    "\r\n",
    "* $s_t = (x_t, \\epsilon_t)$\r\n",
    "    * $x_t$ observed\r\n",
    "    * $\\epsilon_t$ unobserved"
   ],
   "metadata": {
    "slideshow": {
     "slide_type": "slide"
    }
   }
  },
  {
   "cell_type": "markdown",
   "source": [
    "**Procedures**\r\n",
    "\r\n",
    "* likelihood-based\r\n",
    "$$\r\n",
    "\\hat{\\theta} \\equiv argmax_{\\theta \\in \\Theta} \\prod^N_{i= 1} \\prod^{T_i}_{t= 1}\\, p_{it}(a_{it}, r_{it} \\mid x_{it}, \\theta)\r\n",
    "$$\r\n",
    "* simulation-based\r\n",
    "$$\r\n",
    "\\hat{\\theta} \\equiv argmin_{\\theta \\in \\Theta} (M_D - M_S(\\theta))' W (M_D - M_S(\\theta))\r\n",
    "$$\r\n"
   ],
   "metadata": {
    "slideshow": {
     "slide_type": "slide"
    }
   }
  },
  {
   "cell_type": "markdown",
   "source": [
    "### Example"
   ],
   "metadata": {
    "slideshow": {
     "slide_type": "slide"
    }
   }
  },
  {
   "cell_type": "markdown",
   "source": [
    "**Seminal paper**\n",
    "\n",
    "* Keane, M. P., & Wolpin, K. I. (1994). The solution and estimation of discrete choice dynamic programming models by simulation and interpolation: Monte Carlo evidence. Review of Economics and Statistics, 76 (4), 648–672.\n"
   ],
   "metadata": {
    "slideshow": {
     "slide_type": "slide"
    }
   }
  },
  {
   "cell_type": "markdown",
   "source": [
    "**Model of occupational choice**\n",
    "\n",
    "* 1,000 individuals starting at age 16\n",
    "* life cycle histories\n",
    "    * school attendance\n",
    "    * occupation-specific work status\n",
    "* wages"
   ],
   "metadata": {
    "slideshow": {
     "slide_type": "slide"
    }
   }
  },
  {
   "cell_type": "markdown",
   "source": [
    "**Labor market**\r\n",
    "$$\r\n",
    "r_t(s_t, 1) =  w_{1t} = \\exp\\{ \\underbrace{\\alpha_{10}}_{\\text{endowment}} + \\underbrace{\\alpha_{11} g_t}_{\\text{schooling}} + \\underbrace{\\alpha_{12}e_{1t} + \\alpha_{13}e^2_{1t}}_{\\text{own experience}} \\\\\r\n",
    " + \\underbrace{\\alpha_{14}e_{2t} + \\alpha_{15}e^2_{2t}}_{\\text{other experience}} + \\underbrace{\\epsilon_{1t}}_{\\text{shock}}\\}\r\n",
    "$$\r\n",
    "  \r\n",
    "The same setup applies to the second occupation."
   ],
   "metadata": {
    "slideshow": {
     "slide_type": "slide"
    }
   }
  },
  {
   "cell_type": "markdown",
   "source": [
    "**Schooling**\r\n",
    "\r\n",
    "$$\r\n",
    "r_t(s_t, 3) = \\underbrace{\\beta_0}_{\\text{taste}} - \\underbrace{\\beta_1 I[\\,g_t \\geq 12\\,]}_{\\text{direct cost}} - \\underbrace{\\beta_2 I[\\,a_{t - 1} \\neq 3\\,]}_{\\text{reenrollment effort}} + \\underbrace{\\epsilon_{3t}}_{\\text{shock}} \\\\\r\n",
    "$$\r\n",
    "\r\n",
    "**Home**\r\n",
    "$$\r\n",
    "r_t(s_t, 4) = \\underbrace{\\gamma_0}_{\\text{taste}} + \\underbrace{\\epsilon_{4t}}_{\\text{shock}}\r\n",
    "$$\r\n"
   ],
   "metadata": {
    "slideshow": {
     "slide_type": "slide"
    }
   }
  },
  {
   "cell_type": "markdown",
   "source": [
    "**State space**\r\n",
    "$$s_t = \\{g_t,e_{1t},e_{2t},a_{t - 1},\\epsilon_{1t},\\epsilon_{2t},\\epsilon_{3t},\\epsilon_{4t}\\}\r\n",
    "$$"
   ],
   "metadata": {
    "slideshow": {
     "slide_type": "slide"
    }
   }
  },
  {
   "cell_type": "markdown",
   "source": [
    "**Transitions**\r\n",
    "\r\n",
    "* observed state variables\r\n",
    "$$\r\n",
    "e_{1,t+1} = e_{1t} + I[\\,a_t = 1\\,]  \\\\\r\n",
    "e_{2,t+1} = e_{2t} + I[\\,a_t = 2\\,]  \\\\\r\n",
    "g_{t+1}   = g_{t\\phantom{2}} + I[\\,a_t = 3\\,]\r\n",
    "$$\r\n",
    "* unobserved state variables\r\n",
    "$$\r\n",
    "\\{\\epsilon_{1t},\\epsilon_{2t},\\epsilon_{3t},\\epsilon_{4t}\\} \\sim N(0, \\Sigma)\r\n",
    "$$\r\n"
   ],
   "metadata": {
    "slideshow": {
     "slide_type": "slide"
    }
   }
  },
  {
   "cell_type": "code",
   "execution_count": 3,
   "source": [
    "params, options = rp.get_example_model(\"kw_94_two\", with_data=False)"
   ],
   "outputs": [],
   "metadata": {
    "slideshow": {
     "slide_type": "slide"
    }
   }
  },
  {
   "cell_type": "markdown",
   "source": [
    "How is the economy parametrized?"
   ],
   "metadata": {
    "slideshow": {
     "slide_type": "fragment"
    }
   }
  },
  {
   "cell_type": "code",
   "execution_count": 4,
   "source": [
    "params.head()"
   ],
   "outputs": [
    {
     "output_type": "execute_result",
     "data": {
      "text/html": [
       "<div>\n",
       "<style scoped>\n",
       "    .dataframe tbody tr th:only-of-type {\n",
       "        vertical-align: middle;\n",
       "    }\n",
       "\n",
       "    .dataframe tbody tr th {\n",
       "        vertical-align: top;\n",
       "    }\n",
       "\n",
       "    .dataframe thead th {\n",
       "        text-align: right;\n",
       "    }\n",
       "</style>\n",
       "<table border=\"1\" class=\"dataframe\">\n",
       "  <thead>\n",
       "    <tr style=\"text-align: right;\">\n",
       "      <th></th>\n",
       "      <th></th>\n",
       "      <th>value</th>\n",
       "      <th>comment</th>\n",
       "    </tr>\n",
       "    <tr>\n",
       "      <th>category</th>\n",
       "      <th>name</th>\n",
       "      <th></th>\n",
       "      <th></th>\n",
       "    </tr>\n",
       "  </thead>\n",
       "  <tbody>\n",
       "    <tr>\n",
       "      <th>delta</th>\n",
       "      <th>delta</th>\n",
       "      <td>0.9500</td>\n",
       "      <td>discount factor</td>\n",
       "    </tr>\n",
       "    <tr>\n",
       "      <th rowspan=\"4\" valign=\"top\">wage_a</th>\n",
       "      <th>constant</th>\n",
       "      <td>9.2100</td>\n",
       "      <td>log of rental price</td>\n",
       "    </tr>\n",
       "    <tr>\n",
       "      <th>exp_edu</th>\n",
       "      <td>0.0400</td>\n",
       "      <td>return to an additional year of schooling</td>\n",
       "    </tr>\n",
       "    <tr>\n",
       "      <th>exp_a</th>\n",
       "      <td>0.0330</td>\n",
       "      <td>return to same sector experience</td>\n",
       "    </tr>\n",
       "    <tr>\n",
       "      <th>exp_a_square</th>\n",
       "      <td>-0.0005</td>\n",
       "      <td>return to same sector, quadratic experience</td>\n",
       "    </tr>\n",
       "  </tbody>\n",
       "</table>\n",
       "</div>"
      ],
      "text/plain": [
       "                        value                                      comment\n",
       "category name                                                             \n",
       "delta    delta         0.9500                              discount factor\n",
       "wage_a   constant      9.2100                          log of rental price\n",
       "         exp_edu       0.0400    return to an additional year of schooling\n",
       "         exp_a         0.0330             return to same sector experience\n",
       "         exp_a_square -0.0005  return to same sector, quadratic experience"
      ]
     },
     "metadata": {},
     "execution_count": 4
    }
   ],
   "metadata": {
    "slideshow": {
     "slide_type": "fragment"
    }
   }
  },
  {
   "cell_type": "markdown",
   "source": [
    "How are the options set?"
   ],
   "metadata": {
    "slideshow": {
     "slide_type": "slide"
    }
   }
  },
  {
   "cell_type": "code",
   "execution_count": 5,
   "source": [
    "options"
   ],
   "outputs": [
    {
     "output_type": "execute_result",
     "data": {
      "text/plain": [
       "{'estimation_draws': 200,\n",
       " 'estimation_seed': 500,\n",
       " 'estimation_tau': 500,\n",
       " 'interpolation_points': -1,\n",
       " 'n_periods': 40,\n",
       " 'simulation_agents': 1000,\n",
       " 'simulation_seed': 132,\n",
       " 'solution_draws': 500,\n",
       " 'solution_seed': 1,\n",
       " 'monte_carlo_sequence': 'random',\n",
       " 'core_state_space_filters': [\"period > 0 and exp_{choices_w_exp} == period and lagged_choice_1 != '{choices_w_exp}'\",\n",
       "  \"period > 0 and exp_a + exp_b + exp_edu == period and lagged_choice_1 == '{choices_wo_exp}'\",\n",
       "  \"period > 0 and lagged_choice_1 == 'edu' and exp_edu == 0\",\n",
       "  \"lagged_choice_1 == '{choices_w_wage}' and exp_{choices_w_wage} == 0\",\n",
       "  \"period == 0 and lagged_choice_1 == '{choices_w_wage}'\"],\n",
       " 'covariates': {'constant': '1',\n",
       "  'exp_a_square': 'exp_a ** 2',\n",
       "  'exp_b_square': 'exp_b ** 2',\n",
       "  'at_least_twelve_exp_edu': 'exp_edu >= 12',\n",
       "  'not_edu_last_period': \"lagged_choice_1 != 'edu'\"}}"
      ]
     },
     "metadata": {},
     "execution_count": 5
    }
   ],
   "metadata": {
    "slideshow": {
     "slide_type": "fragment"
    }
   }
  },
  {
   "cell_type": "markdown",
   "source": [
    "We can now simulate a dataset and look at the individual decisions."
   ],
   "metadata": {
    "slideshow": {
     "slide_type": "slide"
    }
   }
  },
  {
   "cell_type": "code",
   "execution_count": 6,
   "source": [
    "simulate_func = rp.get_simulate_func(params, options)\r\n",
    "plot_observed_choices(simulate_func(params))"
   ],
   "outputs": [],
   "metadata": {
    "slideshow": {
     "slide_type": "fragment"
    }
   }
  },
  {
   "cell_type": "markdown",
   "source": [
    "#### Mechanisms"
   ],
   "metadata": {
    "slideshow": {
     "slide_type": "slide"
    }
   }
  },
  {
   "cell_type": "code",
   "execution_count": 6,
   "source": [
    "def time_preference_wrapper_kw_94(simulate_func, params, value):\r\n",
    "    policy_params = params.copy()\r\n",
    "    policy_params.loc[(\"delta\", \"delta\"), \"value\"] = value\r\n",
    "    policy_df = simulate_func(policy_params)\r\n",
    "\r\n",
    "    edu = policy_df.groupby(\"Identifier\")[\"Experience_Edu\"].max().mean()\r\n",
    "\r\n",
    "    return edu"
   ],
   "outputs": [],
   "metadata": {
    "slideshow": {
     "slide_type": "slide"
    }
   }
  },
  {
   "cell_type": "markdown",
   "source": [
    "Now we can iterate over a grid of discount factors."
   ],
   "metadata": {
    "slideshow": {
     "slide_type": "slide"
    }
   }
  },
  {
   "cell_type": "code",
   "execution_count": 7,
   "source": [
    "deltas = np.linspace(0.945, 0.955, 10)\r\n",
    "edu_level = list()\r\n",
    "\r\n",
    "for i, delta in enumerate(deltas):\r\n",
    "    stat = time_preference_wrapper_kw_94(simulate_func, params, delta)\r\n",
    "    edu_level.append(stat)\r\n",
    "\r\n",
    "plot_time_preference(deltas, edu_level)"
   ],
   "outputs": [
    {
     "output_type": "display_data",
     "data": {
      "image/png": "[encoded data removed]",
      "text/plain": [
       "<Figure size 432x288 with 1 Axes>"
      ]
     },
     "metadata": {
      "needs_background": "light"
     }
    }
   ],
   "metadata": {
    "slideshow": {
     "slide_type": "fragment"
    }
   }
  },
  {
   "cell_type": "markdown",
   "source": [
    "#### Policy forecast"
   ],
   "metadata": {
    "slideshow": {
     "slide_type": "slide"
    }
   }
  },
  {
   "cell_type": "code",
   "execution_count": 8,
   "source": [
    "def tuition_policy_wrapper_kw_94(simulate_func, params, tuition_subsidy):\r\n",
    "    policy_params = params.copy()\r\n",
    "    policy_params.loc[(\"nonpec_edu\", \"at_least_twelve_exp_edu\"), \"value\"] += tuition_subsidy\r\n",
    "    policy_df = simulate_func(policy_params)\r\n",
    "\r\n",
    "    edu = policy_df.groupby(\"Identifier\")[\"Experience_Edu\"].max().mean()\r\n",
    "\r\n",
    "    return edu"
   ],
   "outputs": [],
   "metadata": {
    "slideshow": {
     "slide_type": "slide"
    }
   }
  },
  {
   "cell_type": "markdown",
   "source": [
    "Now we can iterate over a grid of tuition subsidies."
   ],
   "metadata": {
    "slideshow": {
     "slide_type": "slide"
    }
   }
  },
  {
   "cell_type": "code",
   "execution_count": null,
   "source": [
    "subsidies = np.linspace(0, 1500, num=10, dtype=int, endpoint=True)\r\n",
    "edu_level = list()\r\n",
    "\r\n",
    "for i, subsidy in enumerate(subsidies):\r\n",
    "    stat = tuition_policy_wrapper_kw_94(simulate_func, params, subsidy)\r\n",
    "    edu_level.append(stat)\r\n",
    "\r\n",
    "plot_policy_forecast(subsidies, edu_level)"
   ],
   "outputs": [],
   "metadata": {
    "slideshow": {
     "slide_type": "fragment"
    }
   }
  }
 ],
 "metadata": {
  "kernelspec": {
   "name": "python3",
   "display_name": "Python 3.9.6 64-bit ('ekw-lectures': conda)"
  },
  "language_info": {
   "codemirror_mode": {
    "name": "ipython",
    "version": 3
   },
   "file_extension": ".py",
   "mimetype": "text/x-python",
   "name": "python",
   "nbconvert_exporter": "python",
   "pygments_lexer": "ipython3",
   "version": "3.9.6"
  },
  "interpreter": {
   "hash": "baad205918c9980e5e4b45973d8e876fe86b5b9ba15167b245b2d8bd77278b5d"
  }
 },
 "nbformat": 4,
 "nbformat_minor": 4
}
