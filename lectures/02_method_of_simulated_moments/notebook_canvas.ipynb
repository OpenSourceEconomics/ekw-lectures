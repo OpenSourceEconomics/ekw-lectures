{
 "cells": [
  {
   "cell_type": "code",
   "execution_count": 1,
   "metadata": {},
   "outputs": [
    {
     "name": "stdout",
     "output_type": "stream",
     "text": [
      "The autoreload extension is already loaded. To reload it, use:\n",
      "  %reload_ext autoreload\n"
     ]
    }
   ],
   "source": [
    "%matplotlib inline\n",
    "%load_ext autoreload\n",
    "%autoreload 2\n",
    "\n",
    "import os\n",
    "import yaml\n",
    "from collections import defaultdict\n",
    "import pickle as pkl\n",
    "import copy\n",
    "\n",
    "import numpy as np\n",
    "import pandas as pd\n",
    "import matplotlib.pyplot as plt\n",
    "\n",
    "import respy as rp\n",
    "from respy.pre_processing.model_processing import process_params_and_options\n",
    "\n",
    "from python.auxiliary_setup import *\n",
    "from python.auxiliary_weighting import *\n",
    "from python.auxiliary_plots import *"
   ]
  },
  {
   "cell_type": "markdown",
   "metadata": {
    "toc": true
   },
   "source": [
    "<h1>Table of Contents<span class=\"tocSkip\"></span></h1>\n",
    "<div class=\"toc\"><ul class=\"toc-item\"><li><span><a href=\"#Introduction\" data-toc-modified-id=\"Introduction-1\"><span class=\"toc-item-num\">1&nbsp;&nbsp;</span>Introduction</a></span></li><li><span><a href=\"#Observed-Data\" data-toc-modified-id=\"Observed-Data-2\"><span class=\"toc-item-num\">2&nbsp;&nbsp;</span>Observed Data</a></span></li><li><span><a href=\"#Data-Moments\" data-toc-modified-id=\"Data-Moments-3\"><span class=\"toc-item-num\">3&nbsp;&nbsp;</span>Data Moments</a></span></li><li><span><a href=\"#Weighting-Matrix\" data-toc-modified-id=\"Weighting-Matrix-4\"><span class=\"toc-item-num\">4&nbsp;&nbsp;</span>Weighting Matrix</a></span></li><li><span><a href=\"#Criterion-Function\" data-toc-modified-id=\"Criterion-Function-5\"><span class=\"toc-item-num\">5&nbsp;&nbsp;</span>Criterion Function</a></span></li><li><span><a href=\"#Estimation-Exercise\" data-toc-modified-id=\"Estimation-Exercise-6\"><span class=\"toc-item-num\">6&nbsp;&nbsp;</span>Estimation Exercise</a></span><ul class=\"toc-item\"><li><span><a href=\"#Estimation-for-one-parameter\" data-toc-modified-id=\"Estimation-for-one-parameter-6.1\"><span class=\"toc-item-num\">6.1&nbsp;&nbsp;</span>Estimation for one parameter</a></span><ul class=\"toc-item\"><li><span><a href=\"#Simulated-Moments\" data-toc-modified-id=\"Simulated-Moments-6.1.1\"><span class=\"toc-item-num\">6.1.1&nbsp;&nbsp;</span>Simulated Moments</a></span></li><li><span><a href=\"#Optimization-Procedure\" data-toc-modified-id=\"Optimization-Procedure-6.1.2\"><span class=\"toc-item-num\">6.1.2&nbsp;&nbsp;</span>Optimization Procedure</a></span><ul class=\"toc-item\"><li><span><a href=\"#Upper-and-Lower-Bounds\" data-toc-modified-id=\"Upper-and-Lower-Bounds-6.1.2.1\"><span class=\"toc-item-num\">6.1.2.1&nbsp;&nbsp;</span>Upper and Lower Bounds</a></span></li><li><span><a href=\"#Constraints\" data-toc-modified-id=\"Constraints-6.1.2.2\"><span class=\"toc-item-num\">6.1.2.2&nbsp;&nbsp;</span>Constraints</a></span></li><li><span><a href=\"#Optimize\" data-toc-modified-id=\"Optimize-6.1.2.3\"><span class=\"toc-item-num\">6.1.2.3&nbsp;&nbsp;</span>Optimize</a></span></li></ul></li></ul></li><li><span><a href=\"#Chatter-in-the-Criterion-Function\" data-toc-modified-id=\"Chatter-in-the-Criterion-Function-6.2\"><span class=\"toc-item-num\">6.2&nbsp;&nbsp;</span>Chatter in the Criterion Function</a></span><ul class=\"toc-item\"><li><span><a href=\"#Changing-the-Simulation-Seed\" data-toc-modified-id=\"Changing-the-Simulation-Seed-6.2.1\"><span class=\"toc-item-num\">6.2.1&nbsp;&nbsp;</span>Changing the Simulation Seed</a></span></li><li><span><a href=\"#Multiple-Simulation-Seeds\" data-toc-modified-id=\"Multiple-Simulation-Seeds-6.2.2\"><span class=\"toc-item-num\">6.2.2&nbsp;&nbsp;</span>Multiple Simulation Seeds</a></span></li><li><span><a href=\"#Changing-the-Simulation-Seed-for-increasing-Sample-Size-of-Simulated-Agents\" data-toc-modified-id=\"Changing-the-Simulation-Seed-for-increasing-Sample-Size-of-Simulated-Agents-6.2.3\"><span class=\"toc-item-num\">6.2.3&nbsp;&nbsp;</span>Changing the Simulation Seed for increasing Sample Size of Simulated Agents</a></span></li><li><span><a href=\"#Changing-the-Simulation-Seed-for-increasing-Sample-Size-of-Simulated-and-Observed-Agents\" data-toc-modified-id=\"Changing-the-Simulation-Seed-for-increasing-Sample-Size-of-Simulated-and-Observed-Agents-6.2.4\"><span class=\"toc-item-num\">6.2.4&nbsp;&nbsp;</span>Changing the Simulation Seed for increasing Sample Size of Simulated <em>and</em> Observed Agents</a></span></li></ul></li><li><span><a href=\"#Moving-away-from-the-Optimum\" data-toc-modified-id=\"Moving-away-from-the-Optimum-6.3\"><span class=\"toc-item-num\">6.3&nbsp;&nbsp;</span>Moving away from the Optimum</a></span><ul class=\"toc-item\"><li><span><a href=\"#Retrieving-the-true-Parameter-Vector\" data-toc-modified-id=\"Retrieving-the-true-Parameter-Vector-6.3.1\"><span class=\"toc-item-num\">6.3.1&nbsp;&nbsp;</span>Retrieving the true Parameter Vector</a></span></li></ul></li><li><span><a href=\"#Derivative-Based-Optimization-Algorithm\" data-toc-modified-id=\"Derivative-Based-Optimization-Algorithm-6.4\"><span class=\"toc-item-num\">6.4&nbsp;&nbsp;</span>Derivative-Based Optimization Algorithm</a></span></li></ul></li><li><span><a href=\"#References\" data-toc-modified-id=\"References-7\"><span class=\"toc-item-num\">7&nbsp;&nbsp;</span>References</a></span></li></ul></div>"
   ]
  },
  {
   "cell_type": "markdown",
   "metadata": {},
   "source": [
    "## Introduction\n",
    "\n",
    "The simulated method of moments approach to estimating model parameters is to minimize a certain distance between observed moments and simulated moments with respect to the parameters that generate the simulated model.\n",
    "\n",
    "Denote $X$ our observed data and $m(X)$ the vector of observed moments. To construct the criterion function, we use the parameter vector $\\theta$ to simulate data from the  model $\\hat{X}$. We can then calculate the simulated moments $m(\\hat{X}| \\theta)$.\n",
    "\n",
    "The criterion function is then given by \n",
    "\n",
    "\\begin{equation}\n",
    "\\psi(\\theta) = (m(X) - m(\\hat{X}| \\theta))'\\Omega(m(X) - m(\\hat{X}| \\theta))\n",
    "\\end{equation}\n",
    "\n",
    "where the difference between observed and simulated moments $(m(X) - m(\\hat{X}| \\theta))$ constitutes a vector of the dimension $1\\times M$ with $1,..,M$ denoting the number of moments. The $M\\times M$ weighting matrix is given by $\\Omega$. \n",
    "\n",
    "The SMM estimator is defined as the solution to \n",
    "\n",
    "\\begin{equation}\n",
    "\\hat{\\theta}(\\Omega) = \\underset{\\theta}{\\operatorname{argmin}} \\psi(\\theta).\n",
    "\\end{equation}\n",
    "\n",
    "The criterion function is thus a strictly positive scalar and the estimator depends on the choice of moments $m$ and the weighting matrix $\\Omega$. The weighting matrix applies some scaling for discrepancies between the observed and simulated moments. If we use the identity matrix, each moment is given equal weight and the criterion function reduces to the sum of squared moment deviations. \n",
    "\n",
    "Aside from the choice of moments and weighting matrix, some other important choices that influence the the estimation are the simulator itself and the algorithm and specifications for the optimization procedure. Many explanations for simulated method of moments estimation also feature the number of simulations as a factor that is to be determined for estimation. We can ignore this factor for now since we are working with a large simulated dataset.\n",
    "\n",
    "In the following we will set up the data, moments and weighting matrix needed to construct the criterion function and subsequently try to estimating the parameters of the model using this SMM setup."
   ]
  },
  {
   "cell_type": "markdown",
   "metadata": {},
   "source": [
    "##  Observed Data\n",
    "\n",
    "We generate our model and data using [respy](https://respy.readthedocs.io/en/latest/) and a simple Robinson Crusoe model. In this model, the agent, Robinson Crusoe, in each time period decides between two choice options: working (i.e. going fishing) or spending time in the hammock. \n",
    "\n",
    "We can use respy to simulate the data for this exercise."
   ]
  },
  {
   "cell_type": "code",
   "execution_count": 2,
   "metadata": {},
   "outputs": [],
   "source": [
    "params_true, options = load_model_specs()"
   ]
  },
  {
   "cell_type": "code",
   "execution_count": 3,
   "metadata": {},
   "outputs": [],
   "source": [
    "# Generate observed data from model.\n",
    "simulate = rp.get_simulate_func(params_true, options)\n",
    "data_obs = simulate(params_true)"
   ]
  },
  {
   "cell_type": "markdown",
   "metadata": {},
   "source": [
    "Let's take a look at the model specifications."
   ]
  },
  {
   "cell_type": "code",
   "execution_count": 4,
   "metadata": {},
   "outputs": [
    {
     "data": {
      "text/html": [
       "<div>\n",
       "<style scoped>\n",
       "    .dataframe tbody tr th:only-of-type {\n",
       "        vertical-align: middle;\n",
       "    }\n",
       "\n",
       "    .dataframe tbody tr th {\n",
       "        vertical-align: top;\n",
       "    }\n",
       "\n",
       "    .dataframe thead th {\n",
       "        text-align: right;\n",
       "    }\n",
       "</style>\n",
       "<table border=\"1\" class=\"dataframe\">\n",
       "  <thead>\n",
       "    <tr style=\"text-align: right;\">\n",
       "      <th></th>\n",
       "      <th></th>\n",
       "      <th>value</th>\n",
       "    </tr>\n",
       "    <tr>\n",
       "      <th>category</th>\n",
       "      <th>name</th>\n",
       "      <th></th>\n",
       "    </tr>\n",
       "  </thead>\n",
       "  <tbody>\n",
       "    <tr>\n",
       "      <td>delta</td>\n",
       "      <td>delta</td>\n",
       "      <td>0.950</td>\n",
       "    </tr>\n",
       "    <tr>\n",
       "      <td>wage_fishing</td>\n",
       "      <td>exp_fishing</td>\n",
       "      <td>0.070</td>\n",
       "    </tr>\n",
       "    <tr>\n",
       "      <td>nonpec_fishing</td>\n",
       "      <td>constant</td>\n",
       "      <td>-0.100</td>\n",
       "    </tr>\n",
       "    <tr>\n",
       "      <td>nonpec_hammock</td>\n",
       "      <td>constant</td>\n",
       "      <td>1.046</td>\n",
       "    </tr>\n",
       "    <tr>\n",
       "      <td rowspan=\"3\" valign=\"top\">shocks_sdcorr</td>\n",
       "      <td>sd_fishing</td>\n",
       "      <td>0.010</td>\n",
       "    </tr>\n",
       "    <tr>\n",
       "      <td>sd_hammock</td>\n",
       "      <td>0.010</td>\n",
       "    </tr>\n",
       "    <tr>\n",
       "      <td>corr_hammock_fishing</td>\n",
       "      <td>0.000</td>\n",
       "    </tr>\n",
       "  </tbody>\n",
       "</table>\n",
       "</div>"
      ],
      "text/plain": [
       "                                     value\n",
       "category       name                       \n",
       "delta          delta                 0.950\n",
       "wage_fishing   exp_fishing           0.070\n",
       "nonpec_fishing constant             -0.100\n",
       "nonpec_hammock constant              1.046\n",
       "shocks_sdcorr  sd_fishing            0.010\n",
       "               sd_hammock            0.010\n",
       "               corr_hammock_fishing  0.000"
      ]
     },
     "execution_count": 4,
     "metadata": {},
     "output_type": "execute_result"
    }
   ],
   "source": [
    "params_true "
   ]
  },
  {
   "cell_type": "code",
   "execution_count": 5,
   "metadata": {},
   "outputs": [
    {
     "data": {
      "text/plain": [
       "{'estimation_draws': 100,\n",
       " 'estimation_seed': 100,\n",
       " 'estimation_tau': 0.001,\n",
       " 'interpolation_points': -1,\n",
       " 'n_periods': 5,\n",
       " 'simulation_agents': 1000,\n",
       " 'simulation_seed': 132,\n",
       " 'solution_draws': 100,\n",
       " 'solution_seed': 456,\n",
       " 'covariates': {'constant': '1'}}"
      ]
     },
     "execution_count": 5,
     "metadata": {},
     "output_type": "execute_result"
    }
   ],
   "source": [
    "options"
   ]
  },
  {
   "cell_type": "code",
   "execution_count": 6,
   "metadata": {},
   "outputs": [
    {
     "data": {
      "text/html": [
       "<div>\n",
       "<style scoped>\n",
       "    .dataframe tbody tr th:only-of-type {\n",
       "        vertical-align: middle;\n",
       "    }\n",
       "\n",
       "    .dataframe tbody tr th {\n",
       "        vertical-align: top;\n",
       "    }\n",
       "\n",
       "    .dataframe thead th {\n",
       "        text-align: right;\n",
       "    }\n",
       "</style>\n",
       "<table border=\"1\" class=\"dataframe\">\n",
       "  <thead>\n",
       "    <tr style=\"text-align: right;\">\n",
       "      <th></th>\n",
       "      <th>Identifier</th>\n",
       "      <th>Period</th>\n",
       "      <th>Choice</th>\n",
       "      <th>Wage</th>\n",
       "      <th>Experience_Fishing</th>\n",
       "      <th>Type</th>\n",
       "      <th>Nonpecuniary_Reward_Fishing</th>\n",
       "      <th>Nonpecuniary_Reward_Hammock</th>\n",
       "      <th>Wage_Fishing</th>\n",
       "      <th>Flow_Utility_Fishing</th>\n",
       "      <th>Flow_Utility_Hammock</th>\n",
       "      <th>Value_Function_Fishing</th>\n",
       "      <th>Value_Function_Hammock</th>\n",
       "      <th>Shock_Reward_Fishing</th>\n",
       "      <th>Shock_Reward_Hammock</th>\n",
       "      <th>Discount_Rate</th>\n",
       "    </tr>\n",
       "  </thead>\n",
       "  <tbody>\n",
       "    <tr>\n",
       "      <td>0</td>\n",
       "      <td>0</td>\n",
       "      <td>0</td>\n",
       "      <td>fishing</td>\n",
       "      <td>1.007197</td>\n",
       "      <td>0</td>\n",
       "      <td>0</td>\n",
       "      <td>-0.1</td>\n",
       "      <td>1.046</td>\n",
       "      <td>1.000000</td>\n",
       "      <td>0.907197</td>\n",
       "      <td>1.056305</td>\n",
       "      <td>4.747606</td>\n",
       "      <td>4.742931</td>\n",
       "      <td>1.007197</td>\n",
       "      <td>0.010305</td>\n",
       "      <td>0.95</td>\n",
       "    </tr>\n",
       "    <tr>\n",
       "      <td>1</td>\n",
       "      <td>0</td>\n",
       "      <td>1</td>\n",
       "      <td>fishing</td>\n",
       "      <td>1.082581</td>\n",
       "      <td>1</td>\n",
       "      <td>0</td>\n",
       "      <td>-0.1</td>\n",
       "      <td>1.046</td>\n",
       "      <td>1.072508</td>\n",
       "      <td>0.982581</td>\n",
       "      <td>1.046042</td>\n",
       "      <td>4.052627</td>\n",
       "      <td>3.892530</td>\n",
       "      <td>1.009392</td>\n",
       "      <td>0.000042</td>\n",
       "      <td>0.95</td>\n",
       "    </tr>\n",
       "    <tr>\n",
       "      <td>2</td>\n",
       "      <td>0</td>\n",
       "      <td>2</td>\n",
       "      <td>fishing</td>\n",
       "      <td>1.163836</td>\n",
       "      <td>2</td>\n",
       "      <td>0</td>\n",
       "      <td>-0.1</td>\n",
       "      <td>1.046</td>\n",
       "      <td>1.150274</td>\n",
       "      <td>1.063836</td>\n",
       "      <td>1.053231</td>\n",
       "      <td>3.245041</td>\n",
       "      <td>3.074449</td>\n",
       "      <td>1.011790</td>\n",
       "      <td>0.007231</td>\n",
       "      <td>0.95</td>\n",
       "    </tr>\n",
       "    <tr>\n",
       "      <td>3</td>\n",
       "      <td>0</td>\n",
       "      <td>3</td>\n",
       "      <td>fishing</td>\n",
       "      <td>1.239123</td>\n",
       "      <td>3</td>\n",
       "      <td>0</td>\n",
       "      <td>-0.1</td>\n",
       "      <td>1.046</td>\n",
       "      <td>1.233678</td>\n",
       "      <td>1.139123</td>\n",
       "      <td>1.048698</td>\n",
       "      <td>2.301550</td>\n",
       "      <td>2.126114</td>\n",
       "      <td>1.004414</td>\n",
       "      <td>0.002698</td>\n",
       "      <td>0.95</td>\n",
       "    </tr>\n",
       "    <tr>\n",
       "      <td>4</td>\n",
       "      <td>0</td>\n",
       "      <td>4</td>\n",
       "      <td>fishing</td>\n",
       "      <td>1.292003</td>\n",
       "      <td>4</td>\n",
       "      <td>0</td>\n",
       "      <td>-0.1</td>\n",
       "      <td>1.046</td>\n",
       "      <td>1.323130</td>\n",
       "      <td>1.192003</td>\n",
       "      <td>1.030870</td>\n",
       "      <td>1.192003</td>\n",
       "      <td>1.030870</td>\n",
       "      <td>0.976475</td>\n",
       "      <td>-0.015130</td>\n",
       "      <td>0.95</td>\n",
       "    </tr>\n",
       "    <tr>\n",
       "      <td>5</td>\n",
       "      <td>1</td>\n",
       "      <td>0</td>\n",
       "      <td>hammock</td>\n",
       "      <td>NaN</td>\n",
       "      <td>0</td>\n",
       "      <td>0</td>\n",
       "      <td>-0.1</td>\n",
       "      <td>1.046</td>\n",
       "      <td>1.000000</td>\n",
       "      <td>0.881015</td>\n",
       "      <td>1.056596</td>\n",
       "      <td>4.721424</td>\n",
       "      <td>4.743221</td>\n",
       "      <td>0.981015</td>\n",
       "      <td>0.010596</td>\n",
       "      <td>0.95</td>\n",
       "    </tr>\n",
       "    <tr>\n",
       "      <td>6</td>\n",
       "      <td>1</td>\n",
       "      <td>1</td>\n",
       "      <td>hammock</td>\n",
       "      <td>NaN</td>\n",
       "      <td>0</td>\n",
       "      <td>0</td>\n",
       "      <td>-0.1</td>\n",
       "      <td>1.046</td>\n",
       "      <td>1.000000</td>\n",
       "      <td>0.921590</td>\n",
       "      <td>1.039141</td>\n",
       "      <td>3.768079</td>\n",
       "      <td>3.874017</td>\n",
       "      <td>1.021590</td>\n",
       "      <td>-0.006859</td>\n",
       "      <td>0.95</td>\n",
       "    </tr>\n",
       "    <tr>\n",
       "      <td>7</td>\n",
       "      <td>1</td>\n",
       "      <td>2</td>\n",
       "      <td>hammock</td>\n",
       "      <td>NaN</td>\n",
       "      <td>0</td>\n",
       "      <td>0</td>\n",
       "      <td>-0.1</td>\n",
       "      <td>1.046</td>\n",
       "      <td>1.000000</td>\n",
       "      <td>0.899238</td>\n",
       "      <td>1.052078</td>\n",
       "      <td>2.836852</td>\n",
       "      <td>2.989693</td>\n",
       "      <td>0.999238</td>\n",
       "      <td>0.006078</td>\n",
       "      <td>0.95</td>\n",
       "    </tr>\n",
       "    <tr>\n",
       "      <td>8</td>\n",
       "      <td>1</td>\n",
       "      <td>3</td>\n",
       "      <td>hammock</td>\n",
       "      <td>NaN</td>\n",
       "      <td>0</td>\n",
       "      <td>0</td>\n",
       "      <td>-0.1</td>\n",
       "      <td>1.046</td>\n",
       "      <td>1.000000</td>\n",
       "      <td>0.893793</td>\n",
       "      <td>1.038037</td>\n",
       "      <td>1.887530</td>\n",
       "      <td>2.031775</td>\n",
       "      <td>0.993793</td>\n",
       "      <td>-0.007963</td>\n",
       "      <td>0.95</td>\n",
       "    </tr>\n",
       "    <tr>\n",
       "      <td>9</td>\n",
       "      <td>1</td>\n",
       "      <td>4</td>\n",
       "      <td>hammock</td>\n",
       "      <td>NaN</td>\n",
       "      <td>0</td>\n",
       "      <td>0</td>\n",
       "      <td>-0.1</td>\n",
       "      <td>1.046</td>\n",
       "      <td>1.000000</td>\n",
       "      <td>0.912283</td>\n",
       "      <td>1.052177</td>\n",
       "      <td>0.912283</td>\n",
       "      <td>1.052177</td>\n",
       "      <td>1.012283</td>\n",
       "      <td>0.006177</td>\n",
       "      <td>0.95</td>\n",
       "    </tr>\n",
       "  </tbody>\n",
       "</table>\n",
       "</div>"
      ],
      "text/plain": [
       "   Identifier  Period   Choice      Wage  Experience_Fishing  Type  \\\n",
       "0           0       0  fishing  1.007197                   0     0   \n",
       "1           0       1  fishing  1.082581                   1     0   \n",
       "2           0       2  fishing  1.163836                   2     0   \n",
       "3           0       3  fishing  1.239123                   3     0   \n",
       "4           0       4  fishing  1.292003                   4     0   \n",
       "5           1       0  hammock       NaN                   0     0   \n",
       "6           1       1  hammock       NaN                   0     0   \n",
       "7           1       2  hammock       NaN                   0     0   \n",
       "8           1       3  hammock       NaN                   0     0   \n",
       "9           1       4  hammock       NaN                   0     0   \n",
       "\n",
       "   Nonpecuniary_Reward_Fishing  Nonpecuniary_Reward_Hammock  Wage_Fishing  \\\n",
       "0                         -0.1                        1.046      1.000000   \n",
       "1                         -0.1                        1.046      1.072508   \n",
       "2                         -0.1                        1.046      1.150274   \n",
       "3                         -0.1                        1.046      1.233678   \n",
       "4                         -0.1                        1.046      1.323130   \n",
       "5                         -0.1                        1.046      1.000000   \n",
       "6                         -0.1                        1.046      1.000000   \n",
       "7                         -0.1                        1.046      1.000000   \n",
       "8                         -0.1                        1.046      1.000000   \n",
       "9                         -0.1                        1.046      1.000000   \n",
       "\n",
       "   Flow_Utility_Fishing  Flow_Utility_Hammock  Value_Function_Fishing  \\\n",
       "0              0.907197              1.056305                4.747606   \n",
       "1              0.982581              1.046042                4.052627   \n",
       "2              1.063836              1.053231                3.245041   \n",
       "3              1.139123              1.048698                2.301550   \n",
       "4              1.192003              1.030870                1.192003   \n",
       "5              0.881015              1.056596                4.721424   \n",
       "6              0.921590              1.039141                3.768079   \n",
       "7              0.899238              1.052078                2.836852   \n",
       "8              0.893793              1.038037                1.887530   \n",
       "9              0.912283              1.052177                0.912283   \n",
       "\n",
       "   Value_Function_Hammock  Shock_Reward_Fishing  Shock_Reward_Hammock  \\\n",
       "0                4.742931              1.007197              0.010305   \n",
       "1                3.892530              1.009392              0.000042   \n",
       "2                3.074449              1.011790              0.007231   \n",
       "3                2.126114              1.004414              0.002698   \n",
       "4                1.030870              0.976475             -0.015130   \n",
       "5                4.743221              0.981015              0.010596   \n",
       "6                3.874017              1.021590             -0.006859   \n",
       "7                2.989693              0.999238              0.006078   \n",
       "8                2.031775              0.993793             -0.007963   \n",
       "9                1.052177              1.012283              0.006177   \n",
       "\n",
       "   Discount_Rate  \n",
       "0           0.95  \n",
       "1           0.95  \n",
       "2           0.95  \n",
       "3           0.95  \n",
       "4           0.95  \n",
       "5           0.95  \n",
       "6           0.95  \n",
       "7           0.95  \n",
       "8           0.95  \n",
       "9           0.95  "
      ]
     },
     "execution_count": 6,
     "metadata": {},
     "output_type": "execute_result"
    }
   ],
   "source": [
    "data_obs.head(10)"
   ]
  },
  {
   "cell_type": "markdown",
   "metadata": {},
   "source": [
    "## Data Moments\n",
    "\n",
    "For the setup of the estimation we first have to choose a set of moments that we will use to match the observed data and the simulated model. For this model we include two sets of moments: \n",
    "\n",
    "1. The first set are Robinson's **choice frequencies** (choice frequencies here refers to the share of agents that have chosen a specific option) for each period. \n",
    "2. The second set are moments that characterize the **wage distribution** for each period, i.e. the mean of the wage of all agents that have chosen fishing in a given period and the standard deviation of the wages. "
   ]
  },
  {
   "cell_type": "markdown",
   "metadata": {},
   "source": [
    "In addition to the data, we need the complete set of potential choice options for Robinson. Respy lets us extract them from the model parameters and options."
   ]
  },
  {
   "cell_type": "code",
   "execution_count": 7,
   "metadata": {},
   "outputs": [],
   "source": [
    "optim_paras = process_params_and_options(params_true, options)[0]\n",
    "choice_options_robinson = optim_paras[\"choices\"].keys()"
   ]
  },
  {
   "cell_type": "markdown",
   "metadata": {},
   "source": [
    "We need a function that computes the set of moments on the observed and simulated data."
   ]
  },
  {
   "cell_type": "code",
   "execution_count": 8,
   "metadata": {},
   "outputs": [],
   "source": [
    "def get_moments(df, choice_options):\n",
    "\n",
    "    periods = sorted(df['Period'].unique())\n",
    "\n",
    "    moments_dict = {}\n",
    "\n",
    "    # 1. Choice frequencies for each period and each choice option\n",
    "    info_period = df.groupby(['Period'])['Choice'].value_counts(normalize=True).to_dict()\n",
    "    \n",
    "    # During optimization we might have no one spending time\n",
    "    # in the hammock.\n",
    "    info_period = defaultdict(lambda: 0.00, info_period)\n",
    "\n",
    "    choices_dict = dict.fromkeys(periods)\n",
    "    for period in periods:\n",
    "        choice_proba = []\n",
    "        for choice in choice_options:\n",
    "            choice_proba.append(info_period[(period, choice)])   \n",
    "        choices_dict[period] = choice_proba  \n",
    "\n",
    "    moments_dict['Choice Frequencies'] = choices_dict\n",
    "    \n",
    "    # 2. Wage Distribution    \n",
    "    info_period = df.groupby(['Period'])['Wage'].describe() \n",
    "    wages_dict = dict.fromkeys(periods)\n",
    "    for period in periods:                \n",
    "        wages_dict[period] = info_period.loc[period, ['mean', 'std']].to_list()\n",
    "        wages_dict[period] = [i for i in wages_dict[period] if str(i) != 'nan']\n",
    "        \n",
    "    # Add wage dictionaryto  moments dict.\n",
    "    moments_dict['Wage Distribution'] = wages_dict\n",
    "    \n",
    "    return moments_dict"
   ]
  },
  {
   "cell_type": "markdown",
   "metadata": {},
   "source": [
    "Now we are ready to calculate the moments."
   ]
  },
  {
   "cell_type": "code",
   "execution_count": 9,
   "metadata": {},
   "outputs": [
    {
     "name": "stdout",
     "output_type": "stream",
     "text": [
      "Choice Frequencies\n",
      "{0: [0.695, 0.305], 1: [0.695, 0.305], 2: [0.695, 0.305], 3: [0.695, 0.305], 4: [0.695, 0.305]}\n",
      "\n",
      " Wage Distribution\n",
      "{0: [1.0031151638841938, 0.009307308674332144], 1: [1.072281554697441, 0.011004518604175825], 2: [1.1507731648868074, 0.011728243782970382], 3: [1.2327387643777055, 0.012045181928479797], 4: [1.322862242193345, 0.012440569842889777]}\n"
     ]
    }
   ],
   "source": [
    "moments_obs = get_moments(data_obs, choice_options_robinson)\n",
    "print('Choice Frequencies')\n",
    "print(moments_obs['Choice Frequencies'])\n",
    "print('\\n Wage Distribution')\n",
    "print(moments_obs['Wage Distribution'])"
   ]
  },
  {
   "cell_type": "markdown",
   "metadata": {},
   "source": [
    "## Weighting Matrix"
   ]
  },
  {
   "cell_type": "markdown",
   "metadata": {},
   "source": [
    "Next we specify a weighting matrix. It needs to be a square matrix with the same number of diagonal elements as there are moments. One option would be to use the identity matrix, but we use a weighting matrix that adjusts for the variance of each moment. The variances for the moments are constructed using a bootstrapping procedure. "
   ]
  },
  {
   "cell_type": "code",
   "execution_count": 10,
   "metadata": {},
   "outputs": [],
   "source": [
    "def get_weighting_matrix(df_base, choice_options, num_boots, num_agents_smm):\n",
    "    \"\"\"This function constructs the weighing matrix.\"\"\"\n",
    "    # Ensure reproducibility\n",
    "    np.random.seed(123)\n",
    "\n",
    "    # Distribute clear baseline information.\n",
    "    index_base = df_base['Identifier'].unique()\n",
    "    moments_base = get_moments(df_base, choice_options)\n",
    "\n",
    "    # Initialize counters to keep track of attempts.\n",
    "    moments_sample = list()\n",
    "\n",
    "    for _ in range(num_boots):\n",
    "        sample_ids = np.random.choice(index_base, num_agents_smm, replace=False)\n",
    "        moments_boot = get_moments(df_base.loc[sample_ids, :], choice_options)\n",
    "        moments_sample.append(moments_boot)\n",
    "\n",
    "    # Construct the weighing matrix based on the sampled moments.\n",
    "    stats = []\n",
    "    for moments_boot in moments_sample:\n",
    "        stats.append(moments_dict_to_list(moments_boot))\n",
    "    moments_var = np.array(stats).T.var(axis=1)\n",
    "\n",
    "    return np.diag(moments_var ** (-1))"
   ]
  },
  {
   "cell_type": "code",
   "execution_count": 11,
   "metadata": {},
   "outputs": [],
   "source": [
    "W = get_weighting_matrix(data_obs, choice_options_robinson, 300, 500)"
   ]
  },
  {
   "cell_type": "code",
   "execution_count": 12,
   "metadata": {},
   "outputs": [
    {
     "data": {
      "text/html": [
       "<div>\n",
       "<style scoped>\n",
       "    .dataframe tbody tr th:only-of-type {\n",
       "        vertical-align: middle;\n",
       "    }\n",
       "\n",
       "    .dataframe tbody tr th {\n",
       "        vertical-align: top;\n",
       "    }\n",
       "\n",
       "    .dataframe thead th {\n",
       "        text-align: right;\n",
       "    }\n",
       "</style>\n",
       "<table border=\"1\" class=\"dataframe\">\n",
       "  <thead>\n",
       "    <tr style=\"text-align: right;\">\n",
       "      <th></th>\n",
       "      <th>0</th>\n",
       "      <th>1</th>\n",
       "      <th>2</th>\n",
       "      <th>3</th>\n",
       "      <th>4</th>\n",
       "      <th>5</th>\n",
       "      <th>6</th>\n",
       "      <th>7</th>\n",
       "      <th>8</th>\n",
       "      <th>9</th>\n",
       "      <th>10</th>\n",
       "      <th>11</th>\n",
       "      <th>12</th>\n",
       "      <th>13</th>\n",
       "      <th>14</th>\n",
       "      <th>15</th>\n",
       "      <th>16</th>\n",
       "      <th>17</th>\n",
       "      <th>18</th>\n",
       "      <th>19</th>\n",
       "    </tr>\n",
       "  </thead>\n",
       "  <tbody>\n",
       "    <tr>\n",
       "      <td>0</td>\n",
       "      <td>958.873438</td>\n",
       "      <td>0.000000</td>\n",
       "      <td>0.000000</td>\n",
       "      <td>0.000000</td>\n",
       "      <td>0.000000</td>\n",
       "      <td>0.000000</td>\n",
       "      <td>0.000000</td>\n",
       "      <td>0.000000</td>\n",
       "      <td>0.000000</td>\n",
       "      <td>0.000000</td>\n",
       "      <td>0.000000e+00</td>\n",
       "      <td>0.000000e+00</td>\n",
       "      <td>0.000000e+00</td>\n",
       "      <td>0.000000e+00</td>\n",
       "      <td>0.000000e+00</td>\n",
       "      <td>0.000000e+00</td>\n",
       "      <td>0.000000e+00</td>\n",
       "      <td>0.000000e+00</td>\n",
       "      <td>0.000000e+00</td>\n",
       "      <td>0.000000e+00</td>\n",
       "    </tr>\n",
       "    <tr>\n",
       "      <td>1</td>\n",
       "      <td>0.000000</td>\n",
       "      <td>958.873438</td>\n",
       "      <td>0.000000</td>\n",
       "      <td>0.000000</td>\n",
       "      <td>0.000000</td>\n",
       "      <td>0.000000</td>\n",
       "      <td>0.000000</td>\n",
       "      <td>0.000000</td>\n",
       "      <td>0.000000</td>\n",
       "      <td>0.000000</td>\n",
       "      <td>0.000000e+00</td>\n",
       "      <td>0.000000e+00</td>\n",
       "      <td>0.000000e+00</td>\n",
       "      <td>0.000000e+00</td>\n",
       "      <td>0.000000e+00</td>\n",
       "      <td>0.000000e+00</td>\n",
       "      <td>0.000000e+00</td>\n",
       "      <td>0.000000e+00</td>\n",
       "      <td>0.000000e+00</td>\n",
       "      <td>0.000000e+00</td>\n",
       "    </tr>\n",
       "    <tr>\n",
       "      <td>2</td>\n",
       "      <td>0.000000</td>\n",
       "      <td>0.000000</td>\n",
       "      <td>1086.536189</td>\n",
       "      <td>0.000000</td>\n",
       "      <td>0.000000</td>\n",
       "      <td>0.000000</td>\n",
       "      <td>0.000000</td>\n",
       "      <td>0.000000</td>\n",
       "      <td>0.000000</td>\n",
       "      <td>0.000000</td>\n",
       "      <td>0.000000e+00</td>\n",
       "      <td>0.000000e+00</td>\n",
       "      <td>0.000000e+00</td>\n",
       "      <td>0.000000e+00</td>\n",
       "      <td>0.000000e+00</td>\n",
       "      <td>0.000000e+00</td>\n",
       "      <td>0.000000e+00</td>\n",
       "      <td>0.000000e+00</td>\n",
       "      <td>0.000000e+00</td>\n",
       "      <td>0.000000e+00</td>\n",
       "    </tr>\n",
       "    <tr>\n",
       "      <td>3</td>\n",
       "      <td>0.000000</td>\n",
       "      <td>0.000000</td>\n",
       "      <td>0.000000</td>\n",
       "      <td>1086.536189</td>\n",
       "      <td>0.000000</td>\n",
       "      <td>0.000000</td>\n",
       "      <td>0.000000</td>\n",
       "      <td>0.000000</td>\n",
       "      <td>0.000000</td>\n",
       "      <td>0.000000</td>\n",
       "      <td>0.000000e+00</td>\n",
       "      <td>0.000000e+00</td>\n",
       "      <td>0.000000e+00</td>\n",
       "      <td>0.000000e+00</td>\n",
       "      <td>0.000000e+00</td>\n",
       "      <td>0.000000e+00</td>\n",
       "      <td>0.000000e+00</td>\n",
       "      <td>0.000000e+00</td>\n",
       "      <td>0.000000e+00</td>\n",
       "      <td>0.000000e+00</td>\n",
       "    </tr>\n",
       "    <tr>\n",
       "      <td>4</td>\n",
       "      <td>0.000000</td>\n",
       "      <td>0.000000</td>\n",
       "      <td>0.000000</td>\n",
       "      <td>0.000000</td>\n",
       "      <td>896.793382</td>\n",
       "      <td>0.000000</td>\n",
       "      <td>0.000000</td>\n",
       "      <td>0.000000</td>\n",
       "      <td>0.000000</td>\n",
       "      <td>0.000000</td>\n",
       "      <td>0.000000e+00</td>\n",
       "      <td>0.000000e+00</td>\n",
       "      <td>0.000000e+00</td>\n",
       "      <td>0.000000e+00</td>\n",
       "      <td>0.000000e+00</td>\n",
       "      <td>0.000000e+00</td>\n",
       "      <td>0.000000e+00</td>\n",
       "      <td>0.000000e+00</td>\n",
       "      <td>0.000000e+00</td>\n",
       "      <td>0.000000e+00</td>\n",
       "    </tr>\n",
       "    <tr>\n",
       "      <td>5</td>\n",
       "      <td>0.000000</td>\n",
       "      <td>0.000000</td>\n",
       "      <td>0.000000</td>\n",
       "      <td>0.000000</td>\n",
       "      <td>0.000000</td>\n",
       "      <td>896.793382</td>\n",
       "      <td>0.000000</td>\n",
       "      <td>0.000000</td>\n",
       "      <td>0.000000</td>\n",
       "      <td>0.000000</td>\n",
       "      <td>0.000000e+00</td>\n",
       "      <td>0.000000e+00</td>\n",
       "      <td>0.000000e+00</td>\n",
       "      <td>0.000000e+00</td>\n",
       "      <td>0.000000e+00</td>\n",
       "      <td>0.000000e+00</td>\n",
       "      <td>0.000000e+00</td>\n",
       "      <td>0.000000e+00</td>\n",
       "      <td>0.000000e+00</td>\n",
       "      <td>0.000000e+00</td>\n",
       "    </tr>\n",
       "    <tr>\n",
       "      <td>6</td>\n",
       "      <td>0.000000</td>\n",
       "      <td>0.000000</td>\n",
       "      <td>0.000000</td>\n",
       "      <td>0.000000</td>\n",
       "      <td>0.000000</td>\n",
       "      <td>0.000000</td>\n",
       "      <td>948.297746</td>\n",
       "      <td>0.000000</td>\n",
       "      <td>0.000000</td>\n",
       "      <td>0.000000</td>\n",
       "      <td>0.000000e+00</td>\n",
       "      <td>0.000000e+00</td>\n",
       "      <td>0.000000e+00</td>\n",
       "      <td>0.000000e+00</td>\n",
       "      <td>0.000000e+00</td>\n",
       "      <td>0.000000e+00</td>\n",
       "      <td>0.000000e+00</td>\n",
       "      <td>0.000000e+00</td>\n",
       "      <td>0.000000e+00</td>\n",
       "      <td>0.000000e+00</td>\n",
       "    </tr>\n",
       "    <tr>\n",
       "      <td>7</td>\n",
       "      <td>0.000000</td>\n",
       "      <td>0.000000</td>\n",
       "      <td>0.000000</td>\n",
       "      <td>0.000000</td>\n",
       "      <td>0.000000</td>\n",
       "      <td>0.000000</td>\n",
       "      <td>0.000000</td>\n",
       "      <td>948.297746</td>\n",
       "      <td>0.000000</td>\n",
       "      <td>0.000000</td>\n",
       "      <td>0.000000e+00</td>\n",
       "      <td>0.000000e+00</td>\n",
       "      <td>0.000000e+00</td>\n",
       "      <td>0.000000e+00</td>\n",
       "      <td>0.000000e+00</td>\n",
       "      <td>0.000000e+00</td>\n",
       "      <td>0.000000e+00</td>\n",
       "      <td>0.000000e+00</td>\n",
       "      <td>0.000000e+00</td>\n",
       "      <td>0.000000e+00</td>\n",
       "    </tr>\n",
       "    <tr>\n",
       "      <td>8</td>\n",
       "      <td>0.000000</td>\n",
       "      <td>0.000000</td>\n",
       "      <td>0.000000</td>\n",
       "      <td>0.000000</td>\n",
       "      <td>0.000000</td>\n",
       "      <td>0.000000</td>\n",
       "      <td>0.000000</td>\n",
       "      <td>0.000000</td>\n",
       "      <td>930.906216</td>\n",
       "      <td>0.000000</td>\n",
       "      <td>0.000000e+00</td>\n",
       "      <td>0.000000e+00</td>\n",
       "      <td>0.000000e+00</td>\n",
       "      <td>0.000000e+00</td>\n",
       "      <td>0.000000e+00</td>\n",
       "      <td>0.000000e+00</td>\n",
       "      <td>0.000000e+00</td>\n",
       "      <td>0.000000e+00</td>\n",
       "      <td>0.000000e+00</td>\n",
       "      <td>0.000000e+00</td>\n",
       "    </tr>\n",
       "    <tr>\n",
       "      <td>9</td>\n",
       "      <td>0.000000</td>\n",
       "      <td>0.000000</td>\n",
       "      <td>0.000000</td>\n",
       "      <td>0.000000</td>\n",
       "      <td>0.000000</td>\n",
       "      <td>0.000000</td>\n",
       "      <td>0.000000</td>\n",
       "      <td>0.000000</td>\n",
       "      <td>0.000000</td>\n",
       "      <td>930.906216</td>\n",
       "      <td>0.000000e+00</td>\n",
       "      <td>0.000000e+00</td>\n",
       "      <td>0.000000e+00</td>\n",
       "      <td>0.000000e+00</td>\n",
       "      <td>0.000000e+00</td>\n",
       "      <td>0.000000e+00</td>\n",
       "      <td>0.000000e+00</td>\n",
       "      <td>0.000000e+00</td>\n",
       "      <td>0.000000e+00</td>\n",
       "      <td>0.000000e+00</td>\n",
       "    </tr>\n",
       "    <tr>\n",
       "      <td>10</td>\n",
       "      <td>0.000000</td>\n",
       "      <td>0.000000</td>\n",
       "      <td>0.000000</td>\n",
       "      <td>0.000000</td>\n",
       "      <td>0.000000</td>\n",
       "      <td>0.000000</td>\n",
       "      <td>0.000000</td>\n",
       "      <td>0.000000</td>\n",
       "      <td>0.000000</td>\n",
       "      <td>0.000000</td>\n",
       "      <td>1.997104e+06</td>\n",
       "      <td>0.000000e+00</td>\n",
       "      <td>0.000000e+00</td>\n",
       "      <td>0.000000e+00</td>\n",
       "      <td>0.000000e+00</td>\n",
       "      <td>0.000000e+00</td>\n",
       "      <td>0.000000e+00</td>\n",
       "      <td>0.000000e+00</td>\n",
       "      <td>0.000000e+00</td>\n",
       "      <td>0.000000e+00</td>\n",
       "    </tr>\n",
       "    <tr>\n",
       "      <td>11</td>\n",
       "      <td>0.000000</td>\n",
       "      <td>0.000000</td>\n",
       "      <td>0.000000</td>\n",
       "      <td>0.000000</td>\n",
       "      <td>0.000000</td>\n",
       "      <td>0.000000</td>\n",
       "      <td>0.000000</td>\n",
       "      <td>0.000000</td>\n",
       "      <td>0.000000</td>\n",
       "      <td>0.000000</td>\n",
       "      <td>0.000000e+00</td>\n",
       "      <td>3.699871e+06</td>\n",
       "      <td>0.000000e+00</td>\n",
       "      <td>0.000000e+00</td>\n",
       "      <td>0.000000e+00</td>\n",
       "      <td>0.000000e+00</td>\n",
       "      <td>0.000000e+00</td>\n",
       "      <td>0.000000e+00</td>\n",
       "      <td>0.000000e+00</td>\n",
       "      <td>0.000000e+00</td>\n",
       "    </tr>\n",
       "    <tr>\n",
       "      <td>12</td>\n",
       "      <td>0.000000</td>\n",
       "      <td>0.000000</td>\n",
       "      <td>0.000000</td>\n",
       "      <td>0.000000</td>\n",
       "      <td>0.000000</td>\n",
       "      <td>0.000000</td>\n",
       "      <td>0.000000</td>\n",
       "      <td>0.000000</td>\n",
       "      <td>0.000000</td>\n",
       "      <td>0.000000</td>\n",
       "      <td>0.000000e+00</td>\n",
       "      <td>0.000000e+00</td>\n",
       "      <td>1.514799e+06</td>\n",
       "      <td>0.000000e+00</td>\n",
       "      <td>0.000000e+00</td>\n",
       "      <td>0.000000e+00</td>\n",
       "      <td>0.000000e+00</td>\n",
       "      <td>0.000000e+00</td>\n",
       "      <td>0.000000e+00</td>\n",
       "      <td>0.000000e+00</td>\n",
       "    </tr>\n",
       "    <tr>\n",
       "      <td>13</td>\n",
       "      <td>0.000000</td>\n",
       "      <td>0.000000</td>\n",
       "      <td>0.000000</td>\n",
       "      <td>0.000000</td>\n",
       "      <td>0.000000</td>\n",
       "      <td>0.000000</td>\n",
       "      <td>0.000000</td>\n",
       "      <td>0.000000</td>\n",
       "      <td>0.000000</td>\n",
       "      <td>0.000000</td>\n",
       "      <td>0.000000e+00</td>\n",
       "      <td>0.000000e+00</td>\n",
       "      <td>0.000000e+00</td>\n",
       "      <td>2.789605e+06</td>\n",
       "      <td>0.000000e+00</td>\n",
       "      <td>0.000000e+00</td>\n",
       "      <td>0.000000e+00</td>\n",
       "      <td>0.000000e+00</td>\n",
       "      <td>0.000000e+00</td>\n",
       "      <td>0.000000e+00</td>\n",
       "    </tr>\n",
       "    <tr>\n",
       "      <td>14</td>\n",
       "      <td>0.000000</td>\n",
       "      <td>0.000000</td>\n",
       "      <td>0.000000</td>\n",
       "      <td>0.000000</td>\n",
       "      <td>0.000000</td>\n",
       "      <td>0.000000</td>\n",
       "      <td>0.000000</td>\n",
       "      <td>0.000000</td>\n",
       "      <td>0.000000</td>\n",
       "      <td>0.000000</td>\n",
       "      <td>0.000000e+00</td>\n",
       "      <td>0.000000e+00</td>\n",
       "      <td>0.000000e+00</td>\n",
       "      <td>0.000000e+00</td>\n",
       "      <td>1.006320e+06</td>\n",
       "      <td>0.000000e+00</td>\n",
       "      <td>0.000000e+00</td>\n",
       "      <td>0.000000e+00</td>\n",
       "      <td>0.000000e+00</td>\n",
       "      <td>0.000000e+00</td>\n",
       "    </tr>\n",
       "    <tr>\n",
       "      <td>15</td>\n",
       "      <td>0.000000</td>\n",
       "      <td>0.000000</td>\n",
       "      <td>0.000000</td>\n",
       "      <td>0.000000</td>\n",
       "      <td>0.000000</td>\n",
       "      <td>0.000000</td>\n",
       "      <td>0.000000</td>\n",
       "      <td>0.000000</td>\n",
       "      <td>0.000000</td>\n",
       "      <td>0.000000</td>\n",
       "      <td>0.000000e+00</td>\n",
       "      <td>0.000000e+00</td>\n",
       "      <td>0.000000e+00</td>\n",
       "      <td>0.000000e+00</td>\n",
       "      <td>0.000000e+00</td>\n",
       "      <td>1.938384e+06</td>\n",
       "      <td>0.000000e+00</td>\n",
       "      <td>0.000000e+00</td>\n",
       "      <td>0.000000e+00</td>\n",
       "      <td>0.000000e+00</td>\n",
       "    </tr>\n",
       "    <tr>\n",
       "      <td>16</td>\n",
       "      <td>0.000000</td>\n",
       "      <td>0.000000</td>\n",
       "      <td>0.000000</td>\n",
       "      <td>0.000000</td>\n",
       "      <td>0.000000</td>\n",
       "      <td>0.000000</td>\n",
       "      <td>0.000000</td>\n",
       "      <td>0.000000</td>\n",
       "      <td>0.000000</td>\n",
       "      <td>0.000000</td>\n",
       "      <td>0.000000e+00</td>\n",
       "      <td>0.000000e+00</td>\n",
       "      <td>0.000000e+00</td>\n",
       "      <td>0.000000e+00</td>\n",
       "      <td>0.000000e+00</td>\n",
       "      <td>0.000000e+00</td>\n",
       "      <td>1.025942e+06</td>\n",
       "      <td>0.000000e+00</td>\n",
       "      <td>0.000000e+00</td>\n",
       "      <td>0.000000e+00</td>\n",
       "    </tr>\n",
       "    <tr>\n",
       "      <td>17</td>\n",
       "      <td>0.000000</td>\n",
       "      <td>0.000000</td>\n",
       "      <td>0.000000</td>\n",
       "      <td>0.000000</td>\n",
       "      <td>0.000000</td>\n",
       "      <td>0.000000</td>\n",
       "      <td>0.000000</td>\n",
       "      <td>0.000000</td>\n",
       "      <td>0.000000</td>\n",
       "      <td>0.000000</td>\n",
       "      <td>0.000000e+00</td>\n",
       "      <td>0.000000e+00</td>\n",
       "      <td>0.000000e+00</td>\n",
       "      <td>0.000000e+00</td>\n",
       "      <td>0.000000e+00</td>\n",
       "      <td>0.000000e+00</td>\n",
       "      <td>0.000000e+00</td>\n",
       "      <td>2.687695e+06</td>\n",
       "      <td>0.000000e+00</td>\n",
       "      <td>0.000000e+00</td>\n",
       "    </tr>\n",
       "    <tr>\n",
       "      <td>18</td>\n",
       "      <td>0.000000</td>\n",
       "      <td>0.000000</td>\n",
       "      <td>0.000000</td>\n",
       "      <td>0.000000</td>\n",
       "      <td>0.000000</td>\n",
       "      <td>0.000000</td>\n",
       "      <td>0.000000</td>\n",
       "      <td>0.000000</td>\n",
       "      <td>0.000000</td>\n",
       "      <td>0.000000</td>\n",
       "      <td>0.000000e+00</td>\n",
       "      <td>0.000000e+00</td>\n",
       "      <td>0.000000e+00</td>\n",
       "      <td>0.000000e+00</td>\n",
       "      <td>0.000000e+00</td>\n",
       "      <td>0.000000e+00</td>\n",
       "      <td>0.000000e+00</td>\n",
       "      <td>0.000000e+00</td>\n",
       "      <td>1.044580e+06</td>\n",
       "      <td>0.000000e+00</td>\n",
       "    </tr>\n",
       "    <tr>\n",
       "      <td>19</td>\n",
       "      <td>0.000000</td>\n",
       "      <td>0.000000</td>\n",
       "      <td>0.000000</td>\n",
       "      <td>0.000000</td>\n",
       "      <td>0.000000</td>\n",
       "      <td>0.000000</td>\n",
       "      <td>0.000000</td>\n",
       "      <td>0.000000</td>\n",
       "      <td>0.000000</td>\n",
       "      <td>0.000000</td>\n",
       "      <td>0.000000e+00</td>\n",
       "      <td>0.000000e+00</td>\n",
       "      <td>0.000000e+00</td>\n",
       "      <td>0.000000e+00</td>\n",
       "      <td>0.000000e+00</td>\n",
       "      <td>0.000000e+00</td>\n",
       "      <td>0.000000e+00</td>\n",
       "      <td>0.000000e+00</td>\n",
       "      <td>0.000000e+00</td>\n",
       "      <td>1.367357e+06</td>\n",
       "    </tr>\n",
       "  </tbody>\n",
       "</table>\n",
       "</div>"
      ],
      "text/plain": [
       "             0           1            2            3           4           5  \\\n",
       "0   958.873438    0.000000     0.000000     0.000000    0.000000    0.000000   \n",
       "1     0.000000  958.873438     0.000000     0.000000    0.000000    0.000000   \n",
       "2     0.000000    0.000000  1086.536189     0.000000    0.000000    0.000000   \n",
       "3     0.000000    0.000000     0.000000  1086.536189    0.000000    0.000000   \n",
       "4     0.000000    0.000000     0.000000     0.000000  896.793382    0.000000   \n",
       "5     0.000000    0.000000     0.000000     0.000000    0.000000  896.793382   \n",
       "6     0.000000    0.000000     0.000000     0.000000    0.000000    0.000000   \n",
       "7     0.000000    0.000000     0.000000     0.000000    0.000000    0.000000   \n",
       "8     0.000000    0.000000     0.000000     0.000000    0.000000    0.000000   \n",
       "9     0.000000    0.000000     0.000000     0.000000    0.000000    0.000000   \n",
       "10    0.000000    0.000000     0.000000     0.000000    0.000000    0.000000   \n",
       "11    0.000000    0.000000     0.000000     0.000000    0.000000    0.000000   \n",
       "12    0.000000    0.000000     0.000000     0.000000    0.000000    0.000000   \n",
       "13    0.000000    0.000000     0.000000     0.000000    0.000000    0.000000   \n",
       "14    0.000000    0.000000     0.000000     0.000000    0.000000    0.000000   \n",
       "15    0.000000    0.000000     0.000000     0.000000    0.000000    0.000000   \n",
       "16    0.000000    0.000000     0.000000     0.000000    0.000000    0.000000   \n",
       "17    0.000000    0.000000     0.000000     0.000000    0.000000    0.000000   \n",
       "18    0.000000    0.000000     0.000000     0.000000    0.000000    0.000000   \n",
       "19    0.000000    0.000000     0.000000     0.000000    0.000000    0.000000   \n",
       "\n",
       "             6           7           8           9            10  \\\n",
       "0     0.000000    0.000000    0.000000    0.000000  0.000000e+00   \n",
       "1     0.000000    0.000000    0.000000    0.000000  0.000000e+00   \n",
       "2     0.000000    0.000000    0.000000    0.000000  0.000000e+00   \n",
       "3     0.000000    0.000000    0.000000    0.000000  0.000000e+00   \n",
       "4     0.000000    0.000000    0.000000    0.000000  0.000000e+00   \n",
       "5     0.000000    0.000000    0.000000    0.000000  0.000000e+00   \n",
       "6   948.297746    0.000000    0.000000    0.000000  0.000000e+00   \n",
       "7     0.000000  948.297746    0.000000    0.000000  0.000000e+00   \n",
       "8     0.000000    0.000000  930.906216    0.000000  0.000000e+00   \n",
       "9     0.000000    0.000000    0.000000  930.906216  0.000000e+00   \n",
       "10    0.000000    0.000000    0.000000    0.000000  1.997104e+06   \n",
       "11    0.000000    0.000000    0.000000    0.000000  0.000000e+00   \n",
       "12    0.000000    0.000000    0.000000    0.000000  0.000000e+00   \n",
       "13    0.000000    0.000000    0.000000    0.000000  0.000000e+00   \n",
       "14    0.000000    0.000000    0.000000    0.000000  0.000000e+00   \n",
       "15    0.000000    0.000000    0.000000    0.000000  0.000000e+00   \n",
       "16    0.000000    0.000000    0.000000    0.000000  0.000000e+00   \n",
       "17    0.000000    0.000000    0.000000    0.000000  0.000000e+00   \n",
       "18    0.000000    0.000000    0.000000    0.000000  0.000000e+00   \n",
       "19    0.000000    0.000000    0.000000    0.000000  0.000000e+00   \n",
       "\n",
       "              11            12            13            14            15  \\\n",
       "0   0.000000e+00  0.000000e+00  0.000000e+00  0.000000e+00  0.000000e+00   \n",
       "1   0.000000e+00  0.000000e+00  0.000000e+00  0.000000e+00  0.000000e+00   \n",
       "2   0.000000e+00  0.000000e+00  0.000000e+00  0.000000e+00  0.000000e+00   \n",
       "3   0.000000e+00  0.000000e+00  0.000000e+00  0.000000e+00  0.000000e+00   \n",
       "4   0.000000e+00  0.000000e+00  0.000000e+00  0.000000e+00  0.000000e+00   \n",
       "5   0.000000e+00  0.000000e+00  0.000000e+00  0.000000e+00  0.000000e+00   \n",
       "6   0.000000e+00  0.000000e+00  0.000000e+00  0.000000e+00  0.000000e+00   \n",
       "7   0.000000e+00  0.000000e+00  0.000000e+00  0.000000e+00  0.000000e+00   \n",
       "8   0.000000e+00  0.000000e+00  0.000000e+00  0.000000e+00  0.000000e+00   \n",
       "9   0.000000e+00  0.000000e+00  0.000000e+00  0.000000e+00  0.000000e+00   \n",
       "10  0.000000e+00  0.000000e+00  0.000000e+00  0.000000e+00  0.000000e+00   \n",
       "11  3.699871e+06  0.000000e+00  0.000000e+00  0.000000e+00  0.000000e+00   \n",
       "12  0.000000e+00  1.514799e+06  0.000000e+00  0.000000e+00  0.000000e+00   \n",
       "13  0.000000e+00  0.000000e+00  2.789605e+06  0.000000e+00  0.000000e+00   \n",
       "14  0.000000e+00  0.000000e+00  0.000000e+00  1.006320e+06  0.000000e+00   \n",
       "15  0.000000e+00  0.000000e+00  0.000000e+00  0.000000e+00  1.938384e+06   \n",
       "16  0.000000e+00  0.000000e+00  0.000000e+00  0.000000e+00  0.000000e+00   \n",
       "17  0.000000e+00  0.000000e+00  0.000000e+00  0.000000e+00  0.000000e+00   \n",
       "18  0.000000e+00  0.000000e+00  0.000000e+00  0.000000e+00  0.000000e+00   \n",
       "19  0.000000e+00  0.000000e+00  0.000000e+00  0.000000e+00  0.000000e+00   \n",
       "\n",
       "              16            17            18            19  \n",
       "0   0.000000e+00  0.000000e+00  0.000000e+00  0.000000e+00  \n",
       "1   0.000000e+00  0.000000e+00  0.000000e+00  0.000000e+00  \n",
       "2   0.000000e+00  0.000000e+00  0.000000e+00  0.000000e+00  \n",
       "3   0.000000e+00  0.000000e+00  0.000000e+00  0.000000e+00  \n",
       "4   0.000000e+00  0.000000e+00  0.000000e+00  0.000000e+00  \n",
       "5   0.000000e+00  0.000000e+00  0.000000e+00  0.000000e+00  \n",
       "6   0.000000e+00  0.000000e+00  0.000000e+00  0.000000e+00  \n",
       "7   0.000000e+00  0.000000e+00  0.000000e+00  0.000000e+00  \n",
       "8   0.000000e+00  0.000000e+00  0.000000e+00  0.000000e+00  \n",
       "9   0.000000e+00  0.000000e+00  0.000000e+00  0.000000e+00  \n",
       "10  0.000000e+00  0.000000e+00  0.000000e+00  0.000000e+00  \n",
       "11  0.000000e+00  0.000000e+00  0.000000e+00  0.000000e+00  \n",
       "12  0.000000e+00  0.000000e+00  0.000000e+00  0.000000e+00  \n",
       "13  0.000000e+00  0.000000e+00  0.000000e+00  0.000000e+00  \n",
       "14  0.000000e+00  0.000000e+00  0.000000e+00  0.000000e+00  \n",
       "15  0.000000e+00  0.000000e+00  0.000000e+00  0.000000e+00  \n",
       "16  1.025942e+06  0.000000e+00  0.000000e+00  0.000000e+00  \n",
       "17  0.000000e+00  2.687695e+06  0.000000e+00  0.000000e+00  \n",
       "18  0.000000e+00  0.000000e+00  1.044580e+06  0.000000e+00  \n",
       "19  0.000000e+00  0.000000e+00  0.000000e+00  1.367357e+06  "
      ]
     },
     "execution_count": 12,
     "metadata": {},
     "output_type": "execute_result"
    }
   ],
   "source": [
    "pd.DataFrame(W)"
   ]
  },
  {
   "cell_type": "markdown",
   "metadata": {},
   "source": [
    "## Criterion Function "
   ]
  },
  {
   "cell_type": "markdown",
   "metadata": {},
   "source": [
    "We have collected the observed data for our model, chosen the set of moments we want to use for estimation and defined a weighting matrix based on these moments. We can now set up the criterion function to use for estimation. \n",
    "\n",
    "As already discussed above, the criterion function is given by the weighted square product of the difference between observed moments $m(X)$ and simulated moments $m(\\hat{X}| \\theta)$. Trivially, if we have that $m(X) = m(\\hat{X}| \\theta)$, the criterion function returns a value of 0. Thus, the closer $\\theta$ is to the real parameter vector, the smaller should be the value for the criterion function. "
   ]
  },
  {
   "cell_type": "code",
   "execution_count": 13,
   "metadata": {},
   "outputs": [],
   "source": [
    "def criterion_smm(params_cand, options, weighting_matrix, moments_obs, choice_options):\n",
    "    params = params_cand.copy()\n",
    "    periods = range(options[\"n_periods\"])\n",
    "    num_moments = len(np.diag(weighting_matrix))\n",
    "\n",
    "    # Calculate simulated moments for model with candidate parameters.\n",
    "    simulate = rp.get_simulate_func(params, options)\n",
    "    df_sim = simulate(params)\n",
    "    moments_sim = get_moments(df_sim, choice_options)\n",
    "    \n",
    "    # Check whether candidate parameters are valid inputs.\n",
    "    stats_obs, stats_sim = [], []\n",
    "    for group in moments_sim.keys():\n",
    "        for period in periods:\n",
    "            stats_obs.extend(moments_obs[group][(period)])\n",
    "            stats_sim.extend(moments_sim[group][(period)])\n",
    "            \n",
    "    is_valid = len(stats_obs) == len(stats_sim) == num_moments\n",
    "    \n",
    "    # Calculate weigthed dot product of difference between real moments and \n",
    "    # simulated moments.\n",
    "    if is_valid:\n",
    "        moments_error = np.array(stats_obs) - np.array(stats_sim)\n",
    "        fval = moments_error @ weighting_matrix @ moments_error\n",
    "    else:\n",
    "        fval = 1000000\n",
    "        \n",
    "    return fval"
   ]
  },
  {
   "cell_type": "markdown",
   "metadata": {},
   "source": [
    "Criterion function at the true parameter vector:"
   ]
  },
  {
   "cell_type": "code",
   "execution_count": 14,
   "metadata": {},
   "outputs": [
    {
     "data": {
      "text/plain": [
       "0.0"
      ]
     },
     "execution_count": 14,
     "metadata": {},
     "output_type": "execute_result"
    }
   ],
   "source": [
    "fval = criterion_smm(params_true, options, W, moments_obs, choice_options_robinson)\n",
    "fval"
   ]
  },
  {
   "cell_type": "markdown",
   "metadata": {},
   "source": [
    "We can plot the criterion function to examine its behavior around the minimum in more detail. The plots below show the criterion function at varying values of all parameters in the the paramter vector."
   ]
  },
  {
   "cell_type": "code",
   "execution_count": 15,
   "metadata": {},
   "outputs": [
    {
     "data": {
      "image/png": "[encoded data removed]",
      "text/plain": [
       "<Figure size 432x288 with 1 Axes>"
      ]
     },
     "metadata": {
      "needs_background": "light"
     },
     "output_type": "display_data"
    },
    {
     "data": {
      "image/png": "[encoded data removed]",
      "text/plain": [
       "<Figure size 432x288 with 1 Axes>"
      ]
     },
     "metadata": {
      "needs_background": "light"
     },
     "output_type": "display_data"
    },
    {
     "data": {
      "image/png": "[encoded data removed]",
      "text/plain": [
       "<Figure size 432x288 with 1 Axes>"
      ]
     },
     "metadata": {
      "needs_background": "light"
     },
     "output_type": "display_data"
    },
    {
     "data": {
      "image/png": "[encoded data removed]",
      "text/plain": [
       "<Figure size 432x288 with 1 Axes>"
      ]
     },
     "metadata": {
      "needs_background": "light"
     },
     "output_type": "display_data"
    },
    {
     "data": {
      "image/png": "[encoded data removed]",
      "text/plain": [
       "<Figure size 432x288 with 1 Axes>"
      ]
     },
     "metadata": {
      "needs_background": "light"
     },
     "output_type": "display_data"
    },
    {
     "data": {
      "image/png": "[encoded data removed]",
      "text/plain": [
       "<Figure size 432x288 with 1 Axes>"
      ]
     },
     "metadata": {
      "needs_background": "light"
     },
     "output_type": "display_data"
    },
    {
     "data": {
      "image/png": "[encoded data removed]",
      "text/plain": [
       "<Figure size 432x288 with 1 Axes>"
      ]
     },
     "metadata": {
      "needs_background": "light"
     },
     "output_type": "display_data"
    }
   ],
   "source": [
    "criterion_args = [options, W, moments_obs, choice_options_robinson]\n",
    "plot_criterion_params(params_true, criterion_args, criterion_smm)"
   ]
  },
  {
   "cell_type": "markdown",
   "metadata": {},
   "source": [
    "This depiction conceals the fact that the criterion function is not a smooth function of our parameter values. We can reveal this property if we 'zoom into' the function far enough. The plots below show the criterion function for varying values of *delta* around the true minimum value of 0.95. We can see that the function exhibits small plateaus and is thus not completely smooth. "
   ]
  },
  {
   "cell_type": "code",
   "execution_count": 16,
   "metadata": {},
   "outputs": [
    {
     "data": {
      "image/png": "[encoded data removed]",
      "text/plain": [
       "<Figure size 432x288 with 1 Axes>"
      ]
     },
     "metadata": {
      "needs_background": "light"
     },
     "output_type": "display_data"
    },
    {
     "data": {
      "image/png": "[encoded data removed]",
      "text/plain": [
       "<Figure size 432x288 with 1 Axes>"
      ]
     },
     "metadata": {
      "needs_background": "light"
     },
     "output_type": "display_data"
    }
   ],
   "source": [
    "criterion_args = [options, W, moments_obs, choice_options_robinson]\n",
    "plot_criterion_detail(params_true, criterion_args, criterion_smm)"
   ]
  },
  {
   "cell_type": "markdown",
   "metadata": {},
   "source": [
    "##  Estimation Exercise"
   ]
  },
  {
   "cell_type": "markdown",
   "metadata": {},
   "source": [
    "In the following we will conduct a simulation exercise to estimate the parameter vector using our criterion function and weighting matrix. We will begin by simulating data using the new parameter vector and examine how the simulated moments differ from the observed ones. We will then use an optimizer to minimize the criterion function in order to retrieve the true parameter vector. Additionally, we will explore how the criterion function behaves if we change the simulation seed or misspecify the constraints by fixing parameters at the wrong values."
   ]
  },
  {
   "cell_type": "markdown",
   "metadata": {},
   "source": [
    "### Estimation for one parameter"
   ]
  },
  {
   "cell_type": "markdown",
   "metadata": {},
   "source": [
    "For now, our candidate parameter vector will just differ in *delta* from the true parameters."
   ]
  },
  {
   "cell_type": "code",
   "execution_count": 17,
   "metadata": {},
   "outputs": [],
   "source": [
    "# Define candidate parameter vector"
   ]
  },
  {
   "cell_type": "markdown",
   "metadata": {},
   "source": [
    "#### Simulated Moments"
   ]
  },
  {
   "cell_type": "markdown",
   "metadata": {},
   "source": [
    "We can now use our model to simulate data using the candidate parameter vector. We can see that the choice frequencies and wage distribution differ from the moments of the observed dataset."
   ]
  },
  {
   "cell_type": "code",
   "execution_count": 18,
   "metadata": {},
   "outputs": [],
   "source": [
    "# Simulate data and compute simulated moments"
   ]
  },
  {
   "cell_type": "markdown",
   "metadata": {},
   "source": [
    "We can plot the moments to compare the choice frequencies for each period."
   ]
  },
  {
   "cell_type": "code",
   "execution_count": 19,
   "metadata": {},
   "outputs": [],
   "source": [
    "#plot_moments_choices(moments_obs, moments_sim)"
   ]
  },
  {
   "cell_type": "markdown",
   "metadata": {},
   "source": [
    "The plots below show the mean and the standard deviation in the wages for each period."
   ]
  },
  {
   "cell_type": "code",
   "execution_count": 20,
   "metadata": {},
   "outputs": [],
   "source": [
    "#plot_moments_wage(moments_obs, moments_sim)"
   ]
  },
  {
   "cell_type": "markdown",
   "metadata": {},
   "source": [
    "The criterion function value for the candidate parameter vector is not zero."
   ]
  },
  {
   "cell_type": "code",
   "execution_count": 21,
   "metadata": {},
   "outputs": [],
   "source": [
    "# Criterion function for candidate parameter vector"
   ]
  },
  {
   "cell_type": "markdown",
   "metadata": {},
   "source": [
    "#### Optimization Procedure"
   ]
  },
  {
   "cell_type": "markdown",
   "metadata": {},
   "source": [
    "We will now use an optimization procedure to retrieve the true parameter vector. For the optimization we can use [estimagic](https://estimagic.readthedocs.io/en/latest/index.html). In order to minimize the criterion function we need estimagic's `minimize` function.\n",
    "\n"
   ]
  },
  {
   "cell_type": "code",
   "execution_count": 22,
   "metadata": {},
   "outputs": [],
   "source": [
    "from estimagic.optimization.optimize import minimize"
   ]
  },
  {
   "cell_type": "markdown",
   "metadata": {},
   "source": [
    "We have verified above that the criterion function gives a value of 0 for the true parameter vector. Before we try different parameter specifications, we can check whether an optimizer recognizes the true vector as the minimum of our criterion function."
   ]
  },
  {
   "cell_type": "code",
   "execution_count": 23,
   "metadata": {},
   "outputs": [],
   "source": [
    "# Save criterion function arguments in a dictionary to pass onto the optimzer.\n",
    "criterion_kwargs = dict()\n",
    "criterion_kwargs[\"weighting_matrix\"] = W\n",
    "criterion_kwargs[\"options\"] = options\n",
    "criterion_kwargs[\"choice_options\"] = list(choice_options_robinson)\n",
    "criterion_kwargs[\"moments_obs\"] = moments_obs"
   ]
  },
  {
   "cell_type": "markdown",
   "metadata": {},
   "source": [
    "As the code below shows, the optimization algorithm recognizes the true parameter vector as the minimum of the criterion function as it returns a function value of 0 and the true parameter values."
   ]
  },
  {
   "cell_type": "code",
   "execution_count": 24,
   "metadata": {},
   "outputs": [],
   "source": [
    "# Estimation with true parameter vector"
   ]
  },
  {
   "cell_type": "markdown",
   "metadata": {},
   "source": [
    "##### Upper and Lower Bounds"
   ]
  },
  {
   "cell_type": "markdown",
   "metadata": {},
   "source": [
    "We can help the optimizer by specifying bounds for the parameters. Since we know the true parameters in the case of this model, we can just pick upper and lower bounds that are fairly close to the true values of the parameters to aid the optimizer in the search for the optimum. By default, the upper and lower bounds are set to $\\infty$ and $-\\infty$, so specifying upper and lower bounds substantially reduces the range of parameter values that the optimizer can potentially cover.\n",
    "\n",
    "For optimization with estimagic, we can specify bounds by adding the columns *'lower'* and *'upper'* to the dataframe that contains the parameter values."
   ]
  },
  {
   "cell_type": "code",
   "execution_count": 25,
   "metadata": {},
   "outputs": [],
   "source": [
    "# params_cand['lower'] = [0.89, 0.066, -0.11, 1.04, 0, 0, 0]\n",
    "# params_cand['upper'] = [0.98, 0.072, -0.095, 1.055, 0.1, 0.1, 0.1]\n",
    "# params_cand"
   ]
  },
  {
   "cell_type": "markdown",
   "metadata": {},
   "source": [
    "##### Constraints"
   ]
  },
  {
   "cell_type": "markdown",
   "metadata": {},
   "source": [
    "Additionally we hold all other parameters fixed for now to aid the optimizer in finding the optimal value for *delta*."
   ]
  },
  {
   "cell_type": "code",
   "execution_count": 26,
   "metadata": {},
   "outputs": [],
   "source": [
    "# Define base constraints to use for the rest of the notebook.\n",
    "constr_base = [\n",
    "    {\"loc\": \"shocks_sdcorr\", \"type\": \"sdcorr\"}, \n",
    "    {\"loc\": \"delta\", \"type\": \"fixed\"},\n",
    "    {\"loc\": \"wage_fishing\", \"type\": \"fixed\"},\n",
    "    {\"loc\": \"nonpec_fishing\", \"type\": \"fixed\"},\n",
    "    {\"loc\": \"nonpec_hammock\", \"type\":\"fixed\"},\n",
    "    {\"loc\": \"shocks_sdcorr\", \"type\": \"fixed\"},\n",
    "]"
   ]
  },
  {
   "cell_type": "code",
   "execution_count": 27,
   "metadata": {},
   "outputs": [],
   "source": [
    "# Remove constraint for delta."
   ]
  },
  {
   "cell_type": "markdown",
   "metadata": {},
   "source": [
    "##### Optimize"
   ]
  },
  {
   "cell_type": "markdown",
   "metadata": {},
   "source": [
    "We can now optimize the criterion function with respect to the parameter vector. The optimizer manages to reach a function value of 0 and finds an approximately correct *delta* for our model. \n",
    "\n",
    "This exercise again reveals that we are dealing with a non-smooth criterion function. The optimizer does not return the exact value of 0.95 for *delta* because of the little plateaus we saw when zooming into the criterion function. As the plot shows, there is a small area around the true value for *delta* that also returns a function value of 0 and might thus be picked by the optimizer."
   ]
  },
  {
   "cell_type": "code",
   "execution_count": 28,
   "metadata": {},
   "outputs": [],
   "source": [
    "# rslt = minimize(criterion=criterion_smm,\n",
    "#                 params=params_cand,\n",
    "#                 algorithm=\"nlopt_bobyqa\",\n",
    "#                 constraints=constr,\n",
    "#                 criterion_kwargs=criterion_kwargs,\n",
    "#                )\n",
    "# rslt[0]"
   ]
  },
  {
   "cell_type": "markdown",
   "metadata": {},
   "source": [
    "### Chatter in the Criterion Function"
   ]
  },
  {
   "cell_type": "markdown",
   "metadata": {},
   "source": [
    "In this exercise we explore the sensitivity of the criterion function to the choice of simulation seed and number of agents."
   ]
  },
  {
   "cell_type": "markdown",
   "metadata": {},
   "source": [
    "#### Changing the Simulation Seed"
   ]
  },
  {
   "cell_type": "markdown",
   "metadata": {},
   "source": [
    "As shown above, the optimizer manages to find a function value of exactly 0 for the true parameter vector. This is the case because respy controls the realization of random elements in the simulation process via a simulation seed. The model thus always simulates the exact same dataset for a given parameter vector. Our criterion function becomes exactly 0 at the true parameter vector because for this vector, the observed and simulated data are identical.\n",
    "\n",
    "Changing the simulation seed results in simulated moments that, even for the true parameter vector, are never completely equal to the observed moments. "
   ]
  },
  {
   "cell_type": "markdown",
   "metadata": {},
   "source": [
    "Let's estimate the model with a different simulation seed."
   ]
  },
  {
   "cell_type": "code",
   "execution_count": 29,
   "metadata": {},
   "outputs": [],
   "source": [
    "# Change seed"
   ]
  },
  {
   "cell_type": "markdown",
   "metadata": {},
   "source": [
    "We can see that the criterion function is not exactly 0 anymore for the true parameter vector."
   ]
  },
  {
   "cell_type": "code",
   "execution_count": 30,
   "metadata": {},
   "outputs": [],
   "source": [
    "# Criterion function with new seed"
   ]
  },
  {
   "cell_type": "markdown",
   "metadata": {},
   "source": [
    "Our optimizer thus also does not return a function value of 0 for the true parameter vector."
   ]
  },
  {
   "cell_type": "code",
   "execution_count": 31,
   "metadata": {},
   "outputs": [],
   "source": [
    "# Change criterion_kwargs"
   ]
  },
  {
   "cell_type": "code",
   "execution_count": 32,
   "metadata": {},
   "outputs": [],
   "source": [
    "# Estimation using true parameter vector"
   ]
  },
  {
   "cell_type": "markdown",
   "metadata": {},
   "source": [
    "Since the optimizer does not even recognize the true parameter vector, it is also not able to reach a criterion function  value of 0 for a different parameter vector."
   ]
  },
  {
   "cell_type": "code",
   "execution_count": 33,
   "metadata": {},
   "outputs": [],
   "source": [
    "# Estimation using candidate parameter vector"
   ]
  },
  {
   "cell_type": "markdown",
   "metadata": {},
   "source": [
    "#### Multiple Simulation Seeds"
   ]
  },
  {
   "cell_type": "markdown",
   "metadata": {},
   "source": [
    "The section above shows what happens to the criterion function if we change the seed for simulating the data. In the sections below we will repeat this exercise for multiple seeds and explore what happens if we increase the number of simulated as well as observed agents in our model."
   ]
  },
  {
   "cell_type": "code",
   "execution_count": 34,
   "metadata": {},
   "outputs": [],
   "source": [
    "# List of seeds, includes true simulation seed of 132."
   ]
  },
  {
   "cell_type": "code",
   "execution_count": 35,
   "metadata": {},
   "outputs": [],
   "source": [
    "# Define other inputs for criterion function\n",
    "criterion_args = copy.deepcopy(criterion_kwargs)\n",
    "criterion_args['params'] = params_true.copy()"
   ]
  },
  {
   "cell_type": "markdown",
   "metadata": {},
   "source": [
    "The plot below shows the criterion function for different simulation seeds, including the true one. We can seed that different seeds lead to different fits between the simulated and observed data, with some seeds performing worse than others. Only the true seed leads to a function value of 0."
   ]
  },
  {
   "cell_type": "code",
   "execution_count": 36,
   "metadata": {
    "scrolled": true
   },
   "outputs": [],
   "source": [
    "#plot_chatter(seeds, criterion_smm, criterion_args)"
   ]
  },
  {
   "cell_type": "markdown",
   "metadata": {},
   "source": [
    "#### Changing the Simulation Seed for increasing Sample Size of Simulated Agents"
   ]
  },
  {
   "cell_type": "markdown",
   "metadata": {},
   "source": [
    "We now repeat this exercise for an increasing number of simulated agents. As the plot below shows, increasing the number of simulated agents reduces the chatter considerably but the criterion function remains consistently above zero. Only the simulated sample of 1000 agents at the true simulation seed reaches a function of zero, since, as discussed before, the simulated sample is identical to the observed one for this calibration."
   ]
  },
  {
   "cell_type": "code",
   "execution_count": 37,
   "metadata": {},
   "outputs": [],
   "source": [
    "# Changing the number of agents."
   ]
  },
  {
   "cell_type": "code",
   "execution_count": 38,
   "metadata": {},
   "outputs": [],
   "source": [
    "#plot_chatter_numagents_sim(seeds, num_agents, criterion_smm, criterion_args)"
   ]
  },
  {
   "cell_type": "markdown",
   "metadata": {},
   "source": [
    "#### Changing the Simulation Seed for increasing Sample Size of Simulated *and* Observed Agents"
   ]
  },
  {
   "cell_type": "markdown",
   "metadata": {},
   "source": [
    "We now increase not only the number of simulated agents but also the number of observed agents in our sample. Doing so decreases the chatter in the criterion function as before but also levels out the function around 0 for all simulation seeds. For large enough samples of observed and simulated agents the choice of simulation seed is thus irrelevant."
   ]
  },
  {
   "cell_type": "code",
   "execution_count": 39,
   "metadata": {},
   "outputs": [],
   "source": [
    "#plot_chatter_numagents_both(seeds, num_agents, get_moments, criterion_smm, criterion_args)"
   ]
  },
  {
   "cell_type": "markdown",
   "metadata": {},
   "source": [
    "*Note*: In contrast to the previous plot, we can see that the function reaches a value of 0 at the true simulation seed for all quantities of agents. This is the case because we now simultaneously increase the number of both simulated and observed agents while the observed sample remained untouched in the previous plot. Increasing the number of agents simultaneously for both groups creates identical samples for the true simulation seed at each quantity of agents. "
   ]
  },
  {
   "cell_type": "markdown",
   "metadata": {},
   "source": [
    "### Moving away from the Optimum"
   ]
  },
  {
   "cell_type": "markdown",
   "metadata": {},
   "source": [
    "For the next exercise we explore what happens to the criterion function if we move away from the optimum. We do this in a controlled fashion by changing the parameter values for *delta* and *wage_fishing* and fixing the latter in the constraints. Doing so should lead *delta* to move away from its optimal value of 0.95 during optimization."
   ]
  },
  {
   "cell_type": "code",
   "execution_count": 40,
   "metadata": {},
   "outputs": [],
   "source": [
    "# Change value for wage_fishing"
   ]
  },
  {
   "cell_type": "markdown",
   "metadata": {},
   "source": [
    "The optimizer cannot retrieve the true parameter and does not reach a value of 0."
   ]
  },
  {
   "cell_type": "code",
   "execution_count": 41,
   "metadata": {},
   "outputs": [],
   "source": [
    "# rslt_wrong_fix = minimize(criterion=criterion_smm,\n",
    "#                 params=params_cand,\n",
    "#                 algorithm=\"nlopt_bobyqa\",\n",
    "#                 constraints=constr,\n",
    "#                 criterion_kwargs=criterion_kwargs,\n",
    "# #              )\n",
    "# rslt_wrong_fix[0]"
   ]
  },
  {
   "cell_type": "markdown",
   "metadata": {},
   "source": [
    "#### Retrieving the true Parameter Vector"
   ]
  },
  {
   "cell_type": "markdown",
   "metadata": {},
   "source": [
    "We now repeat the estimation with the new parameter vector and free up *wage_fishing* to retrieve the optimal values for both parameters.\n",
    "\n",
    "The parameter for *wage_fishing* is still 0.072 since we fixed it for the prior estimation:"
   ]
  },
  {
   "cell_type": "code",
   "execution_count": 42,
   "metadata": {},
   "outputs": [],
   "source": [
    "# Copy parameters from last step"
   ]
  },
  {
   "cell_type": "markdown",
   "metadata": {},
   "source": [
    "We now free up *wage_fishing* in the constraints in addition to *delta*."
   ]
  },
  {
   "cell_type": "code",
   "execution_count": 43,
   "metadata": {},
   "outputs": [],
   "source": [
    "# Adjust constraints to free up both delta and wage_fishing."
   ]
  },
  {
   "cell_type": "markdown",
   "metadata": {},
   "source": [
    "Freeing up the non-optimal *wage_fishing* improves the estimates. The criterion function value is much closer to 0 and the optimizer manages to retrieve the true parameter values quite closely."
   ]
  },
  {
   "cell_type": "code",
   "execution_count": 44,
   "metadata": {},
   "outputs": [],
   "source": [
    "# rslt_unfix = minimize(criterion=criterion_smm,\n",
    "#                 params=params_cand,\n",
    "#                 algorithm=\"nlopt_bobyqa\",\n",
    "#                 constraints=constr_u,\n",
    "#                 criterion_kwargs=criterion_kwargs,\n",
    "#             )\n",
    "# rslt_unfix[0]"
   ]
  },
  {
   "cell_type": "markdown",
   "metadata": {},
   "source": [
    "For easier comparison, we can compute the difference between the true and estimated value:"
   ]
  },
  {
   "cell_type": "code",
   "execution_count": 45,
   "metadata": {},
   "outputs": [],
   "source": [
    "#deviation = params_true['value'] - rslt_unfix[1]['value']\n",
    "#deviation"
   ]
  },
  {
   "cell_type": "markdown",
   "metadata": {},
   "source": [
    "### Derivative-Based Optimization Algorithm"
   ]
  },
  {
   "cell_type": "markdown",
   "metadata": {},
   "source": [
    "So far we have used only one optimization algorithm to estimate the parameter vector. The algorithm we used, BOBYQA (Bound Optimization by Quadratic Approximation), is a derivative-free optimization algorithm which works fairly well on our criterion function. As discussed above, our criterion function is a step function that contains plateaus for certain ranges of parameter values. An important implication of this property is that we cannot calculate proper derivatives and thus derivative-based optimization algorithms will not work to estimate the parameters. \n",
    "\n",
    "To demonstrate this problem, we will now try to estimate the parameters using an optimization algorithm that does use derivatives during optimization."
   ]
  },
  {
   "cell_type": "code",
   "execution_count": 46,
   "metadata": {},
   "outputs": [],
   "source": [
    "# Define candidate parameter vector and constraints.\n",
    "params_cand = params_true.copy()\n",
    "params_cand.loc['delta','value'] = 0.93\n",
    "\n",
    "params_cand['lower'] = [0.89, 0.066, -0.11, 1.04, 0, 0, 0]\n",
    "params_cand['upper'] = [0.98, 0.072, -0.095, 1.055, 0.1, 0.1, 0.1]\n",
    "\n",
    "constr = constr_base.copy()\n",
    "constr.remove({\"loc\": \"delta\", \"type\": \"fixed\"})"
   ]
  },
  {
   "cell_type": "markdown",
   "metadata": {},
   "source": [
    "We try the L-BFGS-B (Limited-Memory-Broyden–Fletcher–Goldfarb–Shanno with box constraints) algorithm. As shown below, L-BFGS-B fails and the optimizer returns the same parameter vector that we used as an input. "
   ]
  },
  {
   "cell_type": "code",
   "execution_count": 47,
   "metadata": {},
   "outputs": [],
   "source": [
    "# rslt = minimize(criterion=criterion_smm,\n",
    "#                 params=params_cand,\n",
    "#                 algorithm=\"scipy_L-BFGS-B\",\n",
    "#                 constraints=constr,\n",
    "#                 criterion_kwargs=criterion_kwargs,\n",
    "#                )\n",
    "# rslt[0]"
   ]
  },
  {
   "cell_type": "markdown",
   "metadata": {},
   "source": [
    "## References"
   ]
  },
  {
   "cell_type": "markdown",
   "metadata": {},
   "source": [
    "* Adda, J., & Cooper, R. W. (2003). *Dynamic Economics: Quantitative Methods and Applications*. MIT press.\n",
    "\n",
    "\n",
    "* Adda, J., Dustmann, C., & Stevens, K. (2017). The Career Costs of Children. *Journal of Political Economy*, 125(2), 293-337.\n",
    "\n",
    "\n",
    "* Andrews, I., Gentzkow, M., & Shapiro, J. M. (2017). Measuring the Sensitivity of Parameter Estimates to Estimation Moments. *The Quarterly Journal of Economics*, 132(4), 1553-1592.\n",
    "\n",
    "\n",
    "* Bruins, M., Duffy, J. A., Keane, M. P., & Smith Jr, A. A. (2018). Generalized Indirect Inference for Discrete Choice Models. *Journal of econometrics*, 205(1), 177-203.\n",
    "\n",
    "\n",
    "* Davidson, R., & MacKinnon, J. G. (2004). *Econometric Theory and Methods (Vol. 5)*. New York: Oxford University Press.\n",
    "\n",
    "\n",
    "* Evans, R. W. (2018, July 5). Simulated Method of Moments (SMM) Estimation. Retrieved November 30, 2019, from https://notes.quantecon.org/submission/5b3db2ceb9eab00015b89f93.\n",
    "\n",
    "\n",
    "* Frazier, D. T., Oka, T., & Zhu, D. (2019). Indirect Inference with a Non-Smooth Criterion Function. *Journal of Econometrics*, 212(2), 623-645.\n",
    " \n",
    " \n",
    "* Gourieroux, M., & Monfort, D. A. (1996). *Simulation-based econometric methods*. Oxford university press.\n",
    "\n",
    "\n",
    "* McFadden, D. (1989). A Method of Simulated Moments for Estimation of Discrete Response Models without Numerical Integration. *Econometrica: Journal of the Econometric Society*, 995-1026."
   ]
  }
 ],
 "metadata": {
  "kernelspec": {
   "display_name": "Python 3",
   "language": "python",
   "name": "python3"
  },
  "language_info": {
   "codemirror_mode": {
    "name": "ipython",
    "version": 3
   },
   "file_extension": ".py",
   "mimetype": "text/x-python",
   "name": "python",
   "nbconvert_exporter": "python",
   "pygments_lexer": "ipython3",
   "version": "3.7.4"
  },
  "toc": {
   "base_numbering": 1,
   "nav_menu": {},
   "number_sections": true,
   "sideBar": true,
   "skip_h1_title": true,
   "title_cell": "Table of Contents",
   "title_sidebar": "Contents",
   "toc_cell": true,
   "toc_position": {
    "height": "476.7px",
    "left": "484px",
    "top": "131.8px",
    "width": "291.813px"
   },
   "toc_section_display": true,
   "toc_window_display": true
  },
  "varInspector": {
   "cols": {
    "lenName": 16,
    "lenType": 16,
    "lenVar": 40
   },
   "kernels_config": {
    "python": {
     "delete_cmd_postfix": "",
     "delete_cmd_prefix": "del ",
     "library": "var_list.py",
     "varRefreshCmd": "print(var_dic_list())"
    },
    "r": {
     "delete_cmd_postfix": ") ",
     "delete_cmd_prefix": "rm(",
     "library": "var_list.r",
     "varRefreshCmd": "cat(var_dic_list()) "
    }
   },
   "position": {
    "height": "355.4px",
    "left": "858.8px",
    "right": "20px",
    "top": "120px",
    "width": "527.4px"
   },
   "types_to_exclude": [
    "module",
    "function",
    "builtin_function_or_method",
    "instance",
    "_Feature"
   ],
   "window_display": false
  }
 },
 "nbformat": 4,
 "nbformat_minor": 4
}
