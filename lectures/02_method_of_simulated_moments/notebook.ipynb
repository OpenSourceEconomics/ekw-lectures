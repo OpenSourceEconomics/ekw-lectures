{
 "cells": [
  {
   "cell_type": "code",
   "execution_count": 103,
   "metadata": {
    "ExecuteTime": {
     "end_time": "2020-04-23T13:55:36.963634Z",
     "start_time": "2020-04-23T13:55:36.920966Z"
    }
   },
   "outputs": [
    {
     "name": "stdout",
     "output_type": "stream",
     "text": [
      "The autoreload extension is already loaded. To reload it, use:\n",
      "  %reload_ext autoreload\n"
     ]
    }
   ],
   "source": [
    "%matplotlib inline\n",
    "%load_ext autoreload\n",
    "%autoreload 2\n",
    "\n",
    "import os\n",
    "import yaml\n",
    "from collections import defaultdict\n",
    "import pickle as pkl\n",
    "import copy\n",
    "\n",
    "import numpy as np\n",
    "import pandas as pd\n",
    "import matplotlib.pyplot as plt\n",
    "\n",
    "import respy as rp\n",
    "\n",
    "from python.auxiliary_setup import *\n",
    "from python.auxiliary_weighting import *\n",
    "from python.auxiliary_plots import *"
   ]
  },
  {
   "cell_type": "markdown",
   "metadata": {
    "toc": true
   },
   "source": [
    "<h1>Table of Contents<span class=\"tocSkip\"></span></h1>\n",
    "<div class=\"toc\"><ul class=\"toc-item\"><li><span><a href=\"#Introduction\" data-toc-modified-id=\"Introduction-1\"><span class=\"toc-item-num\">1&nbsp;&nbsp;</span>Introduction</a></span></li><li><span><a href=\"#Observed-Data\" data-toc-modified-id=\"Observed-Data-2\"><span class=\"toc-item-num\">2&nbsp;&nbsp;</span>Observed Data</a></span></li><li><span><a href=\"#Data-Moments\" data-toc-modified-id=\"Data-Moments-3\"><span class=\"toc-item-num\">3&nbsp;&nbsp;</span>Data Moments</a></span></li><li><span><a href=\"#Weighting-Matrix\" data-toc-modified-id=\"Weighting-Matrix-4\"><span class=\"toc-item-num\">4&nbsp;&nbsp;</span>Weighting Matrix</a></span></li><li><span><a href=\"#Criterion-Function\" data-toc-modified-id=\"Criterion-Function-5\"><span class=\"toc-item-num\">5&nbsp;&nbsp;</span>Criterion Function</a></span></li><li><span><a href=\"#Estimation-Exercise\" data-toc-modified-id=\"Estimation-Exercise-6\"><span class=\"toc-item-num\">6&nbsp;&nbsp;</span>Estimation Exercise</a></span><ul class=\"toc-item\"><li><span><a href=\"#Estimation-for-one-parameter\" data-toc-modified-id=\"Estimation-for-one-parameter-6.1\"><span class=\"toc-item-num\">6.1&nbsp;&nbsp;</span>Estimation for one parameter</a></span><ul class=\"toc-item\"><li><span><a href=\"#Simulated-Moments\" data-toc-modified-id=\"Simulated-Moments-6.1.1\"><span class=\"toc-item-num\">6.1.1&nbsp;&nbsp;</span>Simulated Moments</a></span></li><li><span><a href=\"#Optimization-Procedure\" data-toc-modified-id=\"Optimization-Procedure-6.1.2\"><span class=\"toc-item-num\">6.1.2&nbsp;&nbsp;</span>Optimization Procedure</a></span><ul class=\"toc-item\"><li><span><a href=\"#Upper-and-Lower-Bounds\" data-toc-modified-id=\"Upper-and-Lower-Bounds-6.1.2.1\"><span class=\"toc-item-num\">6.1.2.1&nbsp;&nbsp;</span>Upper and Lower Bounds</a></span></li><li><span><a href=\"#Constraints\" data-toc-modified-id=\"Constraints-6.1.2.2\"><span class=\"toc-item-num\">6.1.2.2&nbsp;&nbsp;</span>Constraints</a></span></li><li><span><a href=\"#Optimize\" data-toc-modified-id=\"Optimize-6.1.2.3\"><span class=\"toc-item-num\">6.1.2.3&nbsp;&nbsp;</span>Optimize</a></span></li></ul></li></ul></li><li><span><a href=\"#Chatter-in-the-Criterion-Function\" data-toc-modified-id=\"Chatter-in-the-Criterion-Function-6.2\"><span class=\"toc-item-num\">6.2&nbsp;&nbsp;</span>Chatter in the Criterion Function</a></span><ul class=\"toc-item\"><li><span><a href=\"#Changing-the-Simulation-Seed\" data-toc-modified-id=\"Changing-the-Simulation-Seed-6.2.1\"><span class=\"toc-item-num\">6.2.1&nbsp;&nbsp;</span>Changing the Simulation Seed</a></span></li><li><span><a href=\"#Multiple-Simulation-Seeds\" data-toc-modified-id=\"Multiple-Simulation-Seeds-6.2.2\"><span class=\"toc-item-num\">6.2.2&nbsp;&nbsp;</span>Multiple Simulation Seeds</a></span></li><li><span><a href=\"#Changing-the-Simulation-Seed-for-increasing-Sample-Size-of-Simulated-Agents\" data-toc-modified-id=\"Changing-the-Simulation-Seed-for-increasing-Sample-Size-of-Simulated-Agents-6.2.3\"><span class=\"toc-item-num\">6.2.3&nbsp;&nbsp;</span>Changing the Simulation Seed for increasing Sample Size of Simulated Agents</a></span></li><li><span><a href=\"#Changing-the-Simulation-Seed-for-increasing-Sample-Size-of-Simulated-and-Observed-Agents\" data-toc-modified-id=\"Changing-the-Simulation-Seed-for-increasing-Sample-Size-of-Simulated-and-Observed-Agents-6.2.4\"><span class=\"toc-item-num\">6.2.4&nbsp;&nbsp;</span>Changing the Simulation Seed for increasing Sample Size of Simulated <em>and</em> Observed Agents</a></span></li></ul></li><li><span><a href=\"#Moving-away-from-the-Optimum\" data-toc-modified-id=\"Moving-away-from-the-Optimum-6.3\"><span class=\"toc-item-num\">6.3&nbsp;&nbsp;</span>Moving away from the Optimum</a></span><ul class=\"toc-item\"><li><span><a href=\"#Retrieving-the-true-Parameter-Vector\" data-toc-modified-id=\"Retrieving-the-true-Parameter-Vector-6.3.1\"><span class=\"toc-item-num\">6.3.1&nbsp;&nbsp;</span>Retrieving the true Parameter Vector</a></span></li></ul></li><li><span><a href=\"#Derivative-Based-Optimization-Algorithm\" data-toc-modified-id=\"Derivative-Based-Optimization-Algorithm-6.4\"><span class=\"toc-item-num\">6.4&nbsp;&nbsp;</span>Derivative-Based Optimization Algorithm</a></span></li></ul></li><li><span><a href=\"#References\" data-toc-modified-id=\"References-7\"><span class=\"toc-item-num\">7&nbsp;&nbsp;</span>References</a></span></li></ul></div>"
   ]
  },
  {
   "cell_type": "markdown",
   "metadata": {},
   "source": [
    "## Introduction\n",
    "\n",
    "The simulated method of moments approach to estimating model parameters is to minimize a certain distance between observed moments and simulated moments with respect to the parameters that generate the simulated model.\n",
    "\n",
    "Denote $X$ our observed data and $m(X)$ the vector of observed moments. To construct the criterion function, we use the parameter vector $\\theta$ to simulate data from the  model $\\hat{X}$. We can then calculate the simulated moments $m(\\hat{X}| \\theta)$.\n",
    "\n",
    "The criterion function is then given by \n",
    "\n",
    "\\begin{equation}\n",
    "\\psi(\\theta) = (m(X) - m(\\hat{X}| \\theta))'\\Omega(m(X) - m(\\hat{X}| \\theta))\n",
    "\\end{equation}\n",
    "\n",
    "where the difference between observed and simulated moments $(m(X) - m(\\hat{X}| \\theta))$ constitutes a vector of the dimension $1\\times M$ with $1,..,M$ denoting the number of moments. The $M\\times M$ weighting matrix is given by $\\Omega$. \n",
    "\n",
    "The SMM estimator is defined as the solution to \n",
    "\n",
    "\\begin{equation}\n",
    "\\hat{\\theta}(\\Omega) = \\underset{\\theta}{\\operatorname{argmin}} \\psi(\\theta).\n",
    "\\end{equation}\n",
    "\n",
    "The criterion function is thus a strictly positive scalar and the estimator depends on the choice of moments $m$ and the weighting matrix $\\Omega$. The weighting matrix applies some scaling for discrepancies between the observed and simulated moments. If we use the identity matrix, each moment is given equal weight and the criterion function reduces to the sum of squared moment deviations. \n",
    "\n",
    "Aside from the choice of moments and weighting matrix, some other important choices that influence the the estimation are the simulator itself and the algorithm and specifications for the optimization procedure. Many explanations for simulated method of moments estimation also feature the number of simulations as a factor that is to be determined for estimation. We can ignore this factor for now since we are working with a large simulated dataset.\n",
    "\n",
    "In the following we will set up the data, moments and weighting matrix needed to construct the criterion function and subsequently try to estimating the parameters of the model using this SMM setup."
   ]
  },
  {
   "cell_type": "markdown",
   "metadata": {},
   "source": [
    "##  Observed Data\n",
    "\n",
    "We generate our model and data using [respy](https://respy.readthedocs.io/en/latest/) and a simple Robinson Crusoe model. In this model, the agent, Robinson Crusoe, in each time period decides between two choice options: working (i.e. going fishing) or spending time in the hammock. \n",
    "\n",
    "We can use respy to simulate the data for this exercise."
   ]
  },
  {
   "cell_type": "code",
   "execution_count": 5,
   "metadata": {
    "ExecuteTime": {
     "end_time": "2020-04-23T11:58:37.133360Z",
     "start_time": "2020-04-23T11:58:37.098802Z"
    }
   },
   "outputs": [],
   "source": [
    "params_true, options = rp.get_example_model(\"robinson_crusoe_basic\", with_data=False)"
   ]
  },
  {
   "cell_type": "code",
   "execution_count": 6,
   "metadata": {
    "ExecuteTime": {
     "end_time": "2020-04-23T11:58:39.188807Z",
     "start_time": "2020-04-23T11:58:38.642799Z"
    }
   },
   "outputs": [],
   "source": [
    "# Generate observed data from model.\n",
    "simulate = rp.get_simulate_func(params_true, options)\n",
    "data_obs = simulate(params_true)"
   ]
  },
  {
   "cell_type": "markdown",
   "metadata": {},
   "source": [
    "Let's take a look at the model specifications."
   ]
  },
  {
   "cell_type": "code",
   "execution_count": 7,
   "metadata": {
    "ExecuteTime": {
     "end_time": "2020-04-23T11:58:40.900338Z",
     "start_time": "2020-04-23T11:58:40.848619Z"
    }
   },
   "outputs": [
    {
     "data": {
      "text/html": [
       "<div>\n",
       "<style scoped>\n",
       "    .dataframe tbody tr th:only-of-type {\n",
       "        vertical-align: middle;\n",
       "    }\n",
       "\n",
       "    .dataframe tbody tr th {\n",
       "        vertical-align: top;\n",
       "    }\n",
       "\n",
       "    .dataframe thead th {\n",
       "        text-align: right;\n",
       "    }\n",
       "</style>\n",
       "<table border=\"1\" class=\"dataframe\">\n",
       "  <thead>\n",
       "    <tr style=\"text-align: right;\">\n",
       "      <th></th>\n",
       "      <th></th>\n",
       "      <th>value</th>\n",
       "    </tr>\n",
       "    <tr>\n",
       "      <th>category</th>\n",
       "      <th>name</th>\n",
       "      <th></th>\n",
       "    </tr>\n",
       "  </thead>\n",
       "  <tbody>\n",
       "    <tr>\n",
       "      <th>delta</th>\n",
       "      <th>delta</th>\n",
       "      <td>0.95</td>\n",
       "    </tr>\n",
       "    <tr>\n",
       "      <th>wage_fishing</th>\n",
       "      <th>exp_fishing</th>\n",
       "      <td>0.10</td>\n",
       "    </tr>\n",
       "    <tr>\n",
       "      <th>nonpec_fishing</th>\n",
       "      <th>constant</th>\n",
       "      <td>-1.00</td>\n",
       "    </tr>\n",
       "    <tr>\n",
       "      <th rowspan=\"2\" valign=\"top\">nonpec_hammock</th>\n",
       "      <th>constant</th>\n",
       "      <td>2.50</td>\n",
       "    </tr>\n",
       "    <tr>\n",
       "      <th>not_fishing_last_period</th>\n",
       "      <td>-1.00</td>\n",
       "    </tr>\n",
       "    <tr>\n",
       "      <th rowspan=\"3\" valign=\"top\">shocks_sdcorr</th>\n",
       "      <th>sd_fishing</th>\n",
       "      <td>1.00</td>\n",
       "    </tr>\n",
       "    <tr>\n",
       "      <th>sd_hammock</th>\n",
       "      <td>1.00</td>\n",
       "    </tr>\n",
       "    <tr>\n",
       "      <th>corr_hammock_fishing</th>\n",
       "      <td>-0.20</td>\n",
       "    </tr>\n",
       "    <tr>\n",
       "      <th>lagged_choice_1_hammock</th>\n",
       "      <th>constant</th>\n",
       "      <td>1.00</td>\n",
       "    </tr>\n",
       "    <tr>\n",
       "      <th>inadmissibility_penalty</th>\n",
       "      <th>inadmissibility_penalty</th>\n",
       "      <td>-20.00</td>\n",
       "    </tr>\n",
       "  </tbody>\n",
       "</table>\n",
       "</div>"
      ],
      "text/plain": [
       "                                                 value\n",
       "category                name                          \n",
       "delta                   delta                     0.95\n",
       "wage_fishing            exp_fishing               0.10\n",
       "nonpec_fishing          constant                 -1.00\n",
       "nonpec_hammock          constant                  2.50\n",
       "                        not_fishing_last_period  -1.00\n",
       "shocks_sdcorr           sd_fishing                1.00\n",
       "                        sd_hammock                1.00\n",
       "                        corr_hammock_fishing     -0.20\n",
       "lagged_choice_1_hammock constant                  1.00\n",
       "inadmissibility_penalty inadmissibility_penalty -20.00"
      ]
     },
     "execution_count": 7,
     "metadata": {},
     "output_type": "execute_result"
    }
   ],
   "source": [
    "params_true "
   ]
  },
  {
   "cell_type": "code",
   "execution_count": 8,
   "metadata": {
    "ExecuteTime": {
     "end_time": "2020-04-23T11:58:43.647578Z",
     "start_time": "2020-04-23T11:58:43.618085Z"
    }
   },
   "outputs": [
    {
     "data": {
      "text/plain": [
       "{'n_periods': 10,\n",
       " 'estimation_draws': 200,\n",
       " 'estimation_seed': 500,\n",
       " 'estimation_tau': 0.001,\n",
       " 'interpolation_points': -1,\n",
       " 'simulation_agents': 1000,\n",
       " 'simulation_seed': 132,\n",
       " 'solution_draws': 500,\n",
       " 'solution_seed': 456,\n",
       " 'covariates': {'constant': '1',\n",
       "  'not_fishing_last_period': \"lagged_choice_1 != 'fishing'\"},\n",
       " 'core_state_space_filters': [\"period > 0 and exp_fishing == period and lagged_choice_1 == 'hammock'\",\n",
       "  \"exp_fishing == 0 and lagged_choice_1 == 'fishing'\"]}"
      ]
     },
     "execution_count": 8,
     "metadata": {},
     "output_type": "execute_result"
    }
   ],
   "source": [
    "options"
   ]
  },
  {
   "cell_type": "code",
   "execution_count": 9,
   "metadata": {
    "ExecuteTime": {
     "end_time": "2020-04-23T11:58:44.549102Z",
     "start_time": "2020-04-23T11:58:44.435499Z"
    }
   },
   "outputs": [
    {
     "data": {
      "text/html": [
       "<div>\n",
       "<style scoped>\n",
       "    .dataframe tbody tr th:only-of-type {\n",
       "        vertical-align: middle;\n",
       "    }\n",
       "\n",
       "    .dataframe tbody tr th {\n",
       "        vertical-align: top;\n",
       "    }\n",
       "\n",
       "    .dataframe thead th {\n",
       "        text-align: right;\n",
       "    }\n",
       "</style>\n",
       "<table border=\"1\" class=\"dataframe\">\n",
       "  <thead>\n",
       "    <tr style=\"text-align: right;\">\n",
       "      <th></th>\n",
       "      <th></th>\n",
       "      <th>Experience_Fishing</th>\n",
       "      <th>Lagged_Choice_1</th>\n",
       "      <th>Shock_Reward_Fishing</th>\n",
       "      <th>Meas_Error_Wage_Fishing</th>\n",
       "      <th>Shock_Reward_Hammock</th>\n",
       "      <th>Meas_Error_Wage_Hammock</th>\n",
       "      <th>Choice</th>\n",
       "      <th>Wage</th>\n",
       "      <th>Discount_Rate</th>\n",
       "      <th>Nonpecuniary_Reward_Fishing</th>\n",
       "      <th>Wage_Fishing</th>\n",
       "      <th>Flow_Utility_Fishing</th>\n",
       "      <th>Value_Function_Fishing</th>\n",
       "      <th>Continuation_Value_Fishing</th>\n",
       "      <th>Nonpecuniary_Reward_Hammock</th>\n",
       "      <th>Wage_Hammock</th>\n",
       "      <th>Flow_Utility_Hammock</th>\n",
       "      <th>Value_Function_Hammock</th>\n",
       "      <th>Continuation_Value_Hammock</th>\n",
       "    </tr>\n",
       "    <tr>\n",
       "      <th>Identifier</th>\n",
       "      <th>Period</th>\n",
       "      <th></th>\n",
       "      <th></th>\n",
       "      <th></th>\n",
       "      <th></th>\n",
       "      <th></th>\n",
       "      <th></th>\n",
       "      <th></th>\n",
       "      <th></th>\n",
       "      <th></th>\n",
       "      <th></th>\n",
       "      <th></th>\n",
       "      <th></th>\n",
       "      <th></th>\n",
       "      <th></th>\n",
       "      <th></th>\n",
       "      <th></th>\n",
       "      <th></th>\n",
       "      <th></th>\n",
       "      <th></th>\n",
       "    </tr>\n",
       "  </thead>\n",
       "  <tbody>\n",
       "    <tr>\n",
       "      <th rowspan=\"10\" valign=\"top\">0</th>\n",
       "      <th>0</th>\n",
       "      <td>0</td>\n",
       "      <td>hammock</td>\n",
       "      <td>2.048628</td>\n",
       "      <td>1</td>\n",
       "      <td>0.866250</td>\n",
       "      <td>1</td>\n",
       "      <td>fishing</td>\n",
       "      <td>2.048628</td>\n",
       "      <td>0.95</td>\n",
       "      <td>-1</td>\n",
       "      <td>2.048628</td>\n",
       "      <td>1.048628</td>\n",
       "      <td>19.513202</td>\n",
       "      <td>19.436393</td>\n",
       "      <td>1.5</td>\n",
       "      <td>NaN</td>\n",
       "      <td>2.366250</td>\n",
       "      <td>19.233744</td>\n",
       "      <td>17.755256</td>\n",
       "    </tr>\n",
       "    <tr>\n",
       "      <th>1</th>\n",
       "      <td>1</td>\n",
       "      <td>fishing</td>\n",
       "      <td>0.147087</td>\n",
       "      <td>1</td>\n",
       "      <td>1.421523</td>\n",
       "      <td>1</td>\n",
       "      <td>hammock</td>\n",
       "      <td>NaN</td>\n",
       "      <td>0.95</td>\n",
       "      <td>-1</td>\n",
       "      <td>0.162556</td>\n",
       "      <td>-0.837444</td>\n",
       "      <td>16.864110</td>\n",
       "      <td>18.633215</td>\n",
       "      <td>2.5</td>\n",
       "      <td>NaN</td>\n",
       "      <td>3.921523</td>\n",
       "      <td>20.032537</td>\n",
       "      <td>16.958962</td>\n",
       "    </tr>\n",
       "    <tr>\n",
       "      <th>2</th>\n",
       "      <td>1</td>\n",
       "      <td>hammock</td>\n",
       "      <td>0.903027</td>\n",
       "      <td>1</td>\n",
       "      <td>-0.351595</td>\n",
       "      <td>1</td>\n",
       "      <td>fishing</td>\n",
       "      <td>0.998000</td>\n",
       "      <td>0.95</td>\n",
       "      <td>-1</td>\n",
       "      <td>0.998000</td>\n",
       "      <td>-0.002000</td>\n",
       "      <td>15.655857</td>\n",
       "      <td>16.481955</td>\n",
       "      <td>1.5</td>\n",
       "      <td>NaN</td>\n",
       "      <td>1.148405</td>\n",
       "      <td>15.352842</td>\n",
       "      <td>14.952039</td>\n",
       "    </tr>\n",
       "    <tr>\n",
       "      <th>3</th>\n",
       "      <td>2</td>\n",
       "      <td>fishing</td>\n",
       "      <td>0.339405</td>\n",
       "      <td>1</td>\n",
       "      <td>-0.930422</td>\n",
       "      <td>1</td>\n",
       "      <td>hammock</td>\n",
       "      <td>NaN</td>\n",
       "      <td>0.95</td>\n",
       "      <td>-1</td>\n",
       "      <td>0.414550</td>\n",
       "      <td>-0.585450</td>\n",
       "      <td>13.941609</td>\n",
       "      <td>15.291641</td>\n",
       "      <td>2.5</td>\n",
       "      <td>NaN</td>\n",
       "      <td>1.569578</td>\n",
       "      <td>14.680286</td>\n",
       "      <td>13.800745</td>\n",
       "    </tr>\n",
       "    <tr>\n",
       "      <th>4</th>\n",
       "      <td>2</td>\n",
       "      <td>hammock</td>\n",
       "      <td>2.822820</td>\n",
       "      <td>1</td>\n",
       "      <td>-0.420713</td>\n",
       "      <td>1</td>\n",
       "      <td>fishing</td>\n",
       "      <td>3.447800</td>\n",
       "      <td>0.95</td>\n",
       "      <td>-1</td>\n",
       "      <td>3.447800</td>\n",
       "      <td>2.447800</td>\n",
       "      <td>14.749573</td>\n",
       "      <td>12.949235</td>\n",
       "      <td>1.5</td>\n",
       "      <td>NaN</td>\n",
       "      <td>1.079287</td>\n",
       "      <td>12.114100</td>\n",
       "      <td>11.615592</td>\n",
       "    </tr>\n",
       "    <tr>\n",
       "      <th>5</th>\n",
       "      <td>3</td>\n",
       "      <td>fishing</td>\n",
       "      <td>2.015148</td>\n",
       "      <td>1</td>\n",
       "      <td>2.056790</td>\n",
       "      <td>1</td>\n",
       "      <td>hammock</td>\n",
       "      <td>NaN</td>\n",
       "      <td>0.95</td>\n",
       "      <td>-1</td>\n",
       "      <td>2.720165</td>\n",
       "      <td>1.720165</td>\n",
       "      <td>12.341990</td>\n",
       "      <td>11.180868</td>\n",
       "      <td>2.5</td>\n",
       "      <td>NaN</td>\n",
       "      <td>4.556790</td>\n",
       "      <td>13.991270</td>\n",
       "      <td>9.931031</td>\n",
       "    </tr>\n",
       "    <tr>\n",
       "      <th>6</th>\n",
       "      <td>3</td>\n",
       "      <td>hammock</td>\n",
       "      <td>5.802097</td>\n",
       "      <td>1</td>\n",
       "      <td>-0.090973</td>\n",
       "      <td>1</td>\n",
       "      <td>fishing</td>\n",
       "      <td>7.832012</td>\n",
       "      <td>0.95</td>\n",
       "      <td>-1</td>\n",
       "      <td>7.832012</td>\n",
       "      <td>6.832012</td>\n",
       "      <td>14.963155</td>\n",
       "      <td>8.559098</td>\n",
       "      <td>1.5</td>\n",
       "      <td>NaN</td>\n",
       "      <td>1.409027</td>\n",
       "      <td>8.503160</td>\n",
       "      <td>7.467509</td>\n",
       "    </tr>\n",
       "    <tr>\n",
       "      <th>7</th>\n",
       "      <td>4</td>\n",
       "      <td>fishing</td>\n",
       "      <td>0.429942</td>\n",
       "      <td>1</td>\n",
       "      <td>1.443708</td>\n",
       "      <td>1</td>\n",
       "      <td>hammock</td>\n",
       "      <td>NaN</td>\n",
       "      <td>0.95</td>\n",
       "      <td>-1</td>\n",
       "      <td>0.641398</td>\n",
       "      <td>-0.358602</td>\n",
       "      <td>5.609535</td>\n",
       "      <td>6.282250</td>\n",
       "      <td>2.5</td>\n",
       "      <td>NaN</td>\n",
       "      <td>3.943708</td>\n",
       "      <td>9.014635</td>\n",
       "      <td>5.337817</td>\n",
       "    </tr>\n",
       "    <tr>\n",
       "      <th>8</th>\n",
       "      <td>4</td>\n",
       "      <td>hammock</td>\n",
       "      <td>0.216153</td>\n",
       "      <td>1</td>\n",
       "      <td>-0.298857</td>\n",
       "      <td>1</td>\n",
       "      <td>hammock</td>\n",
       "      <td>NaN</td>\n",
       "      <td>0.95</td>\n",
       "      <td>-1</td>\n",
       "      <td>0.322463</td>\n",
       "      <td>-0.677537</td>\n",
       "      <td>2.612370</td>\n",
       "      <td>3.463061</td>\n",
       "      <td>1.5</td>\n",
       "      <td>NaN</td>\n",
       "      <td>1.201143</td>\n",
       "      <td>3.663504</td>\n",
       "      <td>2.591958</td>\n",
       "    </tr>\n",
       "    <tr>\n",
       "      <th>9</th>\n",
       "      <td>4</td>\n",
       "      <td>hammock</td>\n",
       "      <td>7.604617</td>\n",
       "      <td>1</td>\n",
       "      <td>-0.666748</td>\n",
       "      <td>1</td>\n",
       "      <td>fishing</td>\n",
       "      <td>11.344756</td>\n",
       "      <td>0.95</td>\n",
       "      <td>-1</td>\n",
       "      <td>11.344756</td>\n",
       "      <td>10.344756</td>\n",
       "      <td>10.344756</td>\n",
       "      <td>0.000000</td>\n",
       "      <td>1.5</td>\n",
       "      <td>NaN</td>\n",
       "      <td>0.833252</td>\n",
       "      <td>0.833252</td>\n",
       "      <td>0.000000</td>\n",
       "    </tr>\n",
       "  </tbody>\n",
       "</table>\n",
       "</div>"
      ],
      "text/plain": [
       "                   Experience_Fishing Lagged_Choice_1  Shock_Reward_Fishing  \\\n",
       "Identifier Period                                                             \n",
       "0          0                        0         hammock              2.048628   \n",
       "           1                        1         fishing              0.147087   \n",
       "           2                        1         hammock              0.903027   \n",
       "           3                        2         fishing              0.339405   \n",
       "           4                        2         hammock              2.822820   \n",
       "           5                        3         fishing              2.015148   \n",
       "           6                        3         hammock              5.802097   \n",
       "           7                        4         fishing              0.429942   \n",
       "           8                        4         hammock              0.216153   \n",
       "           9                        4         hammock              7.604617   \n",
       "\n",
       "                   Meas_Error_Wage_Fishing  Shock_Reward_Hammock  \\\n",
       "Identifier Period                                                  \n",
       "0          0                             1              0.866250   \n",
       "           1                             1              1.421523   \n",
       "           2                             1             -0.351595   \n",
       "           3                             1             -0.930422   \n",
       "           4                             1             -0.420713   \n",
       "           5                             1              2.056790   \n",
       "           6                             1             -0.090973   \n",
       "           7                             1              1.443708   \n",
       "           8                             1             -0.298857   \n",
       "           9                             1             -0.666748   \n",
       "\n",
       "                   Meas_Error_Wage_Hammock   Choice       Wage  Discount_Rate  \\\n",
       "Identifier Period                                                               \n",
       "0          0                             1  fishing   2.048628           0.95   \n",
       "           1                             1  hammock        NaN           0.95   \n",
       "           2                             1  fishing   0.998000           0.95   \n",
       "           3                             1  hammock        NaN           0.95   \n",
       "           4                             1  fishing   3.447800           0.95   \n",
       "           5                             1  hammock        NaN           0.95   \n",
       "           6                             1  fishing   7.832012           0.95   \n",
       "           7                             1  hammock        NaN           0.95   \n",
       "           8                             1  hammock        NaN           0.95   \n",
       "           9                             1  fishing  11.344756           0.95   \n",
       "\n",
       "                   Nonpecuniary_Reward_Fishing  Wage_Fishing  \\\n",
       "Identifier Period                                              \n",
       "0          0                                -1      2.048628   \n",
       "           1                                -1      0.162556   \n",
       "           2                                -1      0.998000   \n",
       "           3                                -1      0.414550   \n",
       "           4                                -1      3.447800   \n",
       "           5                                -1      2.720165   \n",
       "           6                                -1      7.832012   \n",
       "           7                                -1      0.641398   \n",
       "           8                                -1      0.322463   \n",
       "           9                                -1     11.344756   \n",
       "\n",
       "                   Flow_Utility_Fishing  Value_Function_Fishing  \\\n",
       "Identifier Period                                                 \n",
       "0          0                   1.048628               19.513202   \n",
       "           1                  -0.837444               16.864110   \n",
       "           2                  -0.002000               15.655857   \n",
       "           3                  -0.585450               13.941609   \n",
       "           4                   2.447800               14.749573   \n",
       "           5                   1.720165               12.341990   \n",
       "           6                   6.832012               14.963155   \n",
       "           7                  -0.358602                5.609535   \n",
       "           8                  -0.677537                2.612370   \n",
       "           9                  10.344756               10.344756   \n",
       "\n",
       "                   Continuation_Value_Fishing  Nonpecuniary_Reward_Hammock  \\\n",
       "Identifier Period                                                            \n",
       "0          0                        19.436393                          1.5   \n",
       "           1                        18.633215                          2.5   \n",
       "           2                        16.481955                          1.5   \n",
       "           3                        15.291641                          2.5   \n",
       "           4                        12.949235                          1.5   \n",
       "           5                        11.180868                          2.5   \n",
       "           6                         8.559098                          1.5   \n",
       "           7                         6.282250                          2.5   \n",
       "           8                         3.463061                          1.5   \n",
       "           9                         0.000000                          1.5   \n",
       "\n",
       "                   Wage_Hammock  Flow_Utility_Hammock  Value_Function_Hammock  \\\n",
       "Identifier Period                                                               \n",
       "0          0                NaN              2.366250               19.233744   \n",
       "           1                NaN              3.921523               20.032537   \n",
       "           2                NaN              1.148405               15.352842   \n",
       "           3                NaN              1.569578               14.680286   \n",
       "           4                NaN              1.079287               12.114100   \n",
       "           5                NaN              4.556790               13.991270   \n",
       "           6                NaN              1.409027                8.503160   \n",
       "           7                NaN              3.943708                9.014635   \n",
       "           8                NaN              1.201143                3.663504   \n",
       "           9                NaN              0.833252                0.833252   \n",
       "\n",
       "                   Continuation_Value_Hammock  \n",
       "Identifier Period                              \n",
       "0          0                        17.755256  \n",
       "           1                        16.958962  \n",
       "           2                        14.952039  \n",
       "           3                        13.800745  \n",
       "           4                        11.615592  \n",
       "           5                         9.931031  \n",
       "           6                         7.467509  \n",
       "           7                         5.337817  \n",
       "           8                         2.591958  \n",
       "           9                         0.000000  "
      ]
     },
     "execution_count": 9,
     "metadata": {},
     "output_type": "execute_result"
    }
   ],
   "source": [
    "data_obs.head(10)"
   ]
  },
  {
   "cell_type": "markdown",
   "metadata": {},
   "source": [
    "## Data Moments\n",
    "\n",
    "For the setup of the estimation we first have to choose a set of moments that we will use to match the observed data and the simulated model. For this model we include two sets of moments: \n",
    "\n",
    "1. The first set are Robinson's **choice frequencies** (choice frequencies here refers to the share of agents that have chosen a specific option) for each period. \n",
    "2. The second set are moments that characterize the **wage distribution** for each period, i.e. the mean of the wage of all agents that have chosen fishing in a given period and the standard deviation of the wages. "
   ]
  },
  {
   "cell_type": "markdown",
   "metadata": {},
   "source": [
    "In addition to the data, we need the complete set of potential choice options for Robinson. Respy lets us extract them from the model parameters and options."
   ]
  },
  {
   "cell_type": "code",
   "execution_count": 10,
   "metadata": {
    "ExecuteTime": {
     "end_time": "2020-04-23T11:58:57.982500Z",
     "start_time": "2020-04-23T11:58:57.953727Z"
    }
   },
   "outputs": [],
   "source": [
    "#optim_paras = process_params_and_options(params_true, options)[0]\n",
    "#choice_options_robinson = optim_paras[\"choices\"].keys()"
   ]
  },
  {
   "cell_type": "markdown",
   "metadata": {},
   "source": [
    "We need a function that computes the set of moments on the observed and simulated data."
   ]
  },
  {
   "cell_type": "code",
   "execution_count": 11,
   "metadata": {
    "ExecuteTime": {
     "end_time": "2020-04-23T11:58:59.846959Z",
     "start_time": "2020-04-23T11:58:59.801325Z"
    }
   },
   "outputs": [],
   "source": [
    "def calc_choice_frequencies(df):\n",
    "    \"\"\"Calculate choice frequencies\"\"\"\n",
    "    return df.groupby(\"Period\").Choice.value_counts(normalize=True).unstack()"
   ]
  },
  {
   "cell_type": "code",
   "execution_count": 12,
   "metadata": {
    "ExecuteTime": {
     "end_time": "2020-04-23T11:59:00.602650Z",
     "start_time": "2020-04-23T11:59:00.497850Z"
    }
   },
   "outputs": [],
   "source": [
    "def calc_wage_distribution(df):\n",
    "    \"\"\"Calculate wage distribution.\"\"\"\n",
    "    return df.groupby([\"Period\"])[\"Wage\"].describe()[[\"mean\", \"std\"]]"
   ]
  },
  {
   "cell_type": "code",
   "execution_count": 16,
   "metadata": {
    "ExecuteTime": {
     "end_time": "2020-04-23T11:59:20.730498Z",
     "start_time": "2020-04-23T11:59:20.700385Z"
    }
   },
   "outputs": [],
   "source": [
    "calc_moments = {\"choice_frequencies\":calc_choice_frequencies, \n",
    "                \"wage_distribution\":calc_wage_distribution}"
   ]
  },
  {
   "cell_type": "code",
   "execution_count": 17,
   "metadata": {
    "ExecuteTime": {
     "end_time": "2020-04-23T11:59:21.409308Z",
     "start_time": "2020-04-23T11:59:21.350506Z"
    }
   },
   "outputs": [],
   "source": [
    "def replace_nans(df):\n",
    "    \"\"\"Replace missing values in data.\"\"\"\n",
    "    return df.fillna(0)"
   ]
  },
  {
   "cell_type": "markdown",
   "metadata": {},
   "source": [
    "Now we are ready to calculate the moments."
   ]
  },
  {
   "cell_type": "code",
   "execution_count": 21,
   "metadata": {
    "ExecuteTime": {
     "end_time": "2020-04-23T12:01:29.777653Z",
     "start_time": "2020-04-23T12:01:29.701427Z"
    }
   },
   "outputs": [],
   "source": [
    "observed_moments = {\"choice_frequencies\": replace_nans(calc_moments[\"choice_frequencies\"](data_obs)),\n",
    "                    \"wage_distribution\": replace_nans(calc_moments[\"wage_distribution\"](data_obs))}"
   ]
  },
  {
   "cell_type": "code",
   "execution_count": 22,
   "metadata": {
    "ExecuteTime": {
     "end_time": "2020-04-23T12:01:30.652142Z",
     "start_time": "2020-04-23T12:01:30.575410Z"
    }
   },
   "outputs": [
    {
     "name": "stdout",
     "output_type": "stream",
     "text": [
      "Choice Frequencies\n",
      "Choice  fishing  hammock\n",
      "Period                  \n",
      "0         0.549    0.451\n",
      "1         0.416    0.584\n",
      "2         0.463    0.537\n",
      "3         0.465    0.535\n",
      "4         0.443    0.557\n",
      "5         0.447    0.553\n",
      "6         0.424    0.576\n",
      "7         0.409    0.591\n",
      "8         0.415    0.585\n",
      "9         0.293    0.707\n",
      "\n",
      " Wage Distribution\n",
      "            mean       std\n",
      "Period                    \n",
      "0       2.294384  2.229436\n",
      "1       2.890082  2.890317\n",
      "2       2.806003  2.486185\n",
      "3       3.253748  3.119447\n",
      "4       3.656316  4.174901\n",
      "5       3.611139  4.200553\n",
      "6       3.822057  3.351915\n",
      "7       4.058608  4.053294\n",
      "8       4.180347  3.766655\n",
      "9       5.261872  4.843979\n"
     ]
    }
   ],
   "source": [
    "print('Choice Frequencies')\n",
    "print(observed_moments[\"choice_frequencies\"])\n",
    "print('\\n Wage Distribution')\n",
    "print(observed_moments[\"wage_distribution\"])"
   ]
  },
  {
   "cell_type": "markdown",
   "metadata": {},
   "source": [
    "## Weighting Matrix"
   ]
  },
  {
   "cell_type": "markdown",
   "metadata": {},
   "source": [
    "Next we specify a weighting matrix. It needs to be a square matrix with the same number of diagonal elements as there are moments. One option would be to use the identity matrix, but we use a weighting matrix that adjusts for the variance of each moment. The variances for the moments are constructed using a bootstrapping procedure. "
   ]
  },
  {
   "cell_type": "code",
   "execution_count": 38,
   "metadata": {
    "ExecuteTime": {
     "end_time": "2020-04-23T12:20:04.572457Z",
     "start_time": "2020-04-23T12:20:04.546442Z"
    }
   },
   "outputs": [],
   "source": [
    "def get_weighting_matrix(data, calc_moments, num_boots, num_agents_msm):\n",
    "    \"\"\" Compute weighting matrix for estimation with MSM.\"\"\"\n",
    "    np.random.seed(123)\n",
    "\n",
    "    index_base = data.index.get_level_values(\"Identifier\").unique()\n",
    "\n",
    "    moments_sample = list()\n",
    "    for _ in range(num_boots):\n",
    "        ids_boot = np.random.choice(index_base, num_agents_msm, replace=False)\n",
    "        moments_boot = [calc_moments[key](data.loc[ids_boot, :]) for key in calc_moments.keys()]\n",
    "\n",
    "        moments_boot = rp.get_flat_moments(moments_boot)\n",
    "\n",
    "        moments_sample.append(moments_boot)\n",
    "\n",
    "    moments_var = np.array(moments_sample).var(axis=0)\n",
    "    weighting_matrix = np.diag(moments_var ** (-1))\n",
    "\n",
    "    return np.nan_to_num(weighting_matrix)"
   ]
  },
  {
   "cell_type": "code",
   "execution_count": 43,
   "metadata": {
    "ExecuteTime": {
     "end_time": "2020-04-23T12:23:33.356819Z",
     "start_time": "2020-04-23T12:22:38.999297Z"
    }
   },
   "outputs": [],
   "source": [
    "W = get_weighting_matrix(data_obs, calc_moments, 300, 500)"
   ]
  },
  {
   "cell_type": "code",
   "execution_count": 44,
   "metadata": {
    "ExecuteTime": {
     "end_time": "2020-04-23T12:23:33.480224Z",
     "start_time": "2020-04-23T12:23:33.358408Z"
    }
   },
   "outputs": [
    {
     "data": {
      "text/html": [
       "<div>\n",
       "<style scoped>\n",
       "    .dataframe tbody tr th:only-of-type {\n",
       "        vertical-align: middle;\n",
       "    }\n",
       "\n",
       "    .dataframe tbody tr th {\n",
       "        vertical-align: top;\n",
       "    }\n",
       "\n",
       "    .dataframe thead th {\n",
       "        text-align: right;\n",
       "    }\n",
       "</style>\n",
       "<table border=\"1\" class=\"dataframe\">\n",
       "  <thead>\n",
       "    <tr style=\"text-align: right;\">\n",
       "      <th></th>\n",
       "      <th>0</th>\n",
       "      <th>1</th>\n",
       "      <th>2</th>\n",
       "      <th>3</th>\n",
       "      <th>4</th>\n",
       "      <th>5</th>\n",
       "      <th>6</th>\n",
       "      <th>7</th>\n",
       "      <th>8</th>\n",
       "      <th>9</th>\n",
       "      <th>...</th>\n",
       "      <th>30</th>\n",
       "      <th>31</th>\n",
       "      <th>32</th>\n",
       "      <th>33</th>\n",
       "      <th>34</th>\n",
       "      <th>35</th>\n",
       "      <th>36</th>\n",
       "      <th>37</th>\n",
       "      <th>38</th>\n",
       "      <th>39</th>\n",
       "    </tr>\n",
       "  </thead>\n",
       "  <tbody>\n",
       "    <tr>\n",
       "      <th>0</th>\n",
       "      <td>3695.027839</td>\n",
       "      <td>0.000000</td>\n",
       "      <td>0.000000</td>\n",
       "      <td>0.000000</td>\n",
       "      <td>0.00000</td>\n",
       "      <td>0.000000</td>\n",
       "      <td>0.000000</td>\n",
       "      <td>0.000000</td>\n",
       "      <td>0.000000</td>\n",
       "      <td>0.000000</td>\n",
       "      <td>...</td>\n",
       "      <td>0.000000</td>\n",
       "      <td>0.000000</td>\n",
       "      <td>0.00000</td>\n",
       "      <td>0.000000</td>\n",
       "      <td>0.000000</td>\n",
       "      <td>0.000000</td>\n",
       "      <td>0.00000</td>\n",
       "      <td>0.000000</td>\n",
       "      <td>0.000000</td>\n",
       "      <td>0.000000</td>\n",
       "    </tr>\n",
       "    <tr>\n",
       "      <th>1</th>\n",
       "      <td>0.000000</td>\n",
       "      <td>3947.610126</td>\n",
       "      <td>0.000000</td>\n",
       "      <td>0.000000</td>\n",
       "      <td>0.00000</td>\n",
       "      <td>0.000000</td>\n",
       "      <td>0.000000</td>\n",
       "      <td>0.000000</td>\n",
       "      <td>0.000000</td>\n",
       "      <td>0.000000</td>\n",
       "      <td>...</td>\n",
       "      <td>0.000000</td>\n",
       "      <td>0.000000</td>\n",
       "      <td>0.00000</td>\n",
       "      <td>0.000000</td>\n",
       "      <td>0.000000</td>\n",
       "      <td>0.000000</td>\n",
       "      <td>0.00000</td>\n",
       "      <td>0.000000</td>\n",
       "      <td>0.000000</td>\n",
       "      <td>0.000000</td>\n",
       "    </tr>\n",
       "    <tr>\n",
       "      <th>2</th>\n",
       "      <td>0.000000</td>\n",
       "      <td>0.000000</td>\n",
       "      <td>4108.385415</td>\n",
       "      <td>0.000000</td>\n",
       "      <td>0.00000</td>\n",
       "      <td>0.000000</td>\n",
       "      <td>0.000000</td>\n",
       "      <td>0.000000</td>\n",
       "      <td>0.000000</td>\n",
       "      <td>0.000000</td>\n",
       "      <td>...</td>\n",
       "      <td>0.000000</td>\n",
       "      <td>0.000000</td>\n",
       "      <td>0.00000</td>\n",
       "      <td>0.000000</td>\n",
       "      <td>0.000000</td>\n",
       "      <td>0.000000</td>\n",
       "      <td>0.00000</td>\n",
       "      <td>0.000000</td>\n",
       "      <td>0.000000</td>\n",
       "      <td>0.000000</td>\n",
       "    </tr>\n",
       "    <tr>\n",
       "      <th>3</th>\n",
       "      <td>0.000000</td>\n",
       "      <td>0.000000</td>\n",
       "      <td>0.000000</td>\n",
       "      <td>3436.793548</td>\n",
       "      <td>0.00000</td>\n",
       "      <td>0.000000</td>\n",
       "      <td>0.000000</td>\n",
       "      <td>0.000000</td>\n",
       "      <td>0.000000</td>\n",
       "      <td>0.000000</td>\n",
       "      <td>...</td>\n",
       "      <td>0.000000</td>\n",
       "      <td>0.000000</td>\n",
       "      <td>0.00000</td>\n",
       "      <td>0.000000</td>\n",
       "      <td>0.000000</td>\n",
       "      <td>0.000000</td>\n",
       "      <td>0.00000</td>\n",
       "      <td>0.000000</td>\n",
       "      <td>0.000000</td>\n",
       "      <td>0.000000</td>\n",
       "    </tr>\n",
       "    <tr>\n",
       "      <th>4</th>\n",
       "      <td>0.000000</td>\n",
       "      <td>0.000000</td>\n",
       "      <td>0.000000</td>\n",
       "      <td>0.000000</td>\n",
       "      <td>3898.62602</td>\n",
       "      <td>0.000000</td>\n",
       "      <td>0.000000</td>\n",
       "      <td>0.000000</td>\n",
       "      <td>0.000000</td>\n",
       "      <td>0.000000</td>\n",
       "      <td>...</td>\n",
       "      <td>0.000000</td>\n",
       "      <td>0.000000</td>\n",
       "      <td>0.00000</td>\n",
       "      <td>0.000000</td>\n",
       "      <td>0.000000</td>\n",
       "      <td>0.000000</td>\n",
       "      <td>0.00000</td>\n",
       "      <td>0.000000</td>\n",
       "      <td>0.000000</td>\n",
       "      <td>0.000000</td>\n",
       "    </tr>\n",
       "    <tr>\n",
       "      <th>5</th>\n",
       "      <td>0.000000</td>\n",
       "      <td>0.000000</td>\n",
       "      <td>0.000000</td>\n",
       "      <td>0.000000</td>\n",
       "      <td>0.00000</td>\n",
       "      <td>3876.586708</td>\n",
       "      <td>0.000000</td>\n",
       "      <td>0.000000</td>\n",
       "      <td>0.000000</td>\n",
       "      <td>0.000000</td>\n",
       "      <td>...</td>\n",
       "      <td>0.000000</td>\n",
       "      <td>0.000000</td>\n",
       "      <td>0.00000</td>\n",
       "      <td>0.000000</td>\n",
       "      <td>0.000000</td>\n",
       "      <td>0.000000</td>\n",
       "      <td>0.00000</td>\n",
       "      <td>0.000000</td>\n",
       "      <td>0.000000</td>\n",
       "      <td>0.000000</td>\n",
       "    </tr>\n",
       "    <tr>\n",
       "      <th>6</th>\n",
       "      <td>0.000000</td>\n",
       "      <td>0.000000</td>\n",
       "      <td>0.000000</td>\n",
       "      <td>0.000000</td>\n",
       "      <td>0.00000</td>\n",
       "      <td>0.000000</td>\n",
       "      <td>4425.082469</td>\n",
       "      <td>0.000000</td>\n",
       "      <td>0.000000</td>\n",
       "      <td>0.000000</td>\n",
       "      <td>...</td>\n",
       "      <td>0.000000</td>\n",
       "      <td>0.000000</td>\n",
       "      <td>0.00000</td>\n",
       "      <td>0.000000</td>\n",
       "      <td>0.000000</td>\n",
       "      <td>0.000000</td>\n",
       "      <td>0.00000</td>\n",
       "      <td>0.000000</td>\n",
       "      <td>0.000000</td>\n",
       "      <td>0.000000</td>\n",
       "    </tr>\n",
       "    <tr>\n",
       "      <th>7</th>\n",
       "      <td>0.000000</td>\n",
       "      <td>0.000000</td>\n",
       "      <td>0.000000</td>\n",
       "      <td>0.000000</td>\n",
       "      <td>0.00000</td>\n",
       "      <td>0.000000</td>\n",
       "      <td>0.000000</td>\n",
       "      <td>3957.581063</td>\n",
       "      <td>0.000000</td>\n",
       "      <td>0.000000</td>\n",
       "      <td>...</td>\n",
       "      <td>0.000000</td>\n",
       "      <td>0.000000</td>\n",
       "      <td>0.00000</td>\n",
       "      <td>0.000000</td>\n",
       "      <td>0.000000</td>\n",
       "      <td>0.000000</td>\n",
       "      <td>0.00000</td>\n",
       "      <td>0.000000</td>\n",
       "      <td>0.000000</td>\n",
       "      <td>0.000000</td>\n",
       "    </tr>\n",
       "    <tr>\n",
       "      <th>8</th>\n",
       "      <td>0.000000</td>\n",
       "      <td>0.000000</td>\n",
       "      <td>0.000000</td>\n",
       "      <td>0.000000</td>\n",
       "      <td>0.00000</td>\n",
       "      <td>0.000000</td>\n",
       "      <td>0.000000</td>\n",
       "      <td>0.000000</td>\n",
       "      <td>3829.180431</td>\n",
       "      <td>0.000000</td>\n",
       "      <td>...</td>\n",
       "      <td>0.000000</td>\n",
       "      <td>0.000000</td>\n",
       "      <td>0.00000</td>\n",
       "      <td>0.000000</td>\n",
       "      <td>0.000000</td>\n",
       "      <td>0.000000</td>\n",
       "      <td>0.00000</td>\n",
       "      <td>0.000000</td>\n",
       "      <td>0.000000</td>\n",
       "      <td>0.000000</td>\n",
       "    </tr>\n",
       "    <tr>\n",
       "      <th>9</th>\n",
       "      <td>0.000000</td>\n",
       "      <td>0.000000</td>\n",
       "      <td>0.000000</td>\n",
       "      <td>0.000000</td>\n",
       "      <td>0.00000</td>\n",
       "      <td>0.000000</td>\n",
       "      <td>0.000000</td>\n",
       "      <td>0.000000</td>\n",
       "      <td>0.000000</td>\n",
       "      <td>5282.186121</td>\n",
       "      <td>...</td>\n",
       "      <td>0.000000</td>\n",
       "      <td>0.000000</td>\n",
       "      <td>0.00000</td>\n",
       "      <td>0.000000</td>\n",
       "      <td>0.000000</td>\n",
       "      <td>0.000000</td>\n",
       "      <td>0.00000</td>\n",
       "      <td>0.000000</td>\n",
       "      <td>0.000000</td>\n",
       "      <td>0.000000</td>\n",
       "    </tr>\n",
       "    <tr>\n",
       "      <th>10</th>\n",
       "      <td>0.000000</td>\n",
       "      <td>0.000000</td>\n",
       "      <td>0.000000</td>\n",
       "      <td>0.000000</td>\n",
       "      <td>0.00000</td>\n",
       "      <td>0.000000</td>\n",
       "      <td>0.000000</td>\n",
       "      <td>0.000000</td>\n",
       "      <td>0.000000</td>\n",
       "      <td>0.000000</td>\n",
       "      <td>...</td>\n",
       "      <td>0.000000</td>\n",
       "      <td>0.000000</td>\n",
       "      <td>0.00000</td>\n",
       "      <td>0.000000</td>\n",
       "      <td>0.000000</td>\n",
       "      <td>0.000000</td>\n",
       "      <td>0.00000</td>\n",
       "      <td>0.000000</td>\n",
       "      <td>0.000000</td>\n",
       "      <td>0.000000</td>\n",
       "    </tr>\n",
       "    <tr>\n",
       "      <th>11</th>\n",
       "      <td>0.000000</td>\n",
       "      <td>0.000000</td>\n",
       "      <td>0.000000</td>\n",
       "      <td>0.000000</td>\n",
       "      <td>0.00000</td>\n",
       "      <td>0.000000</td>\n",
       "      <td>0.000000</td>\n",
       "      <td>0.000000</td>\n",
       "      <td>0.000000</td>\n",
       "      <td>0.000000</td>\n",
       "      <td>...</td>\n",
       "      <td>0.000000</td>\n",
       "      <td>0.000000</td>\n",
       "      <td>0.00000</td>\n",
       "      <td>0.000000</td>\n",
       "      <td>0.000000</td>\n",
       "      <td>0.000000</td>\n",
       "      <td>0.00000</td>\n",
       "      <td>0.000000</td>\n",
       "      <td>0.000000</td>\n",
       "      <td>0.000000</td>\n",
       "    </tr>\n",
       "    <tr>\n",
       "      <th>12</th>\n",
       "      <td>0.000000</td>\n",
       "      <td>0.000000</td>\n",
       "      <td>0.000000</td>\n",
       "      <td>0.000000</td>\n",
       "      <td>0.00000</td>\n",
       "      <td>0.000000</td>\n",
       "      <td>0.000000</td>\n",
       "      <td>0.000000</td>\n",
       "      <td>0.000000</td>\n",
       "      <td>0.000000</td>\n",
       "      <td>...</td>\n",
       "      <td>0.000000</td>\n",
       "      <td>0.000000</td>\n",
       "      <td>0.00000</td>\n",
       "      <td>0.000000</td>\n",
       "      <td>0.000000</td>\n",
       "      <td>0.000000</td>\n",
       "      <td>0.00000</td>\n",
       "      <td>0.000000</td>\n",
       "      <td>0.000000</td>\n",
       "      <td>0.000000</td>\n",
       "    </tr>\n",
       "    <tr>\n",
       "      <th>13</th>\n",
       "      <td>0.000000</td>\n",
       "      <td>0.000000</td>\n",
       "      <td>0.000000</td>\n",
       "      <td>0.000000</td>\n",
       "      <td>0.00000</td>\n",
       "      <td>0.000000</td>\n",
       "      <td>0.000000</td>\n",
       "      <td>0.000000</td>\n",
       "      <td>0.000000</td>\n",
       "      <td>0.000000</td>\n",
       "      <td>...</td>\n",
       "      <td>0.000000</td>\n",
       "      <td>0.000000</td>\n",
       "      <td>0.00000</td>\n",
       "      <td>0.000000</td>\n",
       "      <td>0.000000</td>\n",
       "      <td>0.000000</td>\n",
       "      <td>0.00000</td>\n",
       "      <td>0.000000</td>\n",
       "      <td>0.000000</td>\n",
       "      <td>0.000000</td>\n",
       "    </tr>\n",
       "    <tr>\n",
       "      <th>14</th>\n",
       "      <td>0.000000</td>\n",
       "      <td>0.000000</td>\n",
       "      <td>0.000000</td>\n",
       "      <td>0.000000</td>\n",
       "      <td>0.00000</td>\n",
       "      <td>0.000000</td>\n",
       "      <td>0.000000</td>\n",
       "      <td>0.000000</td>\n",
       "      <td>0.000000</td>\n",
       "      <td>0.000000</td>\n",
       "      <td>...</td>\n",
       "      <td>0.000000</td>\n",
       "      <td>0.000000</td>\n",
       "      <td>0.00000</td>\n",
       "      <td>0.000000</td>\n",
       "      <td>0.000000</td>\n",
       "      <td>0.000000</td>\n",
       "      <td>0.00000</td>\n",
       "      <td>0.000000</td>\n",
       "      <td>0.000000</td>\n",
       "      <td>0.000000</td>\n",
       "    </tr>\n",
       "    <tr>\n",
       "      <th>15</th>\n",
       "      <td>0.000000</td>\n",
       "      <td>0.000000</td>\n",
       "      <td>0.000000</td>\n",
       "      <td>0.000000</td>\n",
       "      <td>0.00000</td>\n",
       "      <td>0.000000</td>\n",
       "      <td>0.000000</td>\n",
       "      <td>0.000000</td>\n",
       "      <td>0.000000</td>\n",
       "      <td>0.000000</td>\n",
       "      <td>...</td>\n",
       "      <td>0.000000</td>\n",
       "      <td>0.000000</td>\n",
       "      <td>0.00000</td>\n",
       "      <td>0.000000</td>\n",
       "      <td>0.000000</td>\n",
       "      <td>0.000000</td>\n",
       "      <td>0.00000</td>\n",
       "      <td>0.000000</td>\n",
       "      <td>0.000000</td>\n",
       "      <td>0.000000</td>\n",
       "    </tr>\n",
       "    <tr>\n",
       "      <th>16</th>\n",
       "      <td>0.000000</td>\n",
       "      <td>0.000000</td>\n",
       "      <td>0.000000</td>\n",
       "      <td>0.000000</td>\n",
       "      <td>0.00000</td>\n",
       "      <td>0.000000</td>\n",
       "      <td>0.000000</td>\n",
       "      <td>0.000000</td>\n",
       "      <td>0.000000</td>\n",
       "      <td>0.000000</td>\n",
       "      <td>...</td>\n",
       "      <td>0.000000</td>\n",
       "      <td>0.000000</td>\n",
       "      <td>0.00000</td>\n",
       "      <td>0.000000</td>\n",
       "      <td>0.000000</td>\n",
       "      <td>0.000000</td>\n",
       "      <td>0.00000</td>\n",
       "      <td>0.000000</td>\n",
       "      <td>0.000000</td>\n",
       "      <td>0.000000</td>\n",
       "    </tr>\n",
       "    <tr>\n",
       "      <th>17</th>\n",
       "      <td>0.000000</td>\n",
       "      <td>0.000000</td>\n",
       "      <td>0.000000</td>\n",
       "      <td>0.000000</td>\n",
       "      <td>0.00000</td>\n",
       "      <td>0.000000</td>\n",
       "      <td>0.000000</td>\n",
       "      <td>0.000000</td>\n",
       "      <td>0.000000</td>\n",
       "      <td>0.000000</td>\n",
       "      <td>...</td>\n",
       "      <td>0.000000</td>\n",
       "      <td>0.000000</td>\n",
       "      <td>0.00000</td>\n",
       "      <td>0.000000</td>\n",
       "      <td>0.000000</td>\n",
       "      <td>0.000000</td>\n",
       "      <td>0.00000</td>\n",
       "      <td>0.000000</td>\n",
       "      <td>0.000000</td>\n",
       "      <td>0.000000</td>\n",
       "    </tr>\n",
       "    <tr>\n",
       "      <th>18</th>\n",
       "      <td>0.000000</td>\n",
       "      <td>0.000000</td>\n",
       "      <td>0.000000</td>\n",
       "      <td>0.000000</td>\n",
       "      <td>0.00000</td>\n",
       "      <td>0.000000</td>\n",
       "      <td>0.000000</td>\n",
       "      <td>0.000000</td>\n",
       "      <td>0.000000</td>\n",
       "      <td>0.000000</td>\n",
       "      <td>...</td>\n",
       "      <td>0.000000</td>\n",
       "      <td>0.000000</td>\n",
       "      <td>0.00000</td>\n",
       "      <td>0.000000</td>\n",
       "      <td>0.000000</td>\n",
       "      <td>0.000000</td>\n",
       "      <td>0.00000</td>\n",
       "      <td>0.000000</td>\n",
       "      <td>0.000000</td>\n",
       "      <td>0.000000</td>\n",
       "    </tr>\n",
       "    <tr>\n",
       "      <th>19</th>\n",
       "      <td>0.000000</td>\n",
       "      <td>0.000000</td>\n",
       "      <td>0.000000</td>\n",
       "      <td>0.000000</td>\n",
       "      <td>0.00000</td>\n",
       "      <td>0.000000</td>\n",
       "      <td>0.000000</td>\n",
       "      <td>0.000000</td>\n",
       "      <td>0.000000</td>\n",
       "      <td>0.000000</td>\n",
       "      <td>...</td>\n",
       "      <td>0.000000</td>\n",
       "      <td>0.000000</td>\n",
       "      <td>0.00000</td>\n",
       "      <td>0.000000</td>\n",
       "      <td>0.000000</td>\n",
       "      <td>0.000000</td>\n",
       "      <td>0.00000</td>\n",
       "      <td>0.000000</td>\n",
       "      <td>0.000000</td>\n",
       "      <td>0.000000</td>\n",
       "    </tr>\n",
       "    <tr>\n",
       "      <th>20</th>\n",
       "      <td>0.000000</td>\n",
       "      <td>0.000000</td>\n",
       "      <td>0.000000</td>\n",
       "      <td>0.000000</td>\n",
       "      <td>0.00000</td>\n",
       "      <td>0.000000</td>\n",
       "      <td>0.000000</td>\n",
       "      <td>0.000000</td>\n",
       "      <td>0.000000</td>\n",
       "      <td>0.000000</td>\n",
       "      <td>...</td>\n",
       "      <td>0.000000</td>\n",
       "      <td>0.000000</td>\n",
       "      <td>0.00000</td>\n",
       "      <td>0.000000</td>\n",
       "      <td>0.000000</td>\n",
       "      <td>0.000000</td>\n",
       "      <td>0.00000</td>\n",
       "      <td>0.000000</td>\n",
       "      <td>0.000000</td>\n",
       "      <td>0.000000</td>\n",
       "    </tr>\n",
       "    <tr>\n",
       "      <th>21</th>\n",
       "      <td>0.000000</td>\n",
       "      <td>0.000000</td>\n",
       "      <td>0.000000</td>\n",
       "      <td>0.000000</td>\n",
       "      <td>0.00000</td>\n",
       "      <td>0.000000</td>\n",
       "      <td>0.000000</td>\n",
       "      <td>0.000000</td>\n",
       "      <td>0.000000</td>\n",
       "      <td>0.000000</td>\n",
       "      <td>...</td>\n",
       "      <td>0.000000</td>\n",
       "      <td>0.000000</td>\n",
       "      <td>0.00000</td>\n",
       "      <td>0.000000</td>\n",
       "      <td>0.000000</td>\n",
       "      <td>0.000000</td>\n",
       "      <td>0.00000</td>\n",
       "      <td>0.000000</td>\n",
       "      <td>0.000000</td>\n",
       "      <td>0.000000</td>\n",
       "    </tr>\n",
       "    <tr>\n",
       "      <th>22</th>\n",
       "      <td>0.000000</td>\n",
       "      <td>0.000000</td>\n",
       "      <td>0.000000</td>\n",
       "      <td>0.000000</td>\n",
       "      <td>0.00000</td>\n",
       "      <td>0.000000</td>\n",
       "      <td>0.000000</td>\n",
       "      <td>0.000000</td>\n",
       "      <td>0.000000</td>\n",
       "      <td>0.000000</td>\n",
       "      <td>...</td>\n",
       "      <td>0.000000</td>\n",
       "      <td>0.000000</td>\n",
       "      <td>0.00000</td>\n",
       "      <td>0.000000</td>\n",
       "      <td>0.000000</td>\n",
       "      <td>0.000000</td>\n",
       "      <td>0.00000</td>\n",
       "      <td>0.000000</td>\n",
       "      <td>0.000000</td>\n",
       "      <td>0.000000</td>\n",
       "    </tr>\n",
       "    <tr>\n",
       "      <th>23</th>\n",
       "      <td>0.000000</td>\n",
       "      <td>0.000000</td>\n",
       "      <td>0.000000</td>\n",
       "      <td>0.000000</td>\n",
       "      <td>0.00000</td>\n",
       "      <td>0.000000</td>\n",
       "      <td>0.000000</td>\n",
       "      <td>0.000000</td>\n",
       "      <td>0.000000</td>\n",
       "      <td>0.000000</td>\n",
       "      <td>...</td>\n",
       "      <td>0.000000</td>\n",
       "      <td>0.000000</td>\n",
       "      <td>0.00000</td>\n",
       "      <td>0.000000</td>\n",
       "      <td>0.000000</td>\n",
       "      <td>0.000000</td>\n",
       "      <td>0.00000</td>\n",
       "      <td>0.000000</td>\n",
       "      <td>0.000000</td>\n",
       "      <td>0.000000</td>\n",
       "    </tr>\n",
       "    <tr>\n",
       "      <th>24</th>\n",
       "      <td>0.000000</td>\n",
       "      <td>0.000000</td>\n",
       "      <td>0.000000</td>\n",
       "      <td>0.000000</td>\n",
       "      <td>0.00000</td>\n",
       "      <td>0.000000</td>\n",
       "      <td>0.000000</td>\n",
       "      <td>0.000000</td>\n",
       "      <td>0.000000</td>\n",
       "      <td>0.000000</td>\n",
       "      <td>...</td>\n",
       "      <td>0.000000</td>\n",
       "      <td>0.000000</td>\n",
       "      <td>0.00000</td>\n",
       "      <td>0.000000</td>\n",
       "      <td>0.000000</td>\n",
       "      <td>0.000000</td>\n",
       "      <td>0.00000</td>\n",
       "      <td>0.000000</td>\n",
       "      <td>0.000000</td>\n",
       "      <td>0.000000</td>\n",
       "    </tr>\n",
       "    <tr>\n",
       "      <th>25</th>\n",
       "      <td>0.000000</td>\n",
       "      <td>0.000000</td>\n",
       "      <td>0.000000</td>\n",
       "      <td>0.000000</td>\n",
       "      <td>0.00000</td>\n",
       "      <td>0.000000</td>\n",
       "      <td>0.000000</td>\n",
       "      <td>0.000000</td>\n",
       "      <td>0.000000</td>\n",
       "      <td>0.000000</td>\n",
       "      <td>...</td>\n",
       "      <td>0.000000</td>\n",
       "      <td>0.000000</td>\n",
       "      <td>0.00000</td>\n",
       "      <td>0.000000</td>\n",
       "      <td>0.000000</td>\n",
       "      <td>0.000000</td>\n",
       "      <td>0.00000</td>\n",
       "      <td>0.000000</td>\n",
       "      <td>0.000000</td>\n",
       "      <td>0.000000</td>\n",
       "    </tr>\n",
       "    <tr>\n",
       "      <th>26</th>\n",
       "      <td>0.000000</td>\n",
       "      <td>0.000000</td>\n",
       "      <td>0.000000</td>\n",
       "      <td>0.000000</td>\n",
       "      <td>0.00000</td>\n",
       "      <td>0.000000</td>\n",
       "      <td>0.000000</td>\n",
       "      <td>0.000000</td>\n",
       "      <td>0.000000</td>\n",
       "      <td>0.000000</td>\n",
       "      <td>...</td>\n",
       "      <td>0.000000</td>\n",
       "      <td>0.000000</td>\n",
       "      <td>0.00000</td>\n",
       "      <td>0.000000</td>\n",
       "      <td>0.000000</td>\n",
       "      <td>0.000000</td>\n",
       "      <td>0.00000</td>\n",
       "      <td>0.000000</td>\n",
       "      <td>0.000000</td>\n",
       "      <td>0.000000</td>\n",
       "    </tr>\n",
       "    <tr>\n",
       "      <th>27</th>\n",
       "      <td>0.000000</td>\n",
       "      <td>0.000000</td>\n",
       "      <td>0.000000</td>\n",
       "      <td>0.000000</td>\n",
       "      <td>0.00000</td>\n",
       "      <td>0.000000</td>\n",
       "      <td>0.000000</td>\n",
       "      <td>0.000000</td>\n",
       "      <td>0.000000</td>\n",
       "      <td>0.000000</td>\n",
       "      <td>...</td>\n",
       "      <td>0.000000</td>\n",
       "      <td>0.000000</td>\n",
       "      <td>0.00000</td>\n",
       "      <td>0.000000</td>\n",
       "      <td>0.000000</td>\n",
       "      <td>0.000000</td>\n",
       "      <td>0.00000</td>\n",
       "      <td>0.000000</td>\n",
       "      <td>0.000000</td>\n",
       "      <td>0.000000</td>\n",
       "    </tr>\n",
       "    <tr>\n",
       "      <th>28</th>\n",
       "      <td>0.000000</td>\n",
       "      <td>0.000000</td>\n",
       "      <td>0.000000</td>\n",
       "      <td>0.000000</td>\n",
       "      <td>0.00000</td>\n",
       "      <td>0.000000</td>\n",
       "      <td>0.000000</td>\n",
       "      <td>0.000000</td>\n",
       "      <td>0.000000</td>\n",
       "      <td>0.000000</td>\n",
       "      <td>...</td>\n",
       "      <td>0.000000</td>\n",
       "      <td>0.000000</td>\n",
       "      <td>0.00000</td>\n",
       "      <td>0.000000</td>\n",
       "      <td>0.000000</td>\n",
       "      <td>0.000000</td>\n",
       "      <td>0.00000</td>\n",
       "      <td>0.000000</td>\n",
       "      <td>0.000000</td>\n",
       "      <td>0.000000</td>\n",
       "    </tr>\n",
       "    <tr>\n",
       "      <th>29</th>\n",
       "      <td>0.000000</td>\n",
       "      <td>0.000000</td>\n",
       "      <td>0.000000</td>\n",
       "      <td>0.000000</td>\n",
       "      <td>0.00000</td>\n",
       "      <td>0.000000</td>\n",
       "      <td>0.000000</td>\n",
       "      <td>0.000000</td>\n",
       "      <td>0.000000</td>\n",
       "      <td>0.000000</td>\n",
       "      <td>...</td>\n",
       "      <td>0.000000</td>\n",
       "      <td>0.000000</td>\n",
       "      <td>0.00000</td>\n",
       "      <td>0.000000</td>\n",
       "      <td>0.000000</td>\n",
       "      <td>0.000000</td>\n",
       "      <td>0.00000</td>\n",
       "      <td>0.000000</td>\n",
       "      <td>0.000000</td>\n",
       "      <td>0.000000</td>\n",
       "    </tr>\n",
       "    <tr>\n",
       "      <th>30</th>\n",
       "      <td>0.000000</td>\n",
       "      <td>0.000000</td>\n",
       "      <td>0.000000</td>\n",
       "      <td>0.000000</td>\n",
       "      <td>0.00000</td>\n",
       "      <td>0.000000</td>\n",
       "      <td>0.000000</td>\n",
       "      <td>0.000000</td>\n",
       "      <td>0.000000</td>\n",
       "      <td>0.000000</td>\n",
       "      <td>...</td>\n",
       "      <td>26.118473</td>\n",
       "      <td>0.000000</td>\n",
       "      <td>0.00000</td>\n",
       "      <td>0.000000</td>\n",
       "      <td>0.000000</td>\n",
       "      <td>0.000000</td>\n",
       "      <td>0.00000</td>\n",
       "      <td>0.000000</td>\n",
       "      <td>0.000000</td>\n",
       "      <td>0.000000</td>\n",
       "    </tr>\n",
       "    <tr>\n",
       "      <th>31</th>\n",
       "      <td>0.000000</td>\n",
       "      <td>0.000000</td>\n",
       "      <td>0.000000</td>\n",
       "      <td>0.000000</td>\n",
       "      <td>0.00000</td>\n",
       "      <td>0.000000</td>\n",
       "      <td>0.000000</td>\n",
       "      <td>0.000000</td>\n",
       "      <td>0.000000</td>\n",
       "      <td>0.000000</td>\n",
       "      <td>...</td>\n",
       "      <td>0.000000</td>\n",
       "      <td>9.582206</td>\n",
       "      <td>0.00000</td>\n",
       "      <td>0.000000</td>\n",
       "      <td>0.000000</td>\n",
       "      <td>0.000000</td>\n",
       "      <td>0.00000</td>\n",
       "      <td>0.000000</td>\n",
       "      <td>0.000000</td>\n",
       "      <td>0.000000</td>\n",
       "    </tr>\n",
       "    <tr>\n",
       "      <th>32</th>\n",
       "      <td>0.000000</td>\n",
       "      <td>0.000000</td>\n",
       "      <td>0.000000</td>\n",
       "      <td>0.000000</td>\n",
       "      <td>0.00000</td>\n",
       "      <td>0.000000</td>\n",
       "      <td>0.000000</td>\n",
       "      <td>0.000000</td>\n",
       "      <td>0.000000</td>\n",
       "      <td>0.000000</td>\n",
       "      <td>...</td>\n",
       "      <td>0.000000</td>\n",
       "      <td>0.000000</td>\n",
       "      <td>16.54728</td>\n",
       "      <td>0.000000</td>\n",
       "      <td>0.000000</td>\n",
       "      <td>0.000000</td>\n",
       "      <td>0.00000</td>\n",
       "      <td>0.000000</td>\n",
       "      <td>0.000000</td>\n",
       "      <td>0.000000</td>\n",
       "    </tr>\n",
       "    <tr>\n",
       "      <th>33</th>\n",
       "      <td>0.000000</td>\n",
       "      <td>0.000000</td>\n",
       "      <td>0.000000</td>\n",
       "      <td>0.000000</td>\n",
       "      <td>0.00000</td>\n",
       "      <td>0.000000</td>\n",
       "      <td>0.000000</td>\n",
       "      <td>0.000000</td>\n",
       "      <td>0.000000</td>\n",
       "      <td>0.000000</td>\n",
       "      <td>...</td>\n",
       "      <td>0.000000</td>\n",
       "      <td>0.000000</td>\n",
       "      <td>0.00000</td>\n",
       "      <td>11.120243</td>\n",
       "      <td>0.000000</td>\n",
       "      <td>0.000000</td>\n",
       "      <td>0.00000</td>\n",
       "      <td>0.000000</td>\n",
       "      <td>0.000000</td>\n",
       "      <td>0.000000</td>\n",
       "    </tr>\n",
       "    <tr>\n",
       "      <th>34</th>\n",
       "      <td>0.000000</td>\n",
       "      <td>0.000000</td>\n",
       "      <td>0.000000</td>\n",
       "      <td>0.000000</td>\n",
       "      <td>0.00000</td>\n",
       "      <td>0.000000</td>\n",
       "      <td>0.000000</td>\n",
       "      <td>0.000000</td>\n",
       "      <td>0.000000</td>\n",
       "      <td>0.000000</td>\n",
       "      <td>...</td>\n",
       "      <td>0.000000</td>\n",
       "      <td>0.000000</td>\n",
       "      <td>0.00000</td>\n",
       "      <td>0.000000</td>\n",
       "      <td>3.197789</td>\n",
       "      <td>0.000000</td>\n",
       "      <td>0.00000</td>\n",
       "      <td>0.000000</td>\n",
       "      <td>0.000000</td>\n",
       "      <td>0.000000</td>\n",
       "    </tr>\n",
       "    <tr>\n",
       "      <th>35</th>\n",
       "      <td>0.000000</td>\n",
       "      <td>0.000000</td>\n",
       "      <td>0.000000</td>\n",
       "      <td>0.000000</td>\n",
       "      <td>0.00000</td>\n",
       "      <td>0.000000</td>\n",
       "      <td>0.000000</td>\n",
       "      <td>0.000000</td>\n",
       "      <td>0.000000</td>\n",
       "      <td>0.000000</td>\n",
       "      <td>...</td>\n",
       "      <td>0.000000</td>\n",
       "      <td>0.000000</td>\n",
       "      <td>0.00000</td>\n",
       "      <td>0.000000</td>\n",
       "      <td>0.000000</td>\n",
       "      <td>1.137549</td>\n",
       "      <td>0.00000</td>\n",
       "      <td>0.000000</td>\n",
       "      <td>0.000000</td>\n",
       "      <td>0.000000</td>\n",
       "    </tr>\n",
       "    <tr>\n",
       "      <th>36</th>\n",
       "      <td>0.000000</td>\n",
       "      <td>0.000000</td>\n",
       "      <td>0.000000</td>\n",
       "      <td>0.000000</td>\n",
       "      <td>0.00000</td>\n",
       "      <td>0.000000</td>\n",
       "      <td>0.000000</td>\n",
       "      <td>0.000000</td>\n",
       "      <td>0.000000</td>\n",
       "      <td>0.000000</td>\n",
       "      <td>...</td>\n",
       "      <td>0.000000</td>\n",
       "      <td>0.000000</td>\n",
       "      <td>0.00000</td>\n",
       "      <td>0.000000</td>\n",
       "      <td>0.000000</td>\n",
       "      <td>0.000000</td>\n",
       "      <td>14.77516</td>\n",
       "      <td>0.000000</td>\n",
       "      <td>0.000000</td>\n",
       "      <td>0.000000</td>\n",
       "    </tr>\n",
       "    <tr>\n",
       "      <th>37</th>\n",
       "      <td>0.000000</td>\n",
       "      <td>0.000000</td>\n",
       "      <td>0.000000</td>\n",
       "      <td>0.000000</td>\n",
       "      <td>0.00000</td>\n",
       "      <td>0.000000</td>\n",
       "      <td>0.000000</td>\n",
       "      <td>0.000000</td>\n",
       "      <td>0.000000</td>\n",
       "      <td>0.000000</td>\n",
       "      <td>...</td>\n",
       "      <td>0.000000</td>\n",
       "      <td>0.000000</td>\n",
       "      <td>0.00000</td>\n",
       "      <td>0.000000</td>\n",
       "      <td>0.000000</td>\n",
       "      <td>0.000000</td>\n",
       "      <td>0.00000</td>\n",
       "      <td>3.448413</td>\n",
       "      <td>0.000000</td>\n",
       "      <td>0.000000</td>\n",
       "    </tr>\n",
       "    <tr>\n",
       "      <th>38</th>\n",
       "      <td>0.000000</td>\n",
       "      <td>0.000000</td>\n",
       "      <td>0.000000</td>\n",
       "      <td>0.000000</td>\n",
       "      <td>0.00000</td>\n",
       "      <td>0.000000</td>\n",
       "      <td>0.000000</td>\n",
       "      <td>0.000000</td>\n",
       "      <td>0.000000</td>\n",
       "      <td>0.000000</td>\n",
       "      <td>...</td>\n",
       "      <td>0.000000</td>\n",
       "      <td>0.000000</td>\n",
       "      <td>0.00000</td>\n",
       "      <td>0.000000</td>\n",
       "      <td>0.000000</td>\n",
       "      <td>0.000000</td>\n",
       "      <td>0.00000</td>\n",
       "      <td>0.000000</td>\n",
       "      <td>8.976852</td>\n",
       "      <td>0.000000</td>\n",
       "    </tr>\n",
       "    <tr>\n",
       "      <th>39</th>\n",
       "      <td>0.000000</td>\n",
       "      <td>0.000000</td>\n",
       "      <td>0.000000</td>\n",
       "      <td>0.000000</td>\n",
       "      <td>0.00000</td>\n",
       "      <td>0.000000</td>\n",
       "      <td>0.000000</td>\n",
       "      <td>0.000000</td>\n",
       "      <td>0.000000</td>\n",
       "      <td>0.000000</td>\n",
       "      <td>...</td>\n",
       "      <td>0.000000</td>\n",
       "      <td>0.000000</td>\n",
       "      <td>0.00000</td>\n",
       "      <td>0.000000</td>\n",
       "      <td>0.000000</td>\n",
       "      <td>0.000000</td>\n",
       "      <td>0.00000</td>\n",
       "      <td>0.000000</td>\n",
       "      <td>0.000000</td>\n",
       "      <td>2.368814</td>\n",
       "    </tr>\n",
       "  </tbody>\n",
       "</table>\n",
       "<p>40 rows × 40 columns</p>\n",
       "</div>"
      ],
      "text/plain": [
       "             0            1            2            3           4   \\\n",
       "0   3695.027839     0.000000     0.000000     0.000000     0.00000   \n",
       "1      0.000000  3947.610126     0.000000     0.000000     0.00000   \n",
       "2      0.000000     0.000000  4108.385415     0.000000     0.00000   \n",
       "3      0.000000     0.000000     0.000000  3436.793548     0.00000   \n",
       "4      0.000000     0.000000     0.000000     0.000000  3898.62602   \n",
       "5      0.000000     0.000000     0.000000     0.000000     0.00000   \n",
       "6      0.000000     0.000000     0.000000     0.000000     0.00000   \n",
       "7      0.000000     0.000000     0.000000     0.000000     0.00000   \n",
       "8      0.000000     0.000000     0.000000     0.000000     0.00000   \n",
       "9      0.000000     0.000000     0.000000     0.000000     0.00000   \n",
       "10     0.000000     0.000000     0.000000     0.000000     0.00000   \n",
       "11     0.000000     0.000000     0.000000     0.000000     0.00000   \n",
       "12     0.000000     0.000000     0.000000     0.000000     0.00000   \n",
       "13     0.000000     0.000000     0.000000     0.000000     0.00000   \n",
       "14     0.000000     0.000000     0.000000     0.000000     0.00000   \n",
       "15     0.000000     0.000000     0.000000     0.000000     0.00000   \n",
       "16     0.000000     0.000000     0.000000     0.000000     0.00000   \n",
       "17     0.000000     0.000000     0.000000     0.000000     0.00000   \n",
       "18     0.000000     0.000000     0.000000     0.000000     0.00000   \n",
       "19     0.000000     0.000000     0.000000     0.000000     0.00000   \n",
       "20     0.000000     0.000000     0.000000     0.000000     0.00000   \n",
       "21     0.000000     0.000000     0.000000     0.000000     0.00000   \n",
       "22     0.000000     0.000000     0.000000     0.000000     0.00000   \n",
       "23     0.000000     0.000000     0.000000     0.000000     0.00000   \n",
       "24     0.000000     0.000000     0.000000     0.000000     0.00000   \n",
       "25     0.000000     0.000000     0.000000     0.000000     0.00000   \n",
       "26     0.000000     0.000000     0.000000     0.000000     0.00000   \n",
       "27     0.000000     0.000000     0.000000     0.000000     0.00000   \n",
       "28     0.000000     0.000000     0.000000     0.000000     0.00000   \n",
       "29     0.000000     0.000000     0.000000     0.000000     0.00000   \n",
       "30     0.000000     0.000000     0.000000     0.000000     0.00000   \n",
       "31     0.000000     0.000000     0.000000     0.000000     0.00000   \n",
       "32     0.000000     0.000000     0.000000     0.000000     0.00000   \n",
       "33     0.000000     0.000000     0.000000     0.000000     0.00000   \n",
       "34     0.000000     0.000000     0.000000     0.000000     0.00000   \n",
       "35     0.000000     0.000000     0.000000     0.000000     0.00000   \n",
       "36     0.000000     0.000000     0.000000     0.000000     0.00000   \n",
       "37     0.000000     0.000000     0.000000     0.000000     0.00000   \n",
       "38     0.000000     0.000000     0.000000     0.000000     0.00000   \n",
       "39     0.000000     0.000000     0.000000     0.000000     0.00000   \n",
       "\n",
       "             5            6            7            8            9   ...  \\\n",
       "0      0.000000     0.000000     0.000000     0.000000     0.000000  ...   \n",
       "1      0.000000     0.000000     0.000000     0.000000     0.000000  ...   \n",
       "2      0.000000     0.000000     0.000000     0.000000     0.000000  ...   \n",
       "3      0.000000     0.000000     0.000000     0.000000     0.000000  ...   \n",
       "4      0.000000     0.000000     0.000000     0.000000     0.000000  ...   \n",
       "5   3876.586708     0.000000     0.000000     0.000000     0.000000  ...   \n",
       "6      0.000000  4425.082469     0.000000     0.000000     0.000000  ...   \n",
       "7      0.000000     0.000000  3957.581063     0.000000     0.000000  ...   \n",
       "8      0.000000     0.000000     0.000000  3829.180431     0.000000  ...   \n",
       "9      0.000000     0.000000     0.000000     0.000000  5282.186121  ...   \n",
       "10     0.000000     0.000000     0.000000     0.000000     0.000000  ...   \n",
       "11     0.000000     0.000000     0.000000     0.000000     0.000000  ...   \n",
       "12     0.000000     0.000000     0.000000     0.000000     0.000000  ...   \n",
       "13     0.000000     0.000000     0.000000     0.000000     0.000000  ...   \n",
       "14     0.000000     0.000000     0.000000     0.000000     0.000000  ...   \n",
       "15     0.000000     0.000000     0.000000     0.000000     0.000000  ...   \n",
       "16     0.000000     0.000000     0.000000     0.000000     0.000000  ...   \n",
       "17     0.000000     0.000000     0.000000     0.000000     0.000000  ...   \n",
       "18     0.000000     0.000000     0.000000     0.000000     0.000000  ...   \n",
       "19     0.000000     0.000000     0.000000     0.000000     0.000000  ...   \n",
       "20     0.000000     0.000000     0.000000     0.000000     0.000000  ...   \n",
       "21     0.000000     0.000000     0.000000     0.000000     0.000000  ...   \n",
       "22     0.000000     0.000000     0.000000     0.000000     0.000000  ...   \n",
       "23     0.000000     0.000000     0.000000     0.000000     0.000000  ...   \n",
       "24     0.000000     0.000000     0.000000     0.000000     0.000000  ...   \n",
       "25     0.000000     0.000000     0.000000     0.000000     0.000000  ...   \n",
       "26     0.000000     0.000000     0.000000     0.000000     0.000000  ...   \n",
       "27     0.000000     0.000000     0.000000     0.000000     0.000000  ...   \n",
       "28     0.000000     0.000000     0.000000     0.000000     0.000000  ...   \n",
       "29     0.000000     0.000000     0.000000     0.000000     0.000000  ...   \n",
       "30     0.000000     0.000000     0.000000     0.000000     0.000000  ...   \n",
       "31     0.000000     0.000000     0.000000     0.000000     0.000000  ...   \n",
       "32     0.000000     0.000000     0.000000     0.000000     0.000000  ...   \n",
       "33     0.000000     0.000000     0.000000     0.000000     0.000000  ...   \n",
       "34     0.000000     0.000000     0.000000     0.000000     0.000000  ...   \n",
       "35     0.000000     0.000000     0.000000     0.000000     0.000000  ...   \n",
       "36     0.000000     0.000000     0.000000     0.000000     0.000000  ...   \n",
       "37     0.000000     0.000000     0.000000     0.000000     0.000000  ...   \n",
       "38     0.000000     0.000000     0.000000     0.000000     0.000000  ...   \n",
       "39     0.000000     0.000000     0.000000     0.000000     0.000000  ...   \n",
       "\n",
       "           30        31        32         33        34        35        36  \\\n",
       "0    0.000000  0.000000   0.00000   0.000000  0.000000  0.000000   0.00000   \n",
       "1    0.000000  0.000000   0.00000   0.000000  0.000000  0.000000   0.00000   \n",
       "2    0.000000  0.000000   0.00000   0.000000  0.000000  0.000000   0.00000   \n",
       "3    0.000000  0.000000   0.00000   0.000000  0.000000  0.000000   0.00000   \n",
       "4    0.000000  0.000000   0.00000   0.000000  0.000000  0.000000   0.00000   \n",
       "5    0.000000  0.000000   0.00000   0.000000  0.000000  0.000000   0.00000   \n",
       "6    0.000000  0.000000   0.00000   0.000000  0.000000  0.000000   0.00000   \n",
       "7    0.000000  0.000000   0.00000   0.000000  0.000000  0.000000   0.00000   \n",
       "8    0.000000  0.000000   0.00000   0.000000  0.000000  0.000000   0.00000   \n",
       "9    0.000000  0.000000   0.00000   0.000000  0.000000  0.000000   0.00000   \n",
       "10   0.000000  0.000000   0.00000   0.000000  0.000000  0.000000   0.00000   \n",
       "11   0.000000  0.000000   0.00000   0.000000  0.000000  0.000000   0.00000   \n",
       "12   0.000000  0.000000   0.00000   0.000000  0.000000  0.000000   0.00000   \n",
       "13   0.000000  0.000000   0.00000   0.000000  0.000000  0.000000   0.00000   \n",
       "14   0.000000  0.000000   0.00000   0.000000  0.000000  0.000000   0.00000   \n",
       "15   0.000000  0.000000   0.00000   0.000000  0.000000  0.000000   0.00000   \n",
       "16   0.000000  0.000000   0.00000   0.000000  0.000000  0.000000   0.00000   \n",
       "17   0.000000  0.000000   0.00000   0.000000  0.000000  0.000000   0.00000   \n",
       "18   0.000000  0.000000   0.00000   0.000000  0.000000  0.000000   0.00000   \n",
       "19   0.000000  0.000000   0.00000   0.000000  0.000000  0.000000   0.00000   \n",
       "20   0.000000  0.000000   0.00000   0.000000  0.000000  0.000000   0.00000   \n",
       "21   0.000000  0.000000   0.00000   0.000000  0.000000  0.000000   0.00000   \n",
       "22   0.000000  0.000000   0.00000   0.000000  0.000000  0.000000   0.00000   \n",
       "23   0.000000  0.000000   0.00000   0.000000  0.000000  0.000000   0.00000   \n",
       "24   0.000000  0.000000   0.00000   0.000000  0.000000  0.000000   0.00000   \n",
       "25   0.000000  0.000000   0.00000   0.000000  0.000000  0.000000   0.00000   \n",
       "26   0.000000  0.000000   0.00000   0.000000  0.000000  0.000000   0.00000   \n",
       "27   0.000000  0.000000   0.00000   0.000000  0.000000  0.000000   0.00000   \n",
       "28   0.000000  0.000000   0.00000   0.000000  0.000000  0.000000   0.00000   \n",
       "29   0.000000  0.000000   0.00000   0.000000  0.000000  0.000000   0.00000   \n",
       "30  26.118473  0.000000   0.00000   0.000000  0.000000  0.000000   0.00000   \n",
       "31   0.000000  9.582206   0.00000   0.000000  0.000000  0.000000   0.00000   \n",
       "32   0.000000  0.000000  16.54728   0.000000  0.000000  0.000000   0.00000   \n",
       "33   0.000000  0.000000   0.00000  11.120243  0.000000  0.000000   0.00000   \n",
       "34   0.000000  0.000000   0.00000   0.000000  3.197789  0.000000   0.00000   \n",
       "35   0.000000  0.000000   0.00000   0.000000  0.000000  1.137549   0.00000   \n",
       "36   0.000000  0.000000   0.00000   0.000000  0.000000  0.000000  14.77516   \n",
       "37   0.000000  0.000000   0.00000   0.000000  0.000000  0.000000   0.00000   \n",
       "38   0.000000  0.000000   0.00000   0.000000  0.000000  0.000000   0.00000   \n",
       "39   0.000000  0.000000   0.00000   0.000000  0.000000  0.000000   0.00000   \n",
       "\n",
       "          37        38        39  \n",
       "0   0.000000  0.000000  0.000000  \n",
       "1   0.000000  0.000000  0.000000  \n",
       "2   0.000000  0.000000  0.000000  \n",
       "3   0.000000  0.000000  0.000000  \n",
       "4   0.000000  0.000000  0.000000  \n",
       "5   0.000000  0.000000  0.000000  \n",
       "6   0.000000  0.000000  0.000000  \n",
       "7   0.000000  0.000000  0.000000  \n",
       "8   0.000000  0.000000  0.000000  \n",
       "9   0.000000  0.000000  0.000000  \n",
       "10  0.000000  0.000000  0.000000  \n",
       "11  0.000000  0.000000  0.000000  \n",
       "12  0.000000  0.000000  0.000000  \n",
       "13  0.000000  0.000000  0.000000  \n",
       "14  0.000000  0.000000  0.000000  \n",
       "15  0.000000  0.000000  0.000000  \n",
       "16  0.000000  0.000000  0.000000  \n",
       "17  0.000000  0.000000  0.000000  \n",
       "18  0.000000  0.000000  0.000000  \n",
       "19  0.000000  0.000000  0.000000  \n",
       "20  0.000000  0.000000  0.000000  \n",
       "21  0.000000  0.000000  0.000000  \n",
       "22  0.000000  0.000000  0.000000  \n",
       "23  0.000000  0.000000  0.000000  \n",
       "24  0.000000  0.000000  0.000000  \n",
       "25  0.000000  0.000000  0.000000  \n",
       "26  0.000000  0.000000  0.000000  \n",
       "27  0.000000  0.000000  0.000000  \n",
       "28  0.000000  0.000000  0.000000  \n",
       "29  0.000000  0.000000  0.000000  \n",
       "30  0.000000  0.000000  0.000000  \n",
       "31  0.000000  0.000000  0.000000  \n",
       "32  0.000000  0.000000  0.000000  \n",
       "33  0.000000  0.000000  0.000000  \n",
       "34  0.000000  0.000000  0.000000  \n",
       "35  0.000000  0.000000  0.000000  \n",
       "36  0.000000  0.000000  0.000000  \n",
       "37  3.448413  0.000000  0.000000  \n",
       "38  0.000000  8.976852  0.000000  \n",
       "39  0.000000  0.000000  2.368814  \n",
       "\n",
       "[40 rows x 40 columns]"
      ]
     },
     "execution_count": 44,
     "metadata": {},
     "output_type": "execute_result"
    }
   ],
   "source": [
    "pd.DataFrame(W)"
   ]
  },
  {
   "cell_type": "markdown",
   "metadata": {},
   "source": [
    "## Criterion Function "
   ]
  },
  {
   "cell_type": "markdown",
   "metadata": {},
   "source": [
    "We have collected the observed data for our model, chosen the set of moments we want to use for estimation and defined a weighting matrix based on these moments. We can now set up the criterion function to use for estimation. \n",
    "\n",
    "As already discussed above, the criterion function is given by the weighted square product of the difference between observed moments $m(X)$ and simulated moments $m(\\hat{X}| \\theta)$. Trivially, if we have that $m(X) = m(\\hat{X}| \\theta)$, the criterion function returns a value of 0. Thus, the closer $\\theta$ is to the real parameter vector, the smaller should be the value for the criterion function. "
   ]
  },
  {
   "cell_type": "code",
   "execution_count": 48,
   "metadata": {
    "ExecuteTime": {
     "end_time": "2020-04-23T12:43:33.508043Z",
     "start_time": "2020-04-23T12:43:33.310057Z"
    }
   },
   "outputs": [],
   "source": [
    "criterion_msm = rp.get_msm_func(params_true, options, calc_moments, replace_nans, observed_moments, W)"
   ]
  },
  {
   "cell_type": "markdown",
   "metadata": {},
   "source": [
    "Criterion function at the true parameter vector:"
   ]
  },
  {
   "cell_type": "code",
   "execution_count": 50,
   "metadata": {
    "ExecuteTime": {
     "end_time": "2020-04-23T12:43:59.359080Z",
     "start_time": "2020-04-23T12:43:58.839283Z"
    }
   },
   "outputs": [
    {
     "data": {
      "text/plain": [
       "0.0"
      ]
     },
     "execution_count": 50,
     "metadata": {},
     "output_type": "execute_result"
    }
   ],
   "source": [
    "fval = criterion_msm(params_true)\n",
    "fval"
   ]
  },
  {
   "cell_type": "markdown",
   "metadata": {},
   "source": [
    "We can plot the criterion function to examine its behavior around the minimum in more detail. The plots below show the criterion function at varying values of all parameters in the the paramter vector."
   ]
  },
  {
   "cell_type": "code",
   "execution_count": 140,
   "metadata": {
    "ExecuteTime": {
     "end_time": "2020-04-23T14:27:18.966208Z",
     "start_time": "2020-04-23T14:25:46.618607Z"
    },
    "scrolled": false
   },
   "outputs": [
    {
     "data": {
      "image/png": "[encoded data removed]",
      "text/plain": [
       "<Figure size 432x288 with 1 Axes>"
      ]
     },
     "metadata": {
      "needs_background": "light"
     },
     "output_type": "display_data"
    },
    {
     "data": {
      "image/png": "[encoded data removed]",
      "text/plain": [
       "<Figure size 432x288 with 1 Axes>"
      ]
     },
     "metadata": {
      "needs_background": "light"
     },
     "output_type": "display_data"
    },
    {
     "data": {
      "image/png": "[encoded data removed]",
      "text/plain": [
       "<Figure size 432x288 with 1 Axes>"
      ]
     },
     "metadata": {
      "needs_background": "light"
     },
     "output_type": "display_data"
    },
    {
     "data": {
      "image/png": "[encoded data removed]",
      "text/plain": [
       "<Figure size 432x288 with 1 Axes>"
      ]
     },
     "metadata": {
      "needs_background": "light"
     },
     "output_type": "display_data"
    },
    {
     "data": {
      "image/png": "[encoded data removed]",
      "text/plain": [
       "<Figure size 432x288 with 1 Axes>"
      ]
     },
     "metadata": {
      "needs_background": "light"
     },
     "output_type": "display_data"
    },
    {
     "data": {
      "image/png": "[encoded data removed]",
      "text/plain": [
       "<Figure size 432x288 with 1 Axes>"
      ]
     },
     "metadata": {
      "needs_background": "light"
     },
     "output_type": "display_data"
    },
    {
     "data": {
      "image/png": "[encoded data removed]",
      "text/plain": [
       "<Figure size 432x288 with 1 Axes>"
      ]
     },
     "metadata": {
      "needs_background": "light"
     },
     "output_type": "display_data"
    },
    {
     "data": {
      "image/png": "[encoded data removed]",
      "text/plain": [
       "<Figure size 432x288 with 1 Axes>"
      ]
     },
     "metadata": {
      "needs_background": "light"
     },
     "output_type": "display_data"
    },
    {
     "data": {
      "image/png": "[encoded data removed]",
      "text/plain": [
       "<Figure size 432x288 with 1 Axes>"
      ]
     },
     "metadata": {
      "needs_background": "light"
     },
     "output_type": "display_data"
    },
    {
     "data": {
      "image/png": "[encoded data removed]",
      "text/plain": [
       "<Figure size 432x288 with 1 Axes>"
      ]
     },
     "metadata": {
      "needs_background": "light"
     },
     "output_type": "display_data"
    }
   ],
   "source": [
    "plot_criterion_params(params_true,list(params_true.index), criterion_msm, 0.05)"
   ]
  },
  {
   "cell_type": "markdown",
   "metadata": {},
   "source": [
    "This depiction for most parameters conceals the fact that the criterion function is not a smooth function of our parameter values. We can reveal this property if we 'zoom in' on the function far enough. The plots below show the criterion function for varying values of *delta* around the true minimum value of 0.95. We can see that the function exhibits small plateaus and is thus not completely smooth. "
   ]
  },
  {
   "cell_type": "code",
   "execution_count": 139,
   "metadata": {
    "ExecuteTime": {
     "end_time": "2020-04-23T14:25:46.616859Z",
     "start_time": "2020-04-23T14:25:04.460585Z"
    }
   },
   "outputs": [
    {
     "data": {
      "image/png": "[encoded data removed]",
      "text/plain": [
       "<Figure size 432x288 with 1 Axes>"
      ]
     },
     "metadata": {
      "needs_background": "light"
     },
     "output_type": "display_data"
    },
    {
     "data": {
      "image/png": "[encoded data removed]",
      "text/plain": [
       "<Figure size 432x288 with 1 Axes>"
      ]
     },
     "metadata": {
      "needs_background": "light"
     },
     "output_type": "display_data"
    },
    {
     "data": {
      "image/png": "[encoded data removed]",
      "text/plain": [
       "<Figure size 432x288 with 1 Axes>"
      ]
     },
     "metadata": {
      "needs_background": "light"
     },
     "output_type": "display_data"
    },
    {
     "data": {
      "image/png": "[encoded data removed]",
      "text/plain": [
       "<Figure size 432x288 with 1 Axes>"
      ]
     },
     "metadata": {
      "needs_background": "light"
     },
     "output_type": "display_data"
    }
   ],
   "source": [
    "for radius in [0.1, 0.01, 0.001, 0.0005]:\n",
    "    plot_criterion_params(params_true, list(params_true.index)[0:1], criterion_msm, radius)"
   ]
  },
  {
   "cell_type": "markdown",
   "metadata": {},
   "source": [
    "##  Estimation Exercise"
   ]
  },
  {
   "cell_type": "markdown",
   "metadata": {},
   "source": [
    "In the following we will conduct a simulation exercise to estimate the parameter vector using our criterion function and weighting matrix. We will begin by simulating data using the new parameter vector and examine how the simulated moments differ from the observed ones. We will then use an optimizer to minimize the criterion function in order to retrieve the true parameter vector. Additionally, we will explore how the criterion function behaves if we change the simulation seed, move away from the true values and test the optimization for a derivative-based optimization algorithm."
   ]
  },
  {
   "cell_type": "markdown",
   "metadata": {},
   "source": [
    "### Estimation for one parameter"
   ]
  },
  {
   "cell_type": "markdown",
   "metadata": {},
   "source": [
    "For now, our candidate parameter vector will just differ in *delta* from the true parameters."
   ]
  },
  {
   "cell_type": "code",
   "execution_count": 66,
   "metadata": {},
   "outputs": [],
   "source": [
    "params_cand = params_true.copy()\n",
    "params_cand.loc['delta','value'] = 0.93"
   ]
  },
  {
   "cell_type": "markdown",
   "metadata": {},
   "source": [
    "#### Simulated Moments"
   ]
  },
  {
   "cell_type": "markdown",
   "metadata": {},
   "source": [
    "We can now use our model to simulate data using the candidate parameter vector. We can see that the choice frequencies and wage distribution differ from the moments of the observed dataset."
   ]
  },
  {
   "cell_type": "code",
   "execution_count": 67,
   "metadata": {},
   "outputs": [],
   "source": [
    "params = params_cand.copy()\n",
    "simulate = rp.get_simulate_func(params, options)\n",
    "df_sim = simulate(params)\n",
    "moments_sim = get_moments(df_sim, choice_options_robinson)"
   ]
  },
  {
   "cell_type": "markdown",
   "metadata": {},
   "source": [
    "We can plot the moments to compare the choice frequencies for each period."
   ]
  },
  {
   "cell_type": "code",
   "execution_count": 68,
   "metadata": {},
   "outputs": [
    {
     "data": {
      "image/png": "[encoded data removed]",
      "text/plain": [
       "<Figure size 432x288 with 2 Axes>"
      ]
     },
     "metadata": {
      "needs_background": "light"
     },
     "output_type": "display_data"
    }
   ],
   "source": [
    "plot_moments_choices(moments_obs, moments_sim)"
   ]
  },
  {
   "cell_type": "markdown",
   "metadata": {},
   "source": [
    "The plots below show the mean and the standard deviation in the wages for each period."
   ]
  },
  {
   "cell_type": "code",
   "execution_count": 69,
   "metadata": {},
   "outputs": [
    {
     "data": {
      "image/png": "[encoded data removed]",
      "text/plain": [
       "<Figure size 432x288 with 2 Axes>"
      ]
     },
     "metadata": {
      "needs_background": "light"
     },
     "output_type": "display_data"
    }
   ],
   "source": [
    "plot_moments_wage(moments_obs, moments_sim)"
   ]
  },
  {
   "cell_type": "markdown",
   "metadata": {},
   "source": [
    "The criterion function value for the candidate parameter vector is not zero."
   ]
  },
  {
   "cell_type": "code",
   "execution_count": 70,
   "metadata": {},
   "outputs": [
    {
     "data": {
      "text/plain": [
       "1637.6587458130693"
      ]
     },
     "execution_count": 70,
     "metadata": {},
     "output_type": "execute_result"
    }
   ],
   "source": [
    "fval = criterion_smm(params_cand, options, W, moments_obs, choice_options_robinson)\n",
    "fval"
   ]
  },
  {
   "cell_type": "markdown",
   "metadata": {},
   "source": [
    "#### Optimization Procedure"
   ]
  },
  {
   "cell_type": "markdown",
   "metadata": {},
   "source": [
    "We will now use an optimization procedure to retrieve the true parameter vector. For the optimization we can use [estimagic](https://estimagic.readthedocs.io/en/latest/index.html). In order to minimize the criterion function we need estimagic's `minimize` function.\n",
    "\n"
   ]
  },
  {
   "cell_type": "code",
   "execution_count": 71,
   "metadata": {},
   "outputs": [],
   "source": [
    "from estimagic.optimization.optimize import minimize"
   ]
  },
  {
   "cell_type": "markdown",
   "metadata": {},
   "source": [
    "We have verified above that the criterion function gives a value of 0 for the true parameter vector. Before we try different parameter specifications, we can check whether an optimizer recognizes the true vector as the minimum of our criterion function."
   ]
  },
  {
   "cell_type": "code",
   "execution_count": 72,
   "metadata": {},
   "outputs": [],
   "source": [
    "# Save criterion function arguments in a dictionary to pass onto the optimzer.\n",
    "criterion_kwargs = dict()\n",
    "criterion_kwargs[\"weighting_matrix\"] = W\n",
    "criterion_kwargs[\"options\"] = options\n",
    "criterion_kwargs[\"choice_options\"] = list(choice_options_robinson)\n",
    "criterion_kwargs[\"moments_obs\"] = moments_obs"
   ]
  },
  {
   "cell_type": "markdown",
   "metadata": {},
   "source": [
    "As the code below shows, the optimization algorithm recognizes the true parameter vector as the minimum of the criterion function as it returns a function value of 0 and the true parameter values."
   ]
  },
  {
   "cell_type": "code",
   "execution_count": 73,
   "metadata": {},
   "outputs": [
    {
     "data": {
      "text/plain": [
       "{'criterion': 0.0,\n",
       " 'x': array([ 0.95 ,  0.07 , -0.1  ,  1.046,  0.01 ,  0.01 ,  0.   ]),\n",
       " 'n_evaluations': 124,\n",
       " 'n_evaluations_jacobian': 0,\n",
       " 'n_evaluations_hessian': 0,\n",
       " 'n_constraints': 0,\n",
       " 'n_constraints_equality': 0,\n",
       " 'n_constraints_inequality': 0,\n",
       " 'optimization_status': 'success'}"
      ]
     },
     "execution_count": 73,
     "metadata": {},
     "output_type": "execute_result"
    }
   ],
   "source": [
    "rslt = minimize(criterion=criterion_smm,\n",
    "                params=params_true,\n",
    "                algorithm=\"nlopt_bobyqa\",\n",
    "                criterion_kwargs= criterion_kwargs,\n",
    "               )\n",
    "rslt[0]"
   ]
  },
  {
   "cell_type": "markdown",
   "metadata": {},
   "source": [
    "##### Upper and Lower Bounds"
   ]
  },
  {
   "cell_type": "markdown",
   "metadata": {},
   "source": [
    "We can help the optimizer by specifying bounds for the parameters. Since we know the true parameters in the case of this model, we can just pick upper and lower bounds that are fairly close to the true values of the parameters to aid the optimizer in the search for the optimum. By default, the upper and lower bounds are set to $\\infty$ and $-\\infty$, so specifying upper and lower bounds substantially reduces the range of parameter values that the optimizer can potentially cover.\n",
    "\n",
    "For optimization with estimagic, we can specify bounds by adding the columns *'lower'* and *'upper'* to the dataframe that contains the parameter values."
   ]
  },
  {
   "cell_type": "code",
   "execution_count": 74,
   "metadata": {},
   "outputs": [
    {
     "data": {
      "text/html": [
       "<div>\n",
       "<style scoped>\n",
       "    .dataframe tbody tr th:only-of-type {\n",
       "        vertical-align: middle;\n",
       "    }\n",
       "\n",
       "    .dataframe tbody tr th {\n",
       "        vertical-align: top;\n",
       "    }\n",
       "\n",
       "    .dataframe thead th {\n",
       "        text-align: right;\n",
       "    }\n",
       "</style>\n",
       "<table border=\"1\" class=\"dataframe\">\n",
       "  <thead>\n",
       "    <tr style=\"text-align: right;\">\n",
       "      <th></th>\n",
       "      <th></th>\n",
       "      <th>value</th>\n",
       "      <th>lower</th>\n",
       "      <th>upper</th>\n",
       "    </tr>\n",
       "    <tr>\n",
       "      <th>category</th>\n",
       "      <th>name</th>\n",
       "      <th></th>\n",
       "      <th></th>\n",
       "      <th></th>\n",
       "    </tr>\n",
       "  </thead>\n",
       "  <tbody>\n",
       "    <tr>\n",
       "      <td>delta</td>\n",
       "      <td>delta</td>\n",
       "      <td>0.930</td>\n",
       "      <td>0.890</td>\n",
       "      <td>0.980</td>\n",
       "    </tr>\n",
       "    <tr>\n",
       "      <td>wage_fishing</td>\n",
       "      <td>exp_fishing</td>\n",
       "      <td>0.070</td>\n",
       "      <td>0.066</td>\n",
       "      <td>0.072</td>\n",
       "    </tr>\n",
       "    <tr>\n",
       "      <td>nonpec_fishing</td>\n",
       "      <td>constant</td>\n",
       "      <td>-0.100</td>\n",
       "      <td>-0.110</td>\n",
       "      <td>-0.095</td>\n",
       "    </tr>\n",
       "    <tr>\n",
       "      <td>nonpec_hammock</td>\n",
       "      <td>constant</td>\n",
       "      <td>1.046</td>\n",
       "      <td>1.040</td>\n",
       "      <td>1.055</td>\n",
       "    </tr>\n",
       "    <tr>\n",
       "      <td rowspan=\"3\" valign=\"top\">shocks_sdcorr</td>\n",
       "      <td>sd_fishing</td>\n",
       "      <td>0.010</td>\n",
       "      <td>0.000</td>\n",
       "      <td>0.100</td>\n",
       "    </tr>\n",
       "    <tr>\n",
       "      <td>sd_hammock</td>\n",
       "      <td>0.010</td>\n",
       "      <td>0.000</td>\n",
       "      <td>0.100</td>\n",
       "    </tr>\n",
       "    <tr>\n",
       "      <td>corr_hammock_fishing</td>\n",
       "      <td>0.000</td>\n",
       "      <td>0.000</td>\n",
       "      <td>0.100</td>\n",
       "    </tr>\n",
       "  </tbody>\n",
       "</table>\n",
       "</div>"
      ],
      "text/plain": [
       "                                     value  lower  upper\n",
       "category       name                                     \n",
       "delta          delta                 0.930  0.890  0.980\n",
       "wage_fishing   exp_fishing           0.070  0.066  0.072\n",
       "nonpec_fishing constant             -0.100 -0.110 -0.095\n",
       "nonpec_hammock constant              1.046  1.040  1.055\n",
       "shocks_sdcorr  sd_fishing            0.010  0.000  0.100\n",
       "               sd_hammock            0.010  0.000  0.100\n",
       "               corr_hammock_fishing  0.000  0.000  0.100"
      ]
     },
     "execution_count": 74,
     "metadata": {},
     "output_type": "execute_result"
    }
   ],
   "source": [
    "params_cand['lower'] = [0.89, 0.066, -0.11, 1.04, 0, 0, 0]\n",
    "params_cand['upper'] = [0.98, 0.072, -0.095, 1.055, 0.1, 0.1, 0.1]\n",
    "params_cand"
   ]
  },
  {
   "cell_type": "markdown",
   "metadata": {},
   "source": [
    "##### Constraints"
   ]
  },
  {
   "cell_type": "markdown",
   "metadata": {},
   "source": [
    "Additionally we hold all other parameters fixed for now to aid the optimizer in finding the optimal value for *delta*."
   ]
  },
  {
   "cell_type": "code",
   "execution_count": 75,
   "metadata": {},
   "outputs": [],
   "source": [
    "# Define base constraints to use for the rest of the notebook.\n",
    "constr_base = [\n",
    "    {\"loc\": \"shocks_sdcorr\", \"type\": \"sdcorr\"}, \n",
    "    {\"loc\": \"delta\", \"type\": \"fixed\"},\n",
    "    {\"loc\": \"wage_fishing\", \"type\": \"fixed\"},\n",
    "    {\"loc\": \"nonpec_fishing\", \"type\": \"fixed\"},\n",
    "    {\"loc\": \"nonpec_hammock\", \"type\":\"fixed\"},\n",
    "    {\"loc\": \"shocks_sdcorr\", \"type\": \"fixed\"},\n",
    "]"
   ]
  },
  {
   "cell_type": "code",
   "execution_count": 76,
   "metadata": {},
   "outputs": [],
   "source": [
    "# Remove constraint for delta.\n",
    "constr = constr_base.copy()\n",
    "constr.remove({\"loc\": \"delta\", \"type\": \"fixed\"})"
   ]
  },
  {
   "cell_type": "markdown",
   "metadata": {},
   "source": [
    "##### Optimize"
   ]
  },
  {
   "cell_type": "markdown",
   "metadata": {},
   "source": [
    "We can now optimize the criterion function with respect to the parameter vector. The optimizer manages to reach a function value of 0 and finds an approximately correct *delta* for our model. \n",
    "\n",
    "This exercise again reveals that we are dealing with a non-smooth criterion function. The optimizer does not return the exact value of 0.95 for *delta* because of the little plateaus we saw when zooming into the criterion function. As the plot shows, there is a small area around the true value for *delta* that also returns a function value of 0 and might thus be picked by the optimizer."
   ]
  },
  {
   "cell_type": "code",
   "execution_count": 77,
   "metadata": {
    "scrolled": true
   },
   "outputs": [
    {
     "data": {
      "text/plain": [
       "{'criterion': 0.0,\n",
       " 'x': array([0.95000841]),\n",
       " 'n_evaluations': 23,\n",
       " 'n_evaluations_jacobian': 0,\n",
       " 'n_evaluations_hessian': 0,\n",
       " 'n_constraints': 0,\n",
       " 'n_constraints_equality': 0,\n",
       " 'n_constraints_inequality': 0,\n",
       " 'optimization_status': 'success'}"
      ]
     },
     "execution_count": 77,
     "metadata": {},
     "output_type": "execute_result"
    }
   ],
   "source": [
    "rslt = minimize(criterion=criterion_smm,\n",
    "                params=params_cand,\n",
    "                algorithm=\"nlopt_bobyqa\",\n",
    "                constraints=constr,\n",
    "                criterion_kwargs=criterion_kwargs,\n",
    "               )\n",
    "rslt[0]"
   ]
  },
  {
   "cell_type": "markdown",
   "metadata": {},
   "source": [
    "### Chatter in the Criterion Function"
   ]
  },
  {
   "cell_type": "markdown",
   "metadata": {},
   "source": [
    "In this exercise we explore the sensitivity of the criterion function to the choice of simulation seed and number of agents."
   ]
  },
  {
   "cell_type": "markdown",
   "metadata": {},
   "source": [
    "#### Changing the Simulation Seed"
   ]
  },
  {
   "cell_type": "markdown",
   "metadata": {},
   "source": [
    "As shown above, the optimizer manages to find a function value of exactly 0 for the true parameter vector. This is the case because respy controls the realization of random elements in the simulation process via a simulation seed. The model thus always simulates the exact same dataset for a given parameter vector. Our criterion function becomes exactly 0 at the true parameter vector because for this vector, the observed and simulated data are identical.\n",
    "\n",
    "Changing the simulation seed results in simulated moments that, even for the true parameter vector, are never completely equal to the observed moments. "
   ]
  },
  {
   "cell_type": "markdown",
   "metadata": {},
   "source": [
    "Let's estimate the model with a different simulation seed."
   ]
  },
  {
   "cell_type": "code",
   "execution_count": 78,
   "metadata": {},
   "outputs": [],
   "source": [
    "options_new_seed = options.copy()\n",
    "options_new_seed[\"simulation_seed\"] = 400"
   ]
  },
  {
   "cell_type": "markdown",
   "metadata": {},
   "source": [
    "We can see that the criterion function is not exactly 0 anymore for the true parameter vector."
   ]
  },
  {
   "cell_type": "code",
   "execution_count": 79,
   "metadata": {},
   "outputs": [
    {
     "data": {
      "text/plain": [
       "10.112579552372829"
      ]
     },
     "execution_count": 79,
     "metadata": {},
     "output_type": "execute_result"
    }
   ],
   "source": [
    "criterion_smm(params_true, options_new_seed, W, moments_obs, choice_options_robinson)"
   ]
  },
  {
   "cell_type": "markdown",
   "metadata": {},
   "source": [
    "Our optimizer thus also does not return a function value of 0 for the true parameter vector."
   ]
  },
  {
   "cell_type": "code",
   "execution_count": 80,
   "metadata": {},
   "outputs": [],
   "source": [
    "criterion_kwargs_new_seed = criterion_kwargs.copy()\n",
    "criterion_kwargs_new_seed[\"options\"] = options_new_seed"
   ]
  },
  {
   "cell_type": "code",
   "execution_count": 81,
   "metadata": {},
   "outputs": [
    {
     "data": {
      "text/plain": [
       "{'criterion': 10.04471065167186,\n",
       " 'x': array([0.95006584]),\n",
       " 'n_evaluations': 30,\n",
       " 'n_evaluations_jacobian': 0,\n",
       " 'n_evaluations_hessian': 0,\n",
       " 'n_constraints': 0,\n",
       " 'n_constraints_equality': 0,\n",
       " 'n_constraints_inequality': 0,\n",
       " 'optimization_status': 'success'}"
      ]
     },
     "execution_count": 81,
     "metadata": {},
     "output_type": "execute_result"
    }
   ],
   "source": [
    "rslt_new_seed = minimize(criterion=criterion_smm,\n",
    "                        params=params_true,\n",
    "                        algorithm=\"nlopt_bobyqa\",\n",
    "                        constraints=constr,\n",
    "                        criterion_kwargs=criterion_kwargs_new_seed,\n",
    "                        )\n",
    "rslt_new_seed[0]"
   ]
  },
  {
   "cell_type": "markdown",
   "metadata": {},
   "source": [
    "Since the optimizer does not even recognize the true parameter vector, it is also not able to reach a criterion function  value of 0 for a different parameter vector."
   ]
  },
  {
   "cell_type": "code",
   "execution_count": 82,
   "metadata": {},
   "outputs": [
    {
     "data": {
      "text/plain": [
       "{'criterion': 10.112579552372829,\n",
       " 'x': array([0.94998508]),\n",
       " 'n_evaluations': 23,\n",
       " 'n_evaluations_jacobian': 0,\n",
       " 'n_evaluations_hessian': 0,\n",
       " 'n_constraints': 0,\n",
       " 'n_constraints_equality': 0,\n",
       " 'n_constraints_inequality': 0,\n",
       " 'optimization_status': 'success'}"
      ]
     },
     "execution_count": 82,
     "metadata": {},
     "output_type": "execute_result"
    }
   ],
   "source": [
    "rslt_new_seed = minimize(criterion=criterion_smm,\n",
    "                    params=params_cand,\n",
    "                    algorithm=\"nlopt_bobyqa\",\n",
    "                    constraints=constr,\n",
    "                    criterion_kwargs=criterion_kwargs_new_seed,\n",
    "                    )\n",
    "    \n",
    "rslt_new_seed[0]"
   ]
  },
  {
   "cell_type": "markdown",
   "metadata": {},
   "source": [
    "#### Multiple Simulation Seeds"
   ]
  },
  {
   "cell_type": "markdown",
   "metadata": {},
   "source": [
    "The section above shows what happens to the criterion function if we change the seed for simulating the data. In the sections below we will repeat this exercise for multiple seeds and explore what happens if we increase the number of simulated as well as observed agents in our model."
   ]
  },
  {
   "cell_type": "code",
   "execution_count": 83,
   "metadata": {},
   "outputs": [],
   "source": [
    "# List of seeds, includes true simulation seed of 132.\n",
    "seeds = list(range(120,140,1))"
   ]
  },
  {
   "cell_type": "code",
   "execution_count": 84,
   "metadata": {},
   "outputs": [],
   "source": [
    "# Define other inputs for criterion function\n",
    "criterion_args = copy.deepcopy(criterion_kwargs)\n",
    "criterion_args['params'] = params_true.copy()"
   ]
  },
  {
   "cell_type": "markdown",
   "metadata": {},
   "source": [
    "The plot below shows the criterion function for different simulation seeds, including the true one. We can seed that different seeds lead to different fits between the simulated and observed data, with some seeds performing worse than others. Only the true seed leads to a function value of 0."
   ]
  },
  {
   "cell_type": "code",
   "execution_count": 85,
   "metadata": {
    "scrolled": true
   },
   "outputs": [
    {
     "data": {
      "image/png": "[encoded data removed]",
      "text/plain": [
       "<Figure size 432x288 with 1 Axes>"
      ]
     },
     "metadata": {
      "needs_background": "light"
     },
     "output_type": "display_data"
    }
   ],
   "source": [
    "plot_chatter(seeds, criterion_smm, criterion_args)"
   ]
  },
  {
   "cell_type": "markdown",
   "metadata": {},
   "source": [
    "#### Changing the Simulation Seed for increasing Sample Size of Simulated Agents"
   ]
  },
  {
   "cell_type": "markdown",
   "metadata": {},
   "source": [
    "We now repeat this exercise for an increasing number of simulated agents. As the plot below shows, increasing the number of simulated agents reduces the chatter considerably but the criterion function remains consistently above zero. Only the simulated sample of 1000 agents at the true simulation seed reaches a function of zero, since, as discussed before, the simulated sample is identical to the observed one for this calibration."
   ]
  },
  {
   "cell_type": "code",
   "execution_count": 86,
   "metadata": {},
   "outputs": [],
   "source": [
    "# Changing the number of agents.\n",
    "num_agents = [500, 1000, 5000, 10000, 50000]"
   ]
  },
  {
   "cell_type": "code",
   "execution_count": 87,
   "metadata": {},
   "outputs": [
    {
     "data": {
      "image/png": "[encoded data removed]",
      "text/plain": [
       "<Figure size 432x288 with 1 Axes>"
      ]
     },
     "metadata": {
      "needs_background": "light"
     },
     "output_type": "display_data"
    }
   ],
   "source": [
    "plot_chatter_numagents_sim(seeds, num_agents, criterion_smm, criterion_args)"
   ]
  },
  {
   "cell_type": "markdown",
   "metadata": {},
   "source": [
    "#### Changing the Simulation Seed for increasing Sample Size of Simulated *and* Observed Agents"
   ]
  },
  {
   "cell_type": "markdown",
   "metadata": {},
   "source": [
    "We now increase not only the number of simulated agents but also the number of observed agents in our sample. Doing so decreases the chatter in the criterion function as before but also levels out the function around 0 for all simulation seeds. For large enough samples of observed and simulated agents the choice of simulation seed is thus irrelevant."
   ]
  },
  {
   "cell_type": "code",
   "execution_count": 88,
   "metadata": {},
   "outputs": [
    {
     "data": {
      "image/png": "[encoded data removed]",
      "text/plain": [
       "<Figure size 432x288 with 1 Axes>"
      ]
     },
     "metadata": {
      "needs_background": "light"
     },
     "output_type": "display_data"
    }
   ],
   "source": [
    "plot_chatter_numagents_both(seeds, num_agents, get_moments, criterion_smm, criterion_args)"
   ]
  },
  {
   "cell_type": "markdown",
   "metadata": {},
   "source": [
    "*Note*: In contrast to the previous plot, we can see that the function reaches a value of 0 at the true simulation seed for all quantities of agents. This is the case because we now simultaneously increase the number of both simulated and observed agents while the observed sample remained untouched in the previous plot. Increasing the number of agents simultaneously for both groups creates identical samples for the true simulation seed at each quantity of agents. "
   ]
  },
  {
   "cell_type": "markdown",
   "metadata": {},
   "source": [
    "### Moving away from the Optimum"
   ]
  },
  {
   "cell_type": "markdown",
   "metadata": {},
   "source": [
    "For the next exercise we explore what happens to the criterion function if we move away from the optimum. We do this in a controlled fashion by changing the parameter values for *delta* and *wage_fishing* and fixing the latter in the constraints. Doing so should lead *delta* to move away from its optimal value of 0.95 during optimization."
   ]
  },
  {
   "cell_type": "code",
   "execution_count": 100,
   "metadata": {},
   "outputs": [
    {
     "data": {
      "text/html": [
       "<div>\n",
       "<style scoped>\n",
       "    .dataframe tbody tr th:only-of-type {\n",
       "        vertical-align: middle;\n",
       "    }\n",
       "\n",
       "    .dataframe tbody tr th {\n",
       "        vertical-align: top;\n",
       "    }\n",
       "\n",
       "    .dataframe thead th {\n",
       "        text-align: right;\n",
       "    }\n",
       "</style>\n",
       "<table border=\"1\" class=\"dataframe\">\n",
       "  <thead>\n",
       "    <tr style=\"text-align: right;\">\n",
       "      <th></th>\n",
       "      <th></th>\n",
       "      <th>value</th>\n",
       "      <th>lower</th>\n",
       "      <th>upper</th>\n",
       "    </tr>\n",
       "    <tr>\n",
       "      <th>category</th>\n",
       "      <th>name</th>\n",
       "      <th></th>\n",
       "      <th></th>\n",
       "      <th></th>\n",
       "    </tr>\n",
       "  </thead>\n",
       "  <tbody>\n",
       "    <tr>\n",
       "      <td>delta</td>\n",
       "      <td>delta</td>\n",
       "      <td>0.923983</td>\n",
       "      <td>0.890</td>\n",
       "      <td>0.980</td>\n",
       "    </tr>\n",
       "    <tr>\n",
       "      <td>wage_fishing</td>\n",
       "      <td>exp_fishing</td>\n",
       "      <td>0.072000</td>\n",
       "      <td>0.066</td>\n",
       "      <td>0.072</td>\n",
       "    </tr>\n",
       "    <tr>\n",
       "      <td>nonpec_fishing</td>\n",
       "      <td>constant</td>\n",
       "      <td>-0.100000</td>\n",
       "      <td>-0.110</td>\n",
       "      <td>-0.095</td>\n",
       "    </tr>\n",
       "    <tr>\n",
       "      <td>nonpec_hammock</td>\n",
       "      <td>constant</td>\n",
       "      <td>1.046000</td>\n",
       "      <td>1.040</td>\n",
       "      <td>1.055</td>\n",
       "    </tr>\n",
       "    <tr>\n",
       "      <td rowspan=\"3\" valign=\"top\">shocks_sdcorr</td>\n",
       "      <td>sd_fishing</td>\n",
       "      <td>0.010000</td>\n",
       "      <td>0.000</td>\n",
       "      <td>0.100</td>\n",
       "    </tr>\n",
       "    <tr>\n",
       "      <td>sd_hammock</td>\n",
       "      <td>0.010000</td>\n",
       "      <td>0.000</td>\n",
       "      <td>0.100</td>\n",
       "    </tr>\n",
       "    <tr>\n",
       "      <td>corr_hammock_fishing</td>\n",
       "      <td>0.000000</td>\n",
       "      <td>0.000</td>\n",
       "      <td>0.100</td>\n",
       "    </tr>\n",
       "  </tbody>\n",
       "</table>\n",
       "</div>"
      ],
      "text/plain": [
       "                                        value  lower  upper\n",
       "category       name                                        \n",
       "delta          delta                 0.923983  0.890  0.980\n",
       "wage_fishing   exp_fishing           0.072000  0.066  0.072\n",
       "nonpec_fishing constant             -0.100000 -0.110 -0.095\n",
       "nonpec_hammock constant              1.046000  1.040  1.055\n",
       "shocks_sdcorr  sd_fishing            0.010000  0.000  0.100\n",
       "               sd_hammock            0.010000  0.000  0.100\n",
       "               corr_hammock_fishing  0.000000  0.000  0.100"
      ]
     },
     "execution_count": 100,
     "metadata": {},
     "output_type": "execute_result"
    }
   ],
   "source": [
    "params_cand.loc[\"wage_fishing\", \"value\"] = 0.072\n",
    "params_cand"
   ]
  },
  {
   "cell_type": "markdown",
   "metadata": {},
   "source": [
    "The optimizer cannot retrieve the true parameter and does not reach a value of 0."
   ]
  },
  {
   "cell_type": "code",
   "execution_count": 92,
   "metadata": {
    "scrolled": true
   },
   "outputs": [
    {
     "data": {
      "text/plain": [
       "{'criterion': 202.81733689354155,\n",
       " 'x': array([0.92398337]),\n",
       " 'n_evaluations': 25,\n",
       " 'n_evaluations_jacobian': 0,\n",
       " 'n_evaluations_hessian': 0,\n",
       " 'n_constraints': 0,\n",
       " 'n_constraints_equality': 0,\n",
       " 'n_constraints_inequality': 0,\n",
       " 'optimization_status': 'success'}"
      ]
     },
     "execution_count": 92,
     "metadata": {},
     "output_type": "execute_result"
    }
   ],
   "source": [
    "rslt_wrong_fix = minimize(criterion=criterion_smm,\n",
    "                params=params_cand,\n",
    "                algorithm=\"nlopt_bobyqa\",\n",
    "                constraints=constr,\n",
    "                criterion_kwargs=criterion_kwargs,\n",
    "               )\n",
    "rslt_wrong_fix[0]"
   ]
  },
  {
   "cell_type": "markdown",
   "metadata": {},
   "source": [
    "#### Retrieving the true Parameter Vector"
   ]
  },
  {
   "cell_type": "markdown",
   "metadata": {},
   "source": [
    "We now repeat the estimation with the new parameter vector and free up *wage_fishing* to retrieve the optimal values for both parameters.\n",
    "\n",
    "The parameter for *wage_fishing* is still 0.072 since we fixed it for the prior estimation:"
   ]
  },
  {
   "cell_type": "code",
   "execution_count": 94,
   "metadata": {},
   "outputs": [
    {
     "data": {
      "text/html": [
       "<div>\n",
       "<style scoped>\n",
       "    .dataframe tbody tr th:only-of-type {\n",
       "        vertical-align: middle;\n",
       "    }\n",
       "\n",
       "    .dataframe tbody tr th {\n",
       "        vertical-align: top;\n",
       "    }\n",
       "\n",
       "    .dataframe thead th {\n",
       "        text-align: right;\n",
       "    }\n",
       "</style>\n",
       "<table border=\"1\" class=\"dataframe\">\n",
       "  <thead>\n",
       "    <tr style=\"text-align: right;\">\n",
       "      <th></th>\n",
       "      <th></th>\n",
       "      <th>value</th>\n",
       "      <th>lower</th>\n",
       "      <th>upper</th>\n",
       "    </tr>\n",
       "    <tr>\n",
       "      <th>category</th>\n",
       "      <th>name</th>\n",
       "      <th></th>\n",
       "      <th></th>\n",
       "      <th></th>\n",
       "    </tr>\n",
       "  </thead>\n",
       "  <tbody>\n",
       "    <tr>\n",
       "      <td>delta</td>\n",
       "      <td>delta</td>\n",
       "      <td>0.923983</td>\n",
       "      <td>0.890</td>\n",
       "      <td>0.980</td>\n",
       "    </tr>\n",
       "    <tr>\n",
       "      <td>wage_fishing</td>\n",
       "      <td>exp_fishing</td>\n",
       "      <td>0.072000</td>\n",
       "      <td>0.066</td>\n",
       "      <td>0.072</td>\n",
       "    </tr>\n",
       "    <tr>\n",
       "      <td>nonpec_fishing</td>\n",
       "      <td>constant</td>\n",
       "      <td>-0.100000</td>\n",
       "      <td>-0.110</td>\n",
       "      <td>-0.095</td>\n",
       "    </tr>\n",
       "    <tr>\n",
       "      <td>nonpec_hammock</td>\n",
       "      <td>constant</td>\n",
       "      <td>1.046000</td>\n",
       "      <td>1.040</td>\n",
       "      <td>1.055</td>\n",
       "    </tr>\n",
       "    <tr>\n",
       "      <td rowspan=\"3\" valign=\"top\">shocks_sdcorr</td>\n",
       "      <td>sd_fishing</td>\n",
       "      <td>0.010000</td>\n",
       "      <td>0.000</td>\n",
       "      <td>0.100</td>\n",
       "    </tr>\n",
       "    <tr>\n",
       "      <td>sd_hammock</td>\n",
       "      <td>0.010000</td>\n",
       "      <td>0.000</td>\n",
       "      <td>0.100</td>\n",
       "    </tr>\n",
       "    <tr>\n",
       "      <td>corr_hammock_fishing</td>\n",
       "      <td>0.000000</td>\n",
       "      <td>0.000</td>\n",
       "      <td>0.100</td>\n",
       "    </tr>\n",
       "  </tbody>\n",
       "</table>\n",
       "</div>"
      ],
      "text/plain": [
       "                                        value  lower  upper\n",
       "category       name                                        \n",
       "delta          delta                 0.923983  0.890  0.980\n",
       "wage_fishing   exp_fishing           0.072000  0.066  0.072\n",
       "nonpec_fishing constant             -0.100000 -0.110 -0.095\n",
       "nonpec_hammock constant              1.046000  1.040  1.055\n",
       "shocks_sdcorr  sd_fishing            0.010000  0.000  0.100\n",
       "               sd_hammock            0.010000  0.000  0.100\n",
       "               corr_hammock_fishing  0.000000  0.000  0.100"
      ]
     },
     "execution_count": 94,
     "metadata": {},
     "output_type": "execute_result"
    }
   ],
   "source": [
    "params_cand.loc[:,'value'] = rslt_wrong_fix[1][['value']]\n",
    "params_cand"
   ]
  },
  {
   "cell_type": "markdown",
   "metadata": {},
   "source": [
    "We now free up *wage_fishing* in the constraints in addition to *delta*."
   ]
  },
  {
   "cell_type": "code",
   "execution_count": 98,
   "metadata": {},
   "outputs": [],
   "source": [
    "# Adjust constraints to free up both delta and wage_fishing.\n",
    "constr_u = constr_base.copy()\n",
    "constr_u.remove({'loc': 'delta', 'type': 'fixed'})\n",
    "constr_u.remove({'loc': 'wage_fishing', 'type': 'fixed'})"
   ]
  },
  {
   "cell_type": "markdown",
   "metadata": {},
   "source": [
    "Freeing up the non-optimal *wage_fishing* improves the estimates. The criterion function value is much closer to 0 and the optimizer manages to retrieve the true parameter values quite closely."
   ]
  },
  {
   "cell_type": "code",
   "execution_count": 99,
   "metadata": {},
   "outputs": [
    {
     "data": {
      "text/plain": [
       "{'criterion': 8.745208664896812e-06,\n",
       " 'x': array([0.94997942, 0.07000042]),\n",
       " 'n_evaluations': 91,\n",
       " 'n_evaluations_jacobian': 0,\n",
       " 'n_evaluations_hessian': 0,\n",
       " 'n_constraints': 0,\n",
       " 'n_constraints_equality': 0,\n",
       " 'n_constraints_inequality': 0,\n",
       " 'optimization_status': 'success'}"
      ]
     },
     "execution_count": 99,
     "metadata": {},
     "output_type": "execute_result"
    }
   ],
   "source": [
    "rslt_unfix = minimize(criterion=criterion_smm,\n",
    "                params=params_cand,\n",
    "                algorithm=\"nlopt_bobyqa\",\n",
    "                constraints=constr_u,\n",
    "                criterion_kwargs=criterion_kwargs,\n",
    "               )\n",
    "rslt_unfix[0]"
   ]
  },
  {
   "cell_type": "markdown",
   "metadata": {},
   "source": [
    "For easier comparison, we can compute the difference between the true and estimated value:"
   ]
  },
  {
   "cell_type": "code",
   "execution_count": 97,
   "metadata": {},
   "outputs": [
    {
     "data": {
      "text/plain": [
       "category        name                \n",
       "delta           delta                   2.057875e-05\n",
       "wage_fishing    exp_fishing            -4.167183e-07\n",
       "nonpec_fishing  constant                0.000000e+00\n",
       "nonpec_hammock  constant                0.000000e+00\n",
       "shocks_sdcorr   sd_fishing              0.000000e+00\n",
       "                sd_hammock              0.000000e+00\n",
       "                corr_hammock_fishing    0.000000e+00\n",
       "Name: value, dtype: float64"
      ]
     },
     "execution_count": 97,
     "metadata": {},
     "output_type": "execute_result"
    }
   ],
   "source": [
    "deviation = params_true['value'] - rslt_unfix[1]['value']\n",
    "deviation"
   ]
  },
  {
   "cell_type": "markdown",
   "metadata": {},
   "source": [
    "### Derivative-Based Optimization Algorithm"
   ]
  },
  {
   "cell_type": "markdown",
   "metadata": {},
   "source": [
    "So far we have used only one optimization algorithm to estimate the parameter vector. The algorithm we used, BOBYQA (Bound Optimization by Quadratic Approximation), is a derivative-free optimization algorithm which works fairly well on our criterion function. As discussed above, our criterion function is a step function that contains plateaus for certain ranges of parameter values. An important implication of this property is that we cannot calculate proper derivatives and thus derivative-based optimization algorithms will not work to estimate the parameters. \n",
    "\n",
    "To demonstrate this problem, we will now try to estimate the parameters using an optimization algorithm that does use derivatives during optimization."
   ]
  },
  {
   "cell_type": "code",
   "execution_count": 48,
   "metadata": {},
   "outputs": [],
   "source": [
    "# Define candidate parameter vector and constraints.\n",
    "params_cand = params_true.copy()\n",
    "params_cand.loc['delta','value'] = 0.93\n",
    "\n",
    "params_cand['lower'] = [0.89, 0.066, -0.11, 1.04, 0, 0, 0]\n",
    "params_cand['upper'] = [0.98, 0.072, -0.095, 1.055, 0.1, 0.1, 0.1]\n",
    "\n",
    "constr = constr_base.copy()\n",
    "constr.remove({\"loc\": \"delta\", \"type\": \"fixed\"})"
   ]
  },
  {
   "cell_type": "markdown",
   "metadata": {},
   "source": [
    "We try the L-BFGS-B (Limited-Memory-Broyden–Fletcher–Goldfarb–Shanno with box constraints) algorithm. As shown below, L-BFGS-B fails and the optimizer returns the same parameter vector that we used as an input. "
   ]
  },
  {
   "cell_type": "code",
   "execution_count": 48,
   "metadata": {},
   "outputs": [
    {
     "data": {
      "text/plain": [
       "{'status': 0,\n",
       " 'message': b'CONVERGENCE: NORM_OF_PROJECTED_GRADIENT_<=_PGTOL',\n",
       " 'x': array([0.93]),\n",
       " 'success': True,\n",
       " 'criterion': 1637.6587458130693,\n",
       " 'n_evaluations': 2,\n",
       " 'jacobian': array([0.]),\n",
       " 'hessian': None,\n",
       " 'n_evaluations_jacobian': None,\n",
       " 'n_evaluations_hessian': None,\n",
       " 'n_iterations': 0,\n",
       " 'max_constraints_violations': None,\n",
       " 'hessian_inverse': <1x1 LbfgsInvHessProduct with dtype=float64>,\n",
       " 'optimization_status': 'success'}"
      ]
     },
     "execution_count": 48,
     "metadata": {},
     "output_type": "execute_result"
    }
   ],
   "source": [
    "rslt = minimize(criterion=criterion_smm,\n",
    "                params=params_cand,\n",
    "                algorithm=\"scipy_L-BFGS-B\",\n",
    "                constraints=constr,\n",
    "                criterion_kwargs=criterion_kwargs,\n",
    "               )\n",
    "rslt[0]"
   ]
  },
  {
   "cell_type": "markdown",
   "metadata": {},
   "source": [
    "## References"
   ]
  },
  {
   "cell_type": "markdown",
   "metadata": {},
   "source": [
    "* Adda, J., & Cooper, R. W. (2003). *Dynamic Economics: Quantitative Methods and Applications*. MIT press.\n",
    "\n",
    "\n",
    "* Adda, J., Dustmann, C., & Stevens, K. (2017). The Career Costs of Children. *Journal of Political Economy*, 125(2), 293-337.\n",
    "\n",
    "\n",
    "* Andrews, I., Gentzkow, M., & Shapiro, J. M. (2017). Measuring the Sensitivity of Parameter Estimates to Estimation Moments. *The Quarterly Journal of Economics*, 132(4), 1553-1592.\n",
    "\n",
    "\n",
    "* Bruins, M., Duffy, J. A., Keane, M. P., & Smith Jr, A. A. (2018). Generalized Indirect Inference for Discrete Choice Models. *Journal of econometrics*, 205(1), 177-203.\n",
    "\n",
    "\n",
    "* Davidson, R., & MacKinnon, J. G. (2004). *Econometric Theory and Methods (Vol. 5)*. New York: Oxford University Press.\n",
    "\n",
    "\n",
    "* Evans, R. W. (2018, July 5). Simulated Method of Moments (SMM) Estimation. Retrieved November 30, 2019, from https://notes.quantecon.org/submission/5b3db2ceb9eab00015b89f93.\n",
    "\n",
    "\n",
    "* Frazier, D. T., Oka, T., & Zhu, D. (2019). Indirect Inference with a Non-Smooth Criterion Function. *Journal of Econometrics*, 212(2), 623-645.\n",
    " \n",
    " \n",
    "* Gourieroux, M., & Monfort, D. A. (1996). *Simulation-based econometric methods*. Oxford university press.\n",
    "\n",
    "\n",
    "* McFadden, D. (1989). A Method of Simulated Moments for Estimation of Discrete Response Models without Numerical Integration. *Econometrica: Journal of the Econometric Society*, 995-1026."
   ]
  }
 ],
 "metadata": {
  "kernelspec": {
   "display_name": "Python 3",
   "language": "python",
   "name": "python3"
  },
  "language_info": {
   "codemirror_mode": {
    "name": "ipython",
    "version": 3
   },
   "file_extension": ".py",
   "mimetype": "text/x-python",
   "name": "python",
   "nbconvert_exporter": "python",
   "pygments_lexer": "ipython3",
   "version": "3.6.10"
  },
  "toc": {
   "base_numbering": 1,
   "nav_menu": {},
   "number_sections": true,
   "sideBar": true,
   "skip_h1_title": true,
   "title_cell": "Table of Contents",
   "title_sidebar": "Contents",
   "toc_cell": true,
   "toc_position": {
    "height": "476.7px",
    "left": "484px",
    "top": "131.8px",
    "width": "291.813px"
   },
   "toc_section_display": true,
   "toc_window_display": true
  },
  "varInspector": {
   "cols": {
    "lenName": 16,
    "lenType": 16,
    "lenVar": 40
   },
   "kernels_config": {
    "python": {
     "delete_cmd_postfix": "",
     "delete_cmd_prefix": "del ",
     "library": "var_list.py",
     "varRefreshCmd": "print(var_dic_list())"
    },
    "r": {
     "delete_cmd_postfix": ") ",
     "delete_cmd_prefix": "rm(",
     "library": "var_list.r",
     "varRefreshCmd": "cat(var_dic_list()) "
    }
   },
   "position": {
    "height": "355.4px",
    "left": "858.8px",
    "right": "20px",
    "top": "120px",
    "width": "527.4px"
   },
   "types_to_exclude": [
    "module",
    "function",
    "builtin_function_or_method",
    "instance",
    "_Feature"
   ],
   "window_display": false
  }
 },
 "nbformat": 4,
 "nbformat_minor": 4
}
