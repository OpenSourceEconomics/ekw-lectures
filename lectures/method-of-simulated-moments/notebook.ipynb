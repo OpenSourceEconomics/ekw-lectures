{
 "cells": [
  {
   "cell_type": "code",
   "execution_count": 1,
   "source": [
    "import numpy as np\r\n",
    "import pandas as pd\r\n",
    "import respy as rp\r\n",
    "from python.auxiliary_setup import load_model_specs\r\n",
    "from python.auxiliary_plots import plot_chatter_numagents_sim\r\n",
    "from python.auxiliary_plots import plot_chatter_numagents_both\r\n",
    "from python.auxiliary_plots import plot_criterion_params\r\n",
    "from python.auxiliary_plots import plot_moments_choices\r\n",
    "from python.auxiliary_plots import plot_moments_wage\r\n",
    "from python.auxiliary_plots import plot_chatter"
   ],
   "outputs": [],
   "metadata": {
    "ExecuteTime": {
     "end_time": "2020-04-23T17:05:56.000821Z",
     "start_time": "2020-04-23T17:05:52.087129Z"
    }
   }
  },
  {
   "cell_type": "markdown",
   "source": [
    "## Method of Simulated Moments Estimation (MSM)"
   ],
   "metadata": {}
  },
  {
   "cell_type": "markdown",
   "source": [
    "This lecture heavily relies on [respy](https://respy.readthedocs.io/en/latest/index.html)'s method of simulated moments (MSM) interface. A guide to using the interface can be found [here](https://respy.readthedocs.io/en/latest/how_to_guides/msm.html)."
   ],
   "metadata": {}
  },
  {
   "cell_type": "markdown",
   "source": [
    "<h1>Table of Contents<span class=\"tocSkip\"></span></h1>\n",
    "<div class=\"toc\"><ul class=\"toc-item\"><li><span><a href=\"#Introduction\" data-toc-modified-id=\"Introduction-1\"><span class=\"toc-item-num\">1&nbsp;&nbsp;</span>Introduction</a></span></li><li><span><a href=\"#Observed-Data\" data-toc-modified-id=\"Observed-Data-2\"><span class=\"toc-item-num\">2&nbsp;&nbsp;</span>Observed Data</a></span></li><li><span><a href=\"#Data-Moments\" data-toc-modified-id=\"Data-Moments-3\"><span class=\"toc-item-num\">3&nbsp;&nbsp;</span>Data Moments</a></span></li><li><span><a href=\"#Weighting-Matrix\" data-toc-modified-id=\"Weighting-Matrix-4\"><span class=\"toc-item-num\">4&nbsp;&nbsp;</span>Weighting Matrix</a></span></li><li><span><a href=\"#Criterion-Function\" data-toc-modified-id=\"Criterion-Function-5\"><span class=\"toc-item-num\">5&nbsp;&nbsp;</span>Criterion Function</a></span></li><li><span><a href=\"#Estimation-Exercise\" data-toc-modified-id=\"Estimation-Exercise-6\"><span class=\"toc-item-num\">6&nbsp;&nbsp;</span>Estimation Exercise</a></span><ul class=\"toc-item\"><li><span><a href=\"#Estimation-for-one-parameter\" data-toc-modified-id=\"Estimation-for-one-parameter-6.1\"><span class=\"toc-item-num\">6.1&nbsp;&nbsp;</span>Estimation for one parameter</a></span><ul class=\"toc-item\"><li><span><a href=\"#Simulated-Moments\" data-toc-modified-id=\"Simulated-Moments-6.1.1\"><span class=\"toc-item-num\">6.1.1&nbsp;&nbsp;</span>Simulated Moments</a></span></li><li><span><a href=\"#Optimization-Procedure\" data-toc-modified-id=\"Optimization-Procedure-6.1.2\"><span class=\"toc-item-num\">6.1.2&nbsp;&nbsp;</span>Optimization Procedure</a></span><ul class=\"toc-item\"><li><span><a href=\"#Upper-and-Lower-Bounds\" data-toc-modified-id=\"Upper-and-Lower-Bounds-6.1.2.1\"><span class=\"toc-item-num\">6.1.2.1&nbsp;&nbsp;</span>Upper and Lower Bounds</a></span></li><li><span><a href=\"#Constraints\" data-toc-modified-id=\"Constraints-6.1.2.2\"><span class=\"toc-item-num\">6.1.2.2&nbsp;&nbsp;</span>Constraints</a></span></li><li><span><a href=\"#Optimize\" data-toc-modified-id=\"Optimize-6.1.2.3\"><span class=\"toc-item-num\">6.1.2.3&nbsp;&nbsp;</span>Optimize</a></span></li></ul></li></ul></li><li><span><a href=\"#Chatter-in-the-Criterion-Function\" data-toc-modified-id=\"Chatter-in-the-Criterion-Function-6.2\"><span class=\"toc-item-num\">6.2&nbsp;&nbsp;</span>Chatter in the Criterion Function</a></span><ul class=\"toc-item\"><li><span><a href=\"#Changing-the-Simulation-Seed\" data-toc-modified-id=\"Changing-the-Simulation-Seed-6.2.1\"><span class=\"toc-item-num\">6.2.1&nbsp;&nbsp;</span>Changing the Simulation Seed</a></span></li><li><span><a href=\"#Multiple-Simulation-Seeds\" data-toc-modified-id=\"Multiple-Simulation-Seeds-6.2.2\"><span class=\"toc-item-num\">6.2.2&nbsp;&nbsp;</span>Multiple Simulation Seeds</a></span></li><li><span><a href=\"#Changing-the-Simulation-Seed-for-increasing-Sample-Size-of-Simulated-Agents\" data-toc-modified-id=\"Changing-the-Simulation-Seed-for-increasing-Sample-Size-of-Simulated-Agents-6.2.3\"><span class=\"toc-item-num\">6.2.3&nbsp;&nbsp;</span>Changing the Simulation Seed for increasing Sample Size of Simulated Agents</a></span></li><li><span><a href=\"#Changing-the-Simulation-Seed-for-increasing-Sample-Size-of-Simulated-and-Observed-Agents\" data-toc-modified-id=\"Changing-the-Simulation-Seed-for-increasing-Sample-Size-of-Simulated-and-Observed-Agents-6.2.4\"><span class=\"toc-item-num\">6.2.4&nbsp;&nbsp;</span>Changing the Simulation Seed for increasing Sample Size of Simulated <em>and</em> Observed Agents</a></span></li></ul></li><li><span><a href=\"#Moving-away-from-the-Optimum\" data-toc-modified-id=\"Moving-away-from-the-Optimum-6.3\"><span class=\"toc-item-num\">6.3&nbsp;&nbsp;</span>Moving away from the Optimum</a></span><ul class=\"toc-item\"><li><span><a href=\"#Retrieving-the-true-Parameter-Vector\" data-toc-modified-id=\"Retrieving-the-true-Parameter-Vector-6.3.1\"><span class=\"toc-item-num\">6.3.1&nbsp;&nbsp;</span>Retrieving the true Parameter Vector</a></span></li></ul></li><li><span><a href=\"#Derivative-Based-Optimization-Algorithm\" data-toc-modified-id=\"Derivative-Based-Optimization-Algorithm-6.4\"><span class=\"toc-item-num\">6.4&nbsp;&nbsp;</span>Derivative-Based Optimization Algorithm</a></span></li></ul></li><li><span><a href=\"#References\" data-toc-modified-id=\"References-7\"><span class=\"toc-item-num\">7&nbsp;&nbsp;</span>References</a></span></li></ul></div>"
   ],
   "metadata": {
    "toc": true
   }
  },
  {
   "cell_type": "markdown",
   "source": [
    "### Introduction"
   ],
   "metadata": {}
  },
  {
   "cell_type": "markdown",
   "source": [
    "The method of simulated moments approach to estimating model parameters is to minimize a certain distance between observed moments and simulated moments with respect to the parameters that generate the simulated model.\r\n",
    "\r\n",
    "Denote $X$ our observed data and $m(X)$ the vector of observed moments. To construct the criterion function, we use the parameter vector $\\theta$ to simulate data from the  model $\\hat{X}$. We can then calculate the simulated moments $m(\\hat{X}| \\theta)$.\r\n",
    "\r\n",
    "The criterion function is then given by \r\n",
    "\r\n",
    "\\begin{equation}\r\n",
    "\\psi(\\theta) = (m(X) - m(\\hat{X}| \\theta))'\\Omega(m(X) - m(\\hat{X}| \\theta))\r\n",
    "\\end{equation}\r\n",
    "\r\n",
    "where the difference between observed and simulated moments $(m(X) - m(\\hat{X}| \\theta))$ constitutes a vector of the dimension $1\\times M$ with $1,..,M$ denoting the number of moments. The $M\\times M$ weighting matrix is given by $\\Omega$. \r\n",
    "\r\n",
    "The MSM estimator is defined as the solution to \r\n",
    "\r\n",
    "\\begin{equation}\r\n",
    "\\hat{\\theta}(\\Omega) = \\underset{\\theta}{\\operatorname{argmin}} \\psi(\\theta).\r\n",
    "\\end{equation}\r\n",
    "\r\n",
    "The criterion function is thus a strictly positive scalar and the estimator depends on the choice of moments $m$ and the weighting matrix $\\Omega$. The weighting matrix applies some scaling for discrepancies between the observed and simulated moments. If we use the identity matrix, each moment is given equal weight and the criterion function reduces to the sum of squared moment deviations. \r\n",
    "\r\n",
    "Aside from the choice of moments and weighting matrix, some other important choices that influence the the estimation are the simulator itself and the algorithm and specifications for the optimization procedure. Many explanations for simulated method of moments estimation also feature the number of simulations as a factor that is to be determined for estimation. We can ignore this factor for now since we are working with a large simulated dataset.\r\n",
    "\r\n",
    "In the following we will set up the data, moments and weighting matrix needed to construct the criterion function and subsequently try to estimating the parameters of the model using this MSM setup."
   ],
   "metadata": {}
  },
  {
   "cell_type": "markdown",
   "source": [
    "###  Observed Data"
   ],
   "metadata": {}
  },
  {
   "cell_type": "markdown",
   "source": [
    "We generate our model and data using [respy](https://respy.readthedocs.io/en/latest/) and a simple Robinson Crusoe model. In this model, the agent, Robinson Crusoe, in each time period decides between two choice options: working (i.e. going fishing) or spending time in the hammock. \n",
    "\n",
    "We can use respy to simulate the data for this exercise."
   ],
   "metadata": {}
  },
  {
   "cell_type": "code",
   "execution_count": 2,
   "source": [
    "params_true, options = load_model_specs()"
   ],
   "outputs": [],
   "metadata": {
    "ExecuteTime": {
     "end_time": "2020-04-23T17:05:56.049035Z",
     "start_time": "2020-04-23T17:05:56.003827Z"
    }
   }
  },
  {
   "cell_type": "code",
   "execution_count": 3,
   "source": [
    "# Generate observed data from model.\r\n",
    "simulate = rp.get_simulate_func(params_true, options)\r\n",
    "data_obs = simulate(params_true)"
   ],
   "outputs": [],
   "metadata": {
    "ExecuteTime": {
     "end_time": "2020-04-23T17:15:07.513003Z",
     "start_time": "2020-04-23T17:15:07.201654Z"
    }
   }
  },
  {
   "cell_type": "markdown",
   "source": [
    "Let's take a look at the model specifications."
   ],
   "metadata": {}
  },
  {
   "cell_type": "code",
   "execution_count": 4,
   "source": [
    "params_true"
   ],
   "outputs": [
    {
     "output_type": "execute_result",
     "data": {
      "text/html": [
       "<div>\n",
       "<style scoped>\n",
       "    .dataframe tbody tr th:only-of-type {\n",
       "        vertical-align: middle;\n",
       "    }\n",
       "\n",
       "    .dataframe tbody tr th {\n",
       "        vertical-align: top;\n",
       "    }\n",
       "\n",
       "    .dataframe thead th {\n",
       "        text-align: right;\n",
       "    }\n",
       "</style>\n",
       "<table border=\"1\" class=\"dataframe\">\n",
       "  <thead>\n",
       "    <tr style=\"text-align: right;\">\n",
       "      <th></th>\n",
       "      <th></th>\n",
       "      <th>value</th>\n",
       "    </tr>\n",
       "    <tr>\n",
       "      <th>category</th>\n",
       "      <th>name</th>\n",
       "      <th></th>\n",
       "    </tr>\n",
       "  </thead>\n",
       "  <tbody>\n",
       "    <tr>\n",
       "      <th>delta</th>\n",
       "      <th>delta</th>\n",
       "      <td>0.950</td>\n",
       "    </tr>\n",
       "    <tr>\n",
       "      <th>wage_fishing</th>\n",
       "      <th>exp_fishing</th>\n",
       "      <td>0.070</td>\n",
       "    </tr>\n",
       "    <tr>\n",
       "      <th>nonpec_fishing</th>\n",
       "      <th>constant</th>\n",
       "      <td>-0.100</td>\n",
       "    </tr>\n",
       "    <tr>\n",
       "      <th>nonpec_hammock</th>\n",
       "      <th>constant</th>\n",
       "      <td>1.046</td>\n",
       "    </tr>\n",
       "    <tr>\n",
       "      <th rowspan=\"3\" valign=\"top\">shocks_sdcorr</th>\n",
       "      <th>sd_fishing</th>\n",
       "      <td>0.010</td>\n",
       "    </tr>\n",
       "    <tr>\n",
       "      <th>sd_hammock</th>\n",
       "      <td>0.010</td>\n",
       "    </tr>\n",
       "    <tr>\n",
       "      <th>corr_hammock_fishing</th>\n",
       "      <td>0.000</td>\n",
       "    </tr>\n",
       "  </tbody>\n",
       "</table>\n",
       "</div>"
      ],
      "text/plain": [
       "                                     value\n",
       "category       name                       \n",
       "delta          delta                 0.950\n",
       "wage_fishing   exp_fishing           0.070\n",
       "nonpec_fishing constant             -0.100\n",
       "nonpec_hammock constant              1.046\n",
       "shocks_sdcorr  sd_fishing            0.010\n",
       "               sd_hammock            0.010\n",
       "               corr_hammock_fishing  0.000"
      ]
     },
     "metadata": {},
     "execution_count": 4
    }
   ],
   "metadata": {
    "ExecuteTime": {
     "end_time": "2020-04-23T17:05:57.024269Z",
     "start_time": "2020-04-23T17:05:56.973691Z"
    }
   }
  },
  {
   "cell_type": "code",
   "execution_count": 5,
   "source": [
    "options"
   ],
   "outputs": [
    {
     "output_type": "execute_result",
     "data": {
      "text/plain": [
       "{'estimation_draws': 100,\n",
       " 'estimation_seed': 100,\n",
       " 'estimation_tau': 0.001,\n",
       " 'interpolation_points': -1,\n",
       " 'n_periods': 5,\n",
       " 'simulation_agents': 1000,\n",
       " 'simulation_seed': 132,\n",
       " 'solution_draws': 100,\n",
       " 'solution_seed': 456,\n",
       " 'covariates': {'constant': '1'}}"
      ]
     },
     "metadata": {},
     "execution_count": 5
    }
   ],
   "metadata": {
    "ExecuteTime": {
     "end_time": "2020-04-23T17:05:57.052622Z",
     "start_time": "2020-04-23T17:05:57.026995Z"
    }
   }
  },
  {
   "cell_type": "code",
   "execution_count": 6,
   "source": [
    "data_obs.head(10)"
   ],
   "outputs": [
    {
     "output_type": "execute_result",
     "data": {
      "text/html": [
       "<div>\n",
       "<style scoped>\n",
       "    .dataframe tbody tr th:only-of-type {\n",
       "        vertical-align: middle;\n",
       "    }\n",
       "\n",
       "    .dataframe tbody tr th {\n",
       "        vertical-align: top;\n",
       "    }\n",
       "\n",
       "    .dataframe thead th {\n",
       "        text-align: right;\n",
       "    }\n",
       "</style>\n",
       "<table border=\"1\" class=\"dataframe\">\n",
       "  <thead>\n",
       "    <tr style=\"text-align: right;\">\n",
       "      <th></th>\n",
       "      <th></th>\n",
       "      <th>Experience_Fishing</th>\n",
       "      <th>Shock_Reward_Fishing</th>\n",
       "      <th>Meas_Error_Wage_Fishing</th>\n",
       "      <th>Shock_Reward_Hammock</th>\n",
       "      <th>Meas_Error_Wage_Hammock</th>\n",
       "      <th>Dense_Key</th>\n",
       "      <th>Core_Index</th>\n",
       "      <th>Choice</th>\n",
       "      <th>Wage</th>\n",
       "      <th>Discount_Rate</th>\n",
       "      <th>...</th>\n",
       "      <th>Nonpecuniary_Reward_Fishing</th>\n",
       "      <th>Wage_Fishing</th>\n",
       "      <th>Flow_Utility_Fishing</th>\n",
       "      <th>Value_Function_Fishing</th>\n",
       "      <th>Continuation_Value_Fishing</th>\n",
       "      <th>Nonpecuniary_Reward_Hammock</th>\n",
       "      <th>Wage_Hammock</th>\n",
       "      <th>Flow_Utility_Hammock</th>\n",
       "      <th>Value_Function_Hammock</th>\n",
       "      <th>Continuation_Value_Hammock</th>\n",
       "    </tr>\n",
       "    <tr>\n",
       "      <th>Identifier</th>\n",
       "      <th>Period</th>\n",
       "      <th></th>\n",
       "      <th></th>\n",
       "      <th></th>\n",
       "      <th></th>\n",
       "      <th></th>\n",
       "      <th></th>\n",
       "      <th></th>\n",
       "      <th></th>\n",
       "      <th></th>\n",
       "      <th></th>\n",
       "      <th></th>\n",
       "      <th></th>\n",
       "      <th></th>\n",
       "      <th></th>\n",
       "      <th></th>\n",
       "      <th></th>\n",
       "      <th></th>\n",
       "      <th></th>\n",
       "      <th></th>\n",
       "      <th></th>\n",
       "      <th></th>\n",
       "    </tr>\n",
       "  </thead>\n",
       "  <tbody>\n",
       "    <tr>\n",
       "      <th rowspan=\"5\" valign=\"top\">0</th>\n",
       "      <th>0</th>\n",
       "      <td>0</td>\n",
       "      <td>0.999650</td>\n",
       "      <td>1</td>\n",
       "      <td>0.000410</td>\n",
       "      <td>1</td>\n",
       "      <td>0</td>\n",
       "      <td>0</td>\n",
       "      <td>fishing</td>\n",
       "      <td>0.999650</td>\n",
       "      <td>0.95</td>\n",
       "      <td>...</td>\n",
       "      <td>-0.1</td>\n",
       "      <td>0.999650</td>\n",
       "      <td>0.899650</td>\n",
       "      <td>4.739374</td>\n",
       "      <td>4.041815</td>\n",
       "      <td>1.046</td>\n",
       "      <td>NaN</td>\n",
       "      <td>1.046410</td>\n",
       "      <td>4.732282</td>\n",
       "      <td>3.879866</td>\n",
       "    </tr>\n",
       "    <tr>\n",
       "      <th>1</th>\n",
       "      <td>1</td>\n",
       "      <td>1.000743</td>\n",
       "      <td>1</td>\n",
       "      <td>0.015065</td>\n",
       "      <td>1</td>\n",
       "      <td>1</td>\n",
       "      <td>1</td>\n",
       "      <td>fishing</td>\n",
       "      <td>1.073305</td>\n",
       "      <td>0.95</td>\n",
       "      <td>...</td>\n",
       "      <td>-0.1</td>\n",
       "      <td>1.073305</td>\n",
       "      <td>0.973305</td>\n",
       "      <td>4.042189</td>\n",
       "      <td>3.230405</td>\n",
       "      <td>1.046</td>\n",
       "      <td>NaN</td>\n",
       "      <td>1.061065</td>\n",
       "      <td>3.905840</td>\n",
       "      <td>2.994500</td>\n",
       "    </tr>\n",
       "    <tr>\n",
       "      <th>2</th>\n",
       "      <td>2</td>\n",
       "      <td>0.996461</td>\n",
       "      <td>1</td>\n",
       "      <td>0.011853</td>\n",
       "      <td>1</td>\n",
       "      <td>2</td>\n",
       "      <td>2</td>\n",
       "      <td>fishing</td>\n",
       "      <td>1.146203</td>\n",
       "      <td>0.95</td>\n",
       "      <td>...</td>\n",
       "      <td>-0.1</td>\n",
       "      <td>1.146203</td>\n",
       "      <td>1.046203</td>\n",
       "      <td>3.224430</td>\n",
       "      <td>2.292871</td>\n",
       "      <td>1.046</td>\n",
       "      <td>NaN</td>\n",
       "      <td>1.057853</td>\n",
       "      <td>3.076295</td>\n",
       "      <td>2.124675</td>\n",
       "    </tr>\n",
       "    <tr>\n",
       "      <th>3</th>\n",
       "      <td>3</td>\n",
       "      <td>0.998907</td>\n",
       "      <td>1</td>\n",
       "      <td>-0.007859</td>\n",
       "      <td>1</td>\n",
       "      <td>3</td>\n",
       "      <td>3</td>\n",
       "      <td>fishing</td>\n",
       "      <td>1.232329</td>\n",
       "      <td>0.95</td>\n",
       "      <td>...</td>\n",
       "      <td>-0.1</td>\n",
       "      <td>1.232329</td>\n",
       "      <td>1.132329</td>\n",
       "      <td>2.292998</td>\n",
       "      <td>1.221756</td>\n",
       "      <td>1.046</td>\n",
       "      <td>NaN</td>\n",
       "      <td>1.038141</td>\n",
       "      <td>2.113919</td>\n",
       "      <td>1.132398</td>\n",
       "    </tr>\n",
       "    <tr>\n",
       "      <th>4</th>\n",
       "      <td>4</td>\n",
       "      <td>0.989419</td>\n",
       "      <td>1</td>\n",
       "      <td>0.012452</td>\n",
       "      <td>1</td>\n",
       "      <td>4</td>\n",
       "      <td>4</td>\n",
       "      <td>fishing</td>\n",
       "      <td>1.309130</td>\n",
       "      <td>0.95</td>\n",
       "      <td>...</td>\n",
       "      <td>-0.1</td>\n",
       "      <td>1.309130</td>\n",
       "      <td>1.209130</td>\n",
       "      <td>1.209130</td>\n",
       "      <td>0.000000</td>\n",
       "      <td>1.046</td>\n",
       "      <td>NaN</td>\n",
       "      <td>1.058452</td>\n",
       "      <td>1.058452</td>\n",
       "      <td>0.000000</td>\n",
       "    </tr>\n",
       "    <tr>\n",
       "      <th rowspan=\"5\" valign=\"top\">1</th>\n",
       "      <th>0</th>\n",
       "      <td>0</td>\n",
       "      <td>0.992894</td>\n",
       "      <td>1</td>\n",
       "      <td>0.014190</td>\n",
       "      <td>1</td>\n",
       "      <td>0</td>\n",
       "      <td>0</td>\n",
       "      <td>hammock</td>\n",
       "      <td>NaN</td>\n",
       "      <td>0.95</td>\n",
       "      <td>...</td>\n",
       "      <td>-0.1</td>\n",
       "      <td>0.992894</td>\n",
       "      <td>0.892894</td>\n",
       "      <td>4.732618</td>\n",
       "      <td>4.041815</td>\n",
       "      <td>1.046</td>\n",
       "      <td>NaN</td>\n",
       "      <td>1.060190</td>\n",
       "      <td>4.746062</td>\n",
       "      <td>3.879866</td>\n",
       "    </tr>\n",
       "    <tr>\n",
       "      <th>1</th>\n",
       "      <td>0</td>\n",
       "      <td>0.995369</td>\n",
       "      <td>1</td>\n",
       "      <td>-0.003848</td>\n",
       "      <td>1</td>\n",
       "      <td>1</td>\n",
       "      <td>0</td>\n",
       "      <td>hammock</td>\n",
       "      <td>NaN</td>\n",
       "      <td>0.95</td>\n",
       "      <td>...</td>\n",
       "      <td>-0.1</td>\n",
       "      <td>0.995369</td>\n",
       "      <td>0.895369</td>\n",
       "      <td>3.740144</td>\n",
       "      <td>2.994500</td>\n",
       "      <td>1.046</td>\n",
       "      <td>NaN</td>\n",
       "      <td>1.042152</td>\n",
       "      <td>3.876343</td>\n",
       "      <td>2.983359</td>\n",
       "    </tr>\n",
       "    <tr>\n",
       "      <th>2</th>\n",
       "      <td>0</td>\n",
       "      <td>1.000668</td>\n",
       "      <td>1</td>\n",
       "      <td>-0.008441</td>\n",
       "      <td>1</td>\n",
       "      <td>2</td>\n",
       "      <td>0</td>\n",
       "      <td>hammock</td>\n",
       "      <td>NaN</td>\n",
       "      <td>0.95</td>\n",
       "      <td>...</td>\n",
       "      <td>-0.1</td>\n",
       "      <td>1.000668</td>\n",
       "      <td>0.900668</td>\n",
       "      <td>2.837176</td>\n",
       "      <td>2.038430</td>\n",
       "      <td>1.046</td>\n",
       "      <td>NaN</td>\n",
       "      <td>1.037559</td>\n",
       "      <td>2.974068</td>\n",
       "      <td>2.038430</td>\n",
       "    </tr>\n",
       "    <tr>\n",
       "      <th>3</th>\n",
       "      <td>0</td>\n",
       "      <td>0.992542</td>\n",
       "      <td>1</td>\n",
       "      <td>-0.013488</td>\n",
       "      <td>1</td>\n",
       "      <td>3</td>\n",
       "      <td>0</td>\n",
       "      <td>hammock</td>\n",
       "      <td>NaN</td>\n",
       "      <td>0.95</td>\n",
       "      <td>...</td>\n",
       "      <td>-0.1</td>\n",
       "      <td>0.992542</td>\n",
       "      <td>0.892542</td>\n",
       "      <td>1.885496</td>\n",
       "      <td>1.045215</td>\n",
       "      <td>1.046</td>\n",
       "      <td>NaN</td>\n",
       "      <td>1.032512</td>\n",
       "      <td>2.025466</td>\n",
       "      <td>1.045215</td>\n",
       "    </tr>\n",
       "    <tr>\n",
       "      <th>4</th>\n",
       "      <td>0</td>\n",
       "      <td>0.998695</td>\n",
       "      <td>1</td>\n",
       "      <td>-0.005397</td>\n",
       "      <td>1</td>\n",
       "      <td>4</td>\n",
       "      <td>0</td>\n",
       "      <td>hammock</td>\n",
       "      <td>NaN</td>\n",
       "      <td>0.95</td>\n",
       "      <td>...</td>\n",
       "      <td>-0.1</td>\n",
       "      <td>0.998695</td>\n",
       "      <td>0.898695</td>\n",
       "      <td>0.898695</td>\n",
       "      <td>0.000000</td>\n",
       "      <td>1.046</td>\n",
       "      <td>NaN</td>\n",
       "      <td>1.040603</td>\n",
       "      <td>1.040603</td>\n",
       "      <td>0.000000</td>\n",
       "    </tr>\n",
       "  </tbody>\n",
       "</table>\n",
       "<p>10 rows × 21 columns</p>\n",
       "</div>"
      ],
      "text/plain": [
       "                   Experience_Fishing  Shock_Reward_Fishing  \\\n",
       "Identifier Period                                             \n",
       "0          0                        0              0.999650   \n",
       "           1                        1              1.000743   \n",
       "           2                        2              0.996461   \n",
       "           3                        3              0.998907   \n",
       "           4                        4              0.989419   \n",
       "1          0                        0              0.992894   \n",
       "           1                        0              0.995369   \n",
       "           2                        0              1.000668   \n",
       "           3                        0              0.992542   \n",
       "           4                        0              0.998695   \n",
       "\n",
       "                   Meas_Error_Wage_Fishing  Shock_Reward_Hammock  \\\n",
       "Identifier Period                                                  \n",
       "0          0                             1              0.000410   \n",
       "           1                             1              0.015065   \n",
       "           2                             1              0.011853   \n",
       "           3                             1             -0.007859   \n",
       "           4                             1              0.012452   \n",
       "1          0                             1              0.014190   \n",
       "           1                             1             -0.003848   \n",
       "           2                             1             -0.008441   \n",
       "           3                             1             -0.013488   \n",
       "           4                             1             -0.005397   \n",
       "\n",
       "                   Meas_Error_Wage_Hammock  Dense_Key  Core_Index   Choice  \\\n",
       "Identifier Period                                                            \n",
       "0          0                             1          0           0  fishing   \n",
       "           1                             1          1           1  fishing   \n",
       "           2                             1          2           2  fishing   \n",
       "           3                             1          3           3  fishing   \n",
       "           4                             1          4           4  fishing   \n",
       "1          0                             1          0           0  hammock   \n",
       "           1                             1          1           0  hammock   \n",
       "           2                             1          2           0  hammock   \n",
       "           3                             1          3           0  hammock   \n",
       "           4                             1          4           0  hammock   \n",
       "\n",
       "                       Wage  Discount_Rate  ...  Nonpecuniary_Reward_Fishing  \\\n",
       "Identifier Period                           ...                                \n",
       "0          0       0.999650           0.95  ...                         -0.1   \n",
       "           1       1.073305           0.95  ...                         -0.1   \n",
       "           2       1.146203           0.95  ...                         -0.1   \n",
       "           3       1.232329           0.95  ...                         -0.1   \n",
       "           4       1.309130           0.95  ...                         -0.1   \n",
       "1          0            NaN           0.95  ...                         -0.1   \n",
       "           1            NaN           0.95  ...                         -0.1   \n",
       "           2            NaN           0.95  ...                         -0.1   \n",
       "           3            NaN           0.95  ...                         -0.1   \n",
       "           4            NaN           0.95  ...                         -0.1   \n",
       "\n",
       "                   Wage_Fishing  Flow_Utility_Fishing  Value_Function_Fishing  \\\n",
       "Identifier Period                                                               \n",
       "0          0           0.999650              0.899650                4.739374   \n",
       "           1           1.073305              0.973305                4.042189   \n",
       "           2           1.146203              1.046203                3.224430   \n",
       "           3           1.232329              1.132329                2.292998   \n",
       "           4           1.309130              1.209130                1.209130   \n",
       "1          0           0.992894              0.892894                4.732618   \n",
       "           1           0.995369              0.895369                3.740144   \n",
       "           2           1.000668              0.900668                2.837176   \n",
       "           3           0.992542              0.892542                1.885496   \n",
       "           4           0.998695              0.898695                0.898695   \n",
       "\n",
       "                   Continuation_Value_Fishing  Nonpecuniary_Reward_Hammock  \\\n",
       "Identifier Period                                                            \n",
       "0          0                         4.041815                        1.046   \n",
       "           1                         3.230405                        1.046   \n",
       "           2                         2.292871                        1.046   \n",
       "           3                         1.221756                        1.046   \n",
       "           4                         0.000000                        1.046   \n",
       "1          0                         4.041815                        1.046   \n",
       "           1                         2.994500                        1.046   \n",
       "           2                         2.038430                        1.046   \n",
       "           3                         1.045215                        1.046   \n",
       "           4                         0.000000                        1.046   \n",
       "\n",
       "                   Wage_Hammock  Flow_Utility_Hammock  Value_Function_Hammock  \\\n",
       "Identifier Period                                                               \n",
       "0          0                NaN              1.046410                4.732282   \n",
       "           1                NaN              1.061065                3.905840   \n",
       "           2                NaN              1.057853                3.076295   \n",
       "           3                NaN              1.038141                2.113919   \n",
       "           4                NaN              1.058452                1.058452   \n",
       "1          0                NaN              1.060190                4.746062   \n",
       "           1                NaN              1.042152                3.876343   \n",
       "           2                NaN              1.037559                2.974068   \n",
       "           3                NaN              1.032512                2.025466   \n",
       "           4                NaN              1.040603                1.040603   \n",
       "\n",
       "                   Continuation_Value_Hammock  \n",
       "Identifier Period                              \n",
       "0          0                         3.879866  \n",
       "           1                         2.994500  \n",
       "           2                         2.124675  \n",
       "           3                         1.132398  \n",
       "           4                         0.000000  \n",
       "1          0                         3.879866  \n",
       "           1                         2.983359  \n",
       "           2                         2.038430  \n",
       "           3                         1.045215  \n",
       "           4                         0.000000  \n",
       "\n",
       "[10 rows x 21 columns]"
      ]
     },
     "metadata": {},
     "execution_count": 6
    }
   ],
   "metadata": {
    "ExecuteTime": {
     "end_time": "2020-04-23T17:05:57.109039Z",
     "start_time": "2020-04-23T17:05:57.054421Z"
    }
   }
  },
  {
   "cell_type": "markdown",
   "source": [
    "### Data Moments"
   ],
   "metadata": {}
  },
  {
   "cell_type": "markdown",
   "source": [
    "For the setup of the estimation we first have to choose a set of moments that we will use to match the observed data and the simulated model. For this model we include two sets of moments: \n",
    "\n",
    "1. The first set are Robinson's **choice frequencies** (choice frequencies here refers to the share of agents that have chosen a specific option) for each period. \n",
    "2. The second set are moments that characterize the **wage distribution** for each period, i.e. the mean of the wage of all agents that have chosen fishing in a given period and the standard deviation of the wages. "
   ],
   "metadata": {}
  },
  {
   "cell_type": "markdown",
   "source": [
    "We need a functions that compute the set of moments on the observed and simulated data."
   ],
   "metadata": {}
  },
  {
   "cell_type": "code",
   "execution_count": 7,
   "source": [
    "def calc_choice_frequencies(df):\r\n",
    "    \"\"\"Calculate choice frequencies\"\"\"\r\n",
    "    return df.groupby(\"Period\").Choice.value_counts(normalize=True).unstack()"
   ],
   "outputs": [],
   "metadata": {
    "ExecuteTime": {
     "end_time": "2020-04-23T17:05:57.152191Z",
     "start_time": "2020-04-23T17:05:57.117209Z"
    }
   }
  },
  {
   "cell_type": "code",
   "execution_count": 8,
   "source": [
    "def calc_wage_distribution(df):\r\n",
    "    \"\"\"Calculate wage distribution.\"\"\"\r\n",
    "    return df.groupby([\"Period\"])[\"Wage\"].describe()[[\"mean\", \"std\"]]"
   ],
   "outputs": [],
   "metadata": {
    "ExecuteTime": {
     "end_time": "2020-04-23T17:05:57.183872Z",
     "start_time": "2020-04-23T17:05:57.156858Z"
    }
   }
  },
  {
   "cell_type": "code",
   "execution_count": 9,
   "source": [
    "# Save functions in a dictionary to pass to the criterion function later on.\r\n",
    "calc_moments = {\r\n",
    "    \"Choice Frequencies\": calc_choice_frequencies,\r\n",
    "    \"Wage Distribution\": calc_wage_distribution,\r\n",
    "}"
   ],
   "outputs": [],
   "metadata": {
    "ExecuteTime": {
     "end_time": "2020-04-23T17:05:57.224347Z",
     "start_time": "2020-04-23T17:05:57.190711Z"
    }
   }
  },
  {
   "cell_type": "markdown",
   "source": [
    "Respy's MSM interface additionally requires us to specify, how missings in the computed moments should be handled. Missing moments for instance can arise, when certain choice options aren't picked at all for some periods. We just specify a function that replaces missings with 0."
   ],
   "metadata": {}
  },
  {
   "cell_type": "code",
   "execution_count": 10,
   "source": [
    "def replace_nans(df):\r\n",
    "    \"\"\"Replace missing values in data.\"\"\"\r\n",
    "    return df.fillna(0)"
   ],
   "outputs": [],
   "metadata": {
    "ExecuteTime": {
     "end_time": "2020-04-23T17:05:57.250371Z",
     "start_time": "2020-04-23T17:05:57.226207Z"
    }
   }
  },
  {
   "cell_type": "markdown",
   "source": [
    "Now we are ready to calculate the moments."
   ],
   "metadata": {}
  },
  {
   "cell_type": "code",
   "execution_count": 11,
   "source": [
    "moments_obs = {\r\n",
    "    \"Choice Frequencies\": replace_nans(calc_moments[\"Choice Frequencies\"](data_obs)),\r\n",
    "    \"Wage Distribution\": replace_nans(calc_moments[\"Wage Distribution\"](data_obs)),\r\n",
    "}"
   ],
   "outputs": [],
   "metadata": {
    "ExecuteTime": {
     "end_time": "2020-04-23T17:05:57.353594Z",
     "start_time": "2020-04-23T17:05:57.252614Z"
    }
   }
  },
  {
   "cell_type": "code",
   "execution_count": 12,
   "source": [
    "print(\"Choice Frequencies\")\r\n",
    "print(moments_obs[\"Choice Frequencies\"])\r\n",
    "print(\"\\n Wage Distribution\")\r\n",
    "print(moments_obs[\"Wage Distribution\"])"
   ],
   "outputs": [
    {
     "output_type": "stream",
     "name": "stdout",
     "text": [
      "Choice Frequencies\n",
      "        fishing  hammock\n",
      "Period                  \n",
      "0         0.698    0.302\n",
      "1         0.698    0.302\n",
      "2         0.698    0.302\n",
      "3         0.698    0.302\n",
      "4         0.698    0.302\n",
      "\n",
      " Wage Distribution\n",
      "            mean       std\n",
      "Period                    \n",
      "0       1.003189  0.008640\n",
      "1       1.072815  0.010737\n",
      "2       1.150106  0.012316\n",
      "3       1.234041  0.012406\n",
      "4       1.322711  0.013473\n"
     ]
    }
   ],
   "metadata": {
    "ExecuteTime": {
     "end_time": "2020-04-23T17:05:57.413452Z",
     "start_time": "2020-04-23T17:05:57.356072Z"
    }
   }
  },
  {
   "cell_type": "markdown",
   "source": [
    "### Weighting Matrix"
   ],
   "metadata": {}
  },
  {
   "cell_type": "markdown",
   "source": [
    "Next we specify a weighting matrix. It needs to be a square matrix with the same number of diagonal elements as there are moments. One option would be to use the identity matrix, but we use a weighting matrix that adjusts for the variance of each moment to improve the estimation process. The variances for the moments are constructed using a bootstrapping procedure. "
   ],
   "metadata": {}
  },
  {
   "cell_type": "code",
   "execution_count": 13,
   "source": [
    "def get_weighting_matrix(data, calc_moments, num_boots, num_agents_msm):\r\n",
    "    \"\"\" Compute weighting matrix for estimation with MSM.\"\"\"\r\n",
    "    # Seed for reproducibility.\r\n",
    "    np.random.seed(123)\r\n",
    "\r\n",
    "    index_base = data.index.get_level_values(\"Identifier\").unique()\r\n",
    "\r\n",
    "    # Create bootstrapped moments.\r\n",
    "    moments_sample = list()\r\n",
    "    for _ in range(num_boots):\r\n",
    "        ids_boot = np.random.choice(index_base, num_agents_msm, replace=False)\r\n",
    "        moments_boot = [calc_moments[key](data.loc[ids_boot, :]) for key in calc_moments.keys()]\r\n",
    "\r\n",
    "        moments_boot = rp.get_flat_moments(moments_boot)\r\n",
    "\r\n",
    "        moments_sample.append(moments_boot)\r\n",
    "\r\n",
    "    # Compute variance for each moment and construct diagonal weighting matrix.\r\n",
    "    moments_var = np.array(moments_sample).var(axis=0)\r\n",
    "    weighting_matrix = np.diag(moments_var ** (-1))\r\n",
    "\r\n",
    "    return np.nan_to_num(weighting_matrix)"
   ],
   "outputs": [],
   "metadata": {
    "ExecuteTime": {
     "end_time": "2020-04-23T17:05:57.442917Z",
     "start_time": "2020-04-23T17:05:57.415310Z"
    }
   }
  },
  {
   "cell_type": "code",
   "execution_count": 14,
   "source": [
    "W = get_weighting_matrix(data_obs, calc_moments, 300, 500)"
   ],
   "outputs": [],
   "metadata": {
    "ExecuteTime": {
     "end_time": "2020-04-23T17:06:40.578090Z",
     "start_time": "2020-04-23T17:05:57.445118Z"
    }
   }
  },
  {
   "cell_type": "code",
   "execution_count": 15,
   "source": [
    "pd.DataFrame(W)"
   ],
   "outputs": [
    {
     "output_type": "execute_result",
     "data": {
      "text/html": [
       "<div>\n",
       "<style scoped>\n",
       "    .dataframe tbody tr th:only-of-type {\n",
       "        vertical-align: middle;\n",
       "    }\n",
       "\n",
       "    .dataframe tbody tr th {\n",
       "        vertical-align: top;\n",
       "    }\n",
       "\n",
       "    .dataframe thead th {\n",
       "        text-align: right;\n",
       "    }\n",
       "</style>\n",
       "<table border=\"1\" class=\"dataframe\">\n",
       "  <thead>\n",
       "    <tr style=\"text-align: right;\">\n",
       "      <th></th>\n",
       "      <th>0</th>\n",
       "      <th>1</th>\n",
       "      <th>2</th>\n",
       "      <th>3</th>\n",
       "      <th>4</th>\n",
       "      <th>5</th>\n",
       "      <th>6</th>\n",
       "      <th>7</th>\n",
       "      <th>8</th>\n",
       "      <th>9</th>\n",
       "      <th>10</th>\n",
       "      <th>11</th>\n",
       "      <th>12</th>\n",
       "      <th>13</th>\n",
       "      <th>14</th>\n",
       "      <th>15</th>\n",
       "      <th>16</th>\n",
       "      <th>17</th>\n",
       "      <th>18</th>\n",
       "      <th>19</th>\n",
       "    </tr>\n",
       "  </thead>\n",
       "  <tbody>\n",
       "    <tr>\n",
       "      <th>0</th>\n",
       "      <td>4795.115376</td>\n",
       "      <td>0.000000</td>\n",
       "      <td>0.000000</td>\n",
       "      <td>0.000000</td>\n",
       "      <td>0.000000</td>\n",
       "      <td>0.000000</td>\n",
       "      <td>0.000000</td>\n",
       "      <td>0.000000</td>\n",
       "      <td>0.000000</td>\n",
       "      <td>0.000000</td>\n",
       "      <td>0.000000e+00</td>\n",
       "      <td>0.000000e+00</td>\n",
       "      <td>0.000000e+00</td>\n",
       "      <td>0.000000e+00</td>\n",
       "      <td>0.000000e+00</td>\n",
       "      <td>0.000000e+00</td>\n",
       "      <td>0.000000e+00</td>\n",
       "      <td>0.000000e+00</td>\n",
       "      <td>0.000000e+00</td>\n",
       "      <td>0.000000e+00</td>\n",
       "    </tr>\n",
       "    <tr>\n",
       "      <th>1</th>\n",
       "      <td>0.000000</td>\n",
       "      <td>4795.115376</td>\n",
       "      <td>0.000000</td>\n",
       "      <td>0.000000</td>\n",
       "      <td>0.000000</td>\n",
       "      <td>0.000000</td>\n",
       "      <td>0.000000</td>\n",
       "      <td>0.000000</td>\n",
       "      <td>0.000000</td>\n",
       "      <td>0.000000</td>\n",
       "      <td>0.000000e+00</td>\n",
       "      <td>0.000000e+00</td>\n",
       "      <td>0.000000e+00</td>\n",
       "      <td>0.000000e+00</td>\n",
       "      <td>0.000000e+00</td>\n",
       "      <td>0.000000e+00</td>\n",
       "      <td>0.000000e+00</td>\n",
       "      <td>0.000000e+00</td>\n",
       "      <td>0.000000e+00</td>\n",
       "      <td>0.000000e+00</td>\n",
       "    </tr>\n",
       "    <tr>\n",
       "      <th>2</th>\n",
       "      <td>0.000000</td>\n",
       "      <td>0.000000</td>\n",
       "      <td>4795.115376</td>\n",
       "      <td>0.000000</td>\n",
       "      <td>0.000000</td>\n",
       "      <td>0.000000</td>\n",
       "      <td>0.000000</td>\n",
       "      <td>0.000000</td>\n",
       "      <td>0.000000</td>\n",
       "      <td>0.000000</td>\n",
       "      <td>0.000000e+00</td>\n",
       "      <td>0.000000e+00</td>\n",
       "      <td>0.000000e+00</td>\n",
       "      <td>0.000000e+00</td>\n",
       "      <td>0.000000e+00</td>\n",
       "      <td>0.000000e+00</td>\n",
       "      <td>0.000000e+00</td>\n",
       "      <td>0.000000e+00</td>\n",
       "      <td>0.000000e+00</td>\n",
       "      <td>0.000000e+00</td>\n",
       "    </tr>\n",
       "    <tr>\n",
       "      <th>3</th>\n",
       "      <td>0.000000</td>\n",
       "      <td>0.000000</td>\n",
       "      <td>0.000000</td>\n",
       "      <td>4795.115376</td>\n",
       "      <td>0.000000</td>\n",
       "      <td>0.000000</td>\n",
       "      <td>0.000000</td>\n",
       "      <td>0.000000</td>\n",
       "      <td>0.000000</td>\n",
       "      <td>0.000000</td>\n",
       "      <td>0.000000e+00</td>\n",
       "      <td>0.000000e+00</td>\n",
       "      <td>0.000000e+00</td>\n",
       "      <td>0.000000e+00</td>\n",
       "      <td>0.000000e+00</td>\n",
       "      <td>0.000000e+00</td>\n",
       "      <td>0.000000e+00</td>\n",
       "      <td>0.000000e+00</td>\n",
       "      <td>0.000000e+00</td>\n",
       "      <td>0.000000e+00</td>\n",
       "    </tr>\n",
       "    <tr>\n",
       "      <th>4</th>\n",
       "      <td>0.000000</td>\n",
       "      <td>0.000000</td>\n",
       "      <td>0.000000</td>\n",
       "      <td>0.000000</td>\n",
       "      <td>4795.115376</td>\n",
       "      <td>0.000000</td>\n",
       "      <td>0.000000</td>\n",
       "      <td>0.000000</td>\n",
       "      <td>0.000000</td>\n",
       "      <td>0.000000</td>\n",
       "      <td>0.000000e+00</td>\n",
       "      <td>0.000000e+00</td>\n",
       "      <td>0.000000e+00</td>\n",
       "      <td>0.000000e+00</td>\n",
       "      <td>0.000000e+00</td>\n",
       "      <td>0.000000e+00</td>\n",
       "      <td>0.000000e+00</td>\n",
       "      <td>0.000000e+00</td>\n",
       "      <td>0.000000e+00</td>\n",
       "      <td>0.000000e+00</td>\n",
       "    </tr>\n",
       "    <tr>\n",
       "      <th>5</th>\n",
       "      <td>0.000000</td>\n",
       "      <td>0.000000</td>\n",
       "      <td>0.000000</td>\n",
       "      <td>0.000000</td>\n",
       "      <td>0.000000</td>\n",
       "      <td>4795.115376</td>\n",
       "      <td>0.000000</td>\n",
       "      <td>0.000000</td>\n",
       "      <td>0.000000</td>\n",
       "      <td>0.000000</td>\n",
       "      <td>0.000000e+00</td>\n",
       "      <td>0.000000e+00</td>\n",
       "      <td>0.000000e+00</td>\n",
       "      <td>0.000000e+00</td>\n",
       "      <td>0.000000e+00</td>\n",
       "      <td>0.000000e+00</td>\n",
       "      <td>0.000000e+00</td>\n",
       "      <td>0.000000e+00</td>\n",
       "      <td>0.000000e+00</td>\n",
       "      <td>0.000000e+00</td>\n",
       "    </tr>\n",
       "    <tr>\n",
       "      <th>6</th>\n",
       "      <td>0.000000</td>\n",
       "      <td>0.000000</td>\n",
       "      <td>0.000000</td>\n",
       "      <td>0.000000</td>\n",
       "      <td>0.000000</td>\n",
       "      <td>0.000000</td>\n",
       "      <td>4795.115376</td>\n",
       "      <td>0.000000</td>\n",
       "      <td>0.000000</td>\n",
       "      <td>0.000000</td>\n",
       "      <td>0.000000e+00</td>\n",
       "      <td>0.000000e+00</td>\n",
       "      <td>0.000000e+00</td>\n",
       "      <td>0.000000e+00</td>\n",
       "      <td>0.000000e+00</td>\n",
       "      <td>0.000000e+00</td>\n",
       "      <td>0.000000e+00</td>\n",
       "      <td>0.000000e+00</td>\n",
       "      <td>0.000000e+00</td>\n",
       "      <td>0.000000e+00</td>\n",
       "    </tr>\n",
       "    <tr>\n",
       "      <th>7</th>\n",
       "      <td>0.000000</td>\n",
       "      <td>0.000000</td>\n",
       "      <td>0.000000</td>\n",
       "      <td>0.000000</td>\n",
       "      <td>0.000000</td>\n",
       "      <td>0.000000</td>\n",
       "      <td>0.000000</td>\n",
       "      <td>4795.115376</td>\n",
       "      <td>0.000000</td>\n",
       "      <td>0.000000</td>\n",
       "      <td>0.000000e+00</td>\n",
       "      <td>0.000000e+00</td>\n",
       "      <td>0.000000e+00</td>\n",
       "      <td>0.000000e+00</td>\n",
       "      <td>0.000000e+00</td>\n",
       "      <td>0.000000e+00</td>\n",
       "      <td>0.000000e+00</td>\n",
       "      <td>0.000000e+00</td>\n",
       "      <td>0.000000e+00</td>\n",
       "      <td>0.000000e+00</td>\n",
       "    </tr>\n",
       "    <tr>\n",
       "      <th>8</th>\n",
       "      <td>0.000000</td>\n",
       "      <td>0.000000</td>\n",
       "      <td>0.000000</td>\n",
       "      <td>0.000000</td>\n",
       "      <td>0.000000</td>\n",
       "      <td>0.000000</td>\n",
       "      <td>0.000000</td>\n",
       "      <td>0.000000</td>\n",
       "      <td>4795.115376</td>\n",
       "      <td>0.000000</td>\n",
       "      <td>0.000000e+00</td>\n",
       "      <td>0.000000e+00</td>\n",
       "      <td>0.000000e+00</td>\n",
       "      <td>0.000000e+00</td>\n",
       "      <td>0.000000e+00</td>\n",
       "      <td>0.000000e+00</td>\n",
       "      <td>0.000000e+00</td>\n",
       "      <td>0.000000e+00</td>\n",
       "      <td>0.000000e+00</td>\n",
       "      <td>0.000000e+00</td>\n",
       "    </tr>\n",
       "    <tr>\n",
       "      <th>9</th>\n",
       "      <td>0.000000</td>\n",
       "      <td>0.000000</td>\n",
       "      <td>0.000000</td>\n",
       "      <td>0.000000</td>\n",
       "      <td>0.000000</td>\n",
       "      <td>0.000000</td>\n",
       "      <td>0.000000</td>\n",
       "      <td>0.000000</td>\n",
       "      <td>0.000000</td>\n",
       "      <td>4795.115376</td>\n",
       "      <td>0.000000e+00</td>\n",
       "      <td>0.000000e+00</td>\n",
       "      <td>0.000000e+00</td>\n",
       "      <td>0.000000e+00</td>\n",
       "      <td>0.000000e+00</td>\n",
       "      <td>0.000000e+00</td>\n",
       "      <td>0.000000e+00</td>\n",
       "      <td>0.000000e+00</td>\n",
       "      <td>0.000000e+00</td>\n",
       "      <td>0.000000e+00</td>\n",
       "    </tr>\n",
       "    <tr>\n",
       "      <th>10</th>\n",
       "      <td>0.000000</td>\n",
       "      <td>0.000000</td>\n",
       "      <td>0.000000</td>\n",
       "      <td>0.000000</td>\n",
       "      <td>0.000000</td>\n",
       "      <td>0.000000</td>\n",
       "      <td>0.000000</td>\n",
       "      <td>0.000000</td>\n",
       "      <td>0.000000</td>\n",
       "      <td>0.000000</td>\n",
       "      <td>9.466832e+06</td>\n",
       "      <td>0.000000e+00</td>\n",
       "      <td>0.000000e+00</td>\n",
       "      <td>0.000000e+00</td>\n",
       "      <td>0.000000e+00</td>\n",
       "      <td>0.000000e+00</td>\n",
       "      <td>0.000000e+00</td>\n",
       "      <td>0.000000e+00</td>\n",
       "      <td>0.000000e+00</td>\n",
       "      <td>0.000000e+00</td>\n",
       "    </tr>\n",
       "    <tr>\n",
       "      <th>11</th>\n",
       "      <td>0.000000</td>\n",
       "      <td>0.000000</td>\n",
       "      <td>0.000000</td>\n",
       "      <td>0.000000</td>\n",
       "      <td>0.000000</td>\n",
       "      <td>0.000000</td>\n",
       "      <td>0.000000</td>\n",
       "      <td>0.000000</td>\n",
       "      <td>0.000000</td>\n",
       "      <td>0.000000</td>\n",
       "      <td>0.000000e+00</td>\n",
       "      <td>6.036166e+06</td>\n",
       "      <td>0.000000e+00</td>\n",
       "      <td>0.000000e+00</td>\n",
       "      <td>0.000000e+00</td>\n",
       "      <td>0.000000e+00</td>\n",
       "      <td>0.000000e+00</td>\n",
       "      <td>0.000000e+00</td>\n",
       "      <td>0.000000e+00</td>\n",
       "      <td>0.000000e+00</td>\n",
       "    </tr>\n",
       "    <tr>\n",
       "      <th>12</th>\n",
       "      <td>0.000000</td>\n",
       "      <td>0.000000</td>\n",
       "      <td>0.000000</td>\n",
       "      <td>0.000000</td>\n",
       "      <td>0.000000</td>\n",
       "      <td>0.000000</td>\n",
       "      <td>0.000000</td>\n",
       "      <td>0.000000</td>\n",
       "      <td>0.000000</td>\n",
       "      <td>0.000000</td>\n",
       "      <td>0.000000e+00</td>\n",
       "      <td>0.000000e+00</td>\n",
       "      <td>4.698312e+06</td>\n",
       "      <td>0.000000e+00</td>\n",
       "      <td>0.000000e+00</td>\n",
       "      <td>0.000000e+00</td>\n",
       "      <td>0.000000e+00</td>\n",
       "      <td>0.000000e+00</td>\n",
       "      <td>0.000000e+00</td>\n",
       "      <td>0.000000e+00</td>\n",
       "    </tr>\n",
       "    <tr>\n",
       "      <th>13</th>\n",
       "      <td>0.000000</td>\n",
       "      <td>0.000000</td>\n",
       "      <td>0.000000</td>\n",
       "      <td>0.000000</td>\n",
       "      <td>0.000000</td>\n",
       "      <td>0.000000</td>\n",
       "      <td>0.000000</td>\n",
       "      <td>0.000000</td>\n",
       "      <td>0.000000</td>\n",
       "      <td>0.000000</td>\n",
       "      <td>0.000000e+00</td>\n",
       "      <td>0.000000e+00</td>\n",
       "      <td>0.000000e+00</td>\n",
       "      <td>4.248616e+06</td>\n",
       "      <td>0.000000e+00</td>\n",
       "      <td>0.000000e+00</td>\n",
       "      <td>0.000000e+00</td>\n",
       "      <td>0.000000e+00</td>\n",
       "      <td>0.000000e+00</td>\n",
       "      <td>0.000000e+00</td>\n",
       "    </tr>\n",
       "    <tr>\n",
       "      <th>14</th>\n",
       "      <td>0.000000</td>\n",
       "      <td>0.000000</td>\n",
       "      <td>0.000000</td>\n",
       "      <td>0.000000</td>\n",
       "      <td>0.000000</td>\n",
       "      <td>0.000000</td>\n",
       "      <td>0.000000</td>\n",
       "      <td>0.000000</td>\n",
       "      <td>0.000000</td>\n",
       "      <td>0.000000</td>\n",
       "      <td>0.000000e+00</td>\n",
       "      <td>0.000000e+00</td>\n",
       "      <td>0.000000e+00</td>\n",
       "      <td>0.000000e+00</td>\n",
       "      <td>3.566318e+06</td>\n",
       "      <td>0.000000e+00</td>\n",
       "      <td>0.000000e+00</td>\n",
       "      <td>0.000000e+00</td>\n",
       "      <td>0.000000e+00</td>\n",
       "      <td>0.000000e+00</td>\n",
       "    </tr>\n",
       "    <tr>\n",
       "      <th>15</th>\n",
       "      <td>0.000000</td>\n",
       "      <td>0.000000</td>\n",
       "      <td>0.000000</td>\n",
       "      <td>0.000000</td>\n",
       "      <td>0.000000</td>\n",
       "      <td>0.000000</td>\n",
       "      <td>0.000000</td>\n",
       "      <td>0.000000</td>\n",
       "      <td>0.000000</td>\n",
       "      <td>0.000000</td>\n",
       "      <td>0.000000e+00</td>\n",
       "      <td>0.000000e+00</td>\n",
       "      <td>0.000000e+00</td>\n",
       "      <td>0.000000e+00</td>\n",
       "      <td>0.000000e+00</td>\n",
       "      <td>1.779242e+07</td>\n",
       "      <td>0.000000e+00</td>\n",
       "      <td>0.000000e+00</td>\n",
       "      <td>0.000000e+00</td>\n",
       "      <td>0.000000e+00</td>\n",
       "    </tr>\n",
       "    <tr>\n",
       "      <th>16</th>\n",
       "      <td>0.000000</td>\n",
       "      <td>0.000000</td>\n",
       "      <td>0.000000</td>\n",
       "      <td>0.000000</td>\n",
       "      <td>0.000000</td>\n",
       "      <td>0.000000</td>\n",
       "      <td>0.000000</td>\n",
       "      <td>0.000000</td>\n",
       "      <td>0.000000</td>\n",
       "      <td>0.000000</td>\n",
       "      <td>0.000000e+00</td>\n",
       "      <td>0.000000e+00</td>\n",
       "      <td>0.000000e+00</td>\n",
       "      <td>0.000000e+00</td>\n",
       "      <td>0.000000e+00</td>\n",
       "      <td>0.000000e+00</td>\n",
       "      <td>1.258966e+07</td>\n",
       "      <td>0.000000e+00</td>\n",
       "      <td>0.000000e+00</td>\n",
       "      <td>0.000000e+00</td>\n",
       "    </tr>\n",
       "    <tr>\n",
       "      <th>17</th>\n",
       "      <td>0.000000</td>\n",
       "      <td>0.000000</td>\n",
       "      <td>0.000000</td>\n",
       "      <td>0.000000</td>\n",
       "      <td>0.000000</td>\n",
       "      <td>0.000000</td>\n",
       "      <td>0.000000</td>\n",
       "      <td>0.000000</td>\n",
       "      <td>0.000000</td>\n",
       "      <td>0.000000</td>\n",
       "      <td>0.000000e+00</td>\n",
       "      <td>0.000000e+00</td>\n",
       "      <td>0.000000e+00</td>\n",
       "      <td>0.000000e+00</td>\n",
       "      <td>0.000000e+00</td>\n",
       "      <td>0.000000e+00</td>\n",
       "      <td>0.000000e+00</td>\n",
       "      <td>9.317930e+06</td>\n",
       "      <td>0.000000e+00</td>\n",
       "      <td>0.000000e+00</td>\n",
       "    </tr>\n",
       "    <tr>\n",
       "      <th>18</th>\n",
       "      <td>0.000000</td>\n",
       "      <td>0.000000</td>\n",
       "      <td>0.000000</td>\n",
       "      <td>0.000000</td>\n",
       "      <td>0.000000</td>\n",
       "      <td>0.000000</td>\n",
       "      <td>0.000000</td>\n",
       "      <td>0.000000</td>\n",
       "      <td>0.000000</td>\n",
       "      <td>0.000000</td>\n",
       "      <td>0.000000e+00</td>\n",
       "      <td>0.000000e+00</td>\n",
       "      <td>0.000000e+00</td>\n",
       "      <td>0.000000e+00</td>\n",
       "      <td>0.000000e+00</td>\n",
       "      <td>0.000000e+00</td>\n",
       "      <td>0.000000e+00</td>\n",
       "      <td>0.000000e+00</td>\n",
       "      <td>8.904094e+06</td>\n",
       "      <td>0.000000e+00</td>\n",
       "    </tr>\n",
       "    <tr>\n",
       "      <th>19</th>\n",
       "      <td>0.000000</td>\n",
       "      <td>0.000000</td>\n",
       "      <td>0.000000</td>\n",
       "      <td>0.000000</td>\n",
       "      <td>0.000000</td>\n",
       "      <td>0.000000</td>\n",
       "      <td>0.000000</td>\n",
       "      <td>0.000000</td>\n",
       "      <td>0.000000</td>\n",
       "      <td>0.000000</td>\n",
       "      <td>0.000000e+00</td>\n",
       "      <td>0.000000e+00</td>\n",
       "      <td>0.000000e+00</td>\n",
       "      <td>0.000000e+00</td>\n",
       "      <td>0.000000e+00</td>\n",
       "      <td>0.000000e+00</td>\n",
       "      <td>0.000000e+00</td>\n",
       "      <td>0.000000e+00</td>\n",
       "      <td>0.000000e+00</td>\n",
       "      <td>1.067252e+07</td>\n",
       "    </tr>\n",
       "  </tbody>\n",
       "</table>\n",
       "</div>"
      ],
      "text/plain": [
       "             0            1            2            3            4   \\\n",
       "0   4795.115376     0.000000     0.000000     0.000000     0.000000   \n",
       "1      0.000000  4795.115376     0.000000     0.000000     0.000000   \n",
       "2      0.000000     0.000000  4795.115376     0.000000     0.000000   \n",
       "3      0.000000     0.000000     0.000000  4795.115376     0.000000   \n",
       "4      0.000000     0.000000     0.000000     0.000000  4795.115376   \n",
       "5      0.000000     0.000000     0.000000     0.000000     0.000000   \n",
       "6      0.000000     0.000000     0.000000     0.000000     0.000000   \n",
       "7      0.000000     0.000000     0.000000     0.000000     0.000000   \n",
       "8      0.000000     0.000000     0.000000     0.000000     0.000000   \n",
       "9      0.000000     0.000000     0.000000     0.000000     0.000000   \n",
       "10     0.000000     0.000000     0.000000     0.000000     0.000000   \n",
       "11     0.000000     0.000000     0.000000     0.000000     0.000000   \n",
       "12     0.000000     0.000000     0.000000     0.000000     0.000000   \n",
       "13     0.000000     0.000000     0.000000     0.000000     0.000000   \n",
       "14     0.000000     0.000000     0.000000     0.000000     0.000000   \n",
       "15     0.000000     0.000000     0.000000     0.000000     0.000000   \n",
       "16     0.000000     0.000000     0.000000     0.000000     0.000000   \n",
       "17     0.000000     0.000000     0.000000     0.000000     0.000000   \n",
       "18     0.000000     0.000000     0.000000     0.000000     0.000000   \n",
       "19     0.000000     0.000000     0.000000     0.000000     0.000000   \n",
       "\n",
       "             5            6            7            8            9   \\\n",
       "0      0.000000     0.000000     0.000000     0.000000     0.000000   \n",
       "1      0.000000     0.000000     0.000000     0.000000     0.000000   \n",
       "2      0.000000     0.000000     0.000000     0.000000     0.000000   \n",
       "3      0.000000     0.000000     0.000000     0.000000     0.000000   \n",
       "4      0.000000     0.000000     0.000000     0.000000     0.000000   \n",
       "5   4795.115376     0.000000     0.000000     0.000000     0.000000   \n",
       "6      0.000000  4795.115376     0.000000     0.000000     0.000000   \n",
       "7      0.000000     0.000000  4795.115376     0.000000     0.000000   \n",
       "8      0.000000     0.000000     0.000000  4795.115376     0.000000   \n",
       "9      0.000000     0.000000     0.000000     0.000000  4795.115376   \n",
       "10     0.000000     0.000000     0.000000     0.000000     0.000000   \n",
       "11     0.000000     0.000000     0.000000     0.000000     0.000000   \n",
       "12     0.000000     0.000000     0.000000     0.000000     0.000000   \n",
       "13     0.000000     0.000000     0.000000     0.000000     0.000000   \n",
       "14     0.000000     0.000000     0.000000     0.000000     0.000000   \n",
       "15     0.000000     0.000000     0.000000     0.000000     0.000000   \n",
       "16     0.000000     0.000000     0.000000     0.000000     0.000000   \n",
       "17     0.000000     0.000000     0.000000     0.000000     0.000000   \n",
       "18     0.000000     0.000000     0.000000     0.000000     0.000000   \n",
       "19     0.000000     0.000000     0.000000     0.000000     0.000000   \n",
       "\n",
       "              10            11            12            13            14  \\\n",
       "0   0.000000e+00  0.000000e+00  0.000000e+00  0.000000e+00  0.000000e+00   \n",
       "1   0.000000e+00  0.000000e+00  0.000000e+00  0.000000e+00  0.000000e+00   \n",
       "2   0.000000e+00  0.000000e+00  0.000000e+00  0.000000e+00  0.000000e+00   \n",
       "3   0.000000e+00  0.000000e+00  0.000000e+00  0.000000e+00  0.000000e+00   \n",
       "4   0.000000e+00  0.000000e+00  0.000000e+00  0.000000e+00  0.000000e+00   \n",
       "5   0.000000e+00  0.000000e+00  0.000000e+00  0.000000e+00  0.000000e+00   \n",
       "6   0.000000e+00  0.000000e+00  0.000000e+00  0.000000e+00  0.000000e+00   \n",
       "7   0.000000e+00  0.000000e+00  0.000000e+00  0.000000e+00  0.000000e+00   \n",
       "8   0.000000e+00  0.000000e+00  0.000000e+00  0.000000e+00  0.000000e+00   \n",
       "9   0.000000e+00  0.000000e+00  0.000000e+00  0.000000e+00  0.000000e+00   \n",
       "10  9.466832e+06  0.000000e+00  0.000000e+00  0.000000e+00  0.000000e+00   \n",
       "11  0.000000e+00  6.036166e+06  0.000000e+00  0.000000e+00  0.000000e+00   \n",
       "12  0.000000e+00  0.000000e+00  4.698312e+06  0.000000e+00  0.000000e+00   \n",
       "13  0.000000e+00  0.000000e+00  0.000000e+00  4.248616e+06  0.000000e+00   \n",
       "14  0.000000e+00  0.000000e+00  0.000000e+00  0.000000e+00  3.566318e+06   \n",
       "15  0.000000e+00  0.000000e+00  0.000000e+00  0.000000e+00  0.000000e+00   \n",
       "16  0.000000e+00  0.000000e+00  0.000000e+00  0.000000e+00  0.000000e+00   \n",
       "17  0.000000e+00  0.000000e+00  0.000000e+00  0.000000e+00  0.000000e+00   \n",
       "18  0.000000e+00  0.000000e+00  0.000000e+00  0.000000e+00  0.000000e+00   \n",
       "19  0.000000e+00  0.000000e+00  0.000000e+00  0.000000e+00  0.000000e+00   \n",
       "\n",
       "              15            16            17            18            19  \n",
       "0   0.000000e+00  0.000000e+00  0.000000e+00  0.000000e+00  0.000000e+00  \n",
       "1   0.000000e+00  0.000000e+00  0.000000e+00  0.000000e+00  0.000000e+00  \n",
       "2   0.000000e+00  0.000000e+00  0.000000e+00  0.000000e+00  0.000000e+00  \n",
       "3   0.000000e+00  0.000000e+00  0.000000e+00  0.000000e+00  0.000000e+00  \n",
       "4   0.000000e+00  0.000000e+00  0.000000e+00  0.000000e+00  0.000000e+00  \n",
       "5   0.000000e+00  0.000000e+00  0.000000e+00  0.000000e+00  0.000000e+00  \n",
       "6   0.000000e+00  0.000000e+00  0.000000e+00  0.000000e+00  0.000000e+00  \n",
       "7   0.000000e+00  0.000000e+00  0.000000e+00  0.000000e+00  0.000000e+00  \n",
       "8   0.000000e+00  0.000000e+00  0.000000e+00  0.000000e+00  0.000000e+00  \n",
       "9   0.000000e+00  0.000000e+00  0.000000e+00  0.000000e+00  0.000000e+00  \n",
       "10  0.000000e+00  0.000000e+00  0.000000e+00  0.000000e+00  0.000000e+00  \n",
       "11  0.000000e+00  0.000000e+00  0.000000e+00  0.000000e+00  0.000000e+00  \n",
       "12  0.000000e+00  0.000000e+00  0.000000e+00  0.000000e+00  0.000000e+00  \n",
       "13  0.000000e+00  0.000000e+00  0.000000e+00  0.000000e+00  0.000000e+00  \n",
       "14  0.000000e+00  0.000000e+00  0.000000e+00  0.000000e+00  0.000000e+00  \n",
       "15  1.779242e+07  0.000000e+00  0.000000e+00  0.000000e+00  0.000000e+00  \n",
       "16  0.000000e+00  1.258966e+07  0.000000e+00  0.000000e+00  0.000000e+00  \n",
       "17  0.000000e+00  0.000000e+00  9.317930e+06  0.000000e+00  0.000000e+00  \n",
       "18  0.000000e+00  0.000000e+00  0.000000e+00  8.904094e+06  0.000000e+00  \n",
       "19  0.000000e+00  0.000000e+00  0.000000e+00  0.000000e+00  1.067252e+07  "
      ]
     },
     "metadata": {},
     "execution_count": 15
    }
   ],
   "metadata": {
    "ExecuteTime": {
     "end_time": "2020-04-23T17:06:40.707593Z",
     "start_time": "2020-04-23T17:06:40.581797Z"
    }
   }
  },
  {
   "cell_type": "markdown",
   "source": [
    "### Criterion Function "
   ],
   "metadata": {}
  },
  {
   "cell_type": "markdown",
   "source": [
    "We have collected the observed data for our model, chosen the set of moments we want to use for estimation and defined a weighting matrix based on these moments. We can now set up the criterion function to use for estimation. \n",
    "\n",
    "As already discussed above, the criterion function is given by the weighted square product of the difference between observed moments $m(X)$ and simulated moments $m(\\hat{X}| \\theta)$. Trivially, if we have that $m(X) = m(\\hat{X}| \\theta)$, the criterion function returns a value of 0. Thus, the closer $\\theta$ is to the real parameter vector, the smaller should be the value for the criterion function. "
   ],
   "metadata": {}
  },
  {
   "cell_type": "code",
   "execution_count": 16,
   "source": [
    "criterion_msm = rp.get_moment_errors_func(\r\n",
    "    params_true, options, calc_moments, replace_nans, moments_obs, W\r\n",
    ")"
   ],
   "outputs": [],
   "metadata": {
    "ExecuteTime": {
     "end_time": "2020-04-23T17:06:40.844834Z",
     "start_time": "2020-04-23T17:06:40.710692Z"
    }
   }
  },
  {
   "cell_type": "markdown",
   "source": [
    "Criterion function at the true parameter vector:"
   ],
   "metadata": {}
  },
  {
   "cell_type": "code",
   "execution_count": 17,
   "source": [
    "fval = criterion_msm(params_true)\r\n",
    "fval"
   ],
   "outputs": [
    {
     "output_type": "execute_result",
     "data": {
      "text/plain": [
       "0.0"
      ]
     },
     "metadata": {},
     "execution_count": 17
    }
   ],
   "metadata": {
    "ExecuteTime": {
     "end_time": "2020-04-23T17:06:41.330449Z",
     "start_time": "2020-04-23T17:06:40.846326Z"
    }
   }
  },
  {
   "cell_type": "markdown",
   "source": [
    "We can plot the criterion function to examine its behavior around the minimum in more detail. The plots below show the criterion function at varying values of all parameters in the the paramter vector."
   ],
   "metadata": {}
  },
  {
   "cell_type": "code",
   "execution_count": 18,
   "source": [
    "plot_criterion_params(params_true, list(params_true.index), criterion_msm, 0.05)"
   ],
   "outputs": [
    {
     "output_type": "display_data",
     "data": {
      "image/png": "[encoded data removed]",
      "text/plain": [
       "<Figure size 432x288 with 1 Axes>"
      ]
     },
     "metadata": {
      "needs_background": "light"
     }
    },
    {
     "output_type": "display_data",
     "data": {
      "image/png": "[encoded data removed]",
      "text/plain": [
       "<Figure size 432x288 with 1 Axes>"
      ]
     },
     "metadata": {
      "needs_background": "light"
     }
    },
    {
     "output_type": "display_data",
     "data": {
      "image/png": "[encoded data removed]",
      "text/plain": [
       "<Figure size 432x288 with 1 Axes>"
      ]
     },
     "metadata": {
      "needs_background": "light"
     }
    },
    {
     "output_type": "display_data",
     "data": {
      "image/png": "[encoded data removed]",
      "text/plain": [
       "<Figure size 432x288 with 1 Axes>"
      ]
     },
     "metadata": {
      "needs_background": "light"
     }
    },
    {
     "output_type": "display_data",
     "data": {
      "image/png": "[encoded data removed]",
      "text/plain": [
       "<Figure size 432x288 with 1 Axes>"
      ]
     },
     "metadata": {
      "needs_background": "light"
     }
    },
    {
     "output_type": "display_data",
     "data": {
      "image/png": "[encoded data removed]",
      "text/plain": [
       "<Figure size 432x288 with 1 Axes>"
      ]
     },
     "metadata": {
      "needs_background": "light"
     }
    },
    {
     "output_type": "display_data",
     "data": {
      "image/png": "[encoded data removed]",
      "text/plain": [
       "<Figure size 432x288 with 1 Axes>"
      ]
     },
     "metadata": {
      "needs_background": "light"
     }
    }
   ],
   "metadata": {
    "ExecuteTime": {
     "end_time": "2020-04-23T17:07:18.288707Z",
     "start_time": "2020-04-23T17:06:41.332896Z"
    }
   }
  },
  {
   "cell_type": "markdown",
   "source": [
    "This depiction for most parameters conceals the fact that the criterion function is not a smooth function of our parameter values. We can reveal this property if we 'zoom in' on the function far enough. The plots below show the criterion function for varying values of *delta* around the true minimum value of 0.95. We can see that the function exhibits small plateaus and is thus not completely smooth. "
   ],
   "metadata": {}
  },
  {
   "cell_type": "code",
   "execution_count": 19,
   "source": [
    "for radius in [0.05, 0.01, 0.001, 0.0001]:\r\n",
    "    plot_criterion_params(params_true, list(params_true.index)[0:1], criterion_msm, radius)"
   ],
   "outputs": [
    {
     "output_type": "display_data",
     "data": {
      "image/png": "[encoded data removed]",
      "text/plain": [
       "<Figure size 432x288 with 1 Axes>"
      ]
     },
     "metadata": {
      "needs_background": "light"
     }
    },
    {
     "output_type": "display_data",
     "data": {
      "image/png": "[encoded data removed]",
      "text/plain": [
       "<Figure size 432x288 with 1 Axes>"
      ]
     },
     "metadata": {
      "needs_background": "light"
     }
    },
    {
     "output_type": "display_data",
     "data": {
      "image/png": "[encoded data removed]",
      "text/plain": [
       "<Figure size 432x288 with 1 Axes>"
      ]
     },
     "metadata": {
      "needs_background": "light"
     }
    },
    {
     "output_type": "display_data",
     "data": {
      "image/png": "[encoded data removed]",
      "text/plain": [
       "<Figure size 432x288 with 1 Axes>"
      ]
     },
     "metadata": {
      "needs_background": "light"
     }
    }
   ],
   "metadata": {
    "ExecuteTime": {
     "end_time": "2020-04-23T17:07:36.828478Z",
     "start_time": "2020-04-23T17:07:18.290625Z"
    }
   }
  },
  {
   "cell_type": "markdown",
   "source": [
    "###  Estimation Exercise"
   ],
   "metadata": {}
  },
  {
   "cell_type": "markdown",
   "source": [
    "In the following we will conduct a simulation exercise to estimate the parameter vector using our criterion function and weighting matrix. We will begin by simulating data using the new parameter vector and examine how the simulated moments differ from the observed ones. We will then use an optimizer to minimize the criterion function in order to retrieve the true parameter vector. Additionally, we will explore how the criterion function behaves if we change the simulation seed, move away from the true values and test the optimization for a derivative-based optimization algorithm."
   ],
   "metadata": {}
  },
  {
   "cell_type": "markdown",
   "source": [
    "#### Estimation for one parameter"
   ],
   "metadata": {}
  },
  {
   "cell_type": "markdown",
   "source": [
    "For now, our candidate parameter vector will just differ in *delta* from the true parameters."
   ],
   "metadata": {}
  },
  {
   "cell_type": "code",
   "execution_count": 20,
   "source": [
    "params_cand = params_true.copy()\r\n",
    "params_cand.loc[\"delta\", \"value\"] = 0.93"
   ],
   "outputs": [],
   "metadata": {
    "ExecuteTime": {
     "end_time": "2020-04-23T17:07:36.872298Z",
     "start_time": "2020-04-23T17:07:36.834486Z"
    }
   }
  },
  {
   "cell_type": "markdown",
   "source": [
    "##### Simulated Moments"
   ],
   "metadata": {}
  },
  {
   "cell_type": "markdown",
   "source": [
    "We can now use our model to simulate data using the candidate parameter vector. We can see that the choice frequencies and wage distribution differ from the moments of the observed dataset."
   ],
   "metadata": {}
  },
  {
   "cell_type": "code",
   "execution_count": 21,
   "source": [
    "params = params_cand.copy()\r\n",
    "simulate = rp.get_simulate_func(params, options)\r\n",
    "df_sim = simulate(params)"
   ],
   "outputs": [],
   "metadata": {
    "ExecuteTime": {
     "end_time": "2020-04-23T17:07:37.185017Z",
     "start_time": "2020-04-23T17:07:36.873772Z"
    }
   }
  },
  {
   "cell_type": "code",
   "execution_count": 22,
   "source": [
    "moments_sim = {\r\n",
    "    \"Choice Frequencies\": replace_nans(calc_moments[\"Choice Frequencies\"](df_sim)),\r\n",
    "    \"Wage Distribution\": replace_nans(calc_moments[\"Wage Distribution\"](df_sim)),\r\n",
    "}"
   ],
   "outputs": [],
   "metadata": {
    "ExecuteTime": {
     "end_time": "2020-04-23T17:07:37.229604Z",
     "start_time": "2020-04-23T17:07:37.186384Z"
    }
   }
  },
  {
   "cell_type": "markdown",
   "source": [
    "We can plot the moments to compare the choice frequencies for each period."
   ],
   "metadata": {}
  },
  {
   "cell_type": "code",
   "execution_count": 23,
   "source": [
    "plot_moments_choices(moments_obs, moments_sim)"
   ],
   "outputs": [
    {
     "output_type": "display_data",
     "data": {
      "image/png": "[encoded data removed]",
      "text/plain": [
       "<Figure size 432x288 with 2 Axes>"
      ]
     },
     "metadata": {
      "needs_background": "light"
     }
    }
   ],
   "metadata": {
    "ExecuteTime": {
     "end_time": "2020-04-23T17:07:37.696689Z",
     "start_time": "2020-04-23T17:07:37.234090Z"
    }
   }
  },
  {
   "cell_type": "markdown",
   "source": [
    "The plots below show the mean and the standard deviation in the wages for each period."
   ],
   "metadata": {}
  },
  {
   "cell_type": "code",
   "execution_count": 24,
   "source": [
    "plot_moments_wage(moments_obs, moments_sim)"
   ],
   "outputs": [
    {
     "output_type": "display_data",
     "data": {
      "image/png": "[encoded data removed]",
      "text/plain": [
       "<Figure size 432x288 with 2 Axes>"
      ]
     },
     "metadata": {
      "needs_background": "light"
     }
    }
   ],
   "metadata": {
    "ExecuteTime": {
     "end_time": "2020-04-23T17:07:38.086957Z",
     "start_time": "2020-04-23T17:07:37.699015Z"
    }
   }
  },
  {
   "cell_type": "markdown",
   "source": [
    "The criterion function value for the candidate parameter vector is not zero."
   ],
   "metadata": {}
  },
  {
   "cell_type": "code",
   "execution_count": 25,
   "source": [
    "fval = criterion_msm(params_cand)\r\n",
    "fval"
   ],
   "outputs": [
    {
     "output_type": "execute_result",
     "data": {
      "text/plain": [
       "7838.131228444257"
      ]
     },
     "metadata": {},
     "execution_count": 25
    }
   ],
   "metadata": {
    "ExecuteTime": {
     "end_time": "2020-04-23T17:07:38.331240Z",
     "start_time": "2020-04-23T17:07:38.089051Z"
    }
   }
  },
  {
   "cell_type": "markdown",
   "source": [
    "##### Optimization Procedure"
   ],
   "metadata": {}
  },
  {
   "cell_type": "markdown",
   "source": [
    "We will now use an optimization procedure to retrieve the true parameter vector. For the optimization we can use [estimagic](https://estimagic.readthedocs.io/en/latest/index.html). In order to minimize the criterion function we need estimagic's `minimize` function.\n",
    "\n"
   ],
   "metadata": {}
  },
  {
   "cell_type": "code",
   "execution_count": 26,
   "source": [
    "from estimagic import minimize  # noqa: E402"
   ],
   "outputs": [],
   "metadata": {
    "ExecuteTime": {
     "end_time": "2020-04-23T17:07:38.358573Z",
     "start_time": "2020-04-23T17:07:38.335800Z"
    }
   }
  },
  {
   "cell_type": "markdown",
   "source": [
    "We have verified above that the criterion function gives a value of 0 for the true parameter vector. Before we try different parameter specifications, we can check whether an optimizer recognizes the true vector as the minimum of our criterion function.\n",
    "\n",
    "As the code below shows, the optimization algorithm recognizes the true parameter vector as the minimum of the criterion function as it returns a function value of 0 and the true parameter values."
   ],
   "metadata": {}
  },
  {
   "cell_type": "code",
   "execution_count": 27,
   "source": [
    "rslt = minimize(\r\n",
    "    criterion=criterion_msm,\r\n",
    "    params=params_true,\r\n",
    "    algorithm=\"nag_pybobyqa\",\r\n",
    ")\r\n",
    "rslt[\"solution_criterion\"]"
   ],
   "outputs": [
    {
     "output_type": "execute_result",
     "data": {
      "text/plain": [
       "0.0"
      ]
     },
     "metadata": {},
     "execution_count": 27
    }
   ],
   "metadata": {
    "ExecuteTime": {
     "end_time": "2020-04-23T17:08:08.099029Z",
     "start_time": "2020-04-23T17:07:38.360662Z"
    }
   }
  },
  {
   "cell_type": "markdown",
   "source": [
    "##### Upper and Lower Bounds"
   ],
   "metadata": {}
  },
  {
   "cell_type": "markdown",
   "source": [
    "We can help the optimizer by specifying bounds for the parameters. Since we know the true parameters in the case of this model, we can just pick upper and lower bounds that are fairly close to the true values of the parameters to aid the optimizer in the search for the optimum. By default, the upper and lower bounds are set to $\\infty$ and $-\\infty$, so specifying upper and lower bounds substantially reduces the range of parameter values that the optimizer can potentially cover.\n",
    "\n",
    "For optimization with estimagic, we can specify bounds by adding the columns *'lower'* and *'upper'* to the dataframe that contains the parameter values."
   ],
   "metadata": {}
  },
  {
   "cell_type": "code",
   "execution_count": 28,
   "source": [
    "params_cand[\"lower_bound\"] = [0.69, 0.066, -0.2, 1, 0, 0, 0]\r\n",
    "params_cand[\"upper_bound\"] = [1, 0.078, -0.09, 1.1, 0.5, 0.5, 0.5]\r\n",
    "params_cand"
   ],
   "outputs": [
    {
     "output_type": "execute_result",
     "data": {
      "text/html": [
       "<div>\n",
       "<style scoped>\n",
       "    .dataframe tbody tr th:only-of-type {\n",
       "        vertical-align: middle;\n",
       "    }\n",
       "\n",
       "    .dataframe tbody tr th {\n",
       "        vertical-align: top;\n",
       "    }\n",
       "\n",
       "    .dataframe thead th {\n",
       "        text-align: right;\n",
       "    }\n",
       "</style>\n",
       "<table border=\"1\" class=\"dataframe\">\n",
       "  <thead>\n",
       "    <tr style=\"text-align: right;\">\n",
       "      <th></th>\n",
       "      <th></th>\n",
       "      <th>value</th>\n",
       "      <th>lower_bound</th>\n",
       "      <th>upper_bound</th>\n",
       "    </tr>\n",
       "    <tr>\n",
       "      <th>category</th>\n",
       "      <th>name</th>\n",
       "      <th></th>\n",
       "      <th></th>\n",
       "      <th></th>\n",
       "    </tr>\n",
       "  </thead>\n",
       "  <tbody>\n",
       "    <tr>\n",
       "      <th>delta</th>\n",
       "      <th>delta</th>\n",
       "      <td>0.930</td>\n",
       "      <td>0.690</td>\n",
       "      <td>1.000</td>\n",
       "    </tr>\n",
       "    <tr>\n",
       "      <th>wage_fishing</th>\n",
       "      <th>exp_fishing</th>\n",
       "      <td>0.070</td>\n",
       "      <td>0.066</td>\n",
       "      <td>0.078</td>\n",
       "    </tr>\n",
       "    <tr>\n",
       "      <th>nonpec_fishing</th>\n",
       "      <th>constant</th>\n",
       "      <td>-0.100</td>\n",
       "      <td>-0.200</td>\n",
       "      <td>-0.090</td>\n",
       "    </tr>\n",
       "    <tr>\n",
       "      <th>nonpec_hammock</th>\n",
       "      <th>constant</th>\n",
       "      <td>1.046</td>\n",
       "      <td>1.000</td>\n",
       "      <td>1.100</td>\n",
       "    </tr>\n",
       "    <tr>\n",
       "      <th rowspan=\"3\" valign=\"top\">shocks_sdcorr</th>\n",
       "      <th>sd_fishing</th>\n",
       "      <td>0.010</td>\n",
       "      <td>0.000</td>\n",
       "      <td>0.500</td>\n",
       "    </tr>\n",
       "    <tr>\n",
       "      <th>sd_hammock</th>\n",
       "      <td>0.010</td>\n",
       "      <td>0.000</td>\n",
       "      <td>0.500</td>\n",
       "    </tr>\n",
       "    <tr>\n",
       "      <th>corr_hammock_fishing</th>\n",
       "      <td>0.000</td>\n",
       "      <td>0.000</td>\n",
       "      <td>0.500</td>\n",
       "    </tr>\n",
       "  </tbody>\n",
       "</table>\n",
       "</div>"
      ],
      "text/plain": [
       "                                     value  lower_bound  upper_bound\n",
       "category       name                                                 \n",
       "delta          delta                 0.930        0.690        1.000\n",
       "wage_fishing   exp_fishing           0.070        0.066        0.078\n",
       "nonpec_fishing constant             -0.100       -0.200       -0.090\n",
       "nonpec_hammock constant              1.046        1.000        1.100\n",
       "shocks_sdcorr  sd_fishing            0.010        0.000        0.500\n",
       "               sd_hammock            0.010        0.000        0.500\n",
       "               corr_hammock_fishing  0.000        0.000        0.500"
      ]
     },
     "metadata": {},
     "execution_count": 28
    }
   ],
   "metadata": {
    "ExecuteTime": {
     "end_time": "2020-04-23T17:08:08.132179Z",
     "start_time": "2020-04-23T17:08:08.101154Z"
    }
   }
  },
  {
   "cell_type": "markdown",
   "source": [
    "##### Constraints"
   ],
   "metadata": {}
  },
  {
   "cell_type": "markdown",
   "source": [
    "Additionally we hold all other parameters fixed for now to aid the optimizer in finding the optimal value for *delta*."
   ],
   "metadata": {}
  },
  {
   "cell_type": "code",
   "execution_count": 29,
   "source": [
    "# Define base constraints to use for the rest of the notebook.\r\n",
    "constr_base = [\r\n",
    "    {\"loc\": \"shocks_sdcorr\", \"type\": \"sdcorr\"},\r\n",
    "    {\"loc\": \"delta\", \"type\": \"fixed\"},\r\n",
    "    {\"loc\": \"wage_fishing\", \"type\": \"fixed\"},\r\n",
    "    {\"loc\": \"nonpec_fishing\", \"type\": \"fixed\"},\r\n",
    "    {\"loc\": \"nonpec_hammock\", \"type\": \"fixed\"},\r\n",
    "    {\"loc\": \"shocks_sdcorr\", \"type\": \"fixed\"},\r\n",
    "]"
   ],
   "outputs": [],
   "metadata": {
    "ExecuteTime": {
     "end_time": "2020-04-23T17:08:08.175863Z",
     "start_time": "2020-04-23T17:08:08.134401Z"
    }
   }
  },
  {
   "cell_type": "code",
   "execution_count": 30,
   "source": [
    "# Remove constraint for delta.\r\n",
    "constr = constr_base.copy()\r\n",
    "constr.remove({\"loc\": \"delta\", \"type\": \"fixed\"})"
   ],
   "outputs": [],
   "metadata": {
    "ExecuteTime": {
     "end_time": "2020-04-23T17:08:08.210745Z",
     "start_time": "2020-04-23T17:08:08.177677Z"
    }
   }
  },
  {
   "cell_type": "markdown",
   "source": [
    "##### Optimize"
   ],
   "metadata": {}
  },
  {
   "cell_type": "markdown",
   "source": [
    "We can now optimize the criterion function with respect to the parameter vector. The optimizer manages to reach a function value of 0 and finds an approximately correct *delta* for our model. \n",
    "\n",
    "This exercise again reveals that we are dealing with a non-smooth criterion function. The optimizer does not return the exact value of 0.95 for *delta* because of the little plateaus we saw when zooming into the criterion function. As the plot shows, there is a small area around the true value for *delta* that also returns a function value of 0 and might thus be picked by the optimizer."
   ],
   "metadata": {}
  },
  {
   "cell_type": "code",
   "execution_count": 31,
   "source": [
    "rslt = minimize(\r\n",
    "    criterion=criterion_msm,\r\n",
    "    params=params_cand,\r\n",
    "    algorithm=\"nag_pybobyqa\",\r\n",
    "    constraints=constr,\r\n",
    ")\r\n",
    "rslt[\"solution_criterion\"]"
   ],
   "outputs": [
    {
     "output_type": "execute_result",
     "data": {
      "text/plain": [
       "0.5248952065747418"
      ]
     },
     "metadata": {},
     "execution_count": 31
    }
   ],
   "metadata": {
    "ExecuteTime": {
     "end_time": "2020-04-23T17:08:14.361296Z",
     "start_time": "2020-04-23T17:08:08.212162Z"
    },
    "scrolled": true
   }
  },
  {
   "cell_type": "markdown",
   "source": [
    "#### Chatter in the Criterion Function"
   ],
   "metadata": {}
  },
  {
   "cell_type": "markdown",
   "source": [
    "In this exercise we explore the sensitivity of the criterion function to the choice of simulation seed and number of agents."
   ],
   "metadata": {}
  },
  {
   "cell_type": "markdown",
   "source": [
    "##### Changing the Simulation Seed"
   ],
   "metadata": {}
  },
  {
   "cell_type": "markdown",
   "source": [
    "As shown above, the optimizer manages to find a function value of exactly 0 for the true parameter vector. This is the case because respy controls the realization of random elements in the simulation process via a simulation seed. The model thus always simulates the exact same dataset for a given parameter vector. Our criterion function becomes exactly 0 at the true parameter vector because for this vector, the observed and simulated data are identical.\n",
    "\n",
    "Changing the simulation seed results in simulated moments that, even for the true parameter vector, are never completely equal to the observed moments. "
   ],
   "metadata": {}
  },
  {
   "cell_type": "markdown",
   "source": [
    "Let's estimate the model with a different simulation seed."
   ],
   "metadata": {}
  },
  {
   "cell_type": "code",
   "execution_count": 32,
   "source": [
    "options_new_seed = options.copy()\r\n",
    "options_new_seed[\"simulation_seed\"] = 400"
   ],
   "outputs": [],
   "metadata": {
    "ExecuteTime": {
     "end_time": "2020-04-23T17:08:14.386550Z",
     "start_time": "2020-04-23T17:08:14.363443Z"
    }
   }
  },
  {
   "cell_type": "markdown",
   "source": [
    "We can see that the criterion function is not 0 anymore for the true parameter vector."
   ],
   "metadata": {}
  },
  {
   "cell_type": "code",
   "execution_count": 33,
   "source": [
    "criterion_msm = rp.get_moment_errors_func(\r\n",
    "    params_true, options_new_seed, calc_moments, replace_nans, moments_obs, W\r\n",
    ")\r\n",
    "criterion_msm(params_true)"
   ],
   "outputs": [
    {
     "output_type": "execute_result",
     "data": {
      "text/plain": [
       "38.97135021944551"
      ]
     },
     "metadata": {},
     "execution_count": 33
    }
   ],
   "metadata": {
    "ExecuteTime": {
     "end_time": "2020-04-23T17:08:14.732977Z",
     "start_time": "2020-04-23T17:08:14.387877Z"
    }
   }
  },
  {
   "cell_type": "markdown",
   "source": [
    "Our optimizer thus also does not return a function value of 0 for the true parameter vector."
   ],
   "metadata": {}
  },
  {
   "cell_type": "code",
   "execution_count": 34,
   "source": [
    "rslt_new_seed = minimize(\r\n",
    "    criterion=criterion_msm,\r\n",
    "    params=params_true,\r\n",
    "    algorithm=\"nag_pybobyqa\",\r\n",
    "    constraints=constr,\r\n",
    ")\r\n",
    "rslt_new_seed[\"solution_criterion\"]"
   ],
   "outputs": [
    {
     "output_type": "execute_result",
     "data": {
      "text/plain": [
       "17.369549302805428"
      ]
     },
     "metadata": {},
     "execution_count": 34
    }
   ],
   "metadata": {
    "ExecuteTime": {
     "end_time": "2020-04-23T17:08:22.207482Z",
     "start_time": "2020-04-23T17:08:14.734788Z"
    }
   }
  },
  {
   "cell_type": "markdown",
   "source": [
    "Since the optimizer does not even recognize the true parameter vector, it is also not able to reach a criterion function  value of 0 for a different parameter vector."
   ],
   "metadata": {}
  },
  {
   "cell_type": "code",
   "execution_count": 35,
   "source": [
    "rslt_new_seed = minimize(\r\n",
    "    criterion=criterion_msm,\r\n",
    "    params=params_cand,\r\n",
    "    algorithm=\"nag_pybobyqa\",\r\n",
    "    constraints=constr,\r\n",
    ")\r\n",
    "\r\n",
    "rslt_new_seed[\"solution_criterion\"]"
   ],
   "outputs": [
    {
     "output_type": "execute_result",
     "data": {
      "text/plain": [
       "17.369549302805428"
      ]
     },
     "metadata": {},
     "execution_count": 35
    }
   ],
   "metadata": {
    "ExecuteTime": {
     "end_time": "2020-04-23T17:08:28.863244Z",
     "start_time": "2020-04-23T17:08:22.209149Z"
    }
   }
  },
  {
   "cell_type": "markdown",
   "source": [
    "##### Multiple Simulation Seeds"
   ],
   "metadata": {}
  },
  {
   "cell_type": "markdown",
   "source": [
    "The section above shows what happens to the criterion function if we change the seed for simulating the data. In the sections below we will repeat this exercise for multiple seeds and explore what happens if we increase the number of simulated as well as observed agents in our model."
   ],
   "metadata": {}
  },
  {
   "cell_type": "code",
   "execution_count": 36,
   "source": [
    "# List of seeds, includes true simulation seed of 132.\r\n",
    "seeds = list(range(120, 140, 1))"
   ],
   "outputs": [],
   "metadata": {
    "ExecuteTime": {
     "end_time": "2020-04-23T17:08:28.893880Z",
     "start_time": "2020-04-23T17:08:28.867458Z"
    }
   }
  },
  {
   "cell_type": "code",
   "execution_count": 37,
   "source": [
    "# Define other inputs for criterion function\r\n",
    "criterion_kwargs = dict()\r\n",
    "criterion_kwargs[\"params\"] = params_true.copy()\r\n",
    "criterion_kwargs[\"options\"] = options\r\n",
    "criterion_kwargs[\"calc_moments\"] = calc_moments\r\n",
    "criterion_kwargs[\"replace_nans\"] = replace_nans\r\n",
    "criterion_kwargs[\"moments_obs\"] = moments_obs\r\n",
    "criterion_kwargs[\"weighting_matrix\"] = W"
   ],
   "outputs": [],
   "metadata": {
    "ExecuteTime": {
     "end_time": "2020-04-23T17:08:28.919388Z",
     "start_time": "2020-04-23T17:08:28.895675Z"
    }
   }
  },
  {
   "cell_type": "markdown",
   "source": [
    "The plot below shows the criterion function for different simulation seeds, including the true one. We can seed that different seeds lead to different fits between the simulated and observed data, with some seeds performing worse than others. Only the true seed leads to a function value of 0."
   ],
   "metadata": {}
  },
  {
   "cell_type": "code",
   "execution_count": 38,
   "source": [
    "plot_chatter(seeds, criterion_kwargs)"
   ],
   "outputs": [
    {
     "output_type": "display_data",
     "data": {
      "image/png": "[encoded data removed]",
      "text/plain": [
       "<Figure size 432x288 with 1 Axes>"
      ]
     },
     "metadata": {
      "needs_background": "light"
     }
    }
   ],
   "metadata": {
    "ExecuteTime": {
     "end_time": "2020-04-23T17:08:34.687881Z",
     "start_time": "2020-04-23T17:08:28.920803Z"
    }
   }
  },
  {
   "cell_type": "markdown",
   "source": [
    "##### Changing the Simulation Seed for increasing Sample Size of Simulated Agents"
   ],
   "metadata": {}
  },
  {
   "cell_type": "markdown",
   "source": [
    "We now repeat this exercise for an increasing number of simulated agents. As the plot below shows, increasing the number of simulated agents reduces the chatter considerably but the criterion function remains consistently above zero. Only the simulated sample of 1000 agents at the true simulation seed reaches a function of zero, since, as discussed before, the simulated sample is identical to the observed one for this calibration."
   ],
   "metadata": {}
  },
  {
   "cell_type": "code",
   "execution_count": 39,
   "source": [
    "# Changing the number of agents.\r\n",
    "num_agents = [500, 1000, 5000, 10000, 50000]"
   ],
   "outputs": [],
   "metadata": {
    "ExecuteTime": {
     "end_time": "2020-04-23T17:08:34.713358Z",
     "start_time": "2020-04-23T17:08:34.692170Z"
    }
   }
  },
  {
   "cell_type": "code",
   "execution_count": 40,
   "source": [
    "plot_chatter_numagents_sim(seeds, num_agents, criterion_kwargs)"
   ],
   "outputs": [
    {
     "output_type": "display_data",
     "data": {
      "image/png": "[encoded data removed]",
      "text/plain": [
       "<Figure size 432x288 with 1 Axes>"
      ]
     },
     "metadata": {
      "needs_background": "light"
     }
    }
   ],
   "metadata": {
    "ExecuteTime": {
     "end_time": "2020-04-23T17:10:39.288970Z",
     "start_time": "2020-04-23T17:08:34.714822Z"
    }
   }
  },
  {
   "cell_type": "markdown",
   "source": [
    "##### Changing the Simulation Seed for increasing Sample Size of Simulated *and* Observed Agents"
   ],
   "metadata": {}
  },
  {
   "cell_type": "markdown",
   "source": [
    "We now increase not only the number of simulated agents but also the number of observed agents in our sample. Doing so decreases the chatter in the criterion function as before but also levels out the function around 0 for all simulation seeds. For large enough samples of observed and simulated agents the choice of simulation seed is thus irrelevant."
   ],
   "metadata": {}
  },
  {
   "cell_type": "code",
   "execution_count": 41,
   "source": [
    "plot_chatter_numagents_both(seeds, num_agents, calc_moments, replace_nans, criterion_kwargs)"
   ],
   "outputs": [
    {
     "output_type": "display_data",
     "data": {
      "image/png": "[encoded data removed]",
      "text/plain": [
       "<Figure size 432x288 with 1 Axes>"
      ]
     },
     "metadata": {
      "needs_background": "light"
     }
    }
   ],
   "metadata": {
    "ExecuteTime": {
     "end_time": "2020-04-23T17:12:54.899181Z",
     "start_time": "2020-04-23T17:10:39.291710Z"
    }
   }
  },
  {
   "cell_type": "markdown",
   "source": [
    "*Note*: In contrast to the previous plot, we can see that the function reaches a value of 0 at the true simulation seed for all quantities of agents. This is the case because we now simultaneously increase the number of both simulated and observed agents while the observed sample remained untouched in the previous plot. Increasing the number of agents simultaneously for both groups creates identical samples for the true simulation seed at each quantity of agents. "
   ],
   "metadata": {}
  },
  {
   "cell_type": "markdown",
   "source": [
    "#### Moving away from the Optimum"
   ],
   "metadata": {}
  },
  {
   "cell_type": "markdown",
   "source": [
    "For the next exercise we explore what happens to the criterion function if we move away from the optimum. We do this in a controlled fashion by changing the parameter values for *delta* and *wage_fishing* and fixing the latter in the constraints. Doing so should lead *delta* to move away from its optimal value of 0.95 during optimization."
   ],
   "metadata": {}
  },
  {
   "cell_type": "code",
   "execution_count": 42,
   "source": [
    "params_cand.loc[\"wage_fishing\", \"value\"] = 0.072\r\n",
    "params_cand"
   ],
   "outputs": [
    {
     "output_type": "execute_result",
     "data": {
      "text/html": [
       "<div>\n",
       "<style scoped>\n",
       "    .dataframe tbody tr th:only-of-type {\n",
       "        vertical-align: middle;\n",
       "    }\n",
       "\n",
       "    .dataframe tbody tr th {\n",
       "        vertical-align: top;\n",
       "    }\n",
       "\n",
       "    .dataframe thead th {\n",
       "        text-align: right;\n",
       "    }\n",
       "</style>\n",
       "<table border=\"1\" class=\"dataframe\">\n",
       "  <thead>\n",
       "    <tr style=\"text-align: right;\">\n",
       "      <th></th>\n",
       "      <th></th>\n",
       "      <th>value</th>\n",
       "      <th>lower_bound</th>\n",
       "      <th>upper_bound</th>\n",
       "    </tr>\n",
       "    <tr>\n",
       "      <th>category</th>\n",
       "      <th>name</th>\n",
       "      <th></th>\n",
       "      <th></th>\n",
       "      <th></th>\n",
       "    </tr>\n",
       "  </thead>\n",
       "  <tbody>\n",
       "    <tr>\n",
       "      <th>delta</th>\n",
       "      <th>delta</th>\n",
       "      <td>0.930</td>\n",
       "      <td>0.690</td>\n",
       "      <td>1.000</td>\n",
       "    </tr>\n",
       "    <tr>\n",
       "      <th>wage_fishing</th>\n",
       "      <th>exp_fishing</th>\n",
       "      <td>0.072</td>\n",
       "      <td>0.066</td>\n",
       "      <td>0.078</td>\n",
       "    </tr>\n",
       "    <tr>\n",
       "      <th>nonpec_fishing</th>\n",
       "      <th>constant</th>\n",
       "      <td>-0.100</td>\n",
       "      <td>-0.200</td>\n",
       "      <td>-0.090</td>\n",
       "    </tr>\n",
       "    <tr>\n",
       "      <th>nonpec_hammock</th>\n",
       "      <th>constant</th>\n",
       "      <td>1.046</td>\n",
       "      <td>1.000</td>\n",
       "      <td>1.100</td>\n",
       "    </tr>\n",
       "    <tr>\n",
       "      <th rowspan=\"3\" valign=\"top\">shocks_sdcorr</th>\n",
       "      <th>sd_fishing</th>\n",
       "      <td>0.010</td>\n",
       "      <td>0.000</td>\n",
       "      <td>0.500</td>\n",
       "    </tr>\n",
       "    <tr>\n",
       "      <th>sd_hammock</th>\n",
       "      <td>0.010</td>\n",
       "      <td>0.000</td>\n",
       "      <td>0.500</td>\n",
       "    </tr>\n",
       "    <tr>\n",
       "      <th>corr_hammock_fishing</th>\n",
       "      <td>0.000</td>\n",
       "      <td>0.000</td>\n",
       "      <td>0.500</td>\n",
       "    </tr>\n",
       "  </tbody>\n",
       "</table>\n",
       "</div>"
      ],
      "text/plain": [
       "                                     value  lower_bound  upper_bound\n",
       "category       name                                                 \n",
       "delta          delta                 0.930        0.690        1.000\n",
       "wage_fishing   exp_fishing           0.072        0.066        0.078\n",
       "nonpec_fishing constant             -0.100       -0.200       -0.090\n",
       "nonpec_hammock constant              1.046        1.000        1.100\n",
       "shocks_sdcorr  sd_fishing            0.010        0.000        0.500\n",
       "               sd_hammock            0.010        0.000        0.500\n",
       "               corr_hammock_fishing  0.000        0.000        0.500"
      ]
     },
     "metadata": {},
     "execution_count": 42
    }
   ],
   "metadata": {
    "ExecuteTime": {
     "end_time": "2020-04-23T17:12:54.932419Z",
     "start_time": "2020-04-23T17:12:54.901076Z"
    }
   }
  },
  {
   "cell_type": "markdown",
   "source": [
    "The optimizer cannot retrieve the true parameter and does not reach a value of 0."
   ],
   "metadata": {}
  },
  {
   "cell_type": "code",
   "execution_count": 43,
   "source": [
    "criterion_msm = rp.get_moment_errors_func(\r\n",
    "    params_true, options_new_seed, calc_moments, replace_nans, moments_obs, W\r\n",
    ")\r\n",
    "rslt_wrong_fix = minimize(\r\n",
    "    criterion=criterion_msm,\r\n",
    "    params=params_cand,\r\n",
    "    algorithm=\"nag_pybobyqa\",\r\n",
    "    constraints=constr,\r\n",
    ")\r\n",
    "rslt_wrong_fix[\"solution_criterion\"]"
   ],
   "outputs": [
    {
     "output_type": "execute_result",
     "data": {
      "text/plain": [
       "813.7988993578208"
      ]
     },
     "metadata": {},
     "execution_count": 43
    }
   ],
   "metadata": {
    "ExecuteTime": {
     "end_time": "2020-04-23T17:13:02.385580Z",
     "start_time": "2020-04-23T17:12:54.934050Z"
    },
    "scrolled": true
   }
  },
  {
   "cell_type": "markdown",
   "source": [
    "##### Retrieving the true Parameter Vector"
   ],
   "metadata": {}
  },
  {
   "cell_type": "markdown",
   "source": [
    "We now repeat the estimation with the new parameter vector and free up *wage_fishing* to retrieve the optimal values for both parameters.\n",
    "\n",
    "The parameter for *wage_fishing* is still 0.072 since we fixed it for the prior estimation:"
   ],
   "metadata": {}
  },
  {
   "cell_type": "code",
   "execution_count": 44,
   "source": [
    "params_cand.loc[:, \"value\"] = rslt_wrong_fix[\"solution_params\"][[\"value\"]]\r\n",
    "params_cand"
   ],
   "outputs": [
    {
     "output_type": "execute_result",
     "data": {
      "text/html": [
       "<div>\n",
       "<style scoped>\n",
       "    .dataframe tbody tr th:only-of-type {\n",
       "        vertical-align: middle;\n",
       "    }\n",
       "\n",
       "    .dataframe tbody tr th {\n",
       "        vertical-align: top;\n",
       "    }\n",
       "\n",
       "    .dataframe thead th {\n",
       "        text-align: right;\n",
       "    }\n",
       "</style>\n",
       "<table border=\"1\" class=\"dataframe\">\n",
       "  <thead>\n",
       "    <tr style=\"text-align: right;\">\n",
       "      <th></th>\n",
       "      <th></th>\n",
       "      <th>value</th>\n",
       "      <th>lower_bound</th>\n",
       "      <th>upper_bound</th>\n",
       "    </tr>\n",
       "    <tr>\n",
       "      <th>category</th>\n",
       "      <th>name</th>\n",
       "      <th></th>\n",
       "      <th></th>\n",
       "      <th></th>\n",
       "    </tr>\n",
       "  </thead>\n",
       "  <tbody>\n",
       "    <tr>\n",
       "      <th>delta</th>\n",
       "      <th>delta</th>\n",
       "      <td>0.923022</td>\n",
       "      <td>0.690</td>\n",
       "      <td>1.000</td>\n",
       "    </tr>\n",
       "    <tr>\n",
       "      <th>wage_fishing</th>\n",
       "      <th>exp_fishing</th>\n",
       "      <td>0.072000</td>\n",
       "      <td>0.066</td>\n",
       "      <td>0.078</td>\n",
       "    </tr>\n",
       "    <tr>\n",
       "      <th>nonpec_fishing</th>\n",
       "      <th>constant</th>\n",
       "      <td>-0.100000</td>\n",
       "      <td>-0.200</td>\n",
       "      <td>-0.090</td>\n",
       "    </tr>\n",
       "    <tr>\n",
       "      <th>nonpec_hammock</th>\n",
       "      <th>constant</th>\n",
       "      <td>1.046000</td>\n",
       "      <td>1.000</td>\n",
       "      <td>1.100</td>\n",
       "    </tr>\n",
       "    <tr>\n",
       "      <th rowspan=\"3\" valign=\"top\">shocks_sdcorr</th>\n",
       "      <th>sd_fishing</th>\n",
       "      <td>0.010000</td>\n",
       "      <td>0.000</td>\n",
       "      <td>0.500</td>\n",
       "    </tr>\n",
       "    <tr>\n",
       "      <th>sd_hammock</th>\n",
       "      <td>0.010000</td>\n",
       "      <td>0.000</td>\n",
       "      <td>0.500</td>\n",
       "    </tr>\n",
       "    <tr>\n",
       "      <th>corr_hammock_fishing</th>\n",
       "      <td>0.000000</td>\n",
       "      <td>0.000</td>\n",
       "      <td>0.500</td>\n",
       "    </tr>\n",
       "  </tbody>\n",
       "</table>\n",
       "</div>"
      ],
      "text/plain": [
       "                                        value  lower_bound  upper_bound\n",
       "category       name                                                    \n",
       "delta          delta                 0.923022        0.690        1.000\n",
       "wage_fishing   exp_fishing           0.072000        0.066        0.078\n",
       "nonpec_fishing constant             -0.100000       -0.200       -0.090\n",
       "nonpec_hammock constant              1.046000        1.000        1.100\n",
       "shocks_sdcorr  sd_fishing            0.010000        0.000        0.500\n",
       "               sd_hammock            0.010000        0.000        0.500\n",
       "               corr_hammock_fishing  0.000000        0.000        0.500"
      ]
     },
     "metadata": {},
     "execution_count": 44
    }
   ],
   "metadata": {
    "ExecuteTime": {
     "end_time": "2020-04-23T17:13:02.432704Z",
     "start_time": "2020-04-23T17:13:02.387260Z"
    }
   }
  },
  {
   "cell_type": "markdown",
   "source": [
    "We now free up *wage_fishing* in the constraints in addition to *delta*."
   ],
   "metadata": {}
  },
  {
   "cell_type": "code",
   "execution_count": 45,
   "source": [
    "# Adjust constraints to free up both delta and wage_fishing.\r\n",
    "constr_u = constr_base.copy()\r\n",
    "constr_u.remove({\"loc\": \"delta\", \"type\": \"fixed\"})\r\n",
    "constr_u.remove({\"loc\": \"wage_fishing\", \"type\": \"fixed\"})"
   ],
   "outputs": [],
   "metadata": {
    "ExecuteTime": {
     "end_time": "2020-04-23T17:13:02.478202Z",
     "start_time": "2020-04-23T17:13:02.435391Z"
    }
   }
  },
  {
   "cell_type": "markdown",
   "source": [
    "Freeing up the non-optimal *wage_fishing* improves the estimates. The criterion function value is much closer to 0 and the optimizer manages to retrieve the true parameter values quite closely."
   ],
   "metadata": {}
  },
  {
   "cell_type": "code",
   "execution_count": 62,
   "source": [
    "rslt_unfix = minimize(\r\n",
    "    criterion=criterion_msm,\r\n",
    "    params=params_cand[[\"value\"]],\r\n",
    "    algorithm=\"nag_pybobyqa\",\r\n",
    "    constraints=constr_u,\r\n",
    ")\r\n",
    "rslt_unfix[\"solution_criterion\"]"
   ],
   "outputs": [
    {
     "output_type": "execute_result",
     "data": {
      "text/plain": [
       "710.9165575145821"
      ]
     },
     "metadata": {},
     "execution_count": 62
    }
   ],
   "metadata": {
    "ExecuteTime": {
     "end_time": "2020-04-23T17:13:42.959947Z",
     "start_time": "2020-04-23T17:13:02.480986Z"
    }
   }
  },
  {
   "cell_type": "markdown",
   "source": [
    "For easier comparison, we can compute the difference between the true and estimated value:"
   ],
   "metadata": {}
  },
  {
   "cell_type": "code",
   "execution_count": 63,
   "source": [
    "deviation = params_true[\"value\"] - rslt_unfix[\"solution_params\"][\"value\"]\r\n",
    "deviation"
   ],
   "outputs": [
    {
     "output_type": "execute_result",
     "data": {
      "text/plain": [
       "category        name                \n",
       "delta           delta                   0.026703\n",
       "wage_fishing    exp_fishing            -0.001791\n",
       "nonpec_fishing  constant                0.000000\n",
       "nonpec_hammock  constant                0.000000\n",
       "shocks_sdcorr   sd_fishing              0.000000\n",
       "                sd_hammock              0.000000\n",
       "                corr_hammock_fishing    0.000000\n",
       "Name: value, dtype: float64"
      ]
     },
     "metadata": {},
     "execution_count": 63
    }
   ],
   "metadata": {
    "ExecuteTime": {
     "end_time": "2020-04-23T17:13:42.998786Z",
     "start_time": "2020-04-23T17:13:42.963104Z"
    }
   }
  },
  {
   "cell_type": "markdown",
   "source": [
    "#### Derivative-Based Optimization Algorithm"
   ],
   "metadata": {}
  },
  {
   "cell_type": "markdown",
   "source": [
    "So far we have used only one optimization algorithm to estimate the parameter vector. The algorithm we used, BOBYQA (Bound Optimization by Quadratic Approximation), is a derivative-free optimization algorithm which works fairly well on our criterion function. As discussed above, our criterion function is a step function that contains plateaus for certain ranges of parameter values. An important implication of this property is that we cannot calculate proper derivatives and thus derivative-based optimization algorithms will not work to estimate the parameters. \r\n",
    "\r\n",
    "To demonstrate this problem, we will now try to estimate the parameters using an optimization algorithm that does use derivatives during optimization."
   ],
   "metadata": {}
  },
  {
   "cell_type": "code",
   "execution_count": 64,
   "source": [
    "# Define candidate parameter vector and constraints.\r\n",
    "params_cand = params_true.copy()\r\n",
    "params_cand.loc[\"delta\", \"value\"] = 0.93\r\n",
    "\r\n",
    "params_cand[\"lower_bound\"] = [0.79, 0.066, -0.11, 1.04, 0, 0, 0]\r\n",
    "params_cand[\"upper_bound\"] = [1, 0.072, -0.095, 1.055, 0.5, 0.5, 0.5]\r\n",
    "\r\n",
    "constr = constr_base.copy()\r\n",
    "constr.remove({\"loc\": \"delta\", \"type\": \"fixed\"})"
   ],
   "outputs": [],
   "metadata": {
    "ExecuteTime": {
     "end_time": "2020-04-23T17:13:43.031059Z",
     "start_time": "2020-04-23T17:13:43.000975Z"
    }
   }
  },
  {
   "cell_type": "markdown",
   "source": [
    "We try the L-BFGS-B (Limited-Memory-Broyden-Fletcher-Goldfarb-Shanno with box constraints) algorithm. As shown below, L-BFGS-B fails and the optimizer returns the same parameter vector that we used as an input. "
   ],
   "metadata": {}
  },
  {
   "cell_type": "code",
   "execution_count": 65,
   "source": [
    "criterion_msm = rp.get_moment_errors_func(\r\n",
    "    params_true, options_new_seed, calc_moments, replace_nans, moments_obs, W\r\n",
    ")\r\n",
    "rslt = minimize(\r\n",
    "    criterion=criterion_msm,\r\n",
    "    params=params_cand,\r\n",
    "    algorithm=\"scipy_lbfgsb\",\r\n",
    "    constraints=constr,\r\n",
    ")\r\n",
    "rslt"
   ],
   "outputs": [
    {
     "output_type": "execute_result",
     "data": {
      "text/plain": [
       "{'solution_x': array([0.93]),\n",
       " 'solution_criterion': 7204.902739425344,\n",
       " 'solution_derivative': array([0.]),\n",
       " 'solution_hessian': None,\n",
       " 'n_criterion_evaluations': 1,\n",
       " 'n_derivative_evaluations': None,\n",
       " 'n_iterations': 0,\n",
       " 'success': True,\n",
       " 'reached_convergence_criterion': None,\n",
       " 'message': 'CONVERGENCE: NORM_OF_PROJECTED_GRADIENT_<=_PGTOL',\n",
       " 'solution_params':                                      lower_bound  upper_bound  value\n",
       " category       name                                                 \n",
       " delta          delta                       0.790        1.000  0.930\n",
       " wage_fishing   exp_fishing                 0.066        0.072  0.070\n",
       " nonpec_fishing constant                   -0.110       -0.095 -0.100\n",
       " nonpec_hammock constant                    1.040        1.055  1.046\n",
       " shocks_sdcorr  sd_fishing                  0.000        0.500  0.010\n",
       "                sd_hammock                  0.000        0.500  0.010\n",
       "                corr_hammock_fishing        0.000        0.500  0.000}"
      ]
     },
     "metadata": {},
     "execution_count": 65
    }
   ],
   "metadata": {
    "ExecuteTime": {
     "end_time": "2020-04-23T17:13:44.540918Z",
     "start_time": "2020-04-23T17:13:43.032924Z"
    }
   }
  },
  {
   "cell_type": "markdown",
   "source": [
    "### References"
   ],
   "metadata": {}
  },
  {
   "cell_type": "markdown",
   "source": [
    "* Adda, J., & Cooper, R. W. (2003). *Dynamic Economics: Quantitative Methods and Applications*. MIT press.\n",
    "\n",
    "\n",
    "* Adda, J., Dustmann, C., & Stevens, K. (2017). The Career Costs of Children. *Journal of Political Economy*, 125(2), 293-337.\n",
    "\n",
    "\n",
    "* Andrews, I., Gentzkow, M., & Shapiro, J. M. (2017). Measuring the Sensitivity of Parameter Estimates to Estimation Moments. *The Quarterly Journal of Economics*, 132(4), 1553-1592.\n",
    "\n",
    "\n",
    "* Bruins, M., Duffy, J. A., Keane, M. P., & Smith Jr, A. A. (2018). Generalized Indirect Inference for Discrete Choice Models. *Journal of econometrics*, 205(1), 177-203.\n",
    "\n",
    "\n",
    "* Davidson, R., & MacKinnon, J. G. (2004). *Econometric Theory and Methods (Vol. 5)*. New York: Oxford University Press.\n",
    "\n",
    "\n",
    "* Evans, R. W. (2018, July 5). Simulated Method of Moments (SMM) Estimation. Retrieved November 30, 2019, from https://notes.quantecon.org/submission/5b3db2ceb9eab00015b89f93.\n",
    "\n",
    "\n",
    "* Frazier, D. T., Oka, T., & Zhu, D. (2019). Indirect Inference with a Non-Smooth Criterion Function. *Journal of Econometrics*, 212(2), 623-645.\n",
    " \n",
    " \n",
    "* Gourieroux, M., & Monfort, D. A. (1996). *Simulation-based econometric methods*. Oxford university press.\n",
    "\n",
    "\n",
    "* McFadden, D. (1989). A Method of Simulated Moments for Estimation of Discrete Response Models without Numerical Integration. *Econometrica: Journal of the Econometric Society*, 995-1026."
   ],
   "metadata": {}
  }
 ],
 "metadata": {
  "kernelspec": {
   "name": "python3",
   "display_name": "Python 3.9.6 64-bit ('ekw-lectures': conda)"
  },
  "language_info": {
   "codemirror_mode": {
    "name": "ipython",
    "version": 3
   },
   "file_extension": ".py",
   "mimetype": "text/x-python",
   "name": "python",
   "nbconvert_exporter": "python",
   "pygments_lexer": "ipython3",
   "version": "3.9.6"
  },
  "toc": {
   "base_numbering": 1,
   "nav_menu": {},
   "number_sections": true,
   "sideBar": true,
   "skip_h1_title": true,
   "title_cell": "Table of Contents",
   "title_sidebar": "Contents",
   "toc_cell": true,
   "toc_position": {
    "height": "476.7px",
    "left": "484px",
    "top": "131.8px",
    "width": "291.806px"
   },
   "toc_section_display": true,
   "toc_window_display": true
  },
  "varInspector": {
   "cols": {
    "lenName": 16,
    "lenType": 16,
    "lenVar": 40
   },
   "kernels_config": {
    "python": {
     "delete_cmd_postfix": "",
     "delete_cmd_prefix": "del ",
     "library": "var_list.py",
     "varRefreshCmd": "print(var_dic_list())"
    },
    "r": {
     "delete_cmd_postfix": ") ",
     "delete_cmd_prefix": "rm(",
     "library": "var_list.r",
     "varRefreshCmd": "cat(var_dic_list()) "
    }
   },
   "position": {
    "height": "355.4px",
    "left": "858.8px",
    "right": "20px",
    "top": "120px",
    "width": "527.4px"
   },
   "types_to_exclude": [
    "module",
    "function",
    "builtin_function_or_method",
    "instance",
    "_Feature"
   ],
   "window_display": false
  },
  "interpreter": {
   "hash": "baad205918c9980e5e4b45973d8e876fe86b5b9ba15167b245b2d8bd77278b5d"
  }
 },
 "nbformat": 4,
 "nbformat_minor": 4
}
