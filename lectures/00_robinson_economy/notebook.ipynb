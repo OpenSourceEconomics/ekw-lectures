{
 "cells": [
  {
   "cell_type": "code",
   "execution_count": 2,
   "metadata": {},
   "outputs": [
    {
     "name": "stdout",
     "output_type": "stream",
     "text": [
      "The autoreload extension is already loaded. To reload it, use:\n",
      "  %reload_ext autoreload\n"
     ]
    }
   ],
   "source": [
    "%load_ext autoreload\n",
    "%autoreload 2\n",
    "\n",
    "import matplotlib.pyplot as plt\n",
    "import respy as rp\n",
    "import numpy as np"
   ]
  },
  {
   "cell_type": "markdown",
   "metadata": {},
   "source": [
    "# Robinson Crusoe economy"
   ]
  },
  {
   "cell_type": "code",
   "execution_count": 3,
   "metadata": {},
   "outputs": [],
   "source": [
    "params_base, options_base, df = rp.get_example_model(\"robinson\", with_data=True)"
   ]
  },
  {
   "cell_type": "markdown",
   "metadata": {},
   "source": [
    "Let's look at the parameterization of the model and the specified options."
   ]
  },
  {
   "cell_type": "code",
   "execution_count": 4,
   "metadata": {},
   "outputs": [
    {
     "name": "stdout",
     "output_type": "stream",
     "text": [
      " Parametrization\n",
      "                                     value\n",
      "category       name                       \n",
      "delta          delta                 0.950\n",
      "wage_fishing   exp_fishing           0.070\n",
      "nonpec_fishing constant             -0.100\n",
      "nonpec_hammock constant              1.046\n",
      "shocks_sdcorr  sd_fishing            0.010\n",
      "               sd_hammock            0.010\n",
      "               corr_hammock_fishing  0.000\n",
      "\n",
      " Options\n"
     ]
    },
    {
     "data": {
      "text/plain": [
       "{'estimation_draws': 100,\n",
       " 'estimation_seed': 100,\n",
       " 'estimation_tau': 0.001,\n",
       " 'interpolation_points': -1,\n",
       " 'n_periods': 5,\n",
       " 'simulation_agents': 1000,\n",
       " 'simulation_seed': 132,\n",
       " 'solution_draws': 100,\n",
       " 'solution_seed': 456,\n",
       " 'covariates': {'constant': '1'}}"
      ]
     },
     "execution_count": 4,
     "metadata": {},
     "output_type": "execute_result"
    }
   ],
   "source": [
    "print(\" Parametrization\")\n",
    "print(params_base)\n",
    "print(\"\\n Options\")\n",
    "options_base"
   ]
  },
  {
   "cell_type": "markdown",
   "metadata": {},
   "source": [
    "We can study the resulting choice patterns."
   ]
  },
  {
   "cell_type": "code",
   "execution_count": 5,
   "metadata": {},
   "outputs": [
    {
     "data": {
      "image/png": "[encoded data removed]",
      "text/plain": [
       "<Figure size 432x288 with 1 Axes>"
      ]
     },
     "metadata": {
      "needs_background": "light"
     },
     "output_type": "display_data"
    }
   ],
   "source": [
    "fig, ax = plt.subplots()\n",
    "\n",
    "df.groupby(\"Period\").Choice.value_counts(normalize=True).unstack().plot.bar(\n",
    "    stacked=True, ax=ax\n",
    ")\n",
    "\n",
    "\n",
    "plt.xticks(rotation=\"horizontal\")\n",
    "\n",
    "plt.legend(loc=\"lower center\", bbox_to_anchor=(0.5,-0.275), ncol=2)\n",
    "\n",
    "plt.show()\n",
    "plt.close()\n"
   ]
  }
 ],
 "metadata": {
  "kernelspec": {
   "display_name": "Python 3",
   "language": "python",
   "name": "python3"
  },
  "language_info": {
   "codemirror_mode": {
    "name": "ipython",
    "version": 3
   },
   "file_extension": ".py",
   "mimetype": "text/x-python",
   "name": "python",
   "nbconvert_exporter": "python",
   "pygments_lexer": "ipython3",
   "version": "3.6.9"
  }
 },
 "nbformat": 4,
 "nbformat_minor": 4
}
