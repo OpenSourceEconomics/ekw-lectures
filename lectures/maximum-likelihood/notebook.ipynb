{
 "cells": [
  {
   "cell_type": "code",
   "execution_count": 1,
   "metadata": {
    "ExecuteTime": {
     "end_time": "2020-04-24T08:27:32.747297Z",
     "start_time": "2020-04-24T08:27:28.148290Z"
    }
   },
   "outputs": [],
   "source": [
    "from timeit import default_timer as timer\n",
    "from functools import partial\n",
    "import yaml\n",
    "import sys\n",
    "import os\n",
    "\n",
    "from estimagic.optimization.optimize import maximize\n",
    "from scipy.optimize import root_scalar\n",
    "from scipy.stats import chi2\n",
    "import numdifftools as nd\n",
    "import pandas as pd\n",
    "import respy as rp\n",
    "import numpy as np\n",
    "\n",
    "sys.path.insert(0, \"python\")\n",
    "from auxiliary import plot_bootstrap_distribution  # noqa: E402\n",
    "from auxiliary import plot_computational_budget  # noqa: E402\n",
    "from auxiliary import plot_smoothing_parameter  # noqa: E402\n",
    "from auxiliary import plot_score_distribution  # noqa: E402\n",
    "from auxiliary import plot_score_function  # noqa: E402\n",
    "from auxiliary import plot_likelihood  # noqa: E402"
   ]
  },
  {
   "cell_type": "markdown",
   "metadata": {},
   "source": [
    "# Maximum likelihood estimation"
   ]
  },
  {
   "cell_type": "markdown",
   "metadata": {},
   "source": [
    "## Introduction"
   ]
  },
  {
   "cell_type": "markdown",
   "metadata": {},
   "source": [
    "EKW models are calibrated to data on observed individual decisions and experiences under the hypothesis that the individual's behavior is generated from the solution to the model. The goal is to back out information on reward functions, preference parameters, and transition probabilities. This requires the full parameterization $\\theta$ of the model.\n",
    "\n",
    "Economists have access to information for $i = 1, ..., N$ individuals in each time period $t$. For every observation $(i, t)$ in the data, we observe action $a_{it}$, reward $r_{it}$, and a subset $x_{it}$ of the state $s_{it}$. Therefore, from an economist's point of view, we need to distinguish between two types of state variables $s_{it} = (x_{it}, \\epsilon_{it})$. At time $t$, the economist and individual both observe $x_{it}$ while $\\epsilon_{it}$ is only observed by the individual. In summary, the data $\\mathcal{D}$ has the following structure:\n",
    "\n",
    "\\begin{align*}\n",
    "\\mathcal{D} = \\{a_{it}, x_{it}, r_{it}: i = 1, ..., N; t = 1, ..., T_i\\},\n",
    "\\end{align*}\n",
    "where $T_i$ is the number of observations for which we observe individual $i$.\n",
    "\n",
    "Likelihood-based calibration seeks to find the parameterization $\\hat{\\theta}$ that maximizes the likelihood function $\\mathcal{L}(\\theta\\mid\\mathcal{D})$, i.e. the probability of observing the given data as a function of $\\theta$. As we only observe a subset $x_t$ of the state, we can determine the probability $p_{it}(a_{it}, r_{it} \\mid x_{it}, \\theta)$ of individual $i$ at time $t$ in $x_{it}$ choosing $a_{it}$ and receiving $r_{it}$ given parametric assumptions about the distribution of $\\epsilon_{it}$. The objective function takes the following form:\n",
    "\n",
    "\\begin{align*}\n",
    "\\hat{\\theta} \\equiv \\text{argmax}{\\theta \\in \\Theta}  \\underbrace{\\prod^N_{i= 1} \\prod^{T_i}_{t= 1}\\, p_{it}(a_{it}, r_{it} \\mid x_{it}, \\theta)}_{\\mathcal{L}(\\theta\\mid\\mathcal{D})}.\n",
    "\\end{align*}\n",
    "\n",
    "We will explore the following issues:\n",
    "\n",
    "* likelihood function\n",
    "\n",
    "* score function and statistic\n",
    "\n",
    "    * asymptotic distribution\n",
    "    * linearity\n",
    "    \n",
    "* confidence intervals\n",
    "\n",
    "    * Wald\n",
    "    * likelihood - based\n",
    "    * Bootstrap\n",
    "    \n",
    "    \n",
    "* numerical approximations\n",
    "\n",
    "    * smoothing of choice probabilities\n",
    "    * grid search\n",
    "\n",
    "\n",
    "Most of the material is from the following two references:\n",
    "\n",
    "* Pawitan, Y. (2001). [In all likelihood: Statistical modelling and inference using likelihood](https://www.amazon.de/dp/0199671222/ref=sr_1_1?keywords=in+all+likelihood&qid=1573806115&sr=8-1). Clarendon Press, Oxford.\n",
    "\n",
    "* Casella, G., & Berger, R. L. (2002). [Statistical inference](https://www.amazon.de/dp/0534243126/ref=sr_1_1?keywords=casella+berger&qid=1573806129&sr=8-1). Duxbury, Belmont, CA.\n",
    "\n",
    "Let's get started!"
   ]
  },
  {
   "cell_type": "code",
   "execution_count": 2,
   "metadata": {
    "ExecuteTime": {
     "end_time": "2020-04-24T08:29:46.252392Z",
     "start_time": "2020-04-24T08:29:45.850490Z"
    }
   },
   "outputs": [],
   "source": [
    "options_base = yaml.safe_load(open(os.environ[\"ROBINSON_SPEC\"] + \"/robinson.yaml\", \"r\"))\n",
    "\n",
    "params_base = pd.read_csv(open(os.environ[\"ROBINSON_SPEC\"] + \"/robinson.csv\", \"r\"))\n",
    "params_base.set_index([\"category\", \"name\"], inplace=True)\n",
    "\n",
    "simulate = rp.get_simulate_func(params_base, options_base)\n",
    "df = simulate(params_base)"
   ]
  },
  {
   "cell_type": "markdown",
   "metadata": {},
   "source": [
    "Let us briefly inspect the parameterization."
   ]
  },
  {
   "cell_type": "code",
   "execution_count": 3,
   "metadata": {
    "ExecuteTime": {
     "end_time": "2020-04-24T08:27:34.460933Z",
     "start_time": "2020-04-24T08:27:34.411389Z"
    }
   },
   "outputs": [
    {
     "data": {
      "text/html": [
       "<div>\n",
       "<style scoped>\n",
       "    .dataframe tbody tr th:only-of-type {\n",
       "        vertical-align: middle;\n",
       "    }\n",
       "\n",
       "    .dataframe tbody tr th {\n",
       "        vertical-align: top;\n",
       "    }\n",
       "\n",
       "    .dataframe thead th {\n",
       "        text-align: right;\n",
       "    }\n",
       "</style>\n",
       "<table border=\"1\" class=\"dataframe\">\n",
       "  <thead>\n",
       "    <tr style=\"text-align: right;\">\n",
       "      <th></th>\n",
       "      <th></th>\n",
       "      <th>value</th>\n",
       "    </tr>\n",
       "    <tr>\n",
       "      <th>category</th>\n",
       "      <th>name</th>\n",
       "      <th></th>\n",
       "    </tr>\n",
       "  </thead>\n",
       "  <tbody>\n",
       "    <tr>\n",
       "      <th>delta</th>\n",
       "      <th>delta</th>\n",
       "      <td>0.950</td>\n",
       "    </tr>\n",
       "    <tr>\n",
       "      <th>wage_fishing</th>\n",
       "      <th>exp_fishing</th>\n",
       "      <td>0.070</td>\n",
       "    </tr>\n",
       "    <tr>\n",
       "      <th>nonpec_fishing</th>\n",
       "      <th>constant</th>\n",
       "      <td>-0.100</td>\n",
       "    </tr>\n",
       "    <tr>\n",
       "      <th>nonpec_hammock</th>\n",
       "      <th>constant</th>\n",
       "      <td>1.046</td>\n",
       "    </tr>\n",
       "    <tr>\n",
       "      <th rowspan=\"3\" valign=\"top\">shocks_sdcorr</th>\n",
       "      <th>sd_fishing</th>\n",
       "      <td>0.010</td>\n",
       "    </tr>\n",
       "    <tr>\n",
       "      <th>sd_hammock</th>\n",
       "      <td>0.010</td>\n",
       "    </tr>\n",
       "    <tr>\n",
       "      <th>corr_hammock_fishing</th>\n",
       "      <td>0.000</td>\n",
       "    </tr>\n",
       "  </tbody>\n",
       "</table>\n",
       "</div>"
      ],
      "text/plain": [
       "                                     value\n",
       "category       name                       \n",
       "delta          delta                 0.950\n",
       "wage_fishing   exp_fishing           0.070\n",
       "nonpec_fishing constant             -0.100\n",
       "nonpec_hammock constant              1.046\n",
       "shocks_sdcorr  sd_fishing            0.010\n",
       "               sd_hammock            0.010\n",
       "               corr_hammock_fishing  0.000"
      ]
     },
     "execution_count": 3,
     "metadata": {},
     "output_type": "execute_result"
    }
   ],
   "source": [
    "params_base"
   ]
  },
  {
   "cell_type": "markdown",
   "metadata": {},
   "source": [
    "Several options need to be specified as well."
   ]
  },
  {
   "cell_type": "code",
   "execution_count": 4,
   "metadata": {
    "ExecuteTime": {
     "end_time": "2020-04-24T08:27:34.491746Z",
     "start_time": "2020-04-24T08:27:34.463913Z"
    }
   },
   "outputs": [
    {
     "data": {
      "text/plain": [
       "{'estimation_draws': 100,\n",
       " 'estimation_seed': 100,\n",
       " 'estimation_tau': 0.001,\n",
       " 'interpolation_points': -1,\n",
       " 'n_periods': 5,\n",
       " 'simulation_agents': 1000,\n",
       " 'simulation_seed': 132,\n",
       " 'solution_draws': 100,\n",
       " 'solution_seed': 456,\n",
       " 'covariates': {'constant': '1'}}"
      ]
     },
     "execution_count": 4,
     "metadata": {},
     "output_type": "execute_result"
    }
   ],
   "source": [
    "options_base"
   ]
  },
  {
   "cell_type": "markdown",
   "metadata": {},
   "source": [
    "We can now look at the simulated dataset."
   ]
  },
  {
   "cell_type": "code",
   "execution_count": 5,
   "metadata": {
    "ExecuteTime": {
     "end_time": "2020-04-24T08:27:34.577226Z",
     "start_time": "2020-04-24T08:27:34.493978Z"
    }
   },
   "outputs": [
    {
     "data": {
      "text/html": [
       "<div>\n",
       "<style scoped>\n",
       "    .dataframe tbody tr th:only-of-type {\n",
       "        vertical-align: middle;\n",
       "    }\n",
       "\n",
       "    .dataframe tbody tr th {\n",
       "        vertical-align: top;\n",
       "    }\n",
       "\n",
       "    .dataframe thead th {\n",
       "        text-align: right;\n",
       "    }\n",
       "</style>\n",
       "<table border=\"1\" class=\"dataframe\">\n",
       "  <thead>\n",
       "    <tr style=\"text-align: right;\">\n",
       "      <th></th>\n",
       "      <th></th>\n",
       "      <th>Experience_Fishing</th>\n",
       "      <th>Shock_Reward_Fishing</th>\n",
       "      <th>Meas_Error_Wage_Fishing</th>\n",
       "      <th>Shock_Reward_Hammock</th>\n",
       "      <th>Meas_Error_Wage_Hammock</th>\n",
       "      <th>Choice</th>\n",
       "      <th>Wage</th>\n",
       "      <th>Discount_Rate</th>\n",
       "      <th>Present_Bias</th>\n",
       "      <th>Nonpecuniary_Reward_Fishing</th>\n",
       "      <th>Wage_Fishing</th>\n",
       "      <th>Flow_Utility_Fishing</th>\n",
       "      <th>Value_Function_Fishing</th>\n",
       "      <th>Continuation_Value_Fishing</th>\n",
       "      <th>Nonpecuniary_Reward_Hammock</th>\n",
       "      <th>Wage_Hammock</th>\n",
       "      <th>Flow_Utility_Hammock</th>\n",
       "      <th>Value_Function_Hammock</th>\n",
       "      <th>Continuation_Value_Hammock</th>\n",
       "    </tr>\n",
       "    <tr>\n",
       "      <th>Identifier</th>\n",
       "      <th>Period</th>\n",
       "      <th></th>\n",
       "      <th></th>\n",
       "      <th></th>\n",
       "      <th></th>\n",
       "      <th></th>\n",
       "      <th></th>\n",
       "      <th></th>\n",
       "      <th></th>\n",
       "      <th></th>\n",
       "      <th></th>\n",
       "      <th></th>\n",
       "      <th></th>\n",
       "      <th></th>\n",
       "      <th></th>\n",
       "      <th></th>\n",
       "      <th></th>\n",
       "      <th></th>\n",
       "      <th></th>\n",
       "      <th></th>\n",
       "    </tr>\n",
       "  </thead>\n",
       "  <tbody>\n",
       "    <tr>\n",
       "      <th rowspan=\"5\" valign=\"top\">0</th>\n",
       "      <th>0</th>\n",
       "      <td>0</td>\n",
       "      <td>1.007197</td>\n",
       "      <td>1</td>\n",
       "      <td>0.010305</td>\n",
       "      <td>1</td>\n",
       "      <td>fishing</td>\n",
       "      <td>1.007197</td>\n",
       "      <td>0.95</td>\n",
       "      <td>1</td>\n",
       "      <td>-0.1</td>\n",
       "      <td>1.007197</td>\n",
       "      <td>0.907197</td>\n",
       "      <td>4.747606</td>\n",
       "      <td>4.042536</td>\n",
       "      <td>1.046</td>\n",
       "      <td>NaN</td>\n",
       "      <td>1.056305</td>\n",
       "      <td>4.742931</td>\n",
       "      <td>3.880659</td>\n",
       "    </tr>\n",
       "    <tr>\n",
       "      <th>1</th>\n",
       "      <td>1</td>\n",
       "      <td>0.981015</td>\n",
       "      <td>1</td>\n",
       "      <td>0.010596</td>\n",
       "      <td>1</td>\n",
       "      <td>fishing</td>\n",
       "      <td>1.052147</td>\n",
       "      <td>0.95</td>\n",
       "      <td>1</td>\n",
       "      <td>-0.1</td>\n",
       "      <td>1.052147</td>\n",
       "      <td>0.952147</td>\n",
       "      <td>4.022193</td>\n",
       "      <td>3.231627</td>\n",
       "      <td>1.046</td>\n",
       "      <td>NaN</td>\n",
       "      <td>1.056596</td>\n",
       "      <td>3.903085</td>\n",
       "      <td>2.996304</td>\n",
       "    </tr>\n",
       "    <tr>\n",
       "      <th>2</th>\n",
       "      <td>2</td>\n",
       "      <td>0.998980</td>\n",
       "      <td>1</td>\n",
       "      <td>-0.003797</td>\n",
       "      <td>1</td>\n",
       "      <td>fishing</td>\n",
       "      <td>1.149101</td>\n",
       "      <td>0.95</td>\n",
       "      <td>1</td>\n",
       "      <td>-0.1</td>\n",
       "      <td>1.149101</td>\n",
       "      <td>1.049101</td>\n",
       "      <td>3.230306</td>\n",
       "      <td>2.296006</td>\n",
       "      <td>1.046</td>\n",
       "      <td>NaN</td>\n",
       "      <td>1.042203</td>\n",
       "      <td>3.063422</td>\n",
       "      <td>2.127598</td>\n",
       "    </tr>\n",
       "    <tr>\n",
       "      <th>3</th>\n",
       "      <td>3</td>\n",
       "      <td>0.989253</td>\n",
       "      <td>1</td>\n",
       "      <td>-0.011702</td>\n",
       "      <td>1</td>\n",
       "      <td>fishing</td>\n",
       "      <td>1.220419</td>\n",
       "      <td>0.95</td>\n",
       "      <td>1</td>\n",
       "      <td>-0.1</td>\n",
       "      <td>1.220419</td>\n",
       "      <td>1.120419</td>\n",
       "      <td>2.282845</td>\n",
       "      <td>1.223607</td>\n",
       "      <td>1.046</td>\n",
       "      <td>NaN</td>\n",
       "      <td>1.034298</td>\n",
       "      <td>2.111715</td>\n",
       "      <td>1.134123</td>\n",
       "    </tr>\n",
       "    <tr>\n",
       "      <th>4</th>\n",
       "      <td>4</td>\n",
       "      <td>1.010431</td>\n",
       "      <td>1</td>\n",
       "      <td>-0.002176</td>\n",
       "      <td>1</td>\n",
       "      <td>fishing</td>\n",
       "      <td>1.336932</td>\n",
       "      <td>0.95</td>\n",
       "      <td>1</td>\n",
       "      <td>-0.1</td>\n",
       "      <td>1.336932</td>\n",
       "      <td>1.236932</td>\n",
       "      <td>1.236932</td>\n",
       "      <td>0.000000</td>\n",
       "      <td>1.046</td>\n",
       "      <td>NaN</td>\n",
       "      <td>1.043824</td>\n",
       "      <td>1.043824</td>\n",
       "      <td>0.000000</td>\n",
       "    </tr>\n",
       "  </tbody>\n",
       "</table>\n",
       "</div>"
      ],
      "text/plain": [
       "                   Experience_Fishing  Shock_Reward_Fishing  \\\n",
       "Identifier Period                                             \n",
       "0          0                        0              1.007197   \n",
       "           1                        1              0.981015   \n",
       "           2                        2              0.998980   \n",
       "           3                        3              0.989253   \n",
       "           4                        4              1.010431   \n",
       "\n",
       "                   Meas_Error_Wage_Fishing  Shock_Reward_Hammock  \\\n",
       "Identifier Period                                                  \n",
       "0          0                             1              0.010305   \n",
       "           1                             1              0.010596   \n",
       "           2                             1             -0.003797   \n",
       "           3                             1             -0.011702   \n",
       "           4                             1             -0.002176   \n",
       "\n",
       "                   Meas_Error_Wage_Hammock   Choice      Wage  Discount_Rate  \\\n",
       "Identifier Period                                                              \n",
       "0          0                             1  fishing  1.007197           0.95   \n",
       "           1                             1  fishing  1.052147           0.95   \n",
       "           2                             1  fishing  1.149101           0.95   \n",
       "           3                             1  fishing  1.220419           0.95   \n",
       "           4                             1  fishing  1.336932           0.95   \n",
       "\n",
       "                   Present_Bias  Nonpecuniary_Reward_Fishing  Wage_Fishing  \\\n",
       "Identifier Period                                                            \n",
       "0          0                  1                         -0.1      1.007197   \n",
       "           1                  1                         -0.1      1.052147   \n",
       "           2                  1                         -0.1      1.149101   \n",
       "           3                  1                         -0.1      1.220419   \n",
       "           4                  1                         -0.1      1.336932   \n",
       "\n",
       "                   Flow_Utility_Fishing  Value_Function_Fishing  \\\n",
       "Identifier Period                                                 \n",
       "0          0                   0.907197                4.747606   \n",
       "           1                   0.952147                4.022193   \n",
       "           2                   1.049101                3.230306   \n",
       "           3                   1.120419                2.282845   \n",
       "           4                   1.236932                1.236932   \n",
       "\n",
       "                   Continuation_Value_Fishing  Nonpecuniary_Reward_Hammock  \\\n",
       "Identifier Period                                                            \n",
       "0          0                         4.042536                        1.046   \n",
       "           1                         3.231627                        1.046   \n",
       "           2                         2.296006                        1.046   \n",
       "           3                         1.223607                        1.046   \n",
       "           4                         0.000000                        1.046   \n",
       "\n",
       "                   Wage_Hammock  Flow_Utility_Hammock  Value_Function_Hammock  \\\n",
       "Identifier Period                                                               \n",
       "0          0                NaN              1.056305                4.742931   \n",
       "           1                NaN              1.056596                3.903085   \n",
       "           2                NaN              1.042203                3.063422   \n",
       "           3                NaN              1.034298                2.111715   \n",
       "           4                NaN              1.043824                1.043824   \n",
       "\n",
       "                   Continuation_Value_Hammock  \n",
       "Identifier Period                              \n",
       "0          0                         3.880659  \n",
       "           1                         2.996304  \n",
       "           2                         2.127598  \n",
       "           3                         1.134123  \n",
       "           4                         0.000000  "
      ]
     },
     "execution_count": 5,
     "metadata": {},
     "output_type": "execute_result"
    }
   ],
   "source": [
    "df.head()"
   ]
  },
  {
   "cell_type": "markdown",
   "metadata": {},
   "source": [
    "## Likelihood function"
   ]
  },
  {
   "cell_type": "markdown",
   "metadata": {},
   "source": [
    "We can now start exploring the likelihood function that provides an order of preference on $\\theta$. The likelihood function is a measure of information about the potentially unknown parameters of the model. The information will usually be incomplete and the likelihood function also expresses the degree of incompleteness \n",
    "\n",
    "We will usually work with the sum of the individual log-likelihoods throughout as the likelihood cannot be represented without raising problems of numerical overflow. Note that the criterion function of the ``respy`` package returns to the average log-likelihood across the sample. Thus, we need to be careful with scaling it up when computing some of the test statistics later in the notebook.\n",
    "\n",
    "We will first trace out the likelihood over reasonable parameter values. "
   ]
  },
  {
   "cell_type": "code",
   "execution_count": 6,
   "metadata": {
    "ExecuteTime": {
     "end_time": "2020-04-24T08:27:34.630589Z",
     "start_time": "2020-04-24T08:27:34.579791Z"
    }
   },
   "outputs": [],
   "source": [
    "params_base[\"lower\"] = [0.948, 0.0695, -0.11, 1.04, 0.0030, 0.005, -0.10]\n",
    "params_base[\"upper\"] = [0.952, 0.0705, -0.09, 1.05, 0.1000, 0.015, +0.10]"
   ]
  },
  {
   "cell_type": "markdown",
   "metadata": {},
   "source": [
    "We plot the normalized likelihood, i.e. set the maximum of the likelihood function to one by dividing it by its maximum. "
   ]
  },
  {
   "cell_type": "code",
   "execution_count": 7,
   "metadata": {
    "ExecuteTime": {
     "end_time": "2020-04-24T08:27:47.305280Z",
     "start_time": "2020-04-24T08:27:34.636187Z"
    }
   },
   "outputs": [],
   "source": [
    "crit_func = rp.get_log_like_func(params_base, options_base, df)\n",
    "\n",
    "rslts = dict()\n",
    "for index in params_base.index:\n",
    "\n",
    "    upper, lower = params_base.loc[index][[\"upper\", \"lower\"]]\n",
    "    grid = np.linspace(lower, upper, 20)\n",
    "\n",
    "    fvals = list()\n",
    "    for value in grid:\n",
    "        params = params_base.copy()\n",
    "        params.loc[index, \"value\"] = value\n",
    "        fval = options_base[\"simulation_agents\"] * crit_func(params)\n",
    "        fvals.append(fval)\n",
    "\n",
    "    rslts[index] = fvals"
   ]
  },
  {
   "cell_type": "markdown",
   "metadata": {},
   "source": [
    "Let's visualize the results."
   ]
  },
  {
   "cell_type": "code",
   "execution_count": 8,
   "metadata": {
    "ExecuteTime": {
     "end_time": "2020-04-24T08:27:49.724485Z",
     "start_time": "2020-04-24T08:27:47.308588Z"
    }
   },
   "outputs": [
    {
     "data": {
      "image/png": "[encoded data removed]",
      "text/plain": [
       "<Figure size 432x288 with 1 Axes>"
      ]
     },
     "metadata": {
      "needs_background": "light"
     },
     "output_type": "display_data"
    },
    {
     "data": {
      "image/png": "[encoded data removed]",
      "text/plain": [
       "<Figure size 432x288 with 1 Axes>"
      ]
     },
     "metadata": {
      "needs_background": "light"
     },
     "output_type": "display_data"
    },
    {
     "data": {
      "image/png": "[encoded data removed]",
      "text/plain": [
       "<Figure size 432x288 with 1 Axes>"
      ]
     },
     "metadata": {
      "needs_background": "light"
     },
     "output_type": "display_data"
    },
    {
     "data": {
      "image/png": "[encoded data removed]",
      "text/plain": [
       "<Figure size 432x288 with 1 Axes>"
      ]
     },
     "metadata": {
      "needs_background": "light"
     },
     "output_type": "display_data"
    },
    {
     "data": {
      "image/png": "[encoded data removed]",
      "text/plain": [
       "<Figure size 432x288 with 1 Axes>"
      ]
     },
     "metadata": {
      "needs_background": "light"
     },
     "output_type": "display_data"
    },
    {
     "data": {
      "image/png": "[encoded data removed]",
      "text/plain": [
       "<Figure size 432x288 with 1 Axes>"
      ]
     },
     "metadata": {
      "needs_background": "light"
     },
     "output_type": "display_data"
    },
    {
     "data": {
      "image/png": "[encoded data removed]",
      "text/plain": [
       "<Figure size 432x288 with 1 Axes>"
      ]
     },
     "metadata": {
      "needs_background": "light"
     },
     "output_type": "display_data"
    }
   ],
   "source": [
    "plot_likelihood(rslts, params_base)"
   ]
  },
  {
   "cell_type": "markdown",
   "metadata": {},
   "source": [
    "### Maximum likelihood estimate"
   ]
  },
  {
   "cell_type": "markdown",
   "metadata": {},
   "source": [
    "So far, we looked at the likelihood function in its entirety. Going forward, we will take a narrower view and just focus on the maximum likelihood estimate. We restrict our attention to the discount factor $\\delta$ and treat it as the only unknown parameter. We will use [estimagic](https://estimagic.readthedocs.io/) for all our estimations. "
   ]
  },
  {
   "cell_type": "code",
   "execution_count": 9,
   "metadata": {
    "ExecuteTime": {
     "end_time": "2020-04-24T08:27:53.055717Z",
     "start_time": "2020-04-24T08:27:49.737809Z"
    }
   },
   "outputs": [],
   "source": [
    "crit_func = rp.get_log_like_func(params_base, options_base, df)"
   ]
  },
  {
   "cell_type": "markdown",
   "metadata": {},
   "source": [
    "However, we will make our life even easier and fix all parameters but the discount factor $\\delta$."
   ]
  },
  {
   "cell_type": "code",
   "execution_count": 10,
   "metadata": {
    "ExecuteTime": {
     "end_time": "2020-04-24T08:27:53.134243Z",
     "start_time": "2020-04-24T08:27:53.066747Z"
    }
   },
   "outputs": [],
   "source": [
    "constr_base = [\n",
    "    {\"loc\": \"shocks_sdcorr\", \"type\": \"fixed\"},\n",
    "    {\"loc\": \"wage_fishing\", \"type\": \"fixed\"},\n",
    "    {\"loc\": \"nonpec_fishing\", \"type\": \"fixed\"},\n",
    "    {\"loc\": \"nonpec_hammock\", \"type\": \"fixed\"},\n",
    "]"
   ]
  },
  {
   "cell_type": "markdown",
   "metadata": {},
   "source": [
    "We will start the estimation with a perturbation of the true value."
   ]
  },
  {
   "cell_type": "code",
   "execution_count": 11,
   "metadata": {
    "ExecuteTime": {
     "end_time": "2020-04-24T08:27:53.230807Z",
     "start_time": "2020-04-24T08:27:53.140145Z"
    }
   },
   "outputs": [],
   "source": [
    "params_start = params_base.copy()\n",
    "params_start.loc[(\"delta\", \"delta\"), \"value\"] = 0.91"
   ]
  },
  {
   "cell_type": "markdown",
   "metadata": {},
   "source": [
    "Now we are ready to deal with the selection and specification of the optimization algorithm."
   ]
  },
  {
   "cell_type": "code",
   "execution_count": 12,
   "metadata": {
    "ExecuteTime": {
     "end_time": "2020-04-24T08:27:58.859364Z",
     "start_time": "2020-04-24T08:27:53.239492Z"
    }
   },
   "outputs": [],
   "source": [
    "algo_options = {\"maxeval\": 100}\n",
    "algo_name = \"nlopt_bobyqa\"\n",
    "\n",
    "results, params_rslt = maximize(\n",
    "    crit_func, params_base, algo_name, algo_options=algo_options, constraints=constr_base,\n",
    ")"
   ]
  },
  {
   "cell_type": "markdown",
   "metadata": {},
   "source": [
    "Let's look at the results."
   ]
  },
  {
   "cell_type": "code",
   "execution_count": 13,
   "metadata": {
    "ExecuteTime": {
     "end_time": "2020-04-24T08:27:58.932391Z",
     "start_time": "2020-04-24T08:27:58.864660Z"
    }
   },
   "outputs": [
    {
     "data": {
      "text/html": [
       "<div>\n",
       "<style scoped>\n",
       "    .dataframe tbody tr th:only-of-type {\n",
       "        vertical-align: middle;\n",
       "    }\n",
       "\n",
       "    .dataframe tbody tr th {\n",
       "        vertical-align: top;\n",
       "    }\n",
       "\n",
       "    .dataframe thead th {\n",
       "        text-align: right;\n",
       "    }\n",
       "</style>\n",
       "<table border=\"1\" class=\"dataframe\">\n",
       "  <thead>\n",
       "    <tr style=\"text-align: right;\">\n",
       "      <th></th>\n",
       "      <th></th>\n",
       "      <th>value</th>\n",
       "      <th>lower</th>\n",
       "      <th>upper</th>\n",
       "      <th>group</th>\n",
       "      <th>name</th>\n",
       "      <th>_fixed_value</th>\n",
       "      <th>_is_fixed_to_value</th>\n",
       "      <th>_post_replacements</th>\n",
       "      <th>_is_fixed_to_other</th>\n",
       "      <th>_internal_lower</th>\n",
       "      <th>_internal_upper</th>\n",
       "      <th>_internal_free</th>\n",
       "      <th>_pre_replacements</th>\n",
       "      <th>_internal_fixed_value</th>\n",
       "    </tr>\n",
       "    <tr>\n",
       "      <th>category</th>\n",
       "      <th>name</th>\n",
       "      <th></th>\n",
       "      <th></th>\n",
       "      <th></th>\n",
       "      <th></th>\n",
       "      <th></th>\n",
       "      <th></th>\n",
       "      <th></th>\n",
       "      <th></th>\n",
       "      <th></th>\n",
       "      <th></th>\n",
       "      <th></th>\n",
       "      <th></th>\n",
       "      <th></th>\n",
       "      <th></th>\n",
       "    </tr>\n",
       "  </thead>\n",
       "  <tbody>\n",
       "    <tr>\n",
       "      <th>delta</th>\n",
       "      <th>delta</th>\n",
       "      <td>0.949937</td>\n",
       "      <td>0.9480</td>\n",
       "      <td>0.9520</td>\n",
       "      <td>All Parameters</td>\n",
       "      <td>delta_delta</td>\n",
       "      <td>NaN</td>\n",
       "      <td>False</td>\n",
       "      <td>-1</td>\n",
       "      <td>False</td>\n",
       "      <td>0.9480</td>\n",
       "      <td>0.9520</td>\n",
       "      <td>True</td>\n",
       "      <td>0</td>\n",
       "      <td>NaN</td>\n",
       "    </tr>\n",
       "    <tr>\n",
       "      <th>wage_fishing</th>\n",
       "      <th>exp_fishing</th>\n",
       "      <td>0.070000</td>\n",
       "      <td>0.0695</td>\n",
       "      <td>0.0705</td>\n",
       "      <td>All Parameters</td>\n",
       "      <td>wage_fishing_exp_fishing</td>\n",
       "      <td>0.070</td>\n",
       "      <td>True</td>\n",
       "      <td>-1</td>\n",
       "      <td>False</td>\n",
       "      <td>0.0695</td>\n",
       "      <td>0.0705</td>\n",
       "      <td>False</td>\n",
       "      <td>-1</td>\n",
       "      <td>0.070</td>\n",
       "    </tr>\n",
       "    <tr>\n",
       "      <th>nonpec_fishing</th>\n",
       "      <th>constant</th>\n",
       "      <td>-0.100000</td>\n",
       "      <td>-0.1100</td>\n",
       "      <td>-0.0900</td>\n",
       "      <td>All Parameters</td>\n",
       "      <td>nonpec_fishing_constant</td>\n",
       "      <td>-0.100</td>\n",
       "      <td>True</td>\n",
       "      <td>-1</td>\n",
       "      <td>False</td>\n",
       "      <td>-0.1100</td>\n",
       "      <td>-0.0900</td>\n",
       "      <td>False</td>\n",
       "      <td>-1</td>\n",
       "      <td>-0.100</td>\n",
       "    </tr>\n",
       "    <tr>\n",
       "      <th>nonpec_hammock</th>\n",
       "      <th>constant</th>\n",
       "      <td>1.046000</td>\n",
       "      <td>1.0400</td>\n",
       "      <td>1.0500</td>\n",
       "      <td>All Parameters</td>\n",
       "      <td>nonpec_hammock_constant</td>\n",
       "      <td>1.046</td>\n",
       "      <td>True</td>\n",
       "      <td>-1</td>\n",
       "      <td>False</td>\n",
       "      <td>1.0400</td>\n",
       "      <td>1.0500</td>\n",
       "      <td>False</td>\n",
       "      <td>-1</td>\n",
       "      <td>1.046</td>\n",
       "    </tr>\n",
       "    <tr>\n",
       "      <th rowspan=\"3\" valign=\"top\">shocks_sdcorr</th>\n",
       "      <th>sd_fishing</th>\n",
       "      <td>0.010000</td>\n",
       "      <td>0.0030</td>\n",
       "      <td>0.1000</td>\n",
       "      <td>All Parameters</td>\n",
       "      <td>shocks_sdcorr_sd_fishing</td>\n",
       "      <td>0.010</td>\n",
       "      <td>True</td>\n",
       "      <td>-1</td>\n",
       "      <td>False</td>\n",
       "      <td>0.0030</td>\n",
       "      <td>0.1000</td>\n",
       "      <td>False</td>\n",
       "      <td>-1</td>\n",
       "      <td>0.010</td>\n",
       "    </tr>\n",
       "    <tr>\n",
       "      <th>sd_hammock</th>\n",
       "      <td>0.010000</td>\n",
       "      <td>0.0050</td>\n",
       "      <td>0.0150</td>\n",
       "      <td>All Parameters</td>\n",
       "      <td>shocks_sdcorr_sd_hammock</td>\n",
       "      <td>0.010</td>\n",
       "      <td>True</td>\n",
       "      <td>-1</td>\n",
       "      <td>False</td>\n",
       "      <td>0.0050</td>\n",
       "      <td>0.0150</td>\n",
       "      <td>False</td>\n",
       "      <td>-1</td>\n",
       "      <td>0.010</td>\n",
       "    </tr>\n",
       "    <tr>\n",
       "      <th>corr_hammock_fishing</th>\n",
       "      <td>0.000000</td>\n",
       "      <td>-0.1000</td>\n",
       "      <td>0.1000</td>\n",
       "      <td>All Parameters</td>\n",
       "      <td>shocks_sdcorr_corr_hammock_fishing</td>\n",
       "      <td>0.000</td>\n",
       "      <td>True</td>\n",
       "      <td>-1</td>\n",
       "      <td>False</td>\n",
       "      <td>-0.1000</td>\n",
       "      <td>0.1000</td>\n",
       "      <td>False</td>\n",
       "      <td>-1</td>\n",
       "      <td>0.000</td>\n",
       "    </tr>\n",
       "  </tbody>\n",
       "</table>\n",
       "</div>"
      ],
      "text/plain": [
       "                                        value   lower   upper           group  \\\n",
       "category       name                                                             \n",
       "delta          delta                 0.949937  0.9480  0.9520  All Parameters   \n",
       "wage_fishing   exp_fishing           0.070000  0.0695  0.0705  All Parameters   \n",
       "nonpec_fishing constant             -0.100000 -0.1100 -0.0900  All Parameters   \n",
       "nonpec_hammock constant              1.046000  1.0400  1.0500  All Parameters   \n",
       "shocks_sdcorr  sd_fishing            0.010000  0.0030  0.1000  All Parameters   \n",
       "               sd_hammock            0.010000  0.0050  0.0150  All Parameters   \n",
       "               corr_hammock_fishing  0.000000 -0.1000  0.1000  All Parameters   \n",
       "\n",
       "                                                                   name  \\\n",
       "category       name                                                       \n",
       "delta          delta                                        delta_delta   \n",
       "wage_fishing   exp_fishing                     wage_fishing_exp_fishing   \n",
       "nonpec_fishing constant                         nonpec_fishing_constant   \n",
       "nonpec_hammock constant                         nonpec_hammock_constant   \n",
       "shocks_sdcorr  sd_fishing                      shocks_sdcorr_sd_fishing   \n",
       "               sd_hammock                      shocks_sdcorr_sd_hammock   \n",
       "               corr_hammock_fishing  shocks_sdcorr_corr_hammock_fishing   \n",
       "\n",
       "                                     _fixed_value  _is_fixed_to_value  \\\n",
       "category       name                                                     \n",
       "delta          delta                          NaN               False   \n",
       "wage_fishing   exp_fishing                  0.070                True   \n",
       "nonpec_fishing constant                    -0.100                True   \n",
       "nonpec_hammock constant                     1.046                True   \n",
       "shocks_sdcorr  sd_fishing                   0.010                True   \n",
       "               sd_hammock                   0.010                True   \n",
       "               corr_hammock_fishing         0.000                True   \n",
       "\n",
       "                                     _post_replacements  _is_fixed_to_other  \\\n",
       "category       name                                                           \n",
       "delta          delta                                 -1               False   \n",
       "wage_fishing   exp_fishing                           -1               False   \n",
       "nonpec_fishing constant                              -1               False   \n",
       "nonpec_hammock constant                              -1               False   \n",
       "shocks_sdcorr  sd_fishing                            -1               False   \n",
       "               sd_hammock                            -1               False   \n",
       "               corr_hammock_fishing                  -1               False   \n",
       "\n",
       "                                     _internal_lower  _internal_upper  \\\n",
       "category       name                                                     \n",
       "delta          delta                          0.9480           0.9520   \n",
       "wage_fishing   exp_fishing                    0.0695           0.0705   \n",
       "nonpec_fishing constant                      -0.1100          -0.0900   \n",
       "nonpec_hammock constant                       1.0400           1.0500   \n",
       "shocks_sdcorr  sd_fishing                     0.0030           0.1000   \n",
       "               sd_hammock                     0.0050           0.0150   \n",
       "               corr_hammock_fishing          -0.1000           0.1000   \n",
       "\n",
       "                                     _internal_free  _pre_replacements  \\\n",
       "category       name                                                      \n",
       "delta          delta                           True                  0   \n",
       "wage_fishing   exp_fishing                    False                 -1   \n",
       "nonpec_fishing constant                       False                 -1   \n",
       "nonpec_hammock constant                       False                 -1   \n",
       "shocks_sdcorr  sd_fishing                     False                 -1   \n",
       "               sd_hammock                     False                 -1   \n",
       "               corr_hammock_fishing           False                 -1   \n",
       "\n",
       "                                     _internal_fixed_value  \n",
       "category       name                                         \n",
       "delta          delta                                   NaN  \n",
       "wage_fishing   exp_fishing                           0.070  \n",
       "nonpec_fishing constant                             -0.100  \n",
       "nonpec_hammock constant                              1.046  \n",
       "shocks_sdcorr  sd_fishing                            0.010  \n",
       "               sd_hammock                            0.010  \n",
       "               corr_hammock_fishing                  0.000  "
      ]
     },
     "execution_count": 13,
     "metadata": {},
     "output_type": "execute_result"
    }
   ],
   "source": [
    "params_rslt"
   ]
  },
  {
   "cell_type": "code",
   "execution_count": 14,
   "metadata": {
    "ExecuteTime": {
     "end_time": "2020-04-24T08:27:58.973492Z",
     "start_time": "2020-04-24T08:27:58.934455Z"
    }
   },
   "outputs": [
    {
     "name": "stdout",
     "output_type": "stream",
     "text": [
      "criterion function at optimum 10032.913\n"
     ]
    }
   ],
   "source": [
    "fval = results[\"fitness\"] * options_base[\"simulation_agents\"]\n",
    "print(f\"criterion function at optimum {fval:5.3f}\")"
   ]
  },
  {
   "cell_type": "markdown",
   "metadata": {},
   "source": [
    "We need to set up a proper interface to use some other Python functionality going forward."
   ]
  },
  {
   "cell_type": "code",
   "execution_count": 15,
   "metadata": {
    "ExecuteTime": {
     "end_time": "2020-04-24T08:27:59.042374Z",
     "start_time": "2020-04-24T08:27:58.981128Z"
    }
   },
   "outputs": [],
   "source": [
    "def wrapper_crit_func(crit_func, options_base, params_base, value):\n",
    "\n",
    "    params = params_base.copy()\n",
    "    params.loc[\"delta\", \"value\"] = value\n",
    "\n",
    "    return options_base[\"simulation_agents\"] * crit_func(params)\n",
    "\n",
    "\n",
    "p_wrapper_crit_func = partial(wrapper_crit_func, crit_func, options_base, params_base)"
   ]
  },
  {
   "cell_type": "markdown",
   "metadata": {},
   "source": [
    "We need to use the MLE repeatedly going forward."
   ]
  },
  {
   "cell_type": "code",
   "execution_count": 16,
   "metadata": {
    "ExecuteTime": {
     "end_time": "2020-04-24T08:27:59.121042Z",
     "start_time": "2020-04-24T08:27:59.048631Z"
    }
   },
   "outputs": [],
   "source": [
    "delta_hat = params_rslt.loc[(\"delta\", \"delta\"), \"value\"]"
   ]
  },
  {
   "cell_type": "markdown",
   "metadata": {},
   "source": [
    "At the maximum, the second derivative of the log-likelihood is negative and we define the observed Fisher information  as follows\n",
    "\n",
    "\\begin{align*}\n",
    "I(\\hat{\\theta}) \\equiv -\\frac{\\partial^2 \\log L(\\hat{\\theta})}{\\partial^2 \\theta}\n",
    "\\end{align*}\n",
    "\n",
    "A larger curvature is associated with a strong peak, thus indicating less uncertainty about $\\theta$."
   ]
  },
  {
   "cell_type": "code",
   "execution_count": 17,
   "metadata": {
    "ExecuteTime": {
     "end_time": "2020-04-24T08:28:03.682857Z",
     "start_time": "2020-04-24T08:27:59.123459Z"
    }
   },
   "outputs": [],
   "source": [
    "delta_fisher = -nd.Derivative(p_wrapper_crit_func, n=2)([delta_hat])"
   ]
  },
  {
   "cell_type": "code",
   "execution_count": 18,
   "metadata": {
    "ExecuteTime": {
     "end_time": "2020-04-24T08:28:03.715501Z",
     "start_time": "2020-04-24T08:28:03.684318Z"
    }
   },
   "outputs": [
    {
     "data": {
      "text/plain": [
       "2131635.7112217033"
      ]
     },
     "execution_count": 18,
     "metadata": {},
     "output_type": "execute_result"
    }
   ],
   "source": [
    "delta_fisher"
   ]
  },
  {
   "cell_type": "markdown",
   "metadata": {},
   "source": [
    "### Score statistic and Score function"
   ]
  },
  {
   "cell_type": "markdown",
   "metadata": {},
   "source": [
    "The Score function is the first-derivative of the log-likelihood.\n",
    "\n",
    "\\begin{align*}\n",
    "S(\\theta) \\equiv \\frac{\\partial \\log L(\\theta)}{\\partial \\theta}\n",
    "\\end{align*}\n"
   ]
  },
  {
   "cell_type": "markdown",
   "metadata": {},
   "source": [
    "#### Distribution"
   ]
  },
  {
   "cell_type": "markdown",
   "metadata": {},
   "source": [
    "The asymptotic normality of the score statistic is of key importance in deriving the asymptotic normality of the maximum likelihood estimator. Here we simulate $1,000$ samples of $10,000$ individuals and compute the score function at the true values. I had to increase the number of simulated individuals as convergence to the asymptotic distribution just took way to long."
   ]
  },
  {
   "cell_type": "code",
   "execution_count": 19,
   "metadata": {
    "ExecuteTime": {
     "end_time": "2020-04-24T08:28:04.408234Z",
     "start_time": "2020-04-24T08:28:03.717529Z"
    }
   },
   "outputs": [
    {
     "data": {
      "image/png": "[encoded data removed]",
      "text/plain": [
       "<Figure size 432x288 with 1 Axes>"
      ]
     },
     "metadata": {
      "needs_background": "light"
     },
     "output_type": "display_data"
    }
   ],
   "source": [
    "plot_score_distribution()"
   ]
  },
  {
   "cell_type": "markdown",
   "metadata": {},
   "source": [
    "#### Linearity"
   ]
  },
  {
   "cell_type": "markdown",
   "metadata": {},
   "source": [
    "We seek linearity of the score function around the true value so that the log-likelihood is reasonably well approximated by a second order Taylor-polynomial. \n",
    "\n",
    "\\begin{align*}\n",
    "\\log L(\\theta) \\approx \\log L(\\hat{\\theta}) + S(\\hat{\\theta})(\\theta - \\hat{\\theta}) - \\tfrac{1}{2} I(\\hat{\\theta}))(\\theta - \\hat{\\theta})^2\n",
    "\\end{align*}\n",
    "\n",
    "Since $S(\\hat{\\theta}) = 0$, we get:\n",
    "\n",
    "\\begin{align*}\n",
    "\\log\\left(\\frac{L(\\theta)}{L(\\hat{\\theta})}\\right) \\approx - \\tfrac{1}{2} I(\\hat{\\theta})(\\theta - \\hat{\\theta})^2\n",
    "\\end{align*}\n",
    "\n",
    "Taking the derivative to work with the score function, the following relationship is approximately true if the usual regularity conditions hold:\n",
    "\n",
    "\\begin{align*}\n",
    "- I^{-1/2}(\\hat{\\theta}) S(\\theta) \\approx I^{1/2}(\\hat{\\theta}) (\\theta - \\hat{\\theta})\n",
    "\\end{align*}\n",
    "\n"
   ]
  },
  {
   "cell_type": "code",
   "execution_count": 20,
   "metadata": {
    "ExecuteTime": {
     "end_time": "2020-04-24T08:28:30.063367Z",
     "start_time": "2020-04-24T08:28:04.410286Z"
    }
   },
   "outputs": [],
   "source": [
    "num_points, index = 10, (\"delta\", \"delta\")\n",
    "\n",
    "upper, lower = params_base.loc[index, [\"upper\", \"lower\"]]\n",
    "grid = np.linspace(lower, upper, num_points)\n",
    "\n",
    "fds = np.tile(np.nan, num_points)\n",
    "for i, point in enumerate(grid):\n",
    "    fds[i] = nd.Derivative(p_wrapper_crit_func, n=1)([point])\n",
    "\n",
    "norm_fds = fds * -(1 / np.sqrt(delta_fisher))\n",
    "norm_grid = (grid - delta_hat) * (np.sqrt(delta_fisher))"
   ]
  },
  {
   "cell_type": "markdown",
   "metadata": {},
   "source": [
    "In the best case we see a standard normal distribution of $I^{1/2} (\\hat{\\theta}) (\\theta - \\hat{\\theta})$ and so it is common practice to evaluate the linearity over $-2$ and $2$."
   ]
  },
  {
   "cell_type": "code",
   "execution_count": 21,
   "metadata": {
    "ExecuteTime": {
     "end_time": "2020-04-24T08:28:30.521811Z",
     "start_time": "2020-04-24T08:28:30.064690Z"
    }
   },
   "outputs": [
    {
     "data": {
      "image/png": "[encoded data removed]",
      "text/plain": [
       "<Figure size 432x288 with 1 Axes>"
      ]
     },
     "metadata": {
      "needs_background": "light"
     },
     "output_type": "display_data"
    }
   ],
   "source": [
    "plot_score_function(norm_grid, norm_fds)"
   ]
  },
  {
   "cell_type": "markdown",
   "metadata": {},
   "source": [
    "Alternative shapes are possible.\n",
    "\n",
    "<img src=\"material/fig-quadratic-approximation.png\" width=\"700\" >"
   ]
  },
  {
   "cell_type": "markdown",
   "metadata": {},
   "source": [
    "### Confidence intervals\n",
    "\n",
    "How do we communicate the statistical evidence using the likelihood? Several notions exist that have different demands on the score function. Wile the Wald intervals rely on the asymptotic normality and linearity, likelihood-based intervals only require asymptotic normality. In well-behaved problems, both measures of uncertainty agree.\n",
    "\n",
    "\n"
   ]
  },
  {
   "cell_type": "markdown",
   "metadata": {},
   "source": [
    "#### Wald intervals"
   ]
  },
  {
   "cell_type": "code",
   "execution_count": 22,
   "metadata": {
    "ExecuteTime": {
     "end_time": "2020-04-24T08:28:30.632945Z",
     "start_time": "2020-04-24T08:28:30.527459Z"
    }
   },
   "outputs": [
    {
     "data": {
      "text/plain": [
       "'0.949 / 0.951'"
      ]
     },
     "execution_count": 22,
     "metadata": {},
     "output_type": "execute_result"
    }
   ],
   "source": [
    "rslt = list()\n",
    "rslt.append(delta_hat - 1.96 * 1 / np.sqrt(delta_fisher))\n",
    "rslt.append(delta_hat + 1.96 * 1 / np.sqrt(delta_fisher))\n",
    "\"{:5.3f} / {:5.3f}\".format(*rslt)"
   ]
  },
  {
   "cell_type": "markdown",
   "metadata": {},
   "source": [
    "#### Likelihood-based intervals"
   ]
  },
  {
   "cell_type": "code",
   "execution_count": 23,
   "metadata": {
    "ExecuteTime": {
     "end_time": "2020-04-24T08:28:30.752602Z",
     "start_time": "2020-04-24T08:28:30.644677Z"
    }
   },
   "outputs": [],
   "source": [
    "def root_wrapper(delta, options_base, alpha, index):\n",
    "\n",
    "    crit_val = -0.5 * chi2.ppf(1 - alpha, 1)\n",
    "\n",
    "    params_eval = params_base.copy()\n",
    "    params_eval.loc[(\"delta\", \"delta\"), \"value\"] = delta\n",
    "    likl_ratio = options_base[\"simulation_agents\"] * (\n",
    "        crit_func(params_eval) - crit_func(params_base)\n",
    "    )\n",
    "\n",
    "    return likl_ratio - crit_val"
   ]
  },
  {
   "cell_type": "code",
   "execution_count": 24,
   "metadata": {
    "ExecuteTime": {
     "end_time": "2020-04-24T08:28:41.191983Z",
     "start_time": "2020-04-24T08:28:30.757350Z"
    }
   },
   "outputs": [
    {
     "name": "stdout",
     "output_type": "stream",
     "text": [
      "0.949 / 0.951\n"
     ]
    }
   ],
   "source": [
    "brackets = [[0.75, 0.95], [0.95, 1.10]]\n",
    "\n",
    "rslt = list()\n",
    "for bracket in brackets:\n",
    "    root = root_scalar(\n",
    "        root_wrapper, method=\"bisect\", bracket=bracket, args=(options_base, 0.05, index),\n",
    "    ).root\n",
    "    rslt.append(root)\n",
    "print(\"{:5.3f} / {:5.3f}\".format(*rslt))"
   ]
  },
  {
   "cell_type": "markdown",
   "metadata": {},
   "source": [
    "## Bootstrap"
   ]
  },
  {
   "cell_type": "markdown",
   "metadata": {},
   "source": [
    "We can now run a simple bootstrap to see how the asymptotic standard errors line up.\n",
    "\n",
    "Here are some useful resources on the topic:\n",
    "\n",
    "* Davison, A., & Hinkley, D. (1997). [Bootstrap methods and their application](https://www.amazon.de/dp/B00D2WQ02U/ref=sr_1_1?keywords=bootstrap+methods+and+their+application&qid=1574070350&s=digital-text&sr=1-1). Cambridge University Press, Cambridge.\n",
    "\n",
    "* Hesterberg, T. C. (2015). [What teachers should know about the bootstrap: Resampling in the undergraduate statistics curriculum](https://amstat.tandfonline.com/doi/full/10.1080/00031305.2015.1089789#.XdZhBldKjIV), *The American Statistician, 69*(4), 371-386.\n",
    "\n",
    "* Horowitz, J. L. (2001). [Chapter 52. The bootstrap](https://www.scholars.northwestern.edu/en/publications/chapter-52-the-bootstrap). In Heckman, J.J., & Leamer, E.E., editors, *Handbook of Econometrics, 5*, 3159-3228. Elsevier Science B.V."
   ]
  },
  {
   "cell_type": "code",
   "execution_count": 25,
   "metadata": {
    "ExecuteTime": {
     "end_time": "2020-04-24T08:28:41.672628Z",
     "start_time": "2020-04-24T08:28:41.194018Z"
    }
   },
   "outputs": [
    {
     "data": {
      "image/png": "[encoded data removed]",
      "text/plain": [
       "<Figure size 432x288 with 1 Axes>"
      ]
     },
     "metadata": {
      "needs_background": "light"
     },
     "output_type": "display_data"
    },
    {
     "data": {
      "image/png": "[encoded data removed]",
      "text/plain": [
       "<Figure size 432x288 with 1 Axes>"
      ]
     },
     "metadata": {
      "needs_background": "light"
     },
     "output_type": "display_data"
    }
   ],
   "source": [
    "plot_bootstrap_distribution()"
   ]
  },
  {
   "cell_type": "markdown",
   "metadata": {},
   "source": [
    "We can now construct the bootstrap confidence interval."
   ]
  },
  {
   "cell_type": "code",
   "execution_count": 26,
   "metadata": {
    "ExecuteTime": {
     "end_time": "2020-04-24T08:28:41.765990Z",
     "start_time": "2020-04-24T08:28:41.674408Z"
    }
   },
   "outputs": [
    {
     "name": "stdout",
     "output_type": "stream",
     "text": [
      "0.948 / 0.951\n"
     ]
    }
   ],
   "source": [
    "fname = \"material/bootstrap.delta_perturb_true.pkl\"\n",
    "boot_params = pd.read_pickle(fname)\n",
    "\n",
    "rslt = list()\n",
    "for quantile in [0.025, 0.975]:\n",
    "    rslt.append(boot_params.loc[(\"delta\", \"delta\"), :].quantile(quantile))\n",
    "print(\"{:5.3f} / {:5.3f}\".format(*rslt))"
   ]
  },
  {
   "cell_type": "markdown",
   "metadata": {},
   "source": [
    "### Numerical aspects"
   ]
  },
  {
   "cell_type": "markdown",
   "metadata": {},
   "source": [
    "The shape and properties of the likelihood function are determined by different numerical tuning parameters such as quality of numerical integration, smoothing of choice probabilities. We would simply choose all components to be the \"best\",  but that comes at the cost of increasing the time to solution."
   ]
  },
  {
   "cell_type": "code",
   "execution_count": 27,
   "metadata": {
    "ExecuteTime": {
     "end_time": "2020-04-24T08:28:48.236049Z",
     "start_time": "2020-04-24T08:28:41.767516Z"
    }
   },
   "outputs": [],
   "source": [
    "grid = np.linspace(100, 1000, 100, dtype=int)\n",
    "\n",
    "rslts = list()\n",
    "for num_draws in grid:\n",
    "    options = options_base.copy()\n",
    "\n",
    "    options[\"estimation_draws\"] = num_draws\n",
    "    options[\"solution_draws\"] = num_draws\n",
    "\n",
    "    start = timer()\n",
    "    rp.get_solve_func(params_base, options)\n",
    "    finish = timer()\n",
    "\n",
    "    rslts.append(finish - start)"
   ]
  },
  {
   "cell_type": "markdown",
   "metadata": {},
   "source": [
    "We are ready to see how time to solution increases as we improve the quality of the numerical integration by increasing the number of Monte Carlo draws."
   ]
  },
  {
   "cell_type": "code",
   "execution_count": 28,
   "metadata": {
    "ExecuteTime": {
     "end_time": "2020-04-24T08:28:48.392576Z",
     "start_time": "2020-04-24T08:28:48.237525Z"
    }
   },
   "outputs": [
    {
     "data": {
      "image/png": "[encoded data removed]",
      "text/plain": [
       "<Figure size 432x288 with 1 Axes>"
      ]
     },
     "metadata": {
      "needs_background": "light"
     },
     "output_type": "display_data"
    }
   ],
   "source": [
    "plot_computational_budget(grid, rslts)"
   ]
  },
  {
   "cell_type": "markdown",
   "metadata": {},
   "source": [
    "We need to learn where to invest a limited computational budget. We focus on the following going forward:\n",
    "\n",
    "* smoothing parameter for logit accept-reject simulator\n",
    "\n",
    "* grid search across core parameters"
   ]
  },
  {
   "cell_type": "markdown",
   "metadata": {},
   "source": [
    "#### Smoothing parameter"
   ]
  },
  {
   "cell_type": "markdown",
   "metadata": {},
   "source": [
    "We now show the shape of the likelihood function for alternative choices of the smoothing parameter $\\tau$. There exists no closed-form solution for the choice probabilities, so these are simulated. Application of a basic accept-reject (AR) simulator poses the two challenges. First, there is the ocurrance of zero probability simulation for low probability events which causes problems for the evaluation of the log-likelihood. Second, the choice probabilities are not smooth in the parameters and instead are a step function. This is why McFadden (1989) introduces a class of smoothed AR simulators. The logit-smoothed AR simulator is the most popular one and also implemented in `respy`. The implementation requires to specify the smoothing parameter $\\tau$. As $\\tau \\rightarrow 0$ the logit smoother approaches the original indicator function.\n",
    "\n",
    "* McFadden, D. (1989). [A method of simulated moments for estimation of discrete response models without numerical integration](https://www.jstor.org/stable/1913621?seq=1#metadata_info_tab_contents). *Econometrica, 57*(5), 995-1026.\n",
    "\n",
    "* Train, K. (2009). [Discrete choice methods with simulation](https://eml.berkeley.edu/books/train1201.pdf). Cambridge University Press, Cambridge.\n"
   ]
  },
  {
   "cell_type": "code",
   "execution_count": 29,
   "metadata": {
    "ExecuteTime": {
     "end_time": "2020-04-24T08:28:59.908672Z",
     "start_time": "2020-04-24T08:28:48.394782Z"
    }
   },
   "outputs": [],
   "source": [
    "rslts = dict()\n",
    "\n",
    "for tau in [0.01, 0.001, 0.0001]:\n",
    "\n",
    "    index = (\"delta\", \"delta\")\n",
    "\n",
    "    options = options_base.copy()\n",
    "    options[\"estimation_tau\"] = tau\n",
    "\n",
    "    crit_func = rp.get_log_like_func(params_base, options, df)\n",
    "    grid = np.linspace(0.948, 0.952, 20)\n",
    "\n",
    "    fvals = list()\n",
    "    for value in grid:\n",
    "        params = params_base.copy()\n",
    "        params.loc[index, \"value\"] = value\n",
    "        fvals.append(crit_func(params))\n",
    "\n",
    "    rslts[tau] = fvals - np.max(fvals)"
   ]
  },
  {
   "cell_type": "markdown",
   "metadata": {},
   "source": [
    "Now we are ready to inspect the shape of the likelihood function."
   ]
  },
  {
   "cell_type": "code",
   "execution_count": 30,
   "metadata": {
    "ExecuteTime": {
     "end_time": "2020-04-24T08:29:00.110627Z",
     "start_time": "2020-04-24T08:28:59.911584Z"
    }
   },
   "outputs": [
    {
     "data": {
      "image/png": "[encoded data removed]",
      "text/plain": [
       "<Figure size 432x288 with 1 Axes>"
      ]
     },
     "metadata": {
      "needs_background": "light"
     },
     "output_type": "display_data"
    }
   ],
   "source": [
    "plot_smoothing_parameter(rslts, params_base, grid)"
   ]
  },
  {
   "cell_type": "markdown",
   "metadata": {},
   "source": [
    "#### Grid search"
   ]
  },
  {
   "cell_type": "markdown",
   "metadata": {},
   "source": [
    "We can look at the interplay of several major numerical tuning parameters. We combine choices for `simulation_agents`, `solution_draws`, `estimation_draws`, and `tau` to see how the maximum of the likelihood function changes. "
   ]
  },
  {
   "cell_type": "code",
   "execution_count": 31,
   "metadata": {
    "ExecuteTime": {
     "end_time": "2020-04-24T08:29:00.151795Z",
     "start_time": "2020-04-24T08:29:00.114332Z"
    }
   },
   "outputs": [
    {
     "data": {
      "text/html": [
       "<div>\n",
       "<style scoped>\n",
       "    .dataframe tbody tr th:only-of-type {\n",
       "        vertical-align: middle;\n",
       "    }\n",
       "\n",
       "    .dataframe tbody tr th {\n",
       "        vertical-align: top;\n",
       "    }\n",
       "\n",
       "    .dataframe thead th {\n",
       "        text-align: right;\n",
       "    }\n",
       "</style>\n",
       "<table border=\"1\" class=\"dataframe\">\n",
       "  <thead>\n",
       "    <tr style=\"text-align: right;\">\n",
       "      <th></th>\n",
       "      <th></th>\n",
       "      <th></th>\n",
       "      <th>delta</th>\n",
       "    </tr>\n",
       "    <tr>\n",
       "      <th>agents</th>\n",
       "      <th>draws</th>\n",
       "      <th>tau</th>\n",
       "      <th></th>\n",
       "    </tr>\n",
       "  </thead>\n",
       "  <tbody>\n",
       "    <tr>\n",
       "      <th rowspan=\"18\" valign=\"top\">10000</th>\n",
       "      <th rowspan=\"6\" valign=\"top\">100</th>\n",
       "      <th>1.000000e-02</th>\n",
       "      <td>0.952</td>\n",
       "    </tr>\n",
       "    <tr>\n",
       "      <th>1.000000e-03</th>\n",
       "      <td>0.949684</td>\n",
       "    </tr>\n",
       "    <tr>\n",
       "      <th>1.000000e-04</th>\n",
       "      <td>0.949684</td>\n",
       "    </tr>\n",
       "    <tr>\n",
       "      <th>1.000000e-05</th>\n",
       "      <td>0.949684</td>\n",
       "    </tr>\n",
       "    <tr>\n",
       "      <th>1.000000e-06</th>\n",
       "      <td>0.949684</td>\n",
       "    </tr>\n",
       "    <tr>\n",
       "      <th>1.000000e-07</th>\n",
       "      <td>0.949684</td>\n",
       "    </tr>\n",
       "    <tr>\n",
       "      <th rowspan=\"6\" valign=\"top\">1000</th>\n",
       "      <th>1.000000e-02</th>\n",
       "      <td>0.952</td>\n",
       "    </tr>\n",
       "    <tr>\n",
       "      <th>1.000000e-03</th>\n",
       "      <td>0.950316</td>\n",
       "    </tr>\n",
       "    <tr>\n",
       "      <th>1.000000e-04</th>\n",
       "      <td>0.950105</td>\n",
       "    </tr>\n",
       "    <tr>\n",
       "      <th>1.000000e-05</th>\n",
       "      <td>0.950105</td>\n",
       "    </tr>\n",
       "    <tr>\n",
       "      <th>1.000000e-06</th>\n",
       "      <td>0.950105</td>\n",
       "    </tr>\n",
       "    <tr>\n",
       "      <th>1.000000e-07</th>\n",
       "      <td>0.950105</td>\n",
       "    </tr>\n",
       "    <tr>\n",
       "      <th rowspan=\"6\" valign=\"top\">10000</th>\n",
       "      <th>1.000000e-02</th>\n",
       "      <td>0.952</td>\n",
       "    </tr>\n",
       "    <tr>\n",
       "      <th>1.000000e-03</th>\n",
       "      <td>0.950316</td>\n",
       "    </tr>\n",
       "    <tr>\n",
       "      <th>1.000000e-04</th>\n",
       "      <td>0.950105</td>\n",
       "    </tr>\n",
       "    <tr>\n",
       "      <th>1.000000e-05</th>\n",
       "      <td>0.950105</td>\n",
       "    </tr>\n",
       "    <tr>\n",
       "      <th>1.000000e-06</th>\n",
       "      <td>0.950105</td>\n",
       "    </tr>\n",
       "    <tr>\n",
       "      <th>1.000000e-07</th>\n",
       "      <td>0.950105</td>\n",
       "    </tr>\n",
       "  </tbody>\n",
       "</table>\n",
       "</div>"
      ],
      "text/plain": [
       "                              delta\n",
       "agents draws tau                   \n",
       "10000  100   1.000000e-02     0.952\n",
       "             1.000000e-03  0.949684\n",
       "             1.000000e-04  0.949684\n",
       "             1.000000e-05  0.949684\n",
       "             1.000000e-06  0.949684\n",
       "             1.000000e-07  0.949684\n",
       "       1000  1.000000e-02     0.952\n",
       "             1.000000e-03  0.950316\n",
       "             1.000000e-04  0.950105\n",
       "             1.000000e-05  0.950105\n",
       "             1.000000e-06  0.950105\n",
       "             1.000000e-07  0.950105\n",
       "       10000 1.000000e-02     0.952\n",
       "             1.000000e-03  0.950316\n",
       "             1.000000e-04  0.950105\n",
       "             1.000000e-05  0.950105\n",
       "             1.000000e-06  0.950105\n",
       "             1.000000e-07  0.950105"
      ]
     },
     "execution_count": 31,
     "metadata": {},
     "output_type": "execute_result"
    }
   ],
   "source": [
    "df = pd.read_pickle(\"material/tuning.delta.pkl\")\n",
    "df.loc[((10000), slice(None)), :]"
   ]
  }
 ],
 "metadata": {
  "kernelspec": {
   "display_name": "Python 3",
   "language": "python",
   "name": "python3"
  },
  "language_info": {
   "codemirror_mode": {
    "name": "ipython",
    "version": 3
   },
   "file_extension": ".py",
   "mimetype": "text/x-python",
   "name": "python",
   "nbconvert_exporter": "python",
   "pygments_lexer": "ipython3",
   "version": "3.7.7"
  },
  "toc": {
   "base_numbering": 1,
   "nav_menu": {},
   "number_sections": true,
   "sideBar": true,
   "skip_h1_title": false,
   "title_cell": "Table of Contents",
   "title_sidebar": "Contents",
   "toc_cell": false,
   "toc_position": {},
   "toc_section_display": true,
   "toc_window_display": false
  }
 },
 "nbformat": 4,
 "nbformat_minor": 4
}
