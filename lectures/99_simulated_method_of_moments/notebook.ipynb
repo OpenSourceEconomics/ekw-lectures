{
 "cells": [
  {
   "cell_type": "code",
   "execution_count": 109,
   "metadata": {},
   "outputs": [
    {
     "name": "stdout",
     "output_type": "stream",
     "text": [
      "The autoreload extension is already loaded. To reload it, use:\n",
      "  %reload_ext autoreload\n"
     ]
    }
   ],
   "source": [
    "%load_ext autoreload\n",
    "%autoreload 2\n",
    "\n",
    "import os\n",
    "import respy as rp\n",
    "import numpy as np\n",
    "import pandas as pd\n",
    "import seaborn as sns\n",
    "import matplotlib.pyplot as plt\n",
    "import pickle as pkl\n",
    "\n",
    "from collections import OrderedDict\n",
    "from collections import defaultdict\n",
    "\n",
    "from respy.pre_processing.model_processing import process_params_and_options"
   ]
  },
  {
   "cell_type": "markdown",
   "metadata": {},
   "source": [
    "# Simulated Method of Moments estimation"
   ]
  },
  {
   "cell_type": "markdown",
   "metadata": {},
   "source": [
    "**Outline**\n",
    "\n",
    "This notebook explores a simulated method of moments (SMM) estimation for respy's simple Robinson Crusoe decision model. The notebook is divided into four major parts. The first part shows the model and generates the 'observed data' used for the estimation in all later parts. In the second part I generate the elements needed for a SMM estimation i.e. the moments that describe the observed data and the weighting matrix as well as the criterion function used for estimation. Part three constitutes a SMM estimation for a candidate parameter vector that deviates from the true parameter vector but uses simulated data based on the same simulation seed that is used to generate the observed data. Section four explores how estimation results change if we used a different simulation seed and alter the set of options used to generate the model."
   ]
  },
  {
   "cell_type": "markdown",
   "metadata": {},
   "source": [
    "<h1>Table of Contents<span class=\"tocSkip\"></span></h1>\n",
    "<div class=\"toc\"><ul class=\"toc-item\"><li><span><a href=\"#Model-&amp;-Observed-Data\" data-toc-modified-id=\"Model-&amp;-Observed-Data-1\"><span class=\"toc-item-num\">1&nbsp;&nbsp;</span>Model &amp; Observed Data</a></span></li><li><span><a href=\"#Setup-for-SMM-Estimation\" data-toc-modified-id=\"Setup-for-SMM-Estimation-2\"><span class=\"toc-item-num\">2&nbsp;&nbsp;</span>Setup for SMM Estimation</a></span><ul class=\"toc-item\"><li><span><a href=\"#Calculate-Moments\" data-toc-modified-id=\"Calculate-Moments-2.1\"><span class=\"toc-item-num\">2.1&nbsp;&nbsp;</span>Calculate Moments</a></span><ul class=\"toc-item\"><li><span><a href=\"#Function-for-calculating-moments\" data-toc-modified-id=\"Function-for-calculating-moments-2.1.1\"><span class=\"toc-item-num\">2.1.1&nbsp;&nbsp;</span>Function for calculating moments</a></span></li><li><span><a href=\"#Observed-Moments\" data-toc-modified-id=\"Observed-Moments-2.1.2\"><span class=\"toc-item-num\">2.1.2&nbsp;&nbsp;</span>Observed Moments</a></span></li></ul></li><li><span><a href=\"#Weighting-Matrix\" data-toc-modified-id=\"Weighting-Matrix-2.2\"><span class=\"toc-item-num\">2.2&nbsp;&nbsp;</span>Weighting-Matrix</a></span></li><li><span><a href=\"#Criterion-Function\" data-toc-modified-id=\"Criterion-Function-2.3\"><span class=\"toc-item-num\">2.3&nbsp;&nbsp;</span>Criterion Function</a></span></li></ul></li><li><span><a href=\"#SMM-Estimation\" data-toc-modified-id=\"SMM-Estimation-3\"><span class=\"toc-item-num\">3&nbsp;&nbsp;</span>SMM Estimation</a></span><ul class=\"toc-item\"><li><span><a href=\"#Define-starting-paramters\" data-toc-modified-id=\"Define-starting-paramters-3.1\"><span class=\"toc-item-num\">3.1&nbsp;&nbsp;</span>Define starting paramters</a></span></li><li><span><a href=\"#Simulated-Moments\" data-toc-modified-id=\"Simulated-Moments-3.2\"><span class=\"toc-item-num\">3.2&nbsp;&nbsp;</span>Simulated Moments</a></span></li><li><span><a href=\"#Optimization-proceidure\" data-toc-modified-id=\"Optimization-proceidure-3.3\"><span class=\"toc-item-num\">3.3&nbsp;&nbsp;</span>Optimization proceidure</a></span><ul class=\"toc-item\"><li><span><a href=\"#Upper-and-Lower-Bounds\" data-toc-modified-id=\"Upper-and-Lower-Bounds-3.3.1\"><span class=\"toc-item-num\">3.3.1&nbsp;&nbsp;</span>Upper and Lower Bounds</a></span></li><li><span><a href=\"#Constraints\" data-toc-modified-id=\"Constraints-3.3.2\"><span class=\"toc-item-num\">3.3.2&nbsp;&nbsp;</span>Constraints</a></span></li><li><span><a href=\"#Optimize\" data-toc-modified-id=\"Optimize-3.3.3\"><span class=\"toc-item-num\">3.3.3&nbsp;&nbsp;</span>Optimize</a></span></li><li><span><a href=\"#Plot-Criterion-Function\" data-toc-modified-id=\"Plot-Criterion-Function-3.3.4\"><span class=\"toc-item-num\">3.3.4&nbsp;&nbsp;</span>Plot Criterion Function</a></span></li></ul></li></ul></li><li><span><a href=\"#Simulation-Study\" data-toc-modified-id=\"Simulation-Study-4\"><span class=\"toc-item-num\">4&nbsp;&nbsp;</span>Simulation Study</a></span><ul class=\"toc-item\"><li><span><a href=\"#Changing-the-Simulation-Seed\" data-toc-modified-id=\"Changing-the-Simulation-Seed-4.1\"><span class=\"toc-item-num\">4.1&nbsp;&nbsp;</span>Changing the Simulation Seed</a></span></li></ul></li></ul></div>"
   ]
  },
  {
   "cell_type": "markdown",
   "metadata": {},
   "source": [
    "**To do:**\n",
    "   - Part 4\n",
    "   - Add text and descriptions to all sections of the notebook\n",
    "   - Implement algorithm for calculating the weighting matrix"
   ]
  },
  {
   "cell_type": "markdown",
   "metadata": {},
   "source": [
    "##  Observed Data\n",
    "\n",
    "Our model and data is given by [respy](https://respy.readthedocs.io/en/latest/)'s `robinson` example model. In this simple model, the agent, Robinson Crusoe, in each time period decides between two choice options: working (i.e. going fishing) or spending time in the hammock. We use the function `get_example_model `to simulate the model and a dataset.\n",
    "\n",
    "For the rest of this notebook we will treat these observations as though they are real observed data and try to recover the parameters of the model using this data. However, since this is actually a simulated model for which we know the true parameter vector, we will be able to compare how well our estimation procedures perform."
   ]
  },
  {
   "cell_type": "code",
   "execution_count": 110,
   "metadata": {},
   "outputs": [],
   "source": [
    "params_true, options, data_obs = rp.get_example_model(\"robinson\", with_data=True)"
   ]
  },
  {
   "cell_type": "markdown",
   "metadata": {},
   "source": [
    "Uncomment this code to take a look at the model specifications and observed data:"
   ]
  },
  {
   "cell_type": "code",
   "execution_count": 111,
   "metadata": {},
   "outputs": [],
   "source": [
    "# params_true \n",
    "# options\n",
    "# data_obs.head(10)"
   ]
  },
  {
   "cell_type": "markdown",
   "metadata": {},
   "source": [
    "##  Setup for SMM Estimation\n",
    "### Calculate Moments"
   ]
  },
  {
   "cell_type": "markdown",
   "metadata": {},
   "source": [
    "#### Calculating Moments\n"
   ]
  },
  {
   "cell_type": "code",
   "execution_count": 260,
   "metadata": {},
   "outputs": [],
   "source": [
    "def get_moments(df, choice_options):\n",
    "    \"\"\"Function for calculating moments for a dataset.\n",
    "    Args:\n",
    "    df(pd.DataFrame): Dataframe containing observations on choices of agents. Dataset must contain the following columns:\n",
    "        - 'Period': Column containing time period of observation.\n",
    "        - 'Identifier': Column containing the identifier of the agent for each observation.\n",
    "        - 'Choice': Column containing the choice an agent as made in period for each observation.\n",
    "        - 'Wage': Column containing the wage each agent has earned each period (should be np.nan if \n",
    "                  agent did not work in a given period)\n",
    "    choice_options(list): List of possible choices. Needs to be specified manually because we need the full set of choice \n",
    "                          options for the choice probabilities and there can be cases where some choices are not realized \n",
    "                          by any agent and will thus not appear in the data.\n",
    "    \n",
    "    Returns:\n",
    "    moments_dict(dictionary): Dictionary containing subdictionaries with the moments:\n",
    "        - 'Choice Probability': Dictionary containing the proportion of agents who have chosen a given \n",
    "                                option each period for each option.\n",
    "        - 'Wage Distribution':  Dictionary containing the mean and the standard deviation of wages for each period.\n",
    "    --------------------------------------------------------------------------------------------------------------------    \n",
    "    \"\"\"\n",
    "    periods = df['Period'].unique()\n",
    "\n",
    "    moments_dict = {}\n",
    "    \n",
    "    # 1. Choice Probability for each period and each choice option\n",
    "    df_indexed = df.set_index(['Identifier', 'Period'], drop=True)\n",
    "    df_grouped_period = df_indexed.groupby(['Period'])\n",
    "    info_period = df_grouped_period['Choice'].value_counts(normalize=True).to_dict()\n",
    "    # Dictionary will give a period choice probability of 0 if a choice is not observed at all in a period.\n",
    "    info_period = defaultdict(lambda: 0.00, info_period)\n",
    "\n",
    "    choices_dict = dict.fromkeys(periods)\n",
    "\n",
    "    for key in choices_dict.keys():\n",
    "        choice_proba = []\n",
    "        for choice in choice_options:\n",
    "            choice_proba.append(info_period[(key,choice)])   \n",
    "    \n",
    "        choices_dict[key] = choice_proba  \n",
    "    \n",
    "    moments_dict['Choice Probabilities'] = choices_dict\n",
    "    \n",
    "    # 2. Wage Distribution\n",
    "    periods = sorted(df['Period'].unique())\n",
    "    df_indexed = df.set_index(['Identifier', 'Period'], drop=True)\n",
    "    df_grouped_period = df_indexed.groupby(['Period'])\n",
    "    \n",
    "    # Describe wages to extract wage mean and std.\n",
    "    info_period = df_grouped_period['Wage'].describe() \n",
    "    # Initialize wage dictionary with period as keys and add mean and std for each period.\n",
    "    wages_dict = dict.fromkeys(info_period.index.to_list())\n",
    "    for key in info_period.index.to_list():                \n",
    "            wages_dict[key] = (info_period.loc[key,'mean'],info_period.loc[key,'std'])\n",
    "    \n",
    "    # Add wage mean and std to moments dict.\n",
    "    moments_dict['Wage Distribution'] = wages_dict\n",
    "    \n",
    "    return moments_dict"
   ]
  },
  {
   "cell_type": "markdown",
   "metadata": {},
   "source": [
    "#### Observed Moments"
   ]
  },
  {
   "cell_type": "code",
   "execution_count": 261,
   "metadata": {},
   "outputs": [],
   "source": [
    "choice_options_robinson = ['fishing', 'hammock']"
   ]
  },
  {
   "cell_type": "code",
   "execution_count": 262,
   "metadata": {},
   "outputs": [
    {
     "name": "stdout",
     "output_type": "stream",
     "text": [
      "Choice Probabilities\n",
      "{0: [0.631, 0.369], 1: [0.631, 0.369], 2: [0.631, 0.369], 3: [0.631, 0.369], 4: [0.631, 0.369]}\n",
      "\n",
      " Wage Distribution\n",
      "{0: (1.0037950532864608, 0.009222735533113452), 1: (1.0724623646069125, 0.010885774459361966), 2: (1.1506433910875764, 0.01165976621540699), 3: (1.2325871778674606, 0.01188724268886421), 4: (1.3230636324871103, 0.012512007111785479)}\n"
     ]
    }
   ],
   "source": [
    "moments_obs = get_moments(data_obs, choice_options_robinson)\n",
    "print('Choice Probabilities')\n",
    "print(moments_obs['Choice Probabilities'])\n",
    "print('\\n Wage Distribution')\n",
    "print(moments_obs['Wage Distribution'])"
   ]
  },
  {
   "cell_type": "markdown",
   "metadata": {},
   "source": [
    "### Weighting-Matrix"
   ]
  },
  {
   "cell_type": "code",
   "execution_count": 115,
   "metadata": {},
   "outputs": [
    {
     "name": "stdout",
     "output_type": "stream",
     "text": [
      "[[1. 0. 0. 0. 0. 0. 0. 0. 0. 0. 0. 0. 0. 0. 0. 0. 0. 0. 0. 0.]\n",
      " [0. 1. 0. 0. 0. 0. 0. 0. 0. 0. 0. 0. 0. 0. 0. 0. 0. 0. 0. 0.]\n",
      " [0. 0. 1. 0. 0. 0. 0. 0. 0. 0. 0. 0. 0. 0. 0. 0. 0. 0. 0. 0.]\n",
      " [0. 0. 0. 1. 0. 0. 0. 0. 0. 0. 0. 0. 0. 0. 0. 0. 0. 0. 0. 0.]\n",
      " [0. 0. 0. 0. 1. 0. 0. 0. 0. 0. 0. 0. 0. 0. 0. 0. 0. 0. 0. 0.]\n",
      " [0. 0. 0. 0. 0. 1. 0. 0. 0. 0. 0. 0. 0. 0. 0. 0. 0. 0. 0. 0.]\n",
      " [0. 0. 0. 0. 0. 0. 1. 0. 0. 0. 0. 0. 0. 0. 0. 0. 0. 0. 0. 0.]\n",
      " [0. 0. 0. 0. 0. 0. 0. 1. 0. 0. 0. 0. 0. 0. 0. 0. 0. 0. 0. 0.]\n",
      " [0. 0. 0. 0. 0. 0. 0. 0. 1. 0. 0. 0. 0. 0. 0. 0. 0. 0. 0. 0.]\n",
      " [0. 0. 0. 0. 0. 0. 0. 0. 0. 1. 0. 0. 0. 0. 0. 0. 0. 0. 0. 0.]\n",
      " [0. 0. 0. 0. 0. 0. 0. 0. 0. 0. 1. 0. 0. 0. 0. 0. 0. 0. 0. 0.]\n",
      " [0. 0. 0. 0. 0. 0. 0. 0. 0. 0. 0. 1. 0. 0. 0. 0. 0. 0. 0. 0.]\n",
      " [0. 0. 0. 0. 0. 0. 0. 0. 0. 0. 0. 0. 1. 0. 0. 0. 0. 0. 0. 0.]\n",
      " [0. 0. 0. 0. 0. 0. 0. 0. 0. 0. 0. 0. 0. 1. 0. 0. 0. 0. 0. 0.]\n",
      " [0. 0. 0. 0. 0. 0. 0. 0. 0. 0. 0. 0. 0. 0. 1. 0. 0. 0. 0. 0.]\n",
      " [0. 0. 0. 0. 0. 0. 0. 0. 0. 0. 0. 0. 0. 0. 0. 1. 0. 0. 0. 0.]\n",
      " [0. 0. 0. 0. 0. 0. 0. 0. 0. 0. 0. 0. 0. 0. 0. 0. 1. 0. 0. 0.]\n",
      " [0. 0. 0. 0. 0. 0. 0. 0. 0. 0. 0. 0. 0. 0. 0. 0. 0. 1. 0. 0.]\n",
      " [0. 0. 0. 0. 0. 0. 0. 0. 0. 0. 0. 0. 0. 0. 0. 0. 0. 0. 1. 0.]\n",
      " [0. 0. 0. 0. 0. 0. 0. 0. 0. 0. 0. 0. 0. 0. 0. 0. 0. 0. 0. 1.]]\n"
     ]
    }
   ],
   "source": [
    "# I use the identity matrix for now.\n",
    "identity_matrix = np.eye(20)\n",
    "print(identity_matrix)"
   ]
  },
  {
   "cell_type": "markdown",
   "metadata": {},
   "source": [
    "### Criterion Function "
   ]
  },
  {
   "cell_type": "code",
   "execution_count": 116,
   "metadata": {},
   "outputs": [],
   "source": [
    "def evaluate(params_cand, options, weighting_matrix, moments_obs, choice_options):\n",
    "    params = params_cand.copy()\n",
    "    periods = range(options[\"n_periods\"])\n",
    "    num_moments = len(np.diag(weighting_matrix))\n",
    "\n",
    "    # Calculate simulated moments for model with candidate parameters.\n",
    "    simulate = rp.get_simulate_func(params, options)\n",
    "    df_sim = simulate(params)\n",
    "    moments_sim = get_moments(df_sim, choice_options)\n",
    "    \n",
    "    # Check whether candidate parameters are valid inputs.\n",
    "    stats_obs, stats_sim = [], []\n",
    "    for group in moments_sim.keys():\n",
    "        for period in periods:\n",
    "            stats_obs.extend(moments_obs[group][(period)])\n",
    "            stats_sim.extend(moments_sim[group][(period)])\n",
    "\n",
    "    is_valid = len(stats_obs) == len(stats_sim) == num_moments\n",
    "    \n",
    "    # Calculate weigthted dot product of difference between real moments and \n",
    "    # simulated moments.\n",
    "    if is_valid:\n",
    "        stats_diff = np.array(stats_obs) - np.array(stats_sim)\n",
    "        fval = np.dot(stats_diff, weighting_matrix)\n",
    "        fval = float(np.dot(fval, stats_diff))\n",
    "    else:\n",
    "        fval = 1000000\n",
    "        \n",
    "    return fval"
   ]
  },
  {
   "cell_type": "markdown",
   "metadata": {},
   "source": [
    "Function value for true parameters:"
   ]
  },
  {
   "cell_type": "code",
   "execution_count": 117,
   "metadata": {},
   "outputs": [
    {
     "data": {
      "text/plain": [
       "0.0"
      ]
     },
     "execution_count": 117,
     "metadata": {},
     "output_type": "execute_result"
    }
   ],
   "source": [
    "fval = evaluate(params_true, options, identity_matrix, moments_obs, choice_options_robinson)\n",
    "fval"
   ]
  },
  {
   "cell_type": "markdown",
   "metadata": {},
   "source": [
    "## SMM Estimation"
   ]
  },
  {
   "cell_type": "markdown",
   "metadata": {},
   "source": [
    "### Define starting parameters\n"
   ]
  },
  {
   "cell_type": "code",
   "execution_count": 314,
   "metadata": {},
   "outputs": [],
   "source": [
    "# Define candidate parameters: For now we just change one parameter\n",
    "params_cand = params_true.copy()\n",
    "params_cand.loc['delta','value'] = 0.91"
   ]
  },
  {
   "cell_type": "markdown",
   "metadata": {},
   "source": [
    "### Simulated Moments"
   ]
  },
  {
   "cell_type": "code",
   "execution_count": 315,
   "metadata": {},
   "outputs": [
    {
     "name": "stdout",
     "output_type": "stream",
     "text": [
      "Choice Probabilities\n",
      "{0: [0.057, 0.943], 1: [0.057, 0.943], 2: [0.057, 0.943], 3: [0.057, 0.943], 4: [0.057, 0.943]}\n",
      "\n",
      " Wage Distribution\n",
      "{0: (1.0156309699098678, 0.007932476163958665), 1: (1.0727351346470868, 0.009457912896024212), 2: (1.1525543797774405, 0.011117292200387334), 3: (1.2321445274051062, 0.012130022654426299), 4: (1.3222517030491312, 0.013661788647947941)}\n"
     ]
    }
   ],
   "source": [
    "params = params_cand.copy()\n",
    "simulate = rp.get_simulate_func(params, options)\n",
    "df_sim = simulate(params)\n",
    "moments_sim = get_moments(df_sim, choice_options_robinson)\n",
    "\n",
    "print('Choice Probabilities')\n",
    "print(moments_sim['Choice Probabilities'])\n",
    "print('\\n Wage Distribution')\n",
    "print(moments_sim['Wage Distribution'])"
   ]
  },
  {
   "cell_type": "markdown",
   "metadata": {},
   "source": [
    "Function value for candidate parameters that differ from the true ones:"
   ]
  },
  {
   "cell_type": "code",
   "execution_count": 316,
   "metadata": {},
   "outputs": [
    {
     "data": {
      "text/plain": [
       "3.294910049148061"
      ]
     },
     "execution_count": 316,
     "metadata": {},
     "output_type": "execute_result"
    }
   ],
   "source": [
    "fval = evaluate(params_cand, options, identity_matrix, moments_obs, choice_options_robinson)\n",
    "fval"
   ]
  },
  {
   "cell_type": "markdown",
   "metadata": {},
   "source": [
    "### Optimization procedure"
   ]
  },
  {
   "cell_type": "markdown",
   "metadata": {},
   "source": [
    "We will now use an optimization procedure to retrieve the true parameter vector. For the optimization I use [estimagic](https://estimagic.readthedocs.io/en/latest/index.html). Estimagic is a Python package that is developed to help implement (structural) econometric models and offers a variety of customization options for the optimization procedure as well as a large selection of algorithms.\n",
    "\n",
    "We have verified above that the criterion function gives a value of 0 for the true parameter vector. Before we try different parameter specifications, we can check whether an optimizer recognizes the true vector as the minimum of our criterion function."
   ]
  },
  {
   "cell_type": "markdown",
   "metadata": {},
   "source": [
    "For our optimization procedure we need estimagic's *minimize* function."
   ]
  },
  {
   "cell_type": "code",
   "execution_count": 317,
   "metadata": {},
   "outputs": [],
   "source": [
    "from estimagic.optimization.optimize import minimize"
   ]
  },
  {
   "cell_type": "markdown",
   "metadata": {},
   "source": [
    "As inputs for the *minimize* function we need to specify:\n",
    "* the the criterion function we want to minimize\n",
    "* the parameter vector with respect to which we want to minimize the criterion function\n",
    "* one of the optimization [algorithms that estimagic supports](https://estimagic.readthedocs.io/en/latest/optimization/algorithms.html)\n",
    "* possible other arguments of the criterion function (e.g. the weighting matrix or moments)\n",
    "\n",
    "As the code below shows, the optimization algorithm recognizes the true parameter vector as the minimum of the criterion function."
   ]
  },
  {
   "cell_type": "code",
   "execution_count": 318,
   "metadata": {},
   "outputs": [
    {
     "data": {
      "text/plain": [
       "{'fun': 0.0, 'internal_x': [0.95, 0.07, -0.1, 1.046, 0.01, 0.01, 0.0]}"
      ]
     },
     "execution_count": 318,
     "metadata": {},
     "output_type": "execute_result"
    }
   ],
   "source": [
    "rslt = minimize(criterion=evaluate,\n",
    "                params=params_true,\n",
    "                algorithm=\"nlopt_bobyqa\",\n",
    "                criterion_args=(options, identity_matrix, moments_obs, choice_options_robinson),\n",
    "               )\n",
    "rslt[0]"
   ]
  },
  {
   "cell_type": "markdown",
   "metadata": {},
   "source": [
    "#### Upper and Lower Bounds"
   ]
  },
  {
   "cell_type": "code",
   "execution_count": 319,
   "metadata": {},
   "outputs": [
    {
     "data": {
      "text/html": [
       "<div>\n",
       "<style scoped>\n",
       "    .dataframe tbody tr th:only-of-type {\n",
       "        vertical-align: middle;\n",
       "    }\n",
       "\n",
       "    .dataframe tbody tr th {\n",
       "        vertical-align: top;\n",
       "    }\n",
       "\n",
       "    .dataframe thead th {\n",
       "        text-align: right;\n",
       "    }\n",
       "</style>\n",
       "<table border=\"1\" class=\"dataframe\">\n",
       "  <thead>\n",
       "    <tr style=\"text-align: right;\">\n",
       "      <th></th>\n",
       "      <th></th>\n",
       "      <th>value</th>\n",
       "      <th>lower</th>\n",
       "      <th>upper</th>\n",
       "    </tr>\n",
       "    <tr>\n",
       "      <th>category</th>\n",
       "      <th>name</th>\n",
       "      <th></th>\n",
       "      <th></th>\n",
       "      <th></th>\n",
       "    </tr>\n",
       "  </thead>\n",
       "  <tbody>\n",
       "    <tr>\n",
       "      <th>delta</th>\n",
       "      <th>delta</th>\n",
       "      <td>0.910</td>\n",
       "      <td>0.900</td>\n",
       "      <td>0.990</td>\n",
       "    </tr>\n",
       "    <tr>\n",
       "      <th>wage_fishing</th>\n",
       "      <th>exp_fishing</th>\n",
       "      <td>0.070</td>\n",
       "      <td>0.068</td>\n",
       "      <td>0.075</td>\n",
       "    </tr>\n",
       "    <tr>\n",
       "      <th>nonpec_fishing</th>\n",
       "      <th>constant</th>\n",
       "      <td>-0.100</td>\n",
       "      <td>-1.500</td>\n",
       "      <td>0.000</td>\n",
       "    </tr>\n",
       "    <tr>\n",
       "      <th>nonpec_hammock</th>\n",
       "      <th>constant</th>\n",
       "      <td>1.046</td>\n",
       "      <td>1.000</td>\n",
       "      <td>2.000</td>\n",
       "    </tr>\n",
       "    <tr>\n",
       "      <th rowspan=\"3\" valign=\"top\">shocks_sdcorr</th>\n",
       "      <th>sd_fishing</th>\n",
       "      <td>0.010</td>\n",
       "      <td>0.000</td>\n",
       "      <td>0.020</td>\n",
       "    </tr>\n",
       "    <tr>\n",
       "      <th>sd_hammock</th>\n",
       "      <td>0.010</td>\n",
       "      <td>0.000</td>\n",
       "      <td>0.020</td>\n",
       "    </tr>\n",
       "    <tr>\n",
       "      <th>corr_hammock_fishing</th>\n",
       "      <td>0.000</td>\n",
       "      <td>0.000</td>\n",
       "      <td>0.100</td>\n",
       "    </tr>\n",
       "  </tbody>\n",
       "</table>\n",
       "</div>"
      ],
      "text/plain": [
       "                                     value  lower  upper\n",
       "category       name                                     \n",
       "delta          delta                 0.910  0.900  0.990\n",
       "wage_fishing   exp_fishing           0.070  0.068  0.075\n",
       "nonpec_fishing constant             -0.100 -1.500  0.000\n",
       "nonpec_hammock constant              1.046  1.000  2.000\n",
       "shocks_sdcorr  sd_fishing            0.010  0.000  0.020\n",
       "               sd_hammock            0.010  0.000  0.020\n",
       "               corr_hammock_fishing  0.000  0.000  0.100"
      ]
     },
     "execution_count": 319,
     "metadata": {},
     "output_type": "execute_result"
    }
   ],
   "source": [
    "# Lower and upper bound for parameters\n",
    "params_cand['lower'] = [0.9, 0.068, -1.5, 1, 0, 0, 0]\n",
    "params_cand['upper'] = [0.99, 0.075, 0, 2, 0.02, 0.02, 0.1]\n",
    "params_cand"
   ]
  },
  {
   "cell_type": "markdown",
   "metadata": {},
   "source": [
    "#### Constraints"
   ]
  },
  {
   "cell_type": "code",
   "execution_count": 320,
   "metadata": {},
   "outputs": [],
   "source": [
    "# Hold all values except the changed parameter fixed \n",
    "constr = [\n",
    "    {\"loc\": \"shocks_sdcorr\", \"type\": \"sdcorr\"}, \n",
    "    #{\"loc\": \"delta\", \"type\": \"fixed\", \"value\": 0.95},\n",
    "    {\"loc\": \"wage_fishing\", \"type\": \"fixed\", \"value\": 0.07},\n",
    "    {\"loc\": \"nonpec_fishing\", \"type\": \"fixed\", \"value\": -0.1},\n",
    "    {\"loc\": \"nonpec_hammock\", \"type\":\"fixed\", \"value\": 1.046},\n",
    "    {\"loc\": (\"shocks_sdcorr\",\"sd_fishing\"), \"type\": \"fixed\", \"value\": 0.01},\n",
    "    {\"loc\": (\"shocks_sdcorr\",\"sd_hammock\"), \"type\": \"fixed\", \"value\": 0.01},\n",
    "    {\"loc\": (\"shocks_sdcorr\",\"corr_hammock_fishing\"), \"type\": \"fixed\", \"value\": 0},  \n",
    "]"
   ]
  },
  {
   "cell_type": "markdown",
   "metadata": {},
   "source": [
    "#### Optimize"
   ]
  },
  {
   "cell_type": "code",
   "execution_count": 321,
   "metadata": {
    "scrolled": true
   },
   "outputs": [
    {
     "data": {
      "text/plain": [
       "{'fun': 0.0, 'internal_x': [0.9500058887592011]}"
      ]
     },
     "execution_count": 321,
     "metadata": {},
     "output_type": "execute_result"
    }
   ],
   "source": [
    "rslt = minimize(criterion=evaluate,\n",
    "                params=params_cand,\n",
    "                algorithm=\"nlopt_bobyqa\",\n",
    "                constraints=constr,\n",
    "                criterion_args=(options,identity_matrix, moments_obs, choice_options_robinson),\n",
    "                dashboard=True\n",
    "               )\n",
    "rslt[0]"
   ]
  },
  {
   "cell_type": "markdown",
   "metadata": {},
   "source": [
    "#### Plot Criterion Function"
   ]
  },
  {
   "cell_type": "code",
   "execution_count": 303,
   "metadata": {},
   "outputs": [],
   "source": [
    "def plot_criterion_fun(params, param_name, lbounds, ubounds, xticks_steps, detail, criterion_args):\n",
    "    \"\"\" Plots criterion function for one or multiple ranges of values for a single parameter in the model.\n",
    "    Args:\n",
    "    params(pd.DataFrame): Dataframe containing the parameters in the model.\n",
    "    param_name(string): Name of the parameter that should be varied to plot the criterion function.\n",
    "    lbounds(list): Lower bound of the range of parameter values that should be calculated. Multiple values can be \n",
    "                   specified to plot the criterion function at different ranges of the parameter values.\n",
    "    ubounds(list): Upper bound of the range of parameter values that should be calculated. Must be the same length as\n",
    "                    lbounds.\n",
    "    xticks_steps(list): List that specifies the step size for the ticks of the xaxis.\n",
    "    criterion_args(list): List of arguments that need to be specified for the criterion function which is called for \n",
    "                          plotting (Args: options, weighting_matrix, moments_obs, choice_options)\n",
    "    detail(int): Number of parameter values that the criterion function should be calculated for. Determines\n",
    "                 the accuracy of the plotted function. \n",
    "    Returns:\n",
    "    plots \n",
    "    --------------------------------------------------------------------------------------------------------------------\n",
    "    \"\"\"\n",
    "    params = params.copy()\n",
    "    plt.figure(figsize=(8, 12), dpi=70, facecolor='w', edgecolor='k')\n",
    "    plt.subplots_adjust(wspace=0.4) \n",
    "    \n",
    "    for idx in range(len(lbounds)):\n",
    "        # Position of subplot\n",
    "        plt.subplot(len(lbounds), 1, idx+1)\n",
    "        # Define grid of parameter values and calculate the criterion function value for this grid.\n",
    "        x_grid = np.linspace(lbounds[idx], ubounds[idx], detail)\n",
    "        fvals_grid = ([])\n",
    "        for param in x_grid:\n",
    "            params.loc[param_name,'value'] = param\n",
    "            fval = evaluate(params, *criterion_args)\n",
    "            fvals_grid.append(fval)\n",
    "       \n",
    "        # Plot criterion function for the calculated values. \n",
    "        plt.xticks(np.arange(lbounds[idx], ubounds[idx], step=xticks_steps[idx]))\n",
    "        plt.grid(which='major')\n",
    "        plt.plot(x_grid, fvals_grid, \".\")\n",
    "        plt.plot(x_grid, fvals_grid, color=\"orange\")\n",
    "        plt.xlabel(param_name)\n",
    "        plt.ylabel('Criterion Function')\n"
   ]
  },
  {
   "cell_type": "markdown",
   "metadata": {},
   "source": [
    "We can plot the criterion function to examine its behavior around the minimum in more detail. The plots below show the criterion function at varying values of the parameter for the wage of fishing. Each plot depicts the criterion function for a progressively smaller range to 'zoom in' on the true minimum value of 0.07 for the wage of fishing given by the true parameter vector. "
   ]
  },
  {
   "cell_type": "code",
   "execution_count": 304,
   "metadata": {},
   "outputs": [
    {
     "data": {
      "image/png": "[encoded data removed]",
      "text/plain": [
       "<Figure size 560x840 with 3 Axes>"
      ]
     },
     "metadata": {},
     "output_type": "display_data"
    }
   ],
   "source": [
    "criterion_args = [options, identity_matrix, moments_obs, choice_options_robinson]\n",
    "plot_criterion_fun(params_true, \n",
    "                   'wage_fishing', \n",
    "                   [0.068, 0.06999, 0.0699999], # lower bound\n",
    "                   [0.074, 0.07001, 0.0700001], # upper bound\n",
    "                   [0.0005, 0.000005, 0.00000005], # xticks steps\n",
    "                   30, # number of parameter values calculated (blue dots)\n",
    "                   criterion_args) \n"
   ]
  },
  {
   "cell_type": "markdown",
   "metadata": {},
   "source": [
    "Criterion function for varying values of delta:"
   ]
  },
  {
   "cell_type": "code",
   "execution_count": 306,
   "metadata": {},
   "outputs": [
    {
     "data": {
      "image/png": "[encoded data removed]",
      "text/plain": [
       "<Figure size 560x840 with 3 Axes>"
      ]
     },
     "metadata": {},
     "output_type": "display_data"
    }
   ],
   "source": [
    "criterion_args = [options, identity_matrix, moments_obs, choice_options_robinson]\n",
    "plot_criterion_fun(params_true, \n",
    "                   'delta', \n",
    "                   [0.94, 0.949, 0.9499], # lower bound\n",
    "                   [0.96, 0.951, 0.9501], # upper bound\n",
    "                   [0.005,0.0005, 0.00005], # xticks steps\n",
    "                   20, # number of parameter values calculated (blue dots)\n",
    "                   criterion_args) \n"
   ]
  },
  {
   "cell_type": "markdown",
   "metadata": {},
   "source": [
    "## Simulation Alterations"
   ]
  },
  {
   "cell_type": "markdown",
   "metadata": {},
   "source": [
    "### Changing multiple parameters"
   ]
  },
  {
   "cell_type": "code",
   "execution_count": 324,
   "metadata": {},
   "outputs": [
    {
     "data": {
      "text/html": [
       "<div>\n",
       "<style scoped>\n",
       "    .dataframe tbody tr th:only-of-type {\n",
       "        vertical-align: middle;\n",
       "    }\n",
       "\n",
       "    .dataframe tbody tr th {\n",
       "        vertical-align: top;\n",
       "    }\n",
       "\n",
       "    .dataframe thead th {\n",
       "        text-align: right;\n",
       "    }\n",
       "</style>\n",
       "<table border=\"1\" class=\"dataframe\">\n",
       "  <thead>\n",
       "    <tr style=\"text-align: right;\">\n",
       "      <th></th>\n",
       "      <th></th>\n",
       "      <th>value</th>\n",
       "      <th>lower</th>\n",
       "      <th>upper</th>\n",
       "    </tr>\n",
       "    <tr>\n",
       "      <th>category</th>\n",
       "      <th>name</th>\n",
       "      <th></th>\n",
       "      <th></th>\n",
       "      <th></th>\n",
       "    </tr>\n",
       "  </thead>\n",
       "  <tbody>\n",
       "    <tr>\n",
       "      <th>delta</th>\n",
       "      <th>delta</th>\n",
       "      <td>0.910</td>\n",
       "      <td>0.900</td>\n",
       "      <td>0.990</td>\n",
       "    </tr>\n",
       "    <tr>\n",
       "      <th>wage_fishing</th>\n",
       "      <th>exp_fishing</th>\n",
       "      <td>0.071</td>\n",
       "      <td>0.068</td>\n",
       "      <td>0.075</td>\n",
       "    </tr>\n",
       "    <tr>\n",
       "      <th>nonpec_fishing</th>\n",
       "      <th>constant</th>\n",
       "      <td>-0.100</td>\n",
       "      <td>-1.500</td>\n",
       "      <td>0.000</td>\n",
       "    </tr>\n",
       "    <tr>\n",
       "      <th>nonpec_hammock</th>\n",
       "      <th>constant</th>\n",
       "      <td>1.046</td>\n",
       "      <td>1.000</td>\n",
       "      <td>2.000</td>\n",
       "    </tr>\n",
       "    <tr>\n",
       "      <th rowspan=\"3\" valign=\"top\">shocks_sdcorr</th>\n",
       "      <th>sd_fishing</th>\n",
       "      <td>0.010</td>\n",
       "      <td>0.000</td>\n",
       "      <td>0.020</td>\n",
       "    </tr>\n",
       "    <tr>\n",
       "      <th>sd_hammock</th>\n",
       "      <td>0.010</td>\n",
       "      <td>0.000</td>\n",
       "      <td>0.020</td>\n",
       "    </tr>\n",
       "    <tr>\n",
       "      <th>corr_hammock_fishing</th>\n",
       "      <td>0.000</td>\n",
       "      <td>0.000</td>\n",
       "      <td>0.100</td>\n",
       "    </tr>\n",
       "  </tbody>\n",
       "</table>\n",
       "</div>"
      ],
      "text/plain": [
       "                                     value  lower  upper\n",
       "category       name                                     \n",
       "delta          delta                 0.910  0.900  0.990\n",
       "wage_fishing   exp_fishing           0.071  0.068  0.075\n",
       "nonpec_fishing constant             -0.100 -1.500  0.000\n",
       "nonpec_hammock constant              1.046  1.000  2.000\n",
       "shocks_sdcorr  sd_fishing            0.010  0.000  0.020\n",
       "               sd_hammock            0.010  0.000  0.020\n",
       "               corr_hammock_fishing  0.000  0.000  0.100"
      ]
     },
     "execution_count": 324,
     "metadata": {},
     "output_type": "execute_result"
    }
   ],
   "source": [
    "params = params_true.copy()\n",
    "params.loc['delta', 'value'] = 0.91\n",
    "params.loc['wage_fishing'] = 0.071\n",
    "#params.loc[('nonpec_fishing','value')] = -0.15\n",
    "#params.loc[('nonpec_hammock','value')] = 1.1\n",
    "#params.loc[(\"shocks_sdcorr\",\"sd_fishing\"),\"value\"] = 0.01\n",
    "#params.loc[(\"shocks_sdcorr\",\"sd_hammock\"),\"value\"] = 0.01\n",
    "#params.loc[(\"shocks_sdcorr\",\"corr_hammock_fishing\"), \"value\"] = 0\n",
    "\n",
    "params['lower'] = [0.9, 0.068, -1.5, 1, 0, 0, 0]\n",
    "params['upper'] = [0.99, 0.075, 0, 2, 0.02, 0.02, 0.1]\n",
    "params"
   ]
  },
  {
   "cell_type": "code",
   "execution_count": 329,
   "metadata": {},
   "outputs": [
    {
     "data": {
      "text/plain": [
       "{'fun': 0.0005482025432618788,\n",
       " 'internal_x': [0.9067088969331281, 0.07335548794135255]}"
      ]
     },
     "execution_count": 329,
     "metadata": {},
     "output_type": "execute_result"
    }
   ],
   "source": [
    "constr = [\n",
    "    {\"loc\": \"shocks_sdcorr\", \"type\": \"sdcorr\"}, \n",
    "    #{\"loc\": \"delta\", \"type\": \"fixed\", \"value\": 0.95},\n",
    "    #{\"loc\": \"wage_fishing\", \"type\": \"fixed\", \"value\": 0.07},\n",
    "    {\"loc\": \"nonpec_fishing\", \"type\": \"fixed\", \"value\": -0.1},\n",
    "    {\"loc\": \"nonpec_hammock\", \"type\":\"fixed\", \"value\": 1.046},\n",
    "    {\"loc\": (\"shocks_sdcorr\",\"sd_fishing\"), \"type\": \"fixed\", \"value\": 0.01},\n",
    "    {\"loc\": (\"shocks_sdcorr\",\"sd_hammock\"), \"type\": \"fixed\", \"value\": 0.01},\n",
    "    {\"loc\": (\"shocks_sdcorr\",\"corr_hammock_fishing\"), \"type\": \"fixed\", \"value\": 0},  \n",
    "]\n",
    "\n",
    "rslt = minimize(criterion=evaluate,\n",
    "                params=params,\n",
    "                algorithm=\"nlopt_bobyqa\",\n",
    "                constraints=constr,\n",
    "                criterion_args=(options,identity_matrix, moments_obs, choice_options_robinson),\n",
    "                dashboard=True\n",
    "               )\n",
    "rslt[0]"
   ]
  },
  {
   "cell_type": "code",
   "execution_count": 326,
   "metadata": {},
   "outputs": [
    {
     "data": {
      "text/html": [
       "<div>\n",
       "<style scoped>\n",
       "    .dataframe tbody tr th:only-of-type {\n",
       "        vertical-align: middle;\n",
       "    }\n",
       "\n",
       "    .dataframe tbody tr th {\n",
       "        vertical-align: top;\n",
       "    }\n",
       "\n",
       "    .dataframe thead th {\n",
       "        text-align: right;\n",
       "    }\n",
       "</style>\n",
       "<table border=\"1\" class=\"dataframe\">\n",
       "  <thead>\n",
       "    <tr style=\"text-align: right;\">\n",
       "      <th></th>\n",
       "      <th></th>\n",
       "      <th>value</th>\n",
       "      <th>lower</th>\n",
       "      <th>upper</th>\n",
       "      <th>group</th>\n",
       "      <th>name</th>\n",
       "      <th>_fixed</th>\n",
       "    </tr>\n",
       "    <tr>\n",
       "      <th>category</th>\n",
       "      <th>name</th>\n",
       "      <th></th>\n",
       "      <th></th>\n",
       "      <th></th>\n",
       "      <th></th>\n",
       "      <th></th>\n",
       "      <th></th>\n",
       "    </tr>\n",
       "  </thead>\n",
       "  <tbody>\n",
       "    <tr>\n",
       "      <th>delta</th>\n",
       "      <th>delta</th>\n",
       "      <td>0.906709</td>\n",
       "      <td>0.900</td>\n",
       "      <td>0.990</td>\n",
       "      <td>All Parameters</td>\n",
       "      <td>delta_delta</td>\n",
       "      <td>False</td>\n",
       "    </tr>\n",
       "    <tr>\n",
       "      <th>wage_fishing</th>\n",
       "      <th>exp_fishing</th>\n",
       "      <td>0.073355</td>\n",
       "      <td>0.068</td>\n",
       "      <td>0.075</td>\n",
       "      <td>All Parameters</td>\n",
       "      <td>wage_fishing_exp_fishing</td>\n",
       "      <td>False</td>\n",
       "    </tr>\n",
       "    <tr>\n",
       "      <th>nonpec_fishing</th>\n",
       "      <th>constant</th>\n",
       "      <td>-0.100000</td>\n",
       "      <td>-1.500</td>\n",
       "      <td>0.000</td>\n",
       "      <td>All Parameters</td>\n",
       "      <td>nonpec_fishing_constant</td>\n",
       "      <td>True</td>\n",
       "    </tr>\n",
       "    <tr>\n",
       "      <th>nonpec_hammock</th>\n",
       "      <th>constant</th>\n",
       "      <td>1.046000</td>\n",
       "      <td>1.000</td>\n",
       "      <td>2.000</td>\n",
       "      <td>All Parameters</td>\n",
       "      <td>nonpec_hammock_constant</td>\n",
       "      <td>True</td>\n",
       "    </tr>\n",
       "    <tr>\n",
       "      <th rowspan=\"3\" valign=\"top\">shocks_sdcorr</th>\n",
       "      <th>sd_fishing</th>\n",
       "      <td>0.010000</td>\n",
       "      <td>0.000</td>\n",
       "      <td>0.020</td>\n",
       "      <td>All Parameters</td>\n",
       "      <td>shocks_sdcorr_sd_fishing</td>\n",
       "      <td>True</td>\n",
       "    </tr>\n",
       "    <tr>\n",
       "      <th>sd_hammock</th>\n",
       "      <td>0.010000</td>\n",
       "      <td>0.000</td>\n",
       "      <td>0.020</td>\n",
       "      <td>All Parameters</td>\n",
       "      <td>shocks_sdcorr_sd_hammock</td>\n",
       "      <td>True</td>\n",
       "    </tr>\n",
       "    <tr>\n",
       "      <th>corr_hammock_fishing</th>\n",
       "      <td>0.000000</td>\n",
       "      <td>0.000</td>\n",
       "      <td>0.100</td>\n",
       "      <td>All Parameters</td>\n",
       "      <td>shocks_sdcorr_corr_hammock_fishing</td>\n",
       "      <td>True</td>\n",
       "    </tr>\n",
       "  </tbody>\n",
       "</table>\n",
       "</div>"
      ],
      "text/plain": [
       "                                        value  lower  upper           group  \\\n",
       "category       name                                                           \n",
       "delta          delta                 0.906709  0.900  0.990  All Parameters   \n",
       "wage_fishing   exp_fishing           0.073355  0.068  0.075  All Parameters   \n",
       "nonpec_fishing constant             -0.100000 -1.500  0.000  All Parameters   \n",
       "nonpec_hammock constant              1.046000  1.000  2.000  All Parameters   \n",
       "shocks_sdcorr  sd_fishing            0.010000  0.000  0.020  All Parameters   \n",
       "               sd_hammock            0.010000  0.000  0.020  All Parameters   \n",
       "               corr_hammock_fishing  0.000000  0.000  0.100  All Parameters   \n",
       "\n",
       "                                                                   name  \\\n",
       "category       name                                                       \n",
       "delta          delta                                        delta_delta   \n",
       "wage_fishing   exp_fishing                     wage_fishing_exp_fishing   \n",
       "nonpec_fishing constant                         nonpec_fishing_constant   \n",
       "nonpec_hammock constant                         nonpec_hammock_constant   \n",
       "shocks_sdcorr  sd_fishing                      shocks_sdcorr_sd_fishing   \n",
       "               sd_hammock                      shocks_sdcorr_sd_hammock   \n",
       "               corr_hammock_fishing  shocks_sdcorr_corr_hammock_fishing   \n",
       "\n",
       "                                     _fixed  \n",
       "category       name                          \n",
       "delta          delta                  False  \n",
       "wage_fishing   exp_fishing            False  \n",
       "nonpec_fishing constant                True  \n",
       "nonpec_hammock constant                True  \n",
       "shocks_sdcorr  sd_fishing              True  \n",
       "               sd_hammock              True  \n",
       "               corr_hammock_fishing    True  "
      ]
     },
     "execution_count": 326,
     "metadata": {},
     "output_type": "execute_result"
    }
   ],
   "source": [
    "rslt[1]"
   ]
  },
  {
   "cell_type": "markdown",
   "metadata": {},
   "source": [
    "### Changing the Simulation Seed"
   ]
  },
  {
   "cell_type": "code",
   "execution_count": 327,
   "metadata": {},
   "outputs": [
    {
     "data": {
      "text/plain": [
       "{'estimation_draws': 100,\n",
       " 'estimation_seed': 100,\n",
       " 'estimation_tau': 0.001,\n",
       " 'interpolation_points': -1,\n",
       " 'n_periods': 5,\n",
       " 'simulation_agents': 1000,\n",
       " 'simulation_seed': 300,\n",
       " 'solution_draws': 100,\n",
       " 'solution_seed': 456,\n",
       " 'covariates': {'constant': '1'}}"
      ]
     },
     "execution_count": 327,
     "metadata": {},
     "output_type": "execute_result"
    }
   ],
   "source": [
    "# Change simulation seed \n",
    "options_new_seed = options.copy()\n",
    "options_new_seed['simulation_seed'] = 300\n",
    "options_new_seed"
   ]
  },
  {
   "cell_type": "code",
   "execution_count": 331,
   "metadata": {},
   "outputs": [],
   "source": [
    "# Hold all values except the changed parameter fixed \n",
    "constr = [\n",
    "    {\"loc\": \"shocks_sdcorr\", \"type\": \"sdcorr\"}, \n",
    "    #{\"loc\": \"delta\", \"type\": \"fixed\", \"value\": 0.95},\n",
    "    {\"loc\": \"wage_fishing\", \"type\": \"fixed\", \"value\": 0.07},\n",
    "    {\"loc\": \"nonpec_fishing\", \"type\": \"fixed\", \"value\": -0.1},\n",
    "    {\"loc\": \"nonpec_hammock\", \"type\":\"fixed\", \"value\": 1.046},\n",
    "    {\"loc\": (\"shocks_sdcorr\",\"sd_fishing\"), \"type\": \"fixed\", \"value\": 0.01},\n",
    "    {\"loc\": (\"shocks_sdcorr\",\"sd_hammock\"), \"type\": \"fixed\", \"value\": 0.01},\n",
    "    {\"loc\": (\"shocks_sdcorr\",\"corr_hammock_fishing\"), \"type\": \"fixed\", \"value\": 0},  \n",
    "]"
   ]
  },
  {
   "cell_type": "code",
   "execution_count": 332,
   "metadata": {},
   "outputs": [
    {
     "data": {
      "text/plain": [
       "{'fun': 3.6696357027015115e-06, 'internal_x': [0.9501527659249941]}"
      ]
     },
     "execution_count": 332,
     "metadata": {},
     "output_type": "execute_result"
    }
   ],
   "source": [
    "rslt_new_seed = minimize(criterion=evaluate,\n",
    "                    params=params_cand,\n",
    "                    algorithm=\"nlopt_bobyqa\",\n",
    "                    constraints=constr,\n",
    "                    criterion_args=(options_new_seed,identity_matrix, moments_obs, choice_options_robinson),\n",
    "                    dashboard=False\n",
    "                    )\n",
    "rslt_new_seed[0]"
   ]
  },
  {
   "cell_type": "code",
   "execution_count": 333,
   "metadata": {
    "scrolled": true
   },
   "outputs": [
    {
     "data": {
      "text/plain": [
       "category        name                \n",
       "delta           delta                  -0.000153\n",
       "wage_fishing    exp_fishing             0.000000\n",
       "nonpec_fishing  constant                0.000000\n",
       "nonpec_hammock  constant                0.000000\n",
       "shocks_sdcorr   sd_fishing              0.000000\n",
       "                sd_hammock              0.000000\n",
       "                corr_hammock_fishing    0.000000\n",
       "Name: value, dtype: float64"
      ]
     },
     "execution_count": 333,
     "metadata": {},
     "output_type": "execute_result"
    }
   ],
   "source": [
    "params_rslt_new_seed= rslt_new_seed[1]['value']\n",
    "deviation = params_true['value'] - params_rslt_new_seed\n",
    "deviation"
   ]
  },
  {
   "cell_type": "code",
   "execution_count": 336,
   "metadata": {},
   "outputs": [
    {
     "data": {
      "text/plain": [
       "{'fun': 2.4280363977522683e-05, 'internal_x': [0.9517360128288734]}"
      ]
     },
     "execution_count": 336,
     "metadata": {},
     "output_type": "execute_result"
    }
   ],
   "source": [
    "#Changing the number of simulated agents\n",
    "options_num_agents = options.copy()\n",
    "options_num_agents['simulation_agents'] = 100\n",
    "options_num_agents\n",
    "\n",
    "rslt_num_agents = minimize(criterion=evaluate,\n",
    "                    params=params_cand,\n",
    "                    algorithm=\"nlopt_bobyqa\",\n",
    "                    constraints=constr,\n",
    "                    criterion_args=(options_num_agents,identity_matrix, moments_obs, choice_options_robinson),\n",
    "                    dashboard=False\n",
    "                    )\n",
    "rslt_num_agents[0]"
   ]
  },
  {
   "cell_type": "code",
   "execution_count": 337,
   "metadata": {},
   "outputs": [
    {
     "data": {
      "text/plain": [
       "{'fun': 2.147538780246004e-06, 'internal_x': [0.9493969273046885]}"
      ]
     },
     "execution_count": 337,
     "metadata": {},
     "output_type": "execute_result"
    }
   ],
   "source": [
    "# Changing the number of simulated agents\n",
    "options_num_agents = options.copy()\n",
    "options_num_agents['simulation_agents'] = 2000\n",
    "options_num_agents\n",
    "\n",
    "rslt_num_agents = minimize(criterion=evaluate,\n",
    "                    params=params_cand,\n",
    "                    algorithm=\"nlopt_bobyqa\",\n",
    "                    constraints=constr,\n",
    "                    criterion_args=(options_num_agents,identity_matrix, moments_obs, choice_options_robinson),\n",
    "                    dashboard=False\n",
    "                    )\n",
    "rslt_num_agents[0]"
   ]
  }
 ],
 "metadata": {
  "kernelspec": {
   "display_name": "Python 3",
   "language": "python",
   "name": "python3"
  },
  "language_info": {
   "codemirror_mode": {
    "name": "ipython",
    "version": 3
   },
   "file_extension": ".py",
   "mimetype": "text/x-python",
   "name": "python",
   "nbconvert_exporter": "python",
   "pygments_lexer": "ipython3",
   "version": "3.7.1"
  },
  "toc": {
   "base_numbering": 1,
   "nav_menu": {},
   "number_sections": true,
   "sideBar": true,
   "skip_h1_title": true,
   "title_cell": "Table of Contents",
   "title_sidebar": "Contents",
   "toc_cell": false,
   "toc_position": {
    "height": "476.7px",
    "left": "361px",
    "top": "169.8px",
    "width": "277.538px"
   },
   "toc_section_display": true,
   "toc_window_display": true
  },
  "varInspector": {
   "cols": {
    "lenName": 16,
    "lenType": 16,
    "lenVar": 40
   },
   "kernels_config": {
    "python": {
     "delete_cmd_postfix": "",
     "delete_cmd_prefix": "del ",
     "library": "var_list.py",
     "varRefreshCmd": "print(var_dic_list())"
    },
    "r": {
     "delete_cmd_postfix": ") ",
     "delete_cmd_prefix": "rm(",
     "library": "var_list.r",
     "varRefreshCmd": "cat(var_dic_list()) "
    }
   },
   "position": {
    "height": "355.4px",
    "left": "858.8px",
    "right": "20px",
    "top": "120px",
    "width": "350px"
   },
   "types_to_exclude": [
    "module",
    "function",
    "builtin_function_or_method",
    "instance",
    "_Feature"
   ],
   "window_display": false
  }
 },
 "nbformat": 4,
 "nbformat_minor": 4
}
