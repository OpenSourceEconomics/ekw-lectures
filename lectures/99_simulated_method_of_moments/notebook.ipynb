{
 "cells": [
  {
   "cell_type": "code",
   "execution_count": 90,
   "metadata": {},
   "outputs": [
    {
     "name": "stdout",
     "output_type": "stream",
     "text": [
      "The autoreload extension is already loaded. To reload it, use:\n",
      "  %reload_ext autoreload\n"
     ]
    }
   ],
   "source": [
    "%load_ext autoreload\n",
    "%autoreload 2\n",
    "\n",
    "import os\n",
    "from collections import OrderedDict\n",
    "from collections import defaultdict\n",
    "from random import randrange\n",
    "\n",
    "\n",
    "import numpy as np\n",
    "import pandas as pd\n",
    "import matplotlib.pyplot as plt\n",
    "import pickle as pkl\n",
    "\n",
    "import respy as rp\n",
    "from respy.pre_processing.model_processing import process_params_and_options\n",
    "\n",
    "from python.auxiliary import *"
   ]
  },
  {
   "cell_type": "markdown",
   "metadata": {},
   "source": [
    "# Simulated Method of Moments estimation"
   ]
  },
  {
   "cell_type": "markdown",
   "metadata": {},
   "source": [
    "<h1>Table of Contents<span class=\"tocSkip\"></span></h1>\n",
    "<div class=\"toc\"><ul class=\"toc-item\"><li><span><a href=\"#Model-&amp;-Observed-Data\" data-toc-modified-id=\"Model-&amp;-Observed-Data-1\"><span class=\"toc-item-num\">1&nbsp;&nbsp;</span>Model &amp; Observed Data</a></span></li><li><span><a href=\"#Setup-for-SMM-Estimation\" data-toc-modified-id=\"Setup-for-SMM-Estimation-2\"><span class=\"toc-item-num\">2&nbsp;&nbsp;</span>Setup for SMM Estimation</a></span><ul class=\"toc-item\"><li><span><a href=\"#Calculate-Moments\" data-toc-modified-id=\"Calculate-Moments-2.1\"><span class=\"toc-item-num\">2.1&nbsp;&nbsp;</span>Calculate Moments</a></span><ul class=\"toc-item\"><li><span><a href=\"#Function-for-calculating-moments\" data-toc-modified-id=\"Function-for-calculating-moments-2.1.1\"><span class=\"toc-item-num\">2.1.1&nbsp;&nbsp;</span>Function for calculating moments</a></span></li><li><span><a href=\"#Observed-Moments\" data-toc-modified-id=\"Observed-Moments-2.1.2\"><span class=\"toc-item-num\">2.1.2&nbsp;&nbsp;</span>Observed Moments</a></span></li></ul></li><li><span><a href=\"#Weighting-Matrix\" data-toc-modified-id=\"Weighting-Matrix-2.2\"><span class=\"toc-item-num\">2.2&nbsp;&nbsp;</span>Weighting-Matrix</a></span></li><li><span><a href=\"#Criterion-Function\" data-toc-modified-id=\"Criterion-Function-2.3\"><span class=\"toc-item-num\">2.3&nbsp;&nbsp;</span>Criterion Function</a></span></li></ul></li><li><span><a href=\"#SMM-Estimation\" data-toc-modified-id=\"SMM-Estimation-3\"><span class=\"toc-item-num\">3&nbsp;&nbsp;</span>SMM Estimation</a></span><ul class=\"toc-item\"><li><span><a href=\"#Define-starting-paramters\" data-toc-modified-id=\"Define-starting-paramters-3.1\"><span class=\"toc-item-num\">3.1&nbsp;&nbsp;</span>Define starting paramters</a></span></li><li><span><a href=\"#Simulated-Moments\" data-toc-modified-id=\"Simulated-Moments-3.2\"><span class=\"toc-item-num\">3.2&nbsp;&nbsp;</span>Simulated Moments</a></span></li><li><span><a href=\"#Optimization-proceidure\" data-toc-modified-id=\"Optimization-proceidure-3.3\"><span class=\"toc-item-num\">3.3&nbsp;&nbsp;</span>Optimization proceidure</a></span><ul class=\"toc-item\"><li><span><a href=\"#Upper-and-Lower-Bounds\" data-toc-modified-id=\"Upper-and-Lower-Bounds-3.3.1\"><span class=\"toc-item-num\">3.3.1&nbsp;&nbsp;</span>Upper and Lower Bounds</a></span></li><li><span><a href=\"#Constraints\" data-toc-modified-id=\"Constraints-3.3.2\"><span class=\"toc-item-num\">3.3.2&nbsp;&nbsp;</span>Constraints</a></span></li><li><span><a href=\"#Optimize\" data-toc-modified-id=\"Optimize-3.3.3\"><span class=\"toc-item-num\">3.3.3&nbsp;&nbsp;</span>Optimize</a></span></li><li><span><a href=\"#Plot-Criterion-Function\" data-toc-modified-id=\"Plot-Criterion-Function-3.3.4\"><span class=\"toc-item-num\">3.3.4&nbsp;&nbsp;</span>Plot Criterion Function</a></span></li></ul></li></ul></li><li><span><a href=\"#Simulation-Study\" data-toc-modified-id=\"Simulation-Study-4\"><span class=\"toc-item-num\">4&nbsp;&nbsp;</span>Simulation Study</a></span><ul class=\"toc-item\"><li><span><a href=\"#Changing-the-Simulation-Seed\" data-toc-modified-id=\"Changing-the-Simulation-Seed-4.1\"><span class=\"toc-item-num\">4.1&nbsp;&nbsp;</span>Changing the Simulation Seed</a></span></li></ul></li></ul></div>"
   ]
  },
  {
   "cell_type": "markdown",
   "metadata": {},
   "source": [
    "To Do:\n",
    " - [ ] Add Weighting Matrix (Sec. 3)\n",
    " - [ ] Add explanations for criterion function (Sec. 4)\n",
    " - [ ] Add wrapper for criterion function (Sec. 4)\n",
    " - [ ] Rework code for plots to hide specifications in auxiliary file (Sec. 4)\n",
    " - [ ] Remove custom formatting from plots (Sec. 4)\n",
    " - [ ] Add outline to estimation (Sec. 5)\n",
    " - [ ] Add explanation to all parts of monte carlo exercise (Sec. 5.2-5.5)\n",
    " - [ ] Add references\n"
   ]
  },
  {
   "cell_type": "markdown",
   "metadata": {},
   "source": [
    "##  Observed Data\n",
    "\n",
    "Our model and data is given by [respy](https://respy.readthedocs.io/en/latest/)'s `robinson` example model. In this simple model, the agent, Robinson Crusoe, in each time period decides between two choice options: working (i.e. going fishing) or spending time in the hammock. We use the function `get_example_model `to simulate the model and a dataset.\n",
    "\n",
    "For the remainder of this notebook we will treat these observations as though they are real observed data and try to recover the parameters of the model using this data. However, since this is actually a simulated model for which we know the true parameter vector, we will be able to compare how well our estimation procedures perform."
   ]
  },
  {
   "cell_type": "code",
   "execution_count": 107,
   "metadata": {},
   "outputs": [
    {
     "ename": "NameError",
     "evalue": "name 'yaml' is not defined",
     "output_type": "error",
     "traceback": [
      "\u001b[1;31m---------------------------------------------------------------------------\u001b[0m",
      "\u001b[1;31mNameError\u001b[0m                                 Traceback (most recent call last)",
      "\u001b[1;32m<ipython-input-107-f8b1546982e2>\u001b[0m in \u001b[0;36m<module>\u001b[1;34m\u001b[0m\n\u001b[1;32m----> 1\u001b[1;33m \u001b[0moptions_base\u001b[0m \u001b[1;33m=\u001b[0m \u001b[0myaml\u001b[0m\u001b[1;33m.\u001b[0m\u001b[0msafe_load\u001b[0m\u001b[1;33m(\u001b[0m\u001b[0mopen\u001b[0m\u001b[1;33m(\u001b[0m\u001b[0mos\u001b[0m\u001b[1;33m.\u001b[0m\u001b[0menviron\u001b[0m\u001b[1;33m[\u001b[0m\u001b[1;34m\"ROBINSON_SPEC\"\u001b[0m\u001b[1;33m]\u001b[0m \u001b[1;33m+\u001b[0m \u001b[1;34m'/robinson.yaml'\u001b[0m\u001b[1;33m,\u001b[0m \u001b[1;34m'r'\u001b[0m\u001b[1;33m)\u001b[0m\u001b[1;33m)\u001b[0m\u001b[1;33m\u001b[0m\u001b[1;33m\u001b[0m\u001b[0m\n\u001b[0m\u001b[0;32m      2\u001b[0m \u001b[1;33m\u001b[0m\u001b[0m\n\u001b[0;32m      3\u001b[0m \u001b[0mparams_base\u001b[0m \u001b[1;33m=\u001b[0m \u001b[0mpd\u001b[0m\u001b[1;33m.\u001b[0m\u001b[0mread_csv\u001b[0m\u001b[1;33m(\u001b[0m\u001b[0mopen\u001b[0m\u001b[1;33m(\u001b[0m\u001b[0mos\u001b[0m\u001b[1;33m.\u001b[0m\u001b[0menviron\u001b[0m\u001b[1;33m[\u001b[0m\u001b[1;34m\"ROBINSON_SPEC\"\u001b[0m\u001b[1;33m]\u001b[0m \u001b[1;33m+\u001b[0m \u001b[1;34m'/robinson.csv'\u001b[0m\u001b[1;33m,\u001b[0m \u001b[1;34m'r'\u001b[0m\u001b[1;33m)\u001b[0m\u001b[1;33m)\u001b[0m\u001b[1;33m\u001b[0m\u001b[1;33m\u001b[0m\u001b[0m\n\u001b[0;32m      4\u001b[0m \u001b[0mparams_base\u001b[0m\u001b[1;33m.\u001b[0m\u001b[0mset_index\u001b[0m\u001b[1;33m(\u001b[0m\u001b[1;33m[\u001b[0m\u001b[1;34m\"category\"\u001b[0m\u001b[1;33m,\u001b[0m \u001b[1;34m\"name\"\u001b[0m\u001b[1;33m]\u001b[0m\u001b[1;33m,\u001b[0m \u001b[0minplace\u001b[0m\u001b[1;33m=\u001b[0m\u001b[1;32mTrue\u001b[0m\u001b[1;33m)\u001b[0m\u001b[1;33m\u001b[0m\u001b[1;33m\u001b[0m\u001b[0m\n\u001b[0;32m      5\u001b[0m \u001b[1;33m\u001b[0m\u001b[0m\n",
      "\u001b[1;31mNameError\u001b[0m: name 'yaml' is not defined"
     ]
    }
   ],
   "source": [
    "options_base = yaml.safe_load(open(os.environ[\"ROBINSON_SPEC\"] + '/robinson.yaml', 'r'))\n",
    "\n",
    "params_base = pd.read_csv(open(os.environ[\"ROBINSON_SPEC\"] + '/robinson.csv', 'r'))\n",
    "params_base.set_index([\"category\", \"name\"], inplace=True)\n",
    "\n",
    "simulate = rp.get_simulate_func(params_base, options_base)\n",
    "df = simulate(params_base)"
   ]
  },
  {
   "cell_type": "code",
   "execution_count": null,
   "metadata": {},
   "outputs": [],
   "source": []
  },
  {
   "cell_type": "code",
   "execution_count": 91,
   "metadata": {},
   "outputs": [],
   "source": [
    "params_true, options, data_obs = rp.get_example_model(\"robinson\", with_data=True)"
   ]
  },
  {
   "cell_type": "markdown",
   "metadata": {},
   "source": [
    "Let's take a look at the model specifications."
   ]
  },
  {
   "cell_type": "code",
   "execution_count": 92,
   "metadata": {},
   "outputs": [
    {
     "data": {
      "text/html": [
       "<div>\n",
       "<style scoped>\n",
       "    .dataframe tbody tr th:only-of-type {\n",
       "        vertical-align: middle;\n",
       "    }\n",
       "\n",
       "    .dataframe tbody tr th {\n",
       "        vertical-align: top;\n",
       "    }\n",
       "\n",
       "    .dataframe thead th {\n",
       "        text-align: right;\n",
       "    }\n",
       "</style>\n",
       "<table border=\"1\" class=\"dataframe\">\n",
       "  <thead>\n",
       "    <tr style=\"text-align: right;\">\n",
       "      <th></th>\n",
       "      <th></th>\n",
       "      <th>value</th>\n",
       "    </tr>\n",
       "    <tr>\n",
       "      <th>category</th>\n",
       "      <th>name</th>\n",
       "      <th></th>\n",
       "    </tr>\n",
       "  </thead>\n",
       "  <tbody>\n",
       "    <tr>\n",
       "      <th>delta</th>\n",
       "      <th>delta</th>\n",
       "      <td>0.950</td>\n",
       "    </tr>\n",
       "    <tr>\n",
       "      <th>wage_fishing</th>\n",
       "      <th>exp_fishing</th>\n",
       "      <td>0.070</td>\n",
       "    </tr>\n",
       "    <tr>\n",
       "      <th>nonpec_fishing</th>\n",
       "      <th>constant</th>\n",
       "      <td>-0.100</td>\n",
       "    </tr>\n",
       "    <tr>\n",
       "      <th>nonpec_hammock</th>\n",
       "      <th>constant</th>\n",
       "      <td>1.046</td>\n",
       "    </tr>\n",
       "    <tr>\n",
       "      <th rowspan=\"3\" valign=\"top\">shocks_sdcorr</th>\n",
       "      <th>sd_fishing</th>\n",
       "      <td>0.010</td>\n",
       "    </tr>\n",
       "    <tr>\n",
       "      <th>sd_hammock</th>\n",
       "      <td>0.010</td>\n",
       "    </tr>\n",
       "    <tr>\n",
       "      <th>corr_hammock_fishing</th>\n",
       "      <td>0.000</td>\n",
       "    </tr>\n",
       "  </tbody>\n",
       "</table>\n",
       "</div>"
      ],
      "text/plain": [
       "                                     value\n",
       "category       name                       \n",
       "delta          delta                 0.950\n",
       "wage_fishing   exp_fishing           0.070\n",
       "nonpec_fishing constant             -0.100\n",
       "nonpec_hammock constant              1.046\n",
       "shocks_sdcorr  sd_fishing            0.010\n",
       "               sd_hammock            0.010\n",
       "               corr_hammock_fishing  0.000"
      ]
     },
     "execution_count": 92,
     "metadata": {},
     "output_type": "execute_result"
    }
   ],
   "source": [
    "params_true "
   ]
  },
  {
   "cell_type": "code",
   "execution_count": 93,
   "metadata": {},
   "outputs": [
    {
     "data": {
      "text/plain": [
       "{'estimation_draws': 100,\n",
       " 'estimation_seed': 100,\n",
       " 'estimation_tau': 0.001,\n",
       " 'interpolation_points': -1,\n",
       " 'n_periods': 5,\n",
       " 'simulation_agents': 1000,\n",
       " 'simulation_seed': 132,\n",
       " 'solution_draws': 100,\n",
       " 'solution_seed': 456,\n",
       " 'covariates': {'constant': '1'}}"
      ]
     },
     "execution_count": 93,
     "metadata": {},
     "output_type": "execute_result"
    }
   ],
   "source": [
    "options"
   ]
  },
  {
   "cell_type": "code",
   "execution_count": 94,
   "metadata": {},
   "outputs": [
    {
     "data": {
      "text/html": [
       "<div>\n",
       "<style scoped>\n",
       "    .dataframe tbody tr th:only-of-type {\n",
       "        vertical-align: middle;\n",
       "    }\n",
       "\n",
       "    .dataframe tbody tr th {\n",
       "        vertical-align: top;\n",
       "    }\n",
       "\n",
       "    .dataframe thead th {\n",
       "        text-align: right;\n",
       "    }\n",
       "</style>\n",
       "<table border=\"1\" class=\"dataframe\">\n",
       "  <thead>\n",
       "    <tr style=\"text-align: right;\">\n",
       "      <th></th>\n",
       "      <th>Identifier</th>\n",
       "      <th>Period</th>\n",
       "      <th>Choice</th>\n",
       "      <th>Wage</th>\n",
       "      <th>Experience_Fishing</th>\n",
       "      <th>Type</th>\n",
       "      <th>Nonpecuniary_Reward_Fishing</th>\n",
       "      <th>Nonpecuniary_Reward_Hammock</th>\n",
       "      <th>Wage_Fishing</th>\n",
       "      <th>Flow_Utility_Fishing</th>\n",
       "      <th>Flow_Utility_Hammock</th>\n",
       "      <th>Value_Function_Fishing</th>\n",
       "      <th>Value_Function_Hammock</th>\n",
       "      <th>Shock_Reward_Fishing</th>\n",
       "      <th>Shock_Reward_Hammock</th>\n",
       "      <th>Discount_Rate</th>\n",
       "    </tr>\n",
       "  </thead>\n",
       "  <tbody>\n",
       "    <tr>\n",
       "      <th>0</th>\n",
       "      <td>0</td>\n",
       "      <td>0</td>\n",
       "      <td>fishing</td>\n",
       "      <td>1.007197</td>\n",
       "      <td>0</td>\n",
       "      <td>0</td>\n",
       "      <td>-0.1</td>\n",
       "      <td>1.046</td>\n",
       "      <td>1.000000</td>\n",
       "      <td>0.907197</td>\n",
       "      <td>1.056305</td>\n",
       "      <td>4.747093</td>\n",
       "      <td>4.744600</td>\n",
       "      <td>1.007197</td>\n",
       "      <td>0.010305</td>\n",
       "      <td>0.95</td>\n",
       "    </tr>\n",
       "    <tr>\n",
       "      <th>1</th>\n",
       "      <td>0</td>\n",
       "      <td>1</td>\n",
       "      <td>fishing</td>\n",
       "      <td>1.082581</td>\n",
       "      <td>1</td>\n",
       "      <td>0</td>\n",
       "      <td>-0.1</td>\n",
       "      <td>1.046</td>\n",
       "      <td>1.072508</td>\n",
       "      <td>0.982581</td>\n",
       "      <td>1.046042</td>\n",
       "      <td>4.050283</td>\n",
       "      <td>3.892430</td>\n",
       "      <td>1.009392</td>\n",
       "      <td>0.000042</td>\n",
       "      <td>0.95</td>\n",
       "    </tr>\n",
       "    <tr>\n",
       "      <th>2</th>\n",
       "      <td>0</td>\n",
       "      <td>2</td>\n",
       "      <td>fishing</td>\n",
       "      <td>1.163836</td>\n",
       "      <td>2</td>\n",
       "      <td>0</td>\n",
       "      <td>-0.1</td>\n",
       "      <td>1.046</td>\n",
       "      <td>1.150274</td>\n",
       "      <td>1.063836</td>\n",
       "      <td>1.053231</td>\n",
       "      <td>3.244500</td>\n",
       "      <td>3.073945</td>\n",
       "      <td>1.011790</td>\n",
       "      <td>0.007231</td>\n",
       "      <td>0.95</td>\n",
       "    </tr>\n",
       "    <tr>\n",
       "      <th>3</th>\n",
       "      <td>0</td>\n",
       "      <td>3</td>\n",
       "      <td>fishing</td>\n",
       "      <td>1.239123</td>\n",
       "      <td>3</td>\n",
       "      <td>0</td>\n",
       "      <td>-0.1</td>\n",
       "      <td>1.046</td>\n",
       "      <td>1.233678</td>\n",
       "      <td>1.139123</td>\n",
       "      <td>1.048698</td>\n",
       "      <td>2.301106</td>\n",
       "      <td>2.125701</td>\n",
       "      <td>1.004414</td>\n",
       "      <td>0.002698</td>\n",
       "      <td>0.95</td>\n",
       "    </tr>\n",
       "    <tr>\n",
       "      <th>4</th>\n",
       "      <td>0</td>\n",
       "      <td>4</td>\n",
       "      <td>fishing</td>\n",
       "      <td>1.292003</td>\n",
       "      <td>4</td>\n",
       "      <td>0</td>\n",
       "      <td>-0.1</td>\n",
       "      <td>1.046</td>\n",
       "      <td>1.323130</td>\n",
       "      <td>1.192003</td>\n",
       "      <td>1.030870</td>\n",
       "      <td>1.192003</td>\n",
       "      <td>1.030870</td>\n",
       "      <td>0.976475</td>\n",
       "      <td>-0.015130</td>\n",
       "      <td>0.95</td>\n",
       "    </tr>\n",
       "    <tr>\n",
       "      <th>5</th>\n",
       "      <td>1</td>\n",
       "      <td>0</td>\n",
       "      <td>hammock</td>\n",
       "      <td>NaN</td>\n",
       "      <td>0</td>\n",
       "      <td>0</td>\n",
       "      <td>-0.1</td>\n",
       "      <td>1.046</td>\n",
       "      <td>1.000000</td>\n",
       "      <td>0.881015</td>\n",
       "      <td>1.056596</td>\n",
       "      <td>4.720911</td>\n",
       "      <td>4.744891</td>\n",
       "      <td>0.981015</td>\n",
       "      <td>0.010596</td>\n",
       "      <td>0.95</td>\n",
       "    </tr>\n",
       "    <tr>\n",
       "      <th>6</th>\n",
       "      <td>1</td>\n",
       "      <td>1</td>\n",
       "      <td>hammock</td>\n",
       "      <td>NaN</td>\n",
       "      <td>0</td>\n",
       "      <td>0</td>\n",
       "      <td>-0.1</td>\n",
       "      <td>1.046</td>\n",
       "      <td>1.000000</td>\n",
       "      <td>0.921590</td>\n",
       "      <td>1.039141</td>\n",
       "      <td>3.767979</td>\n",
       "      <td>3.877250</td>\n",
       "      <td>1.021590</td>\n",
       "      <td>-0.006859</td>\n",
       "      <td>0.95</td>\n",
       "    </tr>\n",
       "    <tr>\n",
       "      <th>7</th>\n",
       "      <td>1</td>\n",
       "      <td>2</td>\n",
       "      <td>hammock</td>\n",
       "      <td>NaN</td>\n",
       "      <td>0</td>\n",
       "      <td>0</td>\n",
       "      <td>-0.1</td>\n",
       "      <td>1.046</td>\n",
       "      <td>1.000000</td>\n",
       "      <td>0.899238</td>\n",
       "      <td>1.052078</td>\n",
       "      <td>2.839895</td>\n",
       "      <td>2.992736</td>\n",
       "      <td>0.999238</td>\n",
       "      <td>0.006078</td>\n",
       "      <td>0.95</td>\n",
       "    </tr>\n",
       "    <tr>\n",
       "      <th>8</th>\n",
       "      <td>1</td>\n",
       "      <td>3</td>\n",
       "      <td>hammock</td>\n",
       "      <td>NaN</td>\n",
       "      <td>0</td>\n",
       "      <td>0</td>\n",
       "      <td>-0.1</td>\n",
       "      <td>1.046</td>\n",
       "      <td>1.000000</td>\n",
       "      <td>0.893793</td>\n",
       "      <td>1.038037</td>\n",
       "      <td>1.889801</td>\n",
       "      <td>2.034046</td>\n",
       "      <td>0.993793</td>\n",
       "      <td>-0.007963</td>\n",
       "      <td>0.95</td>\n",
       "    </tr>\n",
       "    <tr>\n",
       "      <th>9</th>\n",
       "      <td>1</td>\n",
       "      <td>4</td>\n",
       "      <td>hammock</td>\n",
       "      <td>NaN</td>\n",
       "      <td>0</td>\n",
       "      <td>0</td>\n",
       "      <td>-0.1</td>\n",
       "      <td>1.046</td>\n",
       "      <td>1.000000</td>\n",
       "      <td>0.912283</td>\n",
       "      <td>1.052177</td>\n",
       "      <td>0.912283</td>\n",
       "      <td>1.052177</td>\n",
       "      <td>1.012283</td>\n",
       "      <td>0.006177</td>\n",
       "      <td>0.95</td>\n",
       "    </tr>\n",
       "  </tbody>\n",
       "</table>\n",
       "</div>"
      ],
      "text/plain": [
       "   Identifier  Period   Choice      Wage  Experience_Fishing  Type  \\\n",
       "0           0       0  fishing  1.007197                   0     0   \n",
       "1           0       1  fishing  1.082581                   1     0   \n",
       "2           0       2  fishing  1.163836                   2     0   \n",
       "3           0       3  fishing  1.239123                   3     0   \n",
       "4           0       4  fishing  1.292003                   4     0   \n",
       "5           1       0  hammock       NaN                   0     0   \n",
       "6           1       1  hammock       NaN                   0     0   \n",
       "7           1       2  hammock       NaN                   0     0   \n",
       "8           1       3  hammock       NaN                   0     0   \n",
       "9           1       4  hammock       NaN                   0     0   \n",
       "\n",
       "   Nonpecuniary_Reward_Fishing  Nonpecuniary_Reward_Hammock  Wage_Fishing  \\\n",
       "0                         -0.1                        1.046      1.000000   \n",
       "1                         -0.1                        1.046      1.072508   \n",
       "2                         -0.1                        1.046      1.150274   \n",
       "3                         -0.1                        1.046      1.233678   \n",
       "4                         -0.1                        1.046      1.323130   \n",
       "5                         -0.1                        1.046      1.000000   \n",
       "6                         -0.1                        1.046      1.000000   \n",
       "7                         -0.1                        1.046      1.000000   \n",
       "8                         -0.1                        1.046      1.000000   \n",
       "9                         -0.1                        1.046      1.000000   \n",
       "\n",
       "   Flow_Utility_Fishing  Flow_Utility_Hammock  Value_Function_Fishing  \\\n",
       "0              0.907197              1.056305                4.747093   \n",
       "1              0.982581              1.046042                4.050283   \n",
       "2              1.063836              1.053231                3.244500   \n",
       "3              1.139123              1.048698                2.301106   \n",
       "4              1.192003              1.030870                1.192003   \n",
       "5              0.881015              1.056596                4.720911   \n",
       "6              0.921590              1.039141                3.767979   \n",
       "7              0.899238              1.052078                2.839895   \n",
       "8              0.893793              1.038037                1.889801   \n",
       "9              0.912283              1.052177                0.912283   \n",
       "\n",
       "   Value_Function_Hammock  Shock_Reward_Fishing  Shock_Reward_Hammock  \\\n",
       "0                4.744600              1.007197              0.010305   \n",
       "1                3.892430              1.009392              0.000042   \n",
       "2                3.073945              1.011790              0.007231   \n",
       "3                2.125701              1.004414              0.002698   \n",
       "4                1.030870              0.976475             -0.015130   \n",
       "5                4.744891              0.981015              0.010596   \n",
       "6                3.877250              1.021590             -0.006859   \n",
       "7                2.992736              0.999238              0.006078   \n",
       "8                2.034046              0.993793             -0.007963   \n",
       "9                1.052177              1.012283              0.006177   \n",
       "\n",
       "   Discount_Rate  \n",
       "0           0.95  \n",
       "1           0.95  \n",
       "2           0.95  \n",
       "3           0.95  \n",
       "4           0.95  \n",
       "5           0.95  \n",
       "6           0.95  \n",
       "7           0.95  \n",
       "8           0.95  \n",
       "9           0.95  "
      ]
     },
     "execution_count": 94,
     "metadata": {},
     "output_type": "execute_result"
    }
   ],
   "source": [
    "data_obs.head(10)"
   ]
  },
  {
   "cell_type": "markdown",
   "metadata": {},
   "source": [
    "## Data Moments\n",
    "\n",
    "For the setup of the estimation we first have to choose a set of moments that we will use to match the observed data and the simulated model. For this model we include two sets of moments: \n",
    "\n",
    "1. The first set are Robinson's **choice probabilities** (choice probabilities here refers to the share of agents that have chosen a specific option) for each period. \n",
    "2. The second set are moments that characterize the **wage distribution** for each period, i.e. the mean of the wage of all agents that have chosen fishing in a given period and the standard deviation of the wages. "
   ]
  },
  {
   "cell_type": "markdown",
   "metadata": {},
   "source": [
    "In addition to the data, we need the complete set of potential choice options for Robinson. Respy lets us extract them from the model parameters and options."
   ]
  },
  {
   "cell_type": "code",
   "execution_count": 103,
   "metadata": {},
   "outputs": [],
   "source": [
    "optim_paras = process_params_and_options(params_true, options)[0]\n",
    "choice_options_robinson = optim_paras[\"choices\"].keys()"
   ]
  },
  {
   "cell_type": "markdown",
   "metadata": {},
   "source": [
    "Using the observed data and set of choice options, we can calculate the moments."
   ]
  },
  {
   "cell_type": "code",
   "execution_count": 96,
   "metadata": {},
   "outputs": [
    {
     "name": "stdout",
     "output_type": "stream",
     "text": [
      "Choice Probabilities\n",
      "{0: [0.631, 0.369], 1: [0.631, 0.369], 2: [0.631, 0.369], 3: [0.631, 0.369], 4: [0.631, 0.369]}\n",
      "\n",
      " Wage Distribution\n",
      "{0: [1.0037950532864608, 0.009222735533113452], 1: [1.0724623646069125, 0.010885774459361966], 2: [1.1506433910875764, 0.01165976621540699], 3: [1.2325871778674606, 0.01188724268886421], 4: [1.3230636324871103, 0.012512007111785479]}\n"
     ]
    }
   ],
   "source": [
    "# Use a function to calculate the data moments.\n",
    "moments_obs = get_moments(data_obs, choice_options_robinson)\n",
    "print('Choice Probabilities')\n",
    "print(moments_obs['Choice Probabilities'])\n",
    "print('\\n Wage Distribution')\n",
    "print(moments_obs['Wage Distribution'])"
   ]
  },
  {
   "cell_type": "markdown",
   "metadata": {},
   "source": [
    "## Weighting-Matrix"
   ]
  },
  {
   "cell_type": "markdown",
   "metadata": {},
   "source": [
    "Next we specify a weighting matrix."
   ]
  },
  {
   "cell_type": "code",
   "execution_count": 97,
   "metadata": {},
   "outputs": [
    {
     "name": "stdout",
     "output_type": "stream",
     "text": [
      "[[1. 0. 0. 0. 0. 0. 0. 0. 0. 0. 0. 0. 0. 0. 0. 0. 0. 0. 0. 0.]\n",
      " [0. 1. 0. 0. 0. 0. 0. 0. 0. 0. 0. 0. 0. 0. 0. 0. 0. 0. 0. 0.]\n",
      " [0. 0. 1. 0. 0. 0. 0. 0. 0. 0. 0. 0. 0. 0. 0. 0. 0. 0. 0. 0.]\n",
      " [0. 0. 0. 1. 0. 0. 0. 0. 0. 0. 0. 0. 0. 0. 0. 0. 0. 0. 0. 0.]\n",
      " [0. 0. 0. 0. 1. 0. 0. 0. 0. 0. 0. 0. 0. 0. 0. 0. 0. 0. 0. 0.]\n",
      " [0. 0. 0. 0. 0. 1. 0. 0. 0. 0. 0. 0. 0. 0. 0. 0. 0. 0. 0. 0.]\n",
      " [0. 0. 0. 0. 0. 0. 1. 0. 0. 0. 0. 0. 0. 0. 0. 0. 0. 0. 0. 0.]\n",
      " [0. 0. 0. 0. 0. 0. 0. 1. 0. 0. 0. 0. 0. 0. 0. 0. 0. 0. 0. 0.]\n",
      " [0. 0. 0. 0. 0. 0. 0. 0. 1. 0. 0. 0. 0. 0. 0. 0. 0. 0. 0. 0.]\n",
      " [0. 0. 0. 0. 0. 0. 0. 0. 0. 1. 0. 0. 0. 0. 0. 0. 0. 0. 0. 0.]\n",
      " [0. 0. 0. 0. 0. 0. 0. 0. 0. 0. 1. 0. 0. 0. 0. 0. 0. 0. 0. 0.]\n",
      " [0. 0. 0. 0. 0. 0. 0. 0. 0. 0. 0. 1. 0. 0. 0. 0. 0. 0. 0. 0.]\n",
      " [0. 0. 0. 0. 0. 0. 0. 0. 0. 0. 0. 0. 1. 0. 0. 0. 0. 0. 0. 0.]\n",
      " [0. 0. 0. 0. 0. 0. 0. 0. 0. 0. 0. 0. 0. 1. 0. 0. 0. 0. 0. 0.]\n",
      " [0. 0. 0. 0. 0. 0. 0. 0. 0. 0. 0. 0. 0. 0. 1. 0. 0. 0. 0. 0.]\n",
      " [0. 0. 0. 0. 0. 0. 0. 0. 0. 0. 0. 0. 0. 0. 0. 1. 0. 0. 0. 0.]\n",
      " [0. 0. 0. 0. 0. 0. 0. 0. 0. 0. 0. 0. 0. 0. 0. 0. 1. 0. 0. 0.]\n",
      " [0. 0. 0. 0. 0. 0. 0. 0. 0. 0. 0. 0. 0. 0. 0. 0. 0. 1. 0. 0.]\n",
      " [0. 0. 0. 0. 0. 0. 0. 0. 0. 0. 0. 0. 0. 0. 0. 0. 0. 0. 1. 0.]\n",
      " [0. 0. 0. 0. 0. 0. 0. 0. 0. 0. 0. 0. 0. 0. 0. 0. 0. 0. 0. 1.]]\n"
     ]
    }
   ],
   "source": [
    "# I use the identity matrix for now.\n",
    "num_moments = options['n_periods']*len(choice_options_robinson)*2\n",
    "identity_matrix = np.eye(num_moments)\n",
    "print(identity_matrix)"
   ]
  },
  {
   "cell_type": "markdown",
   "metadata": {},
   "source": [
    "## Criterion Function "
   ]
  },
  {
   "cell_type": "markdown",
   "metadata": {},
   "source": [
    "Criterion function at the true parameter vector."
   ]
  },
  {
   "cell_type": "code",
   "execution_count": 98,
   "metadata": {},
   "outputs": [
    {
     "data": {
      "text/plain": [
       "0.0"
      ]
     },
     "execution_count": 98,
     "metadata": {},
     "output_type": "execute_result"
    }
   ],
   "source": [
    "fval = evaluate(params_true, options, identity_matrix, moments_obs, choice_options_robinson)\n",
    "fval"
   ]
  },
  {
   "cell_type": "markdown",
   "metadata": {},
   "source": [
    "We can plot the criterion function to examine its behavior around the minimum in more detail. The plots below show the criterion function at varying values of all parameters in the the paramter vector."
   ]
  },
  {
   "cell_type": "code",
   "execution_count": 99,
   "metadata": {},
   "outputs": [
    {
     "data": {
      "text/html": [
       "<div>\n",
       "<style scoped>\n",
       "    .dataframe tbody tr th:only-of-type {\n",
       "        vertical-align: middle;\n",
       "    }\n",
       "\n",
       "    .dataframe tbody tr th {\n",
       "        vertical-align: top;\n",
       "    }\n",
       "\n",
       "    .dataframe thead th {\n",
       "        text-align: right;\n",
       "    }\n",
       "</style>\n",
       "<table border=\"1\" class=\"dataframe\">\n",
       "  <thead>\n",
       "    <tr style=\"text-align: right;\">\n",
       "      <th></th>\n",
       "      <th></th>\n",
       "      <th>value</th>\n",
       "    </tr>\n",
       "    <tr>\n",
       "      <th>category</th>\n",
       "      <th>name</th>\n",
       "      <th></th>\n",
       "    </tr>\n",
       "  </thead>\n",
       "  <tbody>\n",
       "    <tr>\n",
       "      <th>delta</th>\n",
       "      <th>delta</th>\n",
       "      <td>0.950</td>\n",
       "    </tr>\n",
       "    <tr>\n",
       "      <th>wage_fishing</th>\n",
       "      <th>exp_fishing</th>\n",
       "      <td>0.070</td>\n",
       "    </tr>\n",
       "    <tr>\n",
       "      <th>nonpec_fishing</th>\n",
       "      <th>constant</th>\n",
       "      <td>-0.100</td>\n",
       "    </tr>\n",
       "    <tr>\n",
       "      <th>nonpec_hammock</th>\n",
       "      <th>constant</th>\n",
       "      <td>1.046</td>\n",
       "    </tr>\n",
       "    <tr>\n",
       "      <th rowspan=\"3\" valign=\"top\">shocks_sdcorr</th>\n",
       "      <th>sd_fishing</th>\n",
       "      <td>0.010</td>\n",
       "    </tr>\n",
       "    <tr>\n",
       "      <th>sd_hammock</th>\n",
       "      <td>0.010</td>\n",
       "    </tr>\n",
       "    <tr>\n",
       "      <th>corr_hammock_fishing</th>\n",
       "      <td>0.000</td>\n",
       "    </tr>\n",
       "  </tbody>\n",
       "</table>\n",
       "</div>"
      ],
      "text/plain": [
       "                                     value\n",
       "category       name                       \n",
       "delta          delta                 0.950\n",
       "wage_fishing   exp_fishing           0.070\n",
       "nonpec_fishing constant             -0.100\n",
       "nonpec_hammock constant              1.046\n",
       "shocks_sdcorr  sd_fishing            0.010\n",
       "               sd_hammock            0.010\n",
       "               corr_hammock_fishing  0.000"
      ]
     },
     "execution_count": 99,
     "metadata": {},
     "output_type": "execute_result"
    }
   ],
   "source": [
    "params_true"
   ]
  },
  {
   "cell_type": "code",
   "execution_count": 100,
   "metadata": {},
   "outputs": [
    {
     "data": {
      "image/png": "[encoded data removed]",
      "text/plain": [
       "<Figure size 432x288 with 7 Axes>"
      ]
     },
     "metadata": {
      "needs_background": "light"
     },
     "output_type": "display_data"
    }
   ],
   "source": [
    "criterion_args = [options, identity_matrix, moments_obs, choice_options_robinson]\n",
    "plot_criterion_params(params_true, \n",
    "                       ['delta', 'wage_fishing', 'nonpec_fishing', 'nonpec_hammock', \n",
    "                        ('shocks_sdcorr, sd_fishing'), ('shocks_sdcorr, sd_hammock'), \n",
    "                        ('shocks_sdcorr, corr_hammock_fishing')], \n",
    "                       [0.93, 0.069, -0.11, 1.02, 0.008, 0.008, -0.1 ], # lower bound\n",
    "                       [0.97, 0.071, -0.09, 1.054, 0.012, 0.012, 0.1 ], # upper bound\n",
    "                       [0.005 ,0.0005, 0.005, 0.005, 0.0005, 0.0005, 0.05], # xticks steps\n",
    "                       20, # number of parameter values calculated (blue dots)\n",
    "                       criterion_args) "
   ]
  },
  {
   "cell_type": "markdown",
   "metadata": {},
   "source": [
    "This depiction conceals the fact, that the criterion function is not a smooth function of our parameter values. We can reveal this property if we 'zoom into' the function far enough. The plots below show the criterion function for varying values of delta around the true minimum value of 0.95. We can see that the function exhibits small plateaus and is thus not completely smooth. "
   ]
  },
  {
   "cell_type": "code",
   "execution_count": 101,
   "metadata": {},
   "outputs": [
    {
     "data": {
      "image/png": "[encoded data removed]",
      "text/plain": [
       "<Figure size 432x288 with 2 Axes>"
      ]
     },
     "metadata": {
      "needs_background": "light"
     },
     "output_type": "display_data"
    }
   ],
   "source": [
    "criterion_args = [options, identity_matrix, moments_obs, choice_options_robinson]\n",
    "plot_criterion_detail(params_true, \n",
    "                       'delta', \n",
    "                       [0.93, 0.9499], # lower bound\n",
    "                       [0.97, 0.9501], # upper bound\n",
    "                       [0.005, 0.00005], # xticks steps\n",
    "                       20, # number of parameter values calculated (blue dots)\n",
    "                       criterion_args) \n"
   ]
  },
  {
   "cell_type": "markdown",
   "metadata": {},
   "source": [
    "##  Estimation Exercise"
   ]
  },
  {
   "cell_type": "code",
   "execution_count": null,
   "metadata": {},
   "outputs": [],
   "source": []
  },
  {
   "cell_type": "markdown",
   "metadata": {},
   "source": [
    "### Estimation for one parameter"
   ]
  },
  {
   "cell_type": "markdown",
   "metadata": {},
   "source": [
    "Let's assume now that we do not know the true parameter vector and we seek to estimate it using our observed data. We have already set up the criterion function and the weighting matrix. In the following we will first select parameter vector that differs from the true one as a candidate to begin the estimation with. We will then specify an optimization procedure for our criterion function to try to retrieve the true parameters. "
   ]
  },
  {
   "cell_type": "markdown",
   "metadata": {},
   "source": [
    "For now, our candidate parameter vector will just differ in *delta* from the true parameters."
   ]
  },
  {
   "cell_type": "code",
   "execution_count": 48,
   "metadata": {},
   "outputs": [],
   "source": [
    "params_cand = params_true.copy()\n",
    "params_cand.loc['delta','value'] = 0.93"
   ]
  },
  {
   "cell_type": "markdown",
   "metadata": {},
   "source": [
    "#### Simulated Moments"
   ]
  },
  {
   "cell_type": "markdown",
   "metadata": {},
   "source": [
    "We can now use our model to simulate data using the candidate parameter vector. We can see that the choice probabilities and wage distribution differ from the moments of the observed dataset."
   ]
  },
  {
   "cell_type": "code",
   "execution_count": 49,
   "metadata": {},
   "outputs": [
    {
     "name": "stdout",
     "output_type": "stream",
     "text": [
      "Choice Probabilities\n",
      "{0: [0.244, 0.756], 1: [0.244, 0.756], 2: [0.244, 0.756], 3: [0.244, 0.756], 4: [0.244, 0.756]}\n",
      "\n",
      " Wage Distribution\n",
      "{0: [1.0095149927160547, 0.008198290003548022], 1: [1.0728957195893678, 0.010514385733230281], 2: [1.1515521441487266, 0.011934344072283899], 3: [1.2330302273612044, 0.011737002476584076], 4: [1.3217938871844948, 0.013266040322672396]}\n"
     ]
    }
   ],
   "source": [
    "params = params_cand.copy()\n",
    "simulate = rp.get_simulate_func(params, options)\n",
    "df_sim = simulate(params)\n",
    "moments_sim = get_moments(df_sim, choice_options_robinson)\n",
    "\n",
    "print('Choice Probabilities')\n",
    "print(moments_sim['Choice Probabilities'])\n",
    "print('\\n Wage Distribution')\n",
    "print(moments_sim['Wage Distribution'])"
   ]
  },
  {
   "cell_type": "markdown",
   "metadata": {},
   "source": [
    "We can see that the criterion function value for the candidate parameter vector is not zero."
   ]
  },
  {
   "cell_type": "code",
   "execution_count": 50,
   "metadata": {},
   "outputs": [
    {
     "data": {
      "text/plain": [
       "1.4977273938311657"
      ]
     },
     "execution_count": 50,
     "metadata": {},
     "output_type": "execute_result"
    }
   ],
   "source": [
    "fval = evaluate(params_cand, options, identity_matrix, moments_obs, choice_options_robinson)\n",
    "fval"
   ]
  },
  {
   "cell_type": "markdown",
   "metadata": {},
   "source": [
    "#### Optimization procedure"
   ]
  },
  {
   "cell_type": "markdown",
   "metadata": {},
   "source": [
    "We will now use an optimization procedure to retrieve the true parameter vector. For the optimization we can use [estimagic](https://estimagic.readthedocs.io/en/latest/index.html). For our optimization procedure we need estimagic's `minimize` function.\n",
    "\n"
   ]
  },
  {
   "cell_type": "code",
   "execution_count": 51,
   "metadata": {},
   "outputs": [],
   "source": [
    "from estimagic.optimization.optimize import minimize"
   ]
  },
  {
   "cell_type": "markdown",
   "metadata": {},
   "source": [
    "We have verified above that the criterion function gives a value of 0 for the true parameter vector. Before we try different parameter specifications, we can check whether an optimizer recognizes the true vector as the minimum of our criterion function.\n",
    "\n",
    "As the code below shows, the optimization algorithm recognizes the true parameter vector as the minimum of the criterion function as it returns a function value of 0 and the true parameter values."
   ]
  },
  {
   "cell_type": "code",
   "execution_count": 52,
   "metadata": {},
   "outputs": [
    {
     "data": {
      "text/plain": [
       "{'fun': 0.0, 'internal_x': [0.95, 0.07, -0.1, 1.046, 0.01, 0.01, 0.0]}"
      ]
     },
     "execution_count": 52,
     "metadata": {},
     "output_type": "execute_result"
    }
   ],
   "source": [
    "rslt = minimize(criterion=evaluate,\n",
    "                params=params_true,\n",
    "                algorithm=\"nlopt_bobyqa\",\n",
    "                criterion_args=(options, identity_matrix, moments_obs, choice_options_robinson),\n",
    "               )\n",
    "rslt[0]"
   ]
  },
  {
   "cell_type": "markdown",
   "metadata": {},
   "source": [
    "##### Upper and Lower Bounds"
   ]
  },
  {
   "cell_type": "markdown",
   "metadata": {},
   "source": [
    "We can help the optimizer by specifying bounds for the parameters. Since we know the true parameters in the case of this model, we can just pick upper and lower bounds that are fairly close to the true values of the parameters to aid the optimizer in the search for the optimum. By default, the upper and lower bounds are set to $\\infty$ and $-\\infty$, so specifying upper and lower bounds substantially reduces the range of parameter values that the optimizer can potentially cover.\n",
    "\n",
    "For optimization with estimagic, we can specify bounds by adding the columns *'lower'* and *'upper'* to the dataframe that contains the parameter values."
   ]
  },
  {
   "cell_type": "code",
   "execution_count": 53,
   "metadata": {},
   "outputs": [
    {
     "data": {
      "text/html": [
       "<div>\n",
       "<style scoped>\n",
       "    .dataframe tbody tr th:only-of-type {\n",
       "        vertical-align: middle;\n",
       "    }\n",
       "\n",
       "    .dataframe tbody tr th {\n",
       "        vertical-align: top;\n",
       "    }\n",
       "\n",
       "    .dataframe thead th {\n",
       "        text-align: right;\n",
       "    }\n",
       "</style>\n",
       "<table border=\"1\" class=\"dataframe\">\n",
       "  <thead>\n",
       "    <tr style=\"text-align: right;\">\n",
       "      <th></th>\n",
       "      <th></th>\n",
       "      <th>value</th>\n",
       "      <th>lower</th>\n",
       "      <th>upper</th>\n",
       "    </tr>\n",
       "    <tr>\n",
       "      <th>category</th>\n",
       "      <th>name</th>\n",
       "      <th></th>\n",
       "      <th></th>\n",
       "      <th></th>\n",
       "    </tr>\n",
       "  </thead>\n",
       "  <tbody>\n",
       "    <tr>\n",
       "      <th>delta</th>\n",
       "      <th>delta</th>\n",
       "      <td>0.930</td>\n",
       "      <td>0.890</td>\n",
       "      <td>0.980</td>\n",
       "    </tr>\n",
       "    <tr>\n",
       "      <th>wage_fishing</th>\n",
       "      <th>exp_fishing</th>\n",
       "      <td>0.070</td>\n",
       "      <td>0.066</td>\n",
       "      <td>0.072</td>\n",
       "    </tr>\n",
       "    <tr>\n",
       "      <th>nonpec_fishing</th>\n",
       "      <th>constant</th>\n",
       "      <td>-0.100</td>\n",
       "      <td>-0.110</td>\n",
       "      <td>-0.095</td>\n",
       "    </tr>\n",
       "    <tr>\n",
       "      <th>nonpec_hammock</th>\n",
       "      <th>constant</th>\n",
       "      <td>1.046</td>\n",
       "      <td>1.040</td>\n",
       "      <td>1.055</td>\n",
       "    </tr>\n",
       "    <tr>\n",
       "      <th rowspan=\"3\" valign=\"top\">shocks_sdcorr</th>\n",
       "      <th>sd_fishing</th>\n",
       "      <td>0.010</td>\n",
       "      <td>0.000</td>\n",
       "      <td>0.100</td>\n",
       "    </tr>\n",
       "    <tr>\n",
       "      <th>sd_hammock</th>\n",
       "      <td>0.010</td>\n",
       "      <td>0.000</td>\n",
       "      <td>0.100</td>\n",
       "    </tr>\n",
       "    <tr>\n",
       "      <th>corr_hammock_fishing</th>\n",
       "      <td>0.000</td>\n",
       "      <td>0.000</td>\n",
       "      <td>0.100</td>\n",
       "    </tr>\n",
       "  </tbody>\n",
       "</table>\n",
       "</div>"
      ],
      "text/plain": [
       "                                     value  lower  upper\n",
       "category       name                                     \n",
       "delta          delta                 0.930  0.890  0.980\n",
       "wage_fishing   exp_fishing           0.070  0.066  0.072\n",
       "nonpec_fishing constant             -0.100 -0.110 -0.095\n",
       "nonpec_hammock constant              1.046  1.040  1.055\n",
       "shocks_sdcorr  sd_fishing            0.010  0.000  0.100\n",
       "               sd_hammock            0.010  0.000  0.100\n",
       "               corr_hammock_fishing  0.000  0.000  0.100"
      ]
     },
     "execution_count": 53,
     "metadata": {},
     "output_type": "execute_result"
    }
   ],
   "source": [
    "# Lower and upper bound for parameters\n",
    "params_cand['lower'] = [0.89, 0.066, -0.11, 1.04, 0, 0, 0]\n",
    "params_cand['upper'] = [0.98, 0.072, -0.095, 1.055, 0.1, 0.1, 0.1]\n",
    "params_cand"
   ]
  },
  {
   "cell_type": "markdown",
   "metadata": {},
   "source": [
    "##### Constraints\n",
    "In addition to specifying bounds we can also need to specify constraints for the optimization. Respy's example models already come with a predefined set of constraints."
   ]
  },
  {
   "cell_type": "code",
   "execution_count": 106,
   "metadata": {},
   "outputs": [],
   "source": [
    "#constr = rp.get_parameter_constraints(\"robinson\")\n",
    "#constr"
   ]
  },
  {
   "cell_type": "markdown",
   "metadata": {},
   "source": [
    "Additionally we for now hold all other parameters fixed to aid the optimizer in finding the optimal value of delta."
   ]
  },
  {
   "cell_type": "code",
   "execution_count": null,
   "metadata": {},
   "outputs": [],
   "source": [
    "constr += [\n",
    "    #{\"loc\": \"delta\", \"type\": \"fixed\", \"value\": 0.95},\n",
    "    {\"loc\": \"wage_fishing\", \"type\": \"fixed\", \"value\": 0.07},\n",
    "    {\"loc\": \"nonpec_fishing\", \"type\": \"fixed\", \"value\": -0.1},\n",
    "    {\"loc\": \"nonpec_hammock\", \"type\":\"fixed\", \"value\": 1.046},\n",
    "    {\"loc\": \"shocks_sdcorr\", \"type\": \"fixed\"},\n",
    "\n",
    "]\n",
    "constr"
   ]
  },
  {
   "cell_type": "markdown",
   "metadata": {},
   "source": [
    "##### Optimize"
   ]
  },
  {
   "cell_type": "code",
   "execution_count": null,
   "metadata": {
    "scrolled": true
   },
   "outputs": [],
   "source": [
    "rslt = minimize(criterion=evaluate,\n",
    "                params=params_cand,\n",
    "                algorithm=\"nlopt_bobyqa\",\n",
    "                constraints=constr,\n",
    "                criterion_args=(options,identity_matrix, moments_obs, choice_options_robinson),\n",
    "               )\n",
    "rslt[0]"
   ]
  },
  {
   "cell_type": "markdown",
   "metadata": {},
   "source": [
    "### Estimation of multiple parameters"
   ]
  },
  {
   "cell_type": "code",
   "execution_count": null,
   "metadata": {},
   "outputs": [],
   "source": [
    "params_multi = params_cand.copy()\n",
    "params_multi.loc['delta', 'value'] = 0.96\n",
    "params_multi.loc['wage_fishing'] = 0.0705\n",
    "params_multi.loc[('nonpec_fishing','value')] = -0.097\n",
    "params_multi.loc[('nonpec_hammock','value')] = 1.049\n",
    "params_multi.loc[(\"shocks_sdcorr\",\"sd_fishing\"),\"value\"] = 0.01\n",
    "params_multi.loc[(\"shocks_sdcorr\",\"sd_hammock\"),\"value\"] = 0.01\n",
    "params_multi.loc[(\"shocks_sdcorr\",\"corr_hammock_fishing\"), \"value\"] = 0"
   ]
  },
  {
   "cell_type": "code",
   "execution_count": null,
   "metadata": {},
   "outputs": [],
   "source": [
    "#Checking choice porportions for given\n",
    "simulate = rp.get_simulate_func(params_multi, options)\n",
    "data_sim = simulate(params_multi)\n",
    "data_sim.Choice.value_counts()"
   ]
  },
  {
   "cell_type": "code",
   "execution_count": null,
   "metadata": {},
   "outputs": [],
   "source": [
    "params_multi"
   ]
  },
  {
   "cell_type": "code",
   "execution_count": null,
   "metadata": {},
   "outputs": [],
   "source": [
    "constr_free_multi = [\n",
    "    {\"loc\": \"shocks_sdcorr\", \"type\": \"sdcorr\"}, \n",
    "    #{\"loc\": \"delta\", \"type\": \"fixed\", \"value\": 0.95},\n",
    "    #{\"loc\": \"wage_fishing\", \"type\": \"fixed\", \"value\": 0.07},\n",
    "    #{\"loc\": \"nonpec_fishing\", \"type\": \"fixed\", \"value\": -0.1},\n",
    "    #{\"loc\": \"nonpec_hammock\", \"type\":\"fixed\", \"value\": 1.046},\n",
    "    {\"loc\": (\"shocks_sdcorr\",\"sd_fishing\"), \"type\": \"fixed\", \"value\": 0.01},\n",
    "    {\"loc\": (\"shocks_sdcorr\",\"sd_hammock\"), \"type\": \"fixed\", \"value\": 0.01},\n",
    "    {\"loc\": (\"shocks_sdcorr\",\"corr_hammock_fishing\"), \"type\": \"fixed\", \"value\": 0},  \n",
    "]\n",
    "\n",
    "rslt_multi = minimize(criterion=evaluate,\n",
    "                params=params_multi,\n",
    "                algorithm=\"nlopt_bobyqa\",\n",
    "                constraints=constr_free_multi,\n",
    "                criterion_args=(options,identity_matrix, moments_obs, choice_options_robinson),\n",
    "                #dashboard=True\n",
    "               )\n",
    "rslt_multi[0]"
   ]
  },
  {
   "cell_type": "code",
   "execution_count": null,
   "metadata": {},
   "outputs": [],
   "source": [
    "rslt_multi[1]"
   ]
  },
  {
   "cell_type": "markdown",
   "metadata": {},
   "source": [
    "### Changing the Simulation Seed"
   ]
  },
  {
   "cell_type": "code",
   "execution_count": null,
   "metadata": {},
   "outputs": [],
   "source": [
    "options_new_seed = options.copy()\n",
    "options_new_seed[\"simulation_seed\"] = 400\n",
    "\n",
    "rslt_new_seed = minimize(criterion=evaluate,\n",
    "                    params=params_cand,\n",
    "                    algorithm=\"nlopt_bobyqa\",\n",
    "                    constraints=constr,\n",
    "                    criterion_args=(options_new_seed,identity_matrix, moments_obs, choice_options_robinson),\n",
    "                    )\n",
    "rslt_new_seed[0]"
   ]
  },
  {
   "cell_type": "code",
   "execution_count": null,
   "metadata": {},
   "outputs": [],
   "source": [
    "agents_grid = np.round(np.linspace(100, 5000, 20))\n",
    "options_num_agents = options.copy()\n",
    "fvals_agents_grid = []\n",
    "\n",
    "for val in agents_grid:\n",
    "    options_num_agents['simulation_agents'] = int(val)\n",
    "    rslt_num_agents  = minimize(criterion=evaluate,\n",
    "                                params=params_cand,\n",
    "                                algorithm=\"nlopt_bobyqa\",\n",
    "                                constraints=constr,\n",
    "                                criterion_args=(options_num_agents, identity_matrix, moments_obs, choice_options_robinson),\n",
    "                               )\n",
    "    \n",
    "    fvals_agents_grid.append(rslt_num_agents[0]['fun'])"
   ]
  },
  {
   "cell_type": "code",
   "execution_count": null,
   "metadata": {},
   "outputs": [],
   "source": [
    "plt.plot(agents_grid, fvals_agents_grid)\n",
    "plt.xlabel('Number of Agents')\n",
    "plt.ylabel('Criterion Function Value')\n",
    "plt.title('Function Value for increasing Number of Agents with changing Simulation Seeds')"
   ]
  },
  {
   "cell_type": "markdown",
   "metadata": {},
   "source": [
    "### Fixing one parameter at the wrong value"
   ]
  },
  {
   "cell_type": "code",
   "execution_count": null,
   "metadata": {},
   "outputs": [],
   "source": [
    "params_3 = params_cand.copy()\n",
    "params_3.loc[\"delta\", \"value\"] = 0.97\n",
    "params_3.loc[\"wage_fishing\", \"value\"] = 0.069"
   ]
  },
  {
   "cell_type": "code",
   "execution_count": null,
   "metadata": {},
   "outputs": [],
   "source": [
    "constr = [\n",
    "    {\"loc\": \"shocks_sdcorr\", \"type\": \"sdcorr\"}, \n",
    "    #{\"loc\": \"delta\", \"type\": \"fixed\", \"value\": 0.95},\n",
    "    {\"loc\": \"wage_fishing\", \"type\": \"fixed\", \"value\": 0.069},\n",
    "    {\"loc\": \"nonpec_fishing\", \"type\": \"fixed\", \"value\": -0.1},     \n",
    "    {\"loc\": \"nonpec_hammock\", \"type\":\"fixed\", \"value\": 1.046},\n",
    "    {\"loc\": (\"shocks_sdcorr\",\"sd_fishing\"), \"type\": \"fixed\", \"value\": 0.01},\n",
    "    {\"loc\": (\"shocks_sdcorr\",\"sd_hammock\"), \"type\": \"fixed\", \"value\": 0.01},\n",
    "    {\"loc\": (\"shocks_sdcorr\",\"corr_hammock_fishing\"), \"type\": \"fixed\", \"value\": 0},  \n",
    "]"
   ]
  },
  {
   "cell_type": "code",
   "execution_count": null,
   "metadata": {},
   "outputs": [],
   "source": [
    "simulate = rp.get_simulate_func(params_3, options)\n",
    "data_sim = simulate(params_3)\n",
    "data_sim.Choice.value_counts()"
   ]
  },
  {
   "cell_type": "code",
   "execution_count": null,
   "metadata": {
    "scrolled": true
   },
   "outputs": [],
   "source": [
    "rslt_3 = minimize(criterion=evaluate,\n",
    "                params=params_3,\n",
    "                algorithm=\"nlopt_bobyqa\",\n",
    "                constraints=constr,\n",
    "                criterion_args=(options,identity_matrix, moments_obs, choice_options_robinson),\n",
    "               )\n",
    "rslt_3[0]"
   ]
  },
  {
   "cell_type": "markdown",
   "metadata": {},
   "source": [
    "### Retrieving the true parameter vector"
   ]
  },
  {
   "cell_type": "code",
   "execution_count": null,
   "metadata": {},
   "outputs": [],
   "source": [
    "params_4 = rslt_3[1][['value','lower','upper']]\n",
    "params_4"
   ]
  },
  {
   "cell_type": "code",
   "execution_count": null,
   "metadata": {},
   "outputs": [],
   "source": [
    "# Hold all values except the changed parameter fixed \n",
    "constr_free_two = [\n",
    "    {\"loc\": \"shocks_sdcorr\", \"type\": \"sdcorr\"}, \n",
    "    #{\"loc\": \"delta\", \"type\": \"fixed\", \"value\": 0.95},\n",
    "    #{\"loc\": \"wage_fishing\", \"type\": \"fixed\", \"value\": 0.07},\n",
    "    {\"loc\": \"nonpec_fishing\", \"type\": \"fixed\", \"value\": -0.1},     \n",
    "    {\"loc\": \"nonpec_hammock\", \"type\":\"fixed\", \"value\": 1.046},\n",
    "    {\"loc\": (\"shocks_sdcorr\",\"sd_fishing\"), \"type\": \"fixed\", \"value\": 0.01},\n",
    "    {\"loc\": (\"shocks_sdcorr\",\"sd_hammock\"), \"type\": \"fixed\", \"value\": 0.01},\n",
    "    {\"loc\": (\"shocks_sdcorr\",\"corr_hammock_fishing\"), \"type\": \"fixed\", \"value\": 0},  \n",
    "]"
   ]
  },
  {
   "cell_type": "code",
   "execution_count": null,
   "metadata": {},
   "outputs": [],
   "source": [
    "rslt_4 = minimize(criterion=evaluate,\n",
    "                params=params_4,\n",
    "                algorithm=\"nlopt_bobyqa\",\n",
    "                constraints=constr_free_two,\n",
    "                criterion_args=(options,identity_matrix, moments_obs, choice_options_robinson),\n",
    "               )\n",
    "rslt_4[0]"
   ]
  },
  {
   "cell_type": "code",
   "execution_count": null,
   "metadata": {},
   "outputs": [],
   "source": [
    "deviation = params_true['value'] - rslt_4[1]['value']\n",
    "deviation"
   ]
  }
 ],
 "metadata": {
  "kernelspec": {
   "display_name": "Python 3",
   "language": "python",
   "name": "python3"
  },
  "language_info": {
   "codemirror_mode": {
    "name": "ipython",
    "version": 3
   },
   "file_extension": ".py",
   "mimetype": "text/x-python",
   "name": "python",
   "nbconvert_exporter": "python",
   "pygments_lexer": "ipython3",
   "version": "3.7.1"
  },
  "toc": {
   "base_numbering": 1,
   "nav_menu": {},
   "number_sections": true,
   "sideBar": true,
   "skip_h1_title": true,
   "title_cell": "Table of Contents",
   "title_sidebar": "Contents",
   "toc_cell": false,
   "toc_position": {
    "height": "476.7px",
    "left": "382px",
    "top": "289.8px",
    "width": "260.413px"
   },
   "toc_section_display": true,
   "toc_window_display": true
  },
  "varInspector": {
   "cols": {
    "lenName": 16,
    "lenType": 16,
    "lenVar": 40
   },
   "kernels_config": {
    "python": {
     "delete_cmd_postfix": "",
     "delete_cmd_prefix": "del ",
     "library": "var_list.py",
     "varRefreshCmd": "print(var_dic_list())"
    },
    "r": {
     "delete_cmd_postfix": ") ",
     "delete_cmd_prefix": "rm(",
     "library": "var_list.r",
     "varRefreshCmd": "cat(var_dic_list()) "
    }
   },
   "position": {
    "height": "355.4px",
    "left": "858.8px",
    "right": "20px",
    "top": "120px",
    "width": "527.4px"
   },
   "types_to_exclude": [
    "module",
    "function",
    "builtin_function_or_method",
    "instance",
    "_Feature"
   ],
   "window_display": false
  }
 },
 "nbformat": 4,
 "nbformat_minor": 4
}
