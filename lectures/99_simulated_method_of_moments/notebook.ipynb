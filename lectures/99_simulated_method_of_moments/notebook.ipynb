{
 "cells": [
  {
   "cell_type": "code",
   "execution_count": 10,
   "metadata": {},
   "outputs": [
    {
     "name": "stdout",
     "output_type": "stream",
     "text": [
      "The autoreload extension is already loaded. To reload it, use:\n",
      "  %reload_ext autoreload\n"
     ]
    }
   ],
   "source": [
    "%load_ext autoreload\n",
    "%autoreload 2\n",
    "\n",
    "import os\n",
    "import respy as rp\n",
    "import numpy as np\n",
    "import pandas as pd\n",
    "import matplotlib.pyplot as plt\n",
    "import pickle as pkl\n",
    "from random import randrange\n",
    "\n",
    "from collections import OrderedDict\n",
    "from collections import defaultdict\n",
    "\n",
    "import respy as rp\n",
    "\n",
    "from python.auxiliary import *"
   ]
  },
  {
   "cell_type": "markdown",
   "metadata": {},
   "source": [
    "# Simulated Method of Moments estimation"
   ]
  },
  {
   "cell_type": "markdown",
   "metadata": {},
   "source": [
    "<h1>Table of Contents<span class=\"tocSkip\"></span></h1>\n",
    "<div class=\"toc\"><ul class=\"toc-item\"><li><span><a href=\"#Model-&amp;-Observed-Data\" data-toc-modified-id=\"Model-&amp;-Observed-Data-1\"><span class=\"toc-item-num\">1&nbsp;&nbsp;</span>Model &amp; Observed Data</a></span></li><li><span><a href=\"#Setup-for-SMM-Estimation\" data-toc-modified-id=\"Setup-for-SMM-Estimation-2\"><span class=\"toc-item-num\">2&nbsp;&nbsp;</span>Setup for SMM Estimation</a></span><ul class=\"toc-item\"><li><span><a href=\"#Calculate-Moments\" data-toc-modified-id=\"Calculate-Moments-2.1\"><span class=\"toc-item-num\">2.1&nbsp;&nbsp;</span>Calculate Moments</a></span><ul class=\"toc-item\"><li><span><a href=\"#Function-for-calculating-moments\" data-toc-modified-id=\"Function-for-calculating-moments-2.1.1\"><span class=\"toc-item-num\">2.1.1&nbsp;&nbsp;</span>Function for calculating moments</a></span></li><li><span><a href=\"#Observed-Moments\" data-toc-modified-id=\"Observed-Moments-2.1.2\"><span class=\"toc-item-num\">2.1.2&nbsp;&nbsp;</span>Observed Moments</a></span></li></ul></li><li><span><a href=\"#Weighting-Matrix\" data-toc-modified-id=\"Weighting-Matrix-2.2\"><span class=\"toc-item-num\">2.2&nbsp;&nbsp;</span>Weighting-Matrix</a></span></li><li><span><a href=\"#Criterion-Function\" data-toc-modified-id=\"Criterion-Function-2.3\"><span class=\"toc-item-num\">2.3&nbsp;&nbsp;</span>Criterion Function</a></span></li></ul></li><li><span><a href=\"#SMM-Estimation\" data-toc-modified-id=\"SMM-Estimation-3\"><span class=\"toc-item-num\">3&nbsp;&nbsp;</span>SMM Estimation</a></span><ul class=\"toc-item\"><li><span><a href=\"#Define-starting-paramters\" data-toc-modified-id=\"Define-starting-paramters-3.1\"><span class=\"toc-item-num\">3.1&nbsp;&nbsp;</span>Define starting paramters</a></span></li><li><span><a href=\"#Simulated-Moments\" data-toc-modified-id=\"Simulated-Moments-3.2\"><span class=\"toc-item-num\">3.2&nbsp;&nbsp;</span>Simulated Moments</a></span></li><li><span><a href=\"#Optimization-proceidure\" data-toc-modified-id=\"Optimization-proceidure-3.3\"><span class=\"toc-item-num\">3.3&nbsp;&nbsp;</span>Optimization proceidure</a></span><ul class=\"toc-item\"><li><span><a href=\"#Upper-and-Lower-Bounds\" data-toc-modified-id=\"Upper-and-Lower-Bounds-3.3.1\"><span class=\"toc-item-num\">3.3.1&nbsp;&nbsp;</span>Upper and Lower Bounds</a></span></li><li><span><a href=\"#Constraints\" data-toc-modified-id=\"Constraints-3.3.2\"><span class=\"toc-item-num\">3.3.2&nbsp;&nbsp;</span>Constraints</a></span></li><li><span><a href=\"#Optimize\" data-toc-modified-id=\"Optimize-3.3.3\"><span class=\"toc-item-num\">3.3.3&nbsp;&nbsp;</span>Optimize</a></span></li><li><span><a href=\"#Plot-Criterion-Function\" data-toc-modified-id=\"Plot-Criterion-Function-3.3.4\"><span class=\"toc-item-num\">3.3.4&nbsp;&nbsp;</span>Plot Criterion Function</a></span></li></ul></li></ul></li><li><span><a href=\"#Simulation-Study\" data-toc-modified-id=\"Simulation-Study-4\"><span class=\"toc-item-num\">4&nbsp;&nbsp;</span>Simulation Study</a></span><ul class=\"toc-item\"><li><span><a href=\"#Changing-the-Simulation-Seed\" data-toc-modified-id=\"Changing-the-Simulation-Seed-4.1\"><span class=\"toc-item-num\">4.1&nbsp;&nbsp;</span>Changing the Simulation Seed</a></span></li></ul></li></ul></div>"
   ]
  },
  {
   "cell_type": "markdown",
   "metadata": {},
   "source": [
    "**To do:**\n",
    "   - Part 4\n",
    "   - Add text and descriptions to all sections of the notebook\n",
    "   - Implement algorithm for calculating the weighting matrix"
   ]
  },
  {
   "cell_type": "markdown",
   "metadata": {},
   "source": [
    "##  Observed Data\n",
    "\n",
    "Our model and data is given by [respy](https://respy.readthedocs.io/en/latest/)'s `robinson` example model. In this simple model, the agent, Robinson Crusoe, in each time period decides between two choice options: working (i.e. going fishing) or spending time in the hammock. We use the function `get_example_model `to simulate the model and a dataset.\n",
    "\n",
    "For the remainder of this notebook we will treat these observations as though they are real observed data and try to recover the parameters of the model using this data. However, since this is actually a simulated model for which we know the true parameter vector, we will be able to compare how well our estimation procedures perform."
   ]
  },
  {
   "cell_type": "code",
   "execution_count": 11,
   "metadata": {},
   "outputs": [],
   "source": [
    "params_true, options, data_obs = rp.get_example_model(\"robinson\", with_data=True)"
   ]
  },
  {
   "cell_type": "markdown",
   "metadata": {},
   "source": [
    "Uncomment the lines of code below to take a look at the model specifications and observed data."
   ]
  },
  {
   "cell_type": "code",
   "execution_count": 12,
   "metadata": {},
   "outputs": [],
   "source": [
    "# params_true "
   ]
  },
  {
   "cell_type": "code",
   "execution_count": 13,
   "metadata": {},
   "outputs": [],
   "source": [
    "# options"
   ]
  },
  {
   "cell_type": "code",
   "execution_count": 14,
   "metadata": {},
   "outputs": [],
   "source": [
    "# data_obs.head(10)"
   ]
  },
  {
   "cell_type": "markdown",
   "metadata": {},
   "source": [
    "## Data Moments\n",
    "\n",
    "For the setup of the estimation we first have to choose a set of moments that we will use to match the observed data and the simulated model. For this model we include two sets of moments: \n",
    "\n",
    "1. The first set are Robinson's choice probabilities (choice probabilities here refers to the share of agents that have chosen a specific option) for each period. \n",
    "2. The second set are moments that characterize the wage distribution for each period, i.e. the mean of the wage of all agents that have chosen fishing in a given period and the standard deviation of the wages. "
   ]
  },
  {
   "cell_type": "code",
   "execution_count": 15,
   "metadata": {},
   "outputs": [],
   "source": [
    "# Specify the potential choice options.\n",
    "choice_options_robinson = ['fishing', 'hammock']"
   ]
  },
  {
   "cell_type": "code",
   "execution_count": 16,
   "metadata": {},
   "outputs": [
    {
     "name": "stdout",
     "output_type": "stream",
     "text": [
      "Choice Probabilities\n",
      "{0: [0.631, 0.369], 1: [0.631, 0.369], 2: [0.631, 0.369], 3: [0.631, 0.369], 4: [0.631, 0.369]}\n",
      "\n",
      " Wage Distribution\n",
      "{0: [1.0037950532864608, 0.009222735533113452], 1: [1.0724623646069125, 0.010885774459361966], 2: [1.1506433910875764, 0.01165976621540699], 3: [1.2325871778674606, 0.01188724268886421], 4: [1.3230636324871103, 0.012512007111785479]}\n"
     ]
    }
   ],
   "source": [
    "# Use a function to calculate the data moments.\n",
    "moments_obs = get_moments(data_obs, choice_options_robinson)\n",
    "print('Choice Probabilities')\n",
    "print(moments_obs['Choice Probabilities'])\n",
    "print('\\n Wage Distribution')\n",
    "print(moments_obs['Wage Distribution'])"
   ]
  },
  {
   "cell_type": "markdown",
   "metadata": {},
   "source": [
    "## Weighting-Matrix"
   ]
  },
  {
   "cell_type": "markdown",
   "metadata": {},
   "source": [
    "Next we specify a weighting matrix."
   ]
  },
  {
   "cell_type": "code",
   "execution_count": 17,
   "metadata": {},
   "outputs": [
    {
     "name": "stdout",
     "output_type": "stream",
     "text": [
      "[[1. 0. 0. 0. 0. 0. 0. 0. 0. 0. 0. 0. 0. 0. 0. 0. 0. 0. 0. 0.]\n",
      " [0. 1. 0. 0. 0. 0. 0. 0. 0. 0. 0. 0. 0. 0. 0. 0. 0. 0. 0. 0.]\n",
      " [0. 0. 1. 0. 0. 0. 0. 0. 0. 0. 0. 0. 0. 0. 0. 0. 0. 0. 0. 0.]\n",
      " [0. 0. 0. 1. 0. 0. 0. 0. 0. 0. 0. 0. 0. 0. 0. 0. 0. 0. 0. 0.]\n",
      " [0. 0. 0. 0. 1. 0. 0. 0. 0. 0. 0. 0. 0. 0. 0. 0. 0. 0. 0. 0.]\n",
      " [0. 0. 0. 0. 0. 1. 0. 0. 0. 0. 0. 0. 0. 0. 0. 0. 0. 0. 0. 0.]\n",
      " [0. 0. 0. 0. 0. 0. 1. 0. 0. 0. 0. 0. 0. 0. 0. 0. 0. 0. 0. 0.]\n",
      " [0. 0. 0. 0. 0. 0. 0. 1. 0. 0. 0. 0. 0. 0. 0. 0. 0. 0. 0. 0.]\n",
      " [0. 0. 0. 0. 0. 0. 0. 0. 1. 0. 0. 0. 0. 0. 0. 0. 0. 0. 0. 0.]\n",
      " [0. 0. 0. 0. 0. 0. 0. 0. 0. 1. 0. 0. 0. 0. 0. 0. 0. 0. 0. 0.]\n",
      " [0. 0. 0. 0. 0. 0. 0. 0. 0. 0. 1. 0. 0. 0. 0. 0. 0. 0. 0. 0.]\n",
      " [0. 0. 0. 0. 0. 0. 0. 0. 0. 0. 0. 1. 0. 0. 0. 0. 0. 0. 0. 0.]\n",
      " [0. 0. 0. 0. 0. 0. 0. 0. 0. 0. 0. 0. 1. 0. 0. 0. 0. 0. 0. 0.]\n",
      " [0. 0. 0. 0. 0. 0. 0. 0. 0. 0. 0. 0. 0. 1. 0. 0. 0. 0. 0. 0.]\n",
      " [0. 0. 0. 0. 0. 0. 0. 0. 0. 0. 0. 0. 0. 0. 1. 0. 0. 0. 0. 0.]\n",
      " [0. 0. 0. 0. 0. 0. 0. 0. 0. 0. 0. 0. 0. 0. 0. 1. 0. 0. 0. 0.]\n",
      " [0. 0. 0. 0. 0. 0. 0. 0. 0. 0. 0. 0. 0. 0. 0. 0. 1. 0. 0. 0.]\n",
      " [0. 0. 0. 0. 0. 0. 0. 0. 0. 0. 0. 0. 0. 0. 0. 0. 0. 1. 0. 0.]\n",
      " [0. 0. 0. 0. 0. 0. 0. 0. 0. 0. 0. 0. 0. 0. 0. 0. 0. 0. 1. 0.]\n",
      " [0. 0. 0. 0. 0. 0. 0. 0. 0. 0. 0. 0. 0. 0. 0. 0. 0. 0. 0. 1.]]\n"
     ]
    }
   ],
   "source": [
    "# I use the identity matrix for now.\n",
    "num_moments = options['n_periods']*len(choice_options_robinson)*2\n",
    "identity_matrix = np.eye(num_moments)\n",
    "print(identity_matrix)"
   ]
  },
  {
   "cell_type": "markdown",
   "metadata": {},
   "source": [
    "## Criterion Function "
   ]
  },
  {
   "cell_type": "markdown",
   "metadata": {},
   "source": [
    "Criterion function at the true parameter vector."
   ]
  },
  {
   "cell_type": "code",
   "execution_count": 18,
   "metadata": {},
   "outputs": [
    {
     "data": {
      "text/plain": [
       "0.0"
      ]
     },
     "execution_count": 18,
     "metadata": {},
     "output_type": "execute_result"
    }
   ],
   "source": [
    "fval = evaluate(params_true, options, identity_matrix, moments_obs, choice_options_robinson)\n",
    "fval"
   ]
  },
  {
   "cell_type": "markdown",
   "metadata": {},
   "source": [
    "We can plot the criterion function to examine its behavior around the minimum in more detail. The plots below show the criterion function at varying values of the parameter for delta. Each plot depicts the criterion function for a progressively smaller range to 'zoom in' on the true minimum value of 0.95 given by the true parameter vector. "
   ]
  },
  {
   "cell_type": "markdown",
   "metadata": {},
   "source": [
    "Criterion function for varying values of delta:"
   ]
  },
  {
   "cell_type": "code",
   "execution_count": 19,
   "metadata": {},
   "outputs": [
    {
     "data": {
      "image/png": "[encoded data removed]",
      "text/plain": [
       "<Figure size 560x840 with 3 Axes>"
      ]
     },
     "metadata": {},
     "output_type": "display_data"
    }
   ],
   "source": [
    "criterion_args = [options, identity_matrix, moments_obs, choice_options_robinson]\n",
    "plot_criterion_detail(params_true, \n",
    "                       'delta', \n",
    "                       [0.93, 0.949, 0.9499], # lower bound\n",
    "                       [0.97, 0.951, 0.9501], # upper bound\n",
    "                       [0.005,0.0005, 0.00005], # xticks steps\n",
    "                       20, # number of parameter values calculated (blue dots)\n",
    "                       criterion_args) \n"
   ]
  },
  {
   "cell_type": "code",
   "execution_count": 20,
   "metadata": {},
   "outputs": [
    {
     "data": {
      "image/png": "[encoded data removed]",
      "text/plain": [
       "<Figure size 560x1120 with 4 Axes>"
      ]
     },
     "metadata": {},
     "output_type": "display_data"
    }
   ],
   "source": [
    "criterion_args = [options, identity_matrix, moments_obs, choice_options_robinson]\n",
    "plot_criterion_params(params_true, \n",
    "                       ['delta', 'wage_fishing', 'nonpec_fishing', 'nonpec_hammock'], \n",
    "                       [0.93, 0.069, -0.11, 1.02], # lower bound\n",
    "                       [0.97, 0.071, -0.09, 1.054], # upper bound\n",
    "                       [0.005 ,0.0005, 0.005, 0.005], # xticks steps\n",
    "                       20, # number of parameter values calculated (blue dots)\n",
    "                       criterion_args) \n"
   ]
  },
  {
   "cell_type": "markdown",
   "metadata": {},
   "source": [
    "##  Estimation"
   ]
  },
  {
   "cell_type": "markdown",
   "metadata": {},
   "source": [
    "### Define starting parameters\n"
   ]
  },
  {
   "cell_type": "markdown",
   "metadata": {},
   "source": [
    "Let's assume now that we do not know the true parameter vector and we seek to estimate it using our observed data. We have already set up the criterion function and the weighting matrix. In the following we will first select parameter vector that differs from the true one as a candidate to begin the estimation with. We will then specify an optimization procedure for our criterion function to try to retrieve the true parameters. "
   ]
  },
  {
   "cell_type": "markdown",
   "metadata": {},
   "source": [
    "For now, our candidate parameter vector will just differ in *delta* from the true parameters."
   ]
  },
  {
   "cell_type": "code",
   "execution_count": 21,
   "metadata": {},
   "outputs": [],
   "source": [
    "params_cand = params_true.copy()\n",
    "params_cand.loc['delta','value'] = 0.93"
   ]
  },
  {
   "cell_type": "markdown",
   "metadata": {},
   "source": [
    "### Simulated Moments"
   ]
  },
  {
   "cell_type": "markdown",
   "metadata": {},
   "source": [
    "We can now use our model to simulate data using the candidate parameter vector. We can see that the choice probabilities and wage distribution differ from the moments of the observed dataset."
   ]
  },
  {
   "cell_type": "code",
   "execution_count": 22,
   "metadata": {},
   "outputs": [
    {
     "name": "stdout",
     "output_type": "stream",
     "text": [
      "Choice Probabilities\n",
      "{0: [0.244, 0.756], 1: [0.244, 0.756], 2: [0.244, 0.756], 3: [0.244, 0.756], 4: [0.244, 0.756]}\n",
      "\n",
      " Wage Distribution\n",
      "{0: [1.0095149927160547, 0.008198290003548022], 1: [1.0728957195893678, 0.010514385733230281], 2: [1.1515521441487266, 0.011934344072283899], 3: [1.2330302273612044, 0.011737002476584076], 4: [1.3217938871844948, 0.013266040322672396]}\n"
     ]
    }
   ],
   "source": [
    "params = params_cand.copy()\n",
    "simulate = rp.get_simulate_func(params, options)\n",
    "df_sim = simulate(params)\n",
    "moments_sim = get_moments(df_sim, choice_options_robinson)\n",
    "\n",
    "print('Choice Probabilities')\n",
    "print(moments_sim['Choice Probabilities'])\n",
    "print('\\n Wage Distribution')\n",
    "print(moments_sim['Wage Distribution'])"
   ]
  },
  {
   "cell_type": "markdown",
   "metadata": {},
   "source": [
    "We can see that the criterion function value for the candidate parameter vector is not zero."
   ]
  },
  {
   "cell_type": "code",
   "execution_count": 23,
   "metadata": {},
   "outputs": [
    {
     "data": {
      "text/plain": [
       "1.4977273938311657"
      ]
     },
     "execution_count": 23,
     "metadata": {},
     "output_type": "execute_result"
    }
   ],
   "source": [
    "fval = evaluate(params_cand, options, identity_matrix, moments_obs, choice_options_robinson)\n",
    "fval"
   ]
  },
  {
   "cell_type": "markdown",
   "metadata": {},
   "source": [
    "### Optimization procedure"
   ]
  },
  {
   "cell_type": "markdown",
   "metadata": {},
   "source": [
    "We will now use an optimization procedure to retrieve the true parameter vector. For the optimization I use [estimagic](https://estimagic.readthedocs.io/en/latest/index.html). Estimagic is a Python package that is developed to help implement (structural) econometric models and offers a variety of customization options for the optimization procedure as well as a large selection of algorithms.\n",
    "\n",
    "We have verified above that the criterion function gives a value of 0 for the true parameter vector. Before we try different parameter specifications, we can check whether an optimizer recognizes the true vector as the minimum of our criterion function."
   ]
  },
  {
   "cell_type": "markdown",
   "metadata": {},
   "source": [
    "For our optimization procedure we need estimagic's `minimize` function."
   ]
  },
  {
   "cell_type": "code",
   "execution_count": 24,
   "metadata": {},
   "outputs": [],
   "source": [
    "from estimagic.optimization.optimize import minimize"
   ]
  },
  {
   "cell_type": "markdown",
   "metadata": {},
   "source": [
    "As inputs for the `minimize` function we need to specify:\n",
    "* the the criterion function we want to minimize\n",
    "* the parameter vector with respect to which we want to minimize the criterion function\n",
    "* one of the optimization [algorithms that estimagic supports](https://estimagic.readthedocs.io/en/latest/optimization/algorithms.html)\n",
    "* possible other arguments of the criterion function (e.g. the weighting matrix or moments)\n",
    "\n",
    "As the code below shows, the optimization algorithm recognizes the true parameter vector as the minimum of the criterion function as it returns a function value of 0 and the true parameter values."
   ]
  },
  {
   "cell_type": "code",
   "execution_count": 25,
   "metadata": {},
   "outputs": [
    {
     "data": {
      "text/plain": [
       "{'fun': 0.0, 'internal_x': [0.95, 0.07, -0.1, 1.046, 0.01, 0.01, 0.0]}"
      ]
     },
     "execution_count": 25,
     "metadata": {},
     "output_type": "execute_result"
    }
   ],
   "source": [
    "rslt = minimize(criterion=evaluate,\n",
    "                params=params_true,\n",
    "                algorithm=\"nlopt_bobyqa\",\n",
    "                criterion_args=(options, identity_matrix, moments_obs, choice_options_robinson),\n",
    "               )\n",
    "rslt[0]"
   ]
  },
  {
   "cell_type": "markdown",
   "metadata": {},
   "source": [
    "#### Upper and Lower Bounds"
   ]
  },
  {
   "cell_type": "markdown",
   "metadata": {},
   "source": [
    "We can help the optimizer by specifying bounds for the parameters. Since we know the true parameters in the case of this model, the bounds are easy to specify. We just pick upper and lower bounds that are fairly close to the true values of the parameters to aid the optimizer in the search for the optimum. \n",
    "\n",
    "By default, the upper and lower bounds are set to $\\infty$ and $-\\infty$, so specifying upper and lower bounds substantially reduces the range of parameter values that the optimizer can potentially cover. Even if the true parameters are unknown, the model usually imposes certain restrictions and assumptions on the parameters that allows us to rule out many potential parameter values. For example, we can assume that the non-pecuniary value of fishing is negative because working is strenuous and thus causes Robinson disutility in our model of interest.\n",
    "\n",
    "For optimization with estimagic, we can specify bounds by adding the columns *'lower'* and *'upper'* to the dataframe that contains the parameter values."
   ]
  },
  {
   "cell_type": "code",
   "execution_count": 26,
   "metadata": {},
   "outputs": [
    {
     "data": {
      "text/html": [
       "<div>\n",
       "<style scoped>\n",
       "    .dataframe tbody tr th:only-of-type {\n",
       "        vertical-align: middle;\n",
       "    }\n",
       "\n",
       "    .dataframe tbody tr th {\n",
       "        vertical-align: top;\n",
       "    }\n",
       "\n",
       "    .dataframe thead th {\n",
       "        text-align: right;\n",
       "    }\n",
       "</style>\n",
       "<table border=\"1\" class=\"dataframe\">\n",
       "  <thead>\n",
       "    <tr style=\"text-align: right;\">\n",
       "      <th></th>\n",
       "      <th></th>\n",
       "      <th>value</th>\n",
       "      <th>lower</th>\n",
       "      <th>upper</th>\n",
       "    </tr>\n",
       "    <tr>\n",
       "      <th>category</th>\n",
       "      <th>name</th>\n",
       "      <th></th>\n",
       "      <th></th>\n",
       "      <th></th>\n",
       "    </tr>\n",
       "  </thead>\n",
       "  <tbody>\n",
       "    <tr>\n",
       "      <th>delta</th>\n",
       "      <th>delta</th>\n",
       "      <td>0.930</td>\n",
       "      <td>0.890</td>\n",
       "      <td>0.980</td>\n",
       "    </tr>\n",
       "    <tr>\n",
       "      <th>wage_fishing</th>\n",
       "      <th>exp_fishing</th>\n",
       "      <td>0.070</td>\n",
       "      <td>0.066</td>\n",
       "      <td>0.072</td>\n",
       "    </tr>\n",
       "    <tr>\n",
       "      <th>nonpec_fishing</th>\n",
       "      <th>constant</th>\n",
       "      <td>-0.100</td>\n",
       "      <td>-0.110</td>\n",
       "      <td>-0.095</td>\n",
       "    </tr>\n",
       "    <tr>\n",
       "      <th>nonpec_hammock</th>\n",
       "      <th>constant</th>\n",
       "      <td>1.046</td>\n",
       "      <td>1.040</td>\n",
       "      <td>1.055</td>\n",
       "    </tr>\n",
       "    <tr>\n",
       "      <th rowspan=\"3\" valign=\"top\">shocks_sdcorr</th>\n",
       "      <th>sd_fishing</th>\n",
       "      <td>0.010</td>\n",
       "      <td>-0.100</td>\n",
       "      <td>0.100</td>\n",
       "    </tr>\n",
       "    <tr>\n",
       "      <th>sd_hammock</th>\n",
       "      <td>0.010</td>\n",
       "      <td>0.100</td>\n",
       "      <td>0.100</td>\n",
       "    </tr>\n",
       "    <tr>\n",
       "      <th>corr_hammock_fishing</th>\n",
       "      <td>0.000</td>\n",
       "      <td>0.000</td>\n",
       "      <td>0.100</td>\n",
       "    </tr>\n",
       "  </tbody>\n",
       "</table>\n",
       "</div>"
      ],
      "text/plain": [
       "                                     value  lower  upper\n",
       "category       name                                     \n",
       "delta          delta                 0.930  0.890  0.980\n",
       "wage_fishing   exp_fishing           0.070  0.066  0.072\n",
       "nonpec_fishing constant             -0.100 -0.110 -0.095\n",
       "nonpec_hammock constant              1.046  1.040  1.055\n",
       "shocks_sdcorr  sd_fishing            0.010 -0.100  0.100\n",
       "               sd_hammock            0.010  0.100  0.100\n",
       "               corr_hammock_fishing  0.000  0.000  0.100"
      ]
     },
     "execution_count": 26,
     "metadata": {},
     "output_type": "execute_result"
    }
   ],
   "source": [
    "# Lower and upper bound for parameters\n",
    "params_cand['lower'] = [0.89, 0.066, -0.11, 1.04, -0.1, 0.1, 0]\n",
    "params_cand['upper'] = [0.98, 0.072, -0.095, 1.055, 0.1, 0.1, 0.1]\n",
    "params_cand"
   ]
  },
  {
   "cell_type": "markdown",
   "metadata": {},
   "source": [
    "#### Constraints\n",
    "In addition to specifying bounds, [estimagic allows us to specify constraints](https://estimagic.readthedocs.io/en/latest/optimization/constraints/index.html) for the optimization procedure. As shown below, we can specify that the the parameters in the category *shocks_sdcorr* are standard deviations and correlations and we can also hold some parameters in our vector fixed for the optimization. "
   ]
  },
  {
   "cell_type": "code",
   "execution_count": 27,
   "metadata": {},
   "outputs": [],
   "source": [
    "constr = [\n",
    "    {\"loc\": \"shocks_sdcorr\", \"type\": \"sdcorr\"}, \n",
    "    #{\"loc\": \"delta\", \"type\": \"fixed\", \"value\": 0.95},\n",
    "    {\"loc\": \"wage_fishing\", \"type\": \"fixed\", \"value\": 0.07},\n",
    "    {\"loc\": \"nonpec_fishing\", \"type\": \"fixed\", \"value\": -0.1},\n",
    "    {\"loc\": \"nonpec_hammock\", \"type\":\"fixed\", \"value\": 1.046},\n",
    "    {\"loc\": (\"shocks_sdcorr\",\"sd_fishing\"), \"type\": \"fixed\", \"value\": 0.01},\n",
    "    {\"loc\": (\"shocks_sdcorr\",\"sd_hammock\"), \"type\": \"fixed\", \"value\": 0.01},\n",
    "    {\"loc\": (\"shocks_sdcorr\",\"corr_hammock_fishing\"), \"type\": \"fixed\", \"value\": 0},  \n",
    "]"
   ]
  },
  {
   "cell_type": "markdown",
   "metadata": {},
   "source": [
    "#### Optimize"
   ]
  },
  {
   "cell_type": "code",
   "execution_count": 28,
   "metadata": {
    "scrolled": true
   },
   "outputs": [
    {
     "data": {
      "text/plain": [
       "{'fun': 0.0, 'internal_x': [0.950025]}"
      ]
     },
     "execution_count": 28,
     "metadata": {},
     "output_type": "execute_result"
    }
   ],
   "source": [
    "rslt = minimize(criterion=evaluate,\n",
    "                params=params_cand,\n",
    "                algorithm=\"nlopt_bobyqa\",\n",
    "                constraints=constr,\n",
    "                criterion_args=(options,identity_matrix, moments_obs, choice_options_robinson),\n",
    "                # dashboard=True # <-- uncommenting this code will launch a dashboard when this cell is run \n",
    "               )\n",
    "rslt[0]"
   ]
  },
  {
   "cell_type": "markdown",
   "metadata": {},
   "source": [
    "## Simulation Alterations"
   ]
  },
  {
   "cell_type": "markdown",
   "metadata": {},
   "source": [
    "### Changing multiple parameters"
   ]
  },
  {
   "cell_type": "code",
   "execution_count": 29,
   "metadata": {},
   "outputs": [],
   "source": [
    "params_multi = params_true.copy()\n",
    "params_multi.loc['delta', 'value'] = 0.96\n",
    "params_multi.loc['wage_fishing'] = 0.0705\n",
    "params_multi.loc[('nonpec_fishing','value')] = -0.097\n",
    "params_multi.loc[('nonpec_hammock','value')] = 1.049\n",
    "params_multi.loc[(\"shocks_sdcorr\",\"sd_fishing\"),\"value\"] = 0.01\n",
    "params_multi.loc[(\"shocks_sdcorr\",\"sd_hammock\"),\"value\"] = 0.01\n",
    "params_multi.loc[(\"shocks_sdcorr\",\"corr_hammock_fishing\"), \"value\"] = 0"
   ]
  },
  {
   "cell_type": "code",
   "execution_count": 30,
   "metadata": {},
   "outputs": [
    {
     "data": {
      "text/plain": [
       "fishing    4555\n",
       "hammock     445\n",
       "Name: Choice, dtype: int64"
      ]
     },
     "execution_count": 30,
     "metadata": {},
     "output_type": "execute_result"
    }
   ],
   "source": [
    "#Checking choice porportions for given\n",
    "simulate = rp.get_simulate_func(params_multi, options)\n",
    "data_sim = simulate(params_multi)\n",
    "data_sim.Choice.value_counts()"
   ]
  },
  {
   "cell_type": "code",
   "execution_count": 31,
   "metadata": {},
   "outputs": [],
   "source": [
    "params_multi['lower'] = [0.89, 0.066, -0.11, 1.04, 0, 0, 0]\n",
    "params_multi['upper'] = [0.98, 0.072, -0.095, 1.055, 0.1, 0.1, 0.1]"
   ]
  },
  {
   "cell_type": "code",
   "execution_count": 32,
   "metadata": {},
   "outputs": [
    {
     "data": {
      "text/html": [
       "<div>\n",
       "<style scoped>\n",
       "    .dataframe tbody tr th:only-of-type {\n",
       "        vertical-align: middle;\n",
       "    }\n",
       "\n",
       "    .dataframe tbody tr th {\n",
       "        vertical-align: top;\n",
       "    }\n",
       "\n",
       "    .dataframe thead th {\n",
       "        text-align: right;\n",
       "    }\n",
       "</style>\n",
       "<table border=\"1\" class=\"dataframe\">\n",
       "  <thead>\n",
       "    <tr style=\"text-align: right;\">\n",
       "      <th></th>\n",
       "      <th></th>\n",
       "      <th>value</th>\n",
       "      <th>lower</th>\n",
       "      <th>upper</th>\n",
       "    </tr>\n",
       "    <tr>\n",
       "      <th>category</th>\n",
       "      <th>name</th>\n",
       "      <th></th>\n",
       "      <th></th>\n",
       "      <th></th>\n",
       "    </tr>\n",
       "  </thead>\n",
       "  <tbody>\n",
       "    <tr>\n",
       "      <th>delta</th>\n",
       "      <th>delta</th>\n",
       "      <td>0.9600</td>\n",
       "      <td>0.890</td>\n",
       "      <td>0.980</td>\n",
       "    </tr>\n",
       "    <tr>\n",
       "      <th>wage_fishing</th>\n",
       "      <th>exp_fishing</th>\n",
       "      <td>0.0705</td>\n",
       "      <td>0.066</td>\n",
       "      <td>0.072</td>\n",
       "    </tr>\n",
       "    <tr>\n",
       "      <th>nonpec_fishing</th>\n",
       "      <th>constant</th>\n",
       "      <td>-0.0970</td>\n",
       "      <td>-0.110</td>\n",
       "      <td>-0.095</td>\n",
       "    </tr>\n",
       "    <tr>\n",
       "      <th>nonpec_hammock</th>\n",
       "      <th>constant</th>\n",
       "      <td>1.0490</td>\n",
       "      <td>1.040</td>\n",
       "      <td>1.055</td>\n",
       "    </tr>\n",
       "    <tr>\n",
       "      <th rowspan=\"3\" valign=\"top\">shocks_sdcorr</th>\n",
       "      <th>sd_fishing</th>\n",
       "      <td>0.0100</td>\n",
       "      <td>0.000</td>\n",
       "      <td>0.100</td>\n",
       "    </tr>\n",
       "    <tr>\n",
       "      <th>sd_hammock</th>\n",
       "      <td>0.0100</td>\n",
       "      <td>0.000</td>\n",
       "      <td>0.100</td>\n",
       "    </tr>\n",
       "    <tr>\n",
       "      <th>corr_hammock_fishing</th>\n",
       "      <td>0.0000</td>\n",
       "      <td>0.000</td>\n",
       "      <td>0.100</td>\n",
       "    </tr>\n",
       "  </tbody>\n",
       "</table>\n",
       "</div>"
      ],
      "text/plain": [
       "                                      value  lower  upper\n",
       "category       name                                      \n",
       "delta          delta                 0.9600  0.890  0.980\n",
       "wage_fishing   exp_fishing           0.0705  0.066  0.072\n",
       "nonpec_fishing constant             -0.0970 -0.110 -0.095\n",
       "nonpec_hammock constant              1.0490  1.040  1.055\n",
       "shocks_sdcorr  sd_fishing            0.0100  0.000  0.100\n",
       "               sd_hammock            0.0100  0.000  0.100\n",
       "               corr_hammock_fishing  0.0000  0.000  0.100"
      ]
     },
     "execution_count": 32,
     "metadata": {},
     "output_type": "execute_result"
    }
   ],
   "source": [
    "params_multi"
   ]
  },
  {
   "cell_type": "code",
   "execution_count": 33,
   "metadata": {},
   "outputs": [
    {
     "data": {
      "text/plain": [
       "{'fun': 3.5512041767280044e-06,\n",
       " 'internal_x': [0.9482480713804713,\n",
       "  0.07027149965096167,\n",
       "  -0.09699529031665474,\n",
       "  1.0493425075021765]}"
      ]
     },
     "execution_count": 33,
     "metadata": {},
     "output_type": "execute_result"
    }
   ],
   "source": [
    "constr_free_multi = [\n",
    "    {\"loc\": \"shocks_sdcorr\", \"type\": \"sdcorr\"}, \n",
    "    #{\"loc\": \"delta\", \"type\": \"fixed\", \"value\": 0.95},\n",
    "    #{\"loc\": \"wage_fishing\", \"type\": \"fixed\", \"value\": 0.07},\n",
    "    #{\"loc\": \"nonpec_fishing\", \"type\": \"fixed\", \"value\": -0.1},\n",
    "    #{\"loc\": \"nonpec_hammock\", \"type\":\"fixed\", \"value\": 1.046},\n",
    "    {\"loc\": (\"shocks_sdcorr\",\"sd_fishing\"), \"type\": \"fixed\", \"value\": 0.01},\n",
    "    {\"loc\": (\"shocks_sdcorr\",\"sd_hammock\"), \"type\": \"fixed\", \"value\": 0.01},\n",
    "    {\"loc\": (\"shocks_sdcorr\",\"corr_hammock_fishing\"), \"type\": \"fixed\", \"value\": 0},  \n",
    "]\n",
    "\n",
    "rslt_multi = minimize(criterion=evaluate,\n",
    "                params=params_multi,\n",
    "                algorithm=\"nlopt_bobyqa\",\n",
    "                constraints=constr_free_multi,\n",
    "                criterion_args=(options,identity_matrix, moments_obs, choice_options_robinson),\n",
    "                #dashboard=True\n",
    "               )\n",
    "rslt_multi[0]"
   ]
  },
  {
   "cell_type": "code",
   "execution_count": 34,
   "metadata": {},
   "outputs": [
    {
     "data": {
      "text/html": [
       "<div>\n",
       "<style scoped>\n",
       "    .dataframe tbody tr th:only-of-type {\n",
       "        vertical-align: middle;\n",
       "    }\n",
       "\n",
       "    .dataframe tbody tr th {\n",
       "        vertical-align: top;\n",
       "    }\n",
       "\n",
       "    .dataframe thead th {\n",
       "        text-align: right;\n",
       "    }\n",
       "</style>\n",
       "<table border=\"1\" class=\"dataframe\">\n",
       "  <thead>\n",
       "    <tr style=\"text-align: right;\">\n",
       "      <th></th>\n",
       "      <th></th>\n",
       "      <th>value</th>\n",
       "      <th>lower</th>\n",
       "      <th>upper</th>\n",
       "      <th>group</th>\n",
       "      <th>name</th>\n",
       "      <th>_fixed</th>\n",
       "    </tr>\n",
       "    <tr>\n",
       "      <th>category</th>\n",
       "      <th>name</th>\n",
       "      <th></th>\n",
       "      <th></th>\n",
       "      <th></th>\n",
       "      <th></th>\n",
       "      <th></th>\n",
       "      <th></th>\n",
       "    </tr>\n",
       "  </thead>\n",
       "  <tbody>\n",
       "    <tr>\n",
       "      <th>delta</th>\n",
       "      <th>delta</th>\n",
       "      <td>0.948248</td>\n",
       "      <td>0.890</td>\n",
       "      <td>0.980</td>\n",
       "      <td>All Parameters</td>\n",
       "      <td>delta_delta</td>\n",
       "      <td>False</td>\n",
       "    </tr>\n",
       "    <tr>\n",
       "      <th>wage_fishing</th>\n",
       "      <th>exp_fishing</th>\n",
       "      <td>0.070271</td>\n",
       "      <td>0.066</td>\n",
       "      <td>0.072</td>\n",
       "      <td>All Parameters</td>\n",
       "      <td>wage_fishing_exp_fishing</td>\n",
       "      <td>False</td>\n",
       "    </tr>\n",
       "    <tr>\n",
       "      <th>nonpec_fishing</th>\n",
       "      <th>constant</th>\n",
       "      <td>-0.096995</td>\n",
       "      <td>-0.110</td>\n",
       "      <td>-0.095</td>\n",
       "      <td>All Parameters</td>\n",
       "      <td>nonpec_fishing_constant</td>\n",
       "      <td>False</td>\n",
       "    </tr>\n",
       "    <tr>\n",
       "      <th>nonpec_hammock</th>\n",
       "      <th>constant</th>\n",
       "      <td>1.049343</td>\n",
       "      <td>1.040</td>\n",
       "      <td>1.055</td>\n",
       "      <td>All Parameters</td>\n",
       "      <td>nonpec_hammock_constant</td>\n",
       "      <td>False</td>\n",
       "    </tr>\n",
       "    <tr>\n",
       "      <th rowspan=\"3\" valign=\"top\">shocks_sdcorr</th>\n",
       "      <th>sd_fishing</th>\n",
       "      <td>0.010000</td>\n",
       "      <td>0.000</td>\n",
       "      <td>0.100</td>\n",
       "      <td>All Parameters</td>\n",
       "      <td>shocks_sdcorr_sd_fishing</td>\n",
       "      <td>True</td>\n",
       "    </tr>\n",
       "    <tr>\n",
       "      <th>sd_hammock</th>\n",
       "      <td>0.010000</td>\n",
       "      <td>0.000</td>\n",
       "      <td>0.100</td>\n",
       "      <td>All Parameters</td>\n",
       "      <td>shocks_sdcorr_sd_hammock</td>\n",
       "      <td>True</td>\n",
       "    </tr>\n",
       "    <tr>\n",
       "      <th>corr_hammock_fishing</th>\n",
       "      <td>0.000000</td>\n",
       "      <td>0.000</td>\n",
       "      <td>0.100</td>\n",
       "      <td>All Parameters</td>\n",
       "      <td>shocks_sdcorr_corr_hammock_fishing</td>\n",
       "      <td>True</td>\n",
       "    </tr>\n",
       "  </tbody>\n",
       "</table>\n",
       "</div>"
      ],
      "text/plain": [
       "                                        value  lower  upper           group  \\\n",
       "category       name                                                           \n",
       "delta          delta                 0.948248  0.890  0.980  All Parameters   \n",
       "wage_fishing   exp_fishing           0.070271  0.066  0.072  All Parameters   \n",
       "nonpec_fishing constant             -0.096995 -0.110 -0.095  All Parameters   \n",
       "nonpec_hammock constant              1.049343  1.040  1.055  All Parameters   \n",
       "shocks_sdcorr  sd_fishing            0.010000  0.000  0.100  All Parameters   \n",
       "               sd_hammock            0.010000  0.000  0.100  All Parameters   \n",
       "               corr_hammock_fishing  0.000000  0.000  0.100  All Parameters   \n",
       "\n",
       "                                                                   name  \\\n",
       "category       name                                                       \n",
       "delta          delta                                        delta_delta   \n",
       "wage_fishing   exp_fishing                     wage_fishing_exp_fishing   \n",
       "nonpec_fishing constant                         nonpec_fishing_constant   \n",
       "nonpec_hammock constant                         nonpec_hammock_constant   \n",
       "shocks_sdcorr  sd_fishing                      shocks_sdcorr_sd_fishing   \n",
       "               sd_hammock                      shocks_sdcorr_sd_hammock   \n",
       "               corr_hammock_fishing  shocks_sdcorr_corr_hammock_fishing   \n",
       "\n",
       "                                     _fixed  \n",
       "category       name                          \n",
       "delta          delta                  False  \n",
       "wage_fishing   exp_fishing            False  \n",
       "nonpec_fishing constant               False  \n",
       "nonpec_hammock constant               False  \n",
       "shocks_sdcorr  sd_fishing              True  \n",
       "               sd_hammock              True  \n",
       "               corr_hammock_fishing    True  "
      ]
     },
     "execution_count": 34,
     "metadata": {},
     "output_type": "execute_result"
    }
   ],
   "source": [
    "rslt_multi[1]"
   ]
  },
  {
   "cell_type": "markdown",
   "metadata": {},
   "source": [
    "### Changing the Simulation Seed\n",
    "\n",
    "During estimation, the optimizer in each iteration evaluates the criterion function for a new set of parameter values and checks, whether this set of parameters results in a smaller value of the criterion. It is important to ensure, that the parameter values are the only part of the model specification that changes with each iteration, as the optimizer can otherwise not effectively assess the criterion function for changing parameter values. \n",
    "\n",
    "For estimation using the simulated method of moments approach, it is thus essential that the random elements drawn during simulation stay the same for the entire estimation procedure. Respy automatically controls randomness in the simulation via the *simulation seed* specified in the model `options`. The simulation seed ensures that simulating data with respy always returns the same dataset.\n",
    "\n",
    "The function shown below allows for a change in the simulation seed at each iteration during optimization. When the argument *change_seed* is set to <span style=\"color:green\">**True**</span>, the function chooses a random simulation seed each time it is called, thus drawing new data for every iteration."
   ]
  },
  {
   "cell_type": "code",
   "execution_count": 35,
   "metadata": {},
   "outputs": [],
   "source": [
    "def criterion_rand_seed(params_cand, options, weighting_matrix, moments_obs, choice_options, max_iter, change_seed=False):\n",
    "\n",
    "    options = options.copy()\n",
    "    i = 0  \n",
    "    # Change simulation seed at each function call if change_seed == True.\n",
    "    if change_seed:\n",
    "        options[\"simulation_seed\"] = randrange(500, 999)\n",
    "        fval = evaluate(params_cand, options, weighting_matrix,\n",
    "                        moments_obs, choice_options)\n",
    "    # Keep same simulation seed if change_seed == False.\n",
    "    else:\n",
    "        fval = evaluate(params_cand, options, weighting_matrix,\n",
    "                        moments_obs, choice_options)\n",
    "    i = + 1\n",
    "    # Stop evaluation if function reaches a maximum number of iterations.\n",
    "    if i == max_iter:\n",
    "        fval = 99999\n",
    "\n",
    "    return fval\n"
   ]
  },
  {
   "cell_type": "markdown",
   "metadata": {},
   "source": [
    "As the results below shows, changing the simulation seed prevents the criterion function from reaching a value of 0."
   ]
  },
  {
   "cell_type": "code",
   "execution_count": 36,
   "metadata": {},
   "outputs": [
    {
     "name": "stdout",
     "output_type": "stream",
     "text": [
      "Result for simulation with same seed: {'fun': 0.0, 'internal_x': [0.950025]}\n",
      "Result for simulation with changing seeds: {'fun': 0.04096561443389206, 'internal_x': [0.95272498875]}\n"
     ]
    }
   ],
   "source": [
    "rslt_change_seed_off = minimize(criterion=criterion_rand_seed,\n",
    "                                params=params_cand,\n",
    "                                algorithm=\"nlopt_bobyqa\",\n",
    "                                constraints=constr,\n",
    "                                criterion_args=(options, identity_matrix, moments_obs, choice_options_robinson, 1000, \n",
    "                                                False),\n",
    "                                )\n",
    "\n",
    "rslt_change_seed_on  = minimize(criterion=criterion_rand_seed,\n",
    "                                params=params_cand,\n",
    "                                algorithm=\"nlopt_bobyqa\",\n",
    "                                constraints=constr,\n",
    "                                criterion_args=(options, identity_matrix, moments_obs, choice_options_robinson, 1000, \n",
    "                                                True),\n",
    "                                )\n",
    "print(\"Result for simulation with same seed:\",rslt_change_seed_off[0])\n",
    "print(\"Result for simulation with changing seeds:\",rslt_change_seed_on[0])"
   ]
  },
  {
   "cell_type": "markdown",
   "metadata": {},
   "source": [
    "#### Increasing the Number of Agents\n",
    "\n",
    "Increasing the number of agents i.e. the size of the simulated sample should decrease the problems caused by changing the simulation seed."
   ]
  },
  {
   "cell_type": "code",
   "execution_count": 37,
   "metadata": {},
   "outputs": [
    {
     "data": {
      "text/plain": [
       "{'fun': 0.0008292432012468233, 'internal_x': [0.950448990303698]}"
      ]
     },
     "execution_count": 37,
     "metadata": {},
     "output_type": "execute_result"
    }
   ],
   "source": [
    "options_num_agents = options.copy()\n",
    "options_num_agents['simulation_agents'] = 100\n",
    "rslt_change_seed_on  = minimize(criterion=criterion_rand_seed,\n",
    "                                params=params_cand,\n",
    "                                algorithm=\"nlopt_bobyqa\",\n",
    "                                constraints=constr,\n",
    "                                criterion_args=(options_num_agents, identity_matrix, moments_obs, choice_options_robinson, \n",
    "                                                1000, True),\n",
    "                               )\n",
    "rslt_change_seed_on[0]"
   ]
  },
  {
   "cell_type": "code",
   "execution_count": 38,
   "metadata": {},
   "outputs": [
    {
     "data": {
      "text/plain": [
       "{'fun': 0.040962787174635, 'internal_x': [0.9520855064507406]}"
      ]
     },
     "execution_count": 38,
     "metadata": {},
     "output_type": "execute_result"
    }
   ],
   "source": [
    "options_num_agents = options.copy()\n",
    "options_num_agents['simulation_agents'] = 10000\n",
    "rslt_change_seed_on  = minimize(criterion=criterion_rand_seed,\n",
    "                                params=params_cand,\n",
    "                                algorithm=\"nlopt_bobyqa\",\n",
    "                                constraints=constr,\n",
    "                                criterion_args=(options_num_agents, identity_matrix, moments_obs, choice_options_robinson, \n",
    "                                                1000, True),\n",
    "                               )\n",
    "rslt_change_seed_on[0]"
   ]
  },
  {
   "cell_type": "code",
   "execution_count": 39,
   "metadata": {},
   "outputs": [],
   "source": [
    "agents_grid = np.round(np.linspace(50, 5000, 20))\n",
    "options_num_agents = options.copy()\n",
    "fvals_agents_grid = []\n",
    "\n",
    "for val in agents_grid:\n",
    "    options_num_agents['simulation_agents'] = int(val)\n",
    "    rslt_num_agents  = minimize(criterion=criterion_rand_seed,\n",
    "                                params=params_cand,\n",
    "                                algorithm=\"nlopt_bobyqa\",\n",
    "                                constraints=constr,\n",
    "                                criterion_args=(options_num_agents, identity_matrix, moments_obs, \n",
    "                                                choice_options_robinson, 1000, \n",
    "                                                True),\n",
    "                               )\n",
    "    \n",
    "    fvals_agents_grid.append(rslt_num_agents[0]['fun'])"
   ]
  },
  {
   "cell_type": "code",
   "execution_count": 40,
   "metadata": {},
   "outputs": [
    {
     "data": {
      "text/plain": [
       "Text(0.5, 1.0, 'Function Value for increasing Number of Agents with changing Simulation Seeds')"
      ]
     },
     "execution_count": 40,
     "metadata": {},
     "output_type": "execute_result"
    },
    {
     "data": {
      "image/png": "[encoded data removed]",
      "text/plain": [
       "<Figure size 432x288 with 1 Axes>"
      ]
     },
     "metadata": {
      "needs_background": "light"
     },
     "output_type": "display_data"
    }
   ],
   "source": [
    "plt.plot(agents_grid, fvals_agents_grid)\n",
    "plt.xlabel('Number of Agents')\n",
    "plt.ylabel('Criterion Function Value')\n",
    "plt.title('Function Value for increasing Number of Agents with changing Simulation Seeds')"
   ]
  },
  {
   "cell_type": "markdown",
   "metadata": {},
   "source": [
    "---"
   ]
  },
  {
   "cell_type": "code",
   "execution_count": 41,
   "metadata": {},
   "outputs": [
    {
     "data": {
      "text/plain": [
       "{'fun': 3.180262254405933e-06, 'internal_x': [0.9484047019406102]}"
      ]
     },
     "execution_count": 41,
     "metadata": {},
     "output_type": "execute_result"
    }
   ],
   "source": [
    "#Changing Simulation Seed just once\n",
    "options_new_seed = options.copy()\n",
    "options_new_seed[\"simulation_seed\"] = 222\n",
    "\n",
    "rslt_new_seed = minimize(criterion=evaluate,\n",
    "                    params=params_cand,\n",
    "                    algorithm=\"nlopt_bobyqa\",\n",
    "                    constraints=constr,\n",
    "                    criterion_args=(options_new_seed,identity_matrix, moments_obs, choice_options_robinson),\n",
    "                    #dashboard=False\n",
    "                    )\n",
    "rslt_new_seed[0]"
   ]
  },
  {
   "cell_type": "markdown",
   "metadata": {},
   "source": [
    "### Fixing one parameter at the wrong value"
   ]
  },
  {
   "cell_type": "code",
   "execution_count": 42,
   "metadata": {},
   "outputs": [],
   "source": [
    "params_3 = params_true.copy()\n",
    "params_3.loc[\"delta\", \"value\"] = 0.97\n",
    "params_3.loc[\"wage_fishing\", \"value\"] = 0.069\n",
    "\n",
    "params_3['lower'] = [0.89, 0.066, -0.11, 1.04, -0.1, 0.1, 0]\n",
    "params_3['upper'] = [0.98, 0.072, -0.095, 1.055, 0.1, 0.1, 0.1]"
   ]
  },
  {
   "cell_type": "code",
   "execution_count": 43,
   "metadata": {},
   "outputs": [],
   "source": [
    "constr = [\n",
    "    {\"loc\": \"shocks_sdcorr\", \"type\": \"sdcorr\"}, \n",
    "    #{\"loc\": \"delta\", \"type\": \"fixed\", \"value\": 0.95},\n",
    "    {\"loc\": \"wage_fishing\", \"type\": \"fixed\", \"value\": 0.069},\n",
    "    {\"loc\": \"nonpec_fishing\", \"type\": \"fixed\", \"value\": -0.1},     \n",
    "    {\"loc\": \"nonpec_hammock\", \"type\":\"fixed\", \"value\": 1.046},\n",
    "    {\"loc\": (\"shocks_sdcorr\",\"sd_fishing\"), \"type\": \"fixed\", \"value\": 0.01},\n",
    "    {\"loc\": (\"shocks_sdcorr\",\"sd_hammock\"), \"type\": \"fixed\", \"value\": 0.01},\n",
    "    {\"loc\": (\"shocks_sdcorr\",\"corr_hammock_fishing\"), \"type\": \"fixed\", \"value\": 0},  \n",
    "]"
   ]
  },
  {
   "cell_type": "code",
   "execution_count": 44,
   "metadata": {},
   "outputs": [
    {
     "data": {
      "text/plain": [
       "fishing    3780\n",
       "hammock    1220\n",
       "Name: Choice, dtype: int64"
      ]
     },
     "execution_count": 44,
     "metadata": {},
     "output_type": "execute_result"
    }
   ],
   "source": [
    "simulate = rp.get_simulate_func(params_3, options)\n",
    "data_sim = simulate(params_3)\n",
    "data_sim.Choice.value_counts()"
   ]
  },
  {
   "cell_type": "code",
   "execution_count": 45,
   "metadata": {
    "scrolled": true
   },
   "outputs": [
    {
     "data": {
      "text/plain": [
       "{'fun': 0.0010483936871990285, 'internal_x': [0.9635038359462313]}"
      ]
     },
     "execution_count": 45,
     "metadata": {},
     "output_type": "execute_result"
    }
   ],
   "source": [
    "rslt_3 = minimize(criterion=evaluate,\n",
    "                params=params_3,\n",
    "                algorithm=\"nlopt_bobyqa\",\n",
    "                constraints=constr,\n",
    "                criterion_args=(options,identity_matrix, moments_obs, choice_options_robinson),\n",
    "                # dashboard=True # <-- uncommenting this code will launch a dashboard when this cell is run \n",
    "               )\n",
    "rslt_3[0]"
   ]
  },
  {
   "cell_type": "markdown",
   "metadata": {},
   "source": [
    "### Retrieving the true parameter vector"
   ]
  },
  {
   "cell_type": "code",
   "execution_count": 46,
   "metadata": {},
   "outputs": [
    {
     "data": {
      "text/html": [
       "<div>\n",
       "<style scoped>\n",
       "    .dataframe tbody tr th:only-of-type {\n",
       "        vertical-align: middle;\n",
       "    }\n",
       "\n",
       "    .dataframe tbody tr th {\n",
       "        vertical-align: top;\n",
       "    }\n",
       "\n",
       "    .dataframe thead th {\n",
       "        text-align: right;\n",
       "    }\n",
       "</style>\n",
       "<table border=\"1\" class=\"dataframe\">\n",
       "  <thead>\n",
       "    <tr style=\"text-align: right;\">\n",
       "      <th></th>\n",
       "      <th></th>\n",
       "      <th>value</th>\n",
       "      <th>lower</th>\n",
       "      <th>upper</th>\n",
       "    </tr>\n",
       "    <tr>\n",
       "      <th>category</th>\n",
       "      <th>name</th>\n",
       "      <th></th>\n",
       "      <th></th>\n",
       "      <th></th>\n",
       "    </tr>\n",
       "  </thead>\n",
       "  <tbody>\n",
       "    <tr>\n",
       "      <th>delta</th>\n",
       "      <th>delta</th>\n",
       "      <td>0.963504</td>\n",
       "      <td>0.890</td>\n",
       "      <td>0.980</td>\n",
       "    </tr>\n",
       "    <tr>\n",
       "      <th>wage_fishing</th>\n",
       "      <th>exp_fishing</th>\n",
       "      <td>0.069000</td>\n",
       "      <td>0.066</td>\n",
       "      <td>0.072</td>\n",
       "    </tr>\n",
       "    <tr>\n",
       "      <th>nonpec_fishing</th>\n",
       "      <th>constant</th>\n",
       "      <td>-0.100000</td>\n",
       "      <td>-0.110</td>\n",
       "      <td>-0.095</td>\n",
       "    </tr>\n",
       "    <tr>\n",
       "      <th>nonpec_hammock</th>\n",
       "      <th>constant</th>\n",
       "      <td>1.046000</td>\n",
       "      <td>1.040</td>\n",
       "      <td>1.055</td>\n",
       "    </tr>\n",
       "    <tr>\n",
       "      <th rowspan=\"3\" valign=\"top\">shocks_sdcorr</th>\n",
       "      <th>sd_fishing</th>\n",
       "      <td>0.010000</td>\n",
       "      <td>-0.100</td>\n",
       "      <td>0.100</td>\n",
       "    </tr>\n",
       "    <tr>\n",
       "      <th>sd_hammock</th>\n",
       "      <td>0.010000</td>\n",
       "      <td>0.100</td>\n",
       "      <td>0.100</td>\n",
       "    </tr>\n",
       "    <tr>\n",
       "      <th>corr_hammock_fishing</th>\n",
       "      <td>0.000000</td>\n",
       "      <td>0.000</td>\n",
       "      <td>0.100</td>\n",
       "    </tr>\n",
       "  </tbody>\n",
       "</table>\n",
       "</div>"
      ],
      "text/plain": [
       "                                        value  lower  upper\n",
       "category       name                                        \n",
       "delta          delta                 0.963504  0.890  0.980\n",
       "wage_fishing   exp_fishing           0.069000  0.066  0.072\n",
       "nonpec_fishing constant             -0.100000 -0.110 -0.095\n",
       "nonpec_hammock constant              1.046000  1.040  1.055\n",
       "shocks_sdcorr  sd_fishing            0.010000 -0.100  0.100\n",
       "               sd_hammock            0.010000  0.100  0.100\n",
       "               corr_hammock_fishing  0.000000  0.000  0.100"
      ]
     },
     "execution_count": 46,
     "metadata": {},
     "output_type": "execute_result"
    }
   ],
   "source": [
    "params_4 = rslt_3[1][['value','lower','upper']]\n",
    "params_4"
   ]
  },
  {
   "cell_type": "code",
   "execution_count": 47,
   "metadata": {},
   "outputs": [],
   "source": [
    "# Hold all values except the changed parameter fixed \n",
    "constr_free_two = [\n",
    "    {\"loc\": \"shocks_sdcorr\", \"type\": \"sdcorr\"}, \n",
    "    #{\"loc\": \"delta\", \"type\": \"fixed\", \"value\": 0.95},\n",
    "    #{\"loc\": \"wage_fishing\", \"type\": \"fixed\", \"value\": 0.07},\n",
    "    {\"loc\": \"nonpec_fishing\", \"type\": \"fixed\", \"value\": -0.1},     \n",
    "    {\"loc\": \"nonpec_hammock\", \"type\":\"fixed\", \"value\": 1.046},\n",
    "    {\"loc\": (\"shocks_sdcorr\",\"sd_fishing\"), \"type\": \"fixed\", \"value\": 0.01},\n",
    "    {\"loc\": (\"shocks_sdcorr\",\"sd_hammock\"), \"type\": \"fixed\", \"value\": 0.01},\n",
    "    {\"loc\": (\"shocks_sdcorr\",\"corr_hammock_fishing\"), \"type\": \"fixed\", \"value\": 0},  \n",
    "]"
   ]
  },
  {
   "cell_type": "code",
   "execution_count": 48,
   "metadata": {},
   "outputs": [
    {
     "data": {
      "text/plain": [
       "{'fun': 5.181567551581337e-05,\n",
       " 'internal_x': [0.9646885868785151, 0.0689605910448917]}"
      ]
     },
     "execution_count": 48,
     "metadata": {},
     "output_type": "execute_result"
    }
   ],
   "source": [
    "rslt_4 = minimize(criterion=evaluate,\n",
    "                params=params_4,\n",
    "                algorithm=\"nlopt_bobyqa\",\n",
    "                constraints=constr_free_two,\n",
    "                criterion_args=(options,identity_matrix, moments_obs, choice_options_robinson),\n",
    "                # dashboard=True # <-- uncommenting this code will launch a dashboard when this cell is run \n",
    "               )\n",
    "rslt_4[0]"
   ]
  },
  {
   "cell_type": "code",
   "execution_count": 49,
   "metadata": {},
   "outputs": [
    {
     "data": {
      "text/plain": [
       "category        name                \n",
       "delta           delta                  -0.014689\n",
       "wage_fishing    exp_fishing             0.001039\n",
       "nonpec_fishing  constant                0.000000\n",
       "nonpec_hammock  constant                0.000000\n",
       "shocks_sdcorr   sd_fishing              0.000000\n",
       "                sd_hammock              0.000000\n",
       "                corr_hammock_fishing    0.000000\n",
       "Name: value, dtype: float64"
      ]
     },
     "execution_count": 49,
     "metadata": {},
     "output_type": "execute_result"
    }
   ],
   "source": [
    "deviation = params_true['value'] - rslt_4[1]['value']\n",
    "deviation"
   ]
  }
 ],
 "metadata": {
  "kernelspec": {
   "display_name": "Python 3",
   "language": "python",
   "name": "python3"
  },
  "language_info": {
   "codemirror_mode": {
    "name": "ipython",
    "version": 3
   },
   "file_extension": ".py",
   "mimetype": "text/x-python",
   "name": "python",
   "nbconvert_exporter": "python",
   "pygments_lexer": "ipython3",
   "version": "3.7.1"
  },
  "toc": {
   "base_numbering": 1,
   "nav_menu": {},
   "number_sections": true,
   "sideBar": true,
   "skip_h1_title": true,
   "title_cell": "Table of Contents",
   "title_sidebar": "Contents",
   "toc_cell": false,
   "toc_position": {
    "height": "476.7px",
    "left": "81px",
    "top": "139.8px",
    "width": "260.417px"
   },
   "toc_section_display": true,
   "toc_window_display": true
  },
  "varInspector": {
   "cols": {
    "lenName": 16,
    "lenType": 16,
    "lenVar": 40
   },
   "kernels_config": {
    "python": {
     "delete_cmd_postfix": "",
     "delete_cmd_prefix": "del ",
     "library": "var_list.py",
     "varRefreshCmd": "print(var_dic_list())"
    },
    "r": {
     "delete_cmd_postfix": ") ",
     "delete_cmd_prefix": "rm(",
     "library": "var_list.r",
     "varRefreshCmd": "cat(var_dic_list()) "
    }
   },
   "position": {
    "height": "355.4px",
    "left": "858.8px",
    "right": "20px",
    "top": "120px",
    "width": "527.4px"
   },
   "types_to_exclude": [
    "module",
    "function",
    "builtin_function_or_method",
    "instance",
    "_Feature"
   ],
   "window_display": false
  }
 },
 "nbformat": 4,
 "nbformat_minor": 4
}
